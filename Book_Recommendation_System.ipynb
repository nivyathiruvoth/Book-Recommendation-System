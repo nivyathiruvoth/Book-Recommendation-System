{
  "nbformat": 4,
  "nbformat_minor": 0,
  "metadata": {
    "colab": {
      "name": "Book Recommendation System.ipynb",
      "provenance": [],
      "collapsed_sections": [],
      "mount_file_id": "1vJiuA4giAvlbW8x8nDvsj3KqWoTMLIB0",
      "authorship_tag": "ABX9TyMw16r4Sy1CT5y22USqioMB",
      "include_colab_link": true
    },
    "kernelspec": {
      "name": "python3",
      "display_name": "Python 3"
    },
    "language_info": {
      "name": "python"
    }
  },
  "cells": [
    {
      "cell_type": "markdown",
      "metadata": {
        "id": "view-in-github",
        "colab_type": "text"
      },
      "source": [
        "<a href=\"https://colab.research.google.com/github/nivyathiruvoth/Book-Recommendation-System/blob/main/Book_Recommendation_System.ipynb\" target=\"_parent\"><img src=\"https://colab.research.google.com/assets/colab-badge.svg\" alt=\"Open In Colab\"/></a>"
      ]
    },
    {
      "cell_type": "markdown",
      "source": [
        "#**Book Recommendation System**\n",
        "\n",
        "###A recommendation engine is a class of machine learning which offers relevant suggestions to the customer. It helps an organization to create loyal customers and build trust by them desired products and services for which they came on your site. The recommendation system today are so powerful that they can handle the new customer too who has visited the site for the first time. They recommend the products which are currently trending or highly rated and they can also recommend the products which bring maximum profit to the company.\n",
        "\n",
        "###A book recommendation system is a type of recommendation system where we have to recommend similar books to the reader based on his interest. The books recommendation system is used by online websites which provide ebooks like google play books, open library, good Read’s, etc."
      ],
      "metadata": {
        "id": "oFRZ0uPz0j7k"
      }
    },
    {
      "cell_type": "code",
      "execution_count": 1,
      "metadata": {
        "colab": {
          "base_uri": "https://localhost:8080/"
        },
        "id": "Roo-nW37w0Rf",
        "outputId": "68ce72ce-8eee-45ea-b5e6-daedeb366e28"
      },
      "outputs": [
        {
          "output_type": "stream",
          "name": "stdout",
          "text": [
            "Drive already mounted at /content/drive; to attempt to forcibly remount, call drive.mount(\"/content/drive\", force_remount=True).\n"
          ]
        }
      ],
      "source": [
        "#mounting drive\n",
        "from google.colab import drive\n",
        "drive.mount('/content/drive')"
      ]
    },
    {
      "cell_type": "code",
      "execution_count": 2,
      "metadata": {
        "id": "WHU8Ii27t1uI"
      },
      "outputs": [],
      "source": [
        "# loading the required libraries \n",
        "import pandas as pd\n",
        "import numpy as np\n",
        "import matplotlib.pyplot as plt\n",
        "import seaborn as sns\n",
        "import warnings\n",
        "warnings.filterwarnings(\"ignore\")\n",
        "import re"
      ]
    },
    {
      "cell_type": "code",
      "execution_count": 3,
      "metadata": {
        "id": "iYZUs599x-Vx"
      },
      "outputs": [],
      "source": [
        "#Loading the dataset\n",
        "drive_path = '/content/drive/MyDrive/Colab Notebooks/project/Book Recommendation System/'\n",
        "\n",
        "books_df=pd.read_csv(drive_path +\"Books.csv\")\n",
        "ratings_df=pd.read_csv(drive_path +\"Ratings.csv\")\n",
        "users_df=pd.read_csv(drive_path +\"Users.csv\")"
      ]
    },
    {
      "cell_type": "markdown",
      "source": [
        "#**Pre-processing of datasets**"
      ],
      "metadata": {
        "id": "4Co5r0p16PWm"
      }
    },
    {
      "cell_type": "markdown",
      "source": [
        "####We have three different datasets which contains details of books, users and book ratings. Let's deep dive into each of those datasets."
      ],
      "metadata": {
        "id": "dB3u7JaN1XGH"
      }
    },
    {
      "cell_type": "markdown",
      "metadata": {
        "id": "lNGrpCnCuc6A"
      },
      "source": [
        "##**Books**"
      ]
    },
    {
      "cell_type": "code",
      "execution_count": 4,
      "metadata": {
        "colab": {
          "base_uri": "https://localhost:8080/",
          "height": 477
        },
        "id": "JPrmC33PzFaV",
        "outputId": "4455d8a4-da35-4b49-9682-a3bf4fe7d46d"
      },
      "outputs": [
        {
          "output_type": "execute_result",
          "data": {
            "text/html": [
              "\n",
              "  <div id=\"df-f94e4988-d46d-4a46-9abf-cff8022f7e91\">\n",
              "    <div class=\"colab-df-container\">\n",
              "      <div>\n",
              "<style scoped>\n",
              "    .dataframe tbody tr th:only-of-type {\n",
              "        vertical-align: middle;\n",
              "    }\n",
              "\n",
              "    .dataframe tbody tr th {\n",
              "        vertical-align: top;\n",
              "    }\n",
              "\n",
              "    .dataframe thead th {\n",
              "        text-align: right;\n",
              "    }\n",
              "</style>\n",
              "<table border=\"1\" class=\"dataframe\">\n",
              "  <thead>\n",
              "    <tr style=\"text-align: right;\">\n",
              "      <th></th>\n",
              "      <th>ISBN</th>\n",
              "      <th>Book-Title</th>\n",
              "      <th>Book-Author</th>\n",
              "      <th>Year-Of-Publication</th>\n",
              "      <th>Publisher</th>\n",
              "      <th>Image-URL-S</th>\n",
              "      <th>Image-URL-M</th>\n",
              "      <th>Image-URL-L</th>\n",
              "    </tr>\n",
              "  </thead>\n",
              "  <tbody>\n",
              "    <tr>\n",
              "      <th>0</th>\n",
              "      <td>0195153448</td>\n",
              "      <td>Classical Mythology</td>\n",
              "      <td>Mark P. O. Morford</td>\n",
              "      <td>2002</td>\n",
              "      <td>Oxford University Press</td>\n",
              "      <td>http://images.amazon.com/images/P/0195153448.0...</td>\n",
              "      <td>http://images.amazon.com/images/P/0195153448.0...</td>\n",
              "      <td>http://images.amazon.com/images/P/0195153448.0...</td>\n",
              "    </tr>\n",
              "    <tr>\n",
              "      <th>1</th>\n",
              "      <td>0002005018</td>\n",
              "      <td>Clara Callan</td>\n",
              "      <td>Richard Bruce Wright</td>\n",
              "      <td>2001</td>\n",
              "      <td>HarperFlamingo Canada</td>\n",
              "      <td>http://images.amazon.com/images/P/0002005018.0...</td>\n",
              "      <td>http://images.amazon.com/images/P/0002005018.0...</td>\n",
              "      <td>http://images.amazon.com/images/P/0002005018.0...</td>\n",
              "    </tr>\n",
              "    <tr>\n",
              "      <th>2</th>\n",
              "      <td>0060973129</td>\n",
              "      <td>Decision in Normandy</td>\n",
              "      <td>Carlo D'Este</td>\n",
              "      <td>1991</td>\n",
              "      <td>HarperPerennial</td>\n",
              "      <td>http://images.amazon.com/images/P/0060973129.0...</td>\n",
              "      <td>http://images.amazon.com/images/P/0060973129.0...</td>\n",
              "      <td>http://images.amazon.com/images/P/0060973129.0...</td>\n",
              "    </tr>\n",
              "    <tr>\n",
              "      <th>3</th>\n",
              "      <td>0374157065</td>\n",
              "      <td>Flu: The Story of the Great Influenza Pandemic...</td>\n",
              "      <td>Gina Bari Kolata</td>\n",
              "      <td>1999</td>\n",
              "      <td>Farrar Straus Giroux</td>\n",
              "      <td>http://images.amazon.com/images/P/0374157065.0...</td>\n",
              "      <td>http://images.amazon.com/images/P/0374157065.0...</td>\n",
              "      <td>http://images.amazon.com/images/P/0374157065.0...</td>\n",
              "    </tr>\n",
              "    <tr>\n",
              "      <th>4</th>\n",
              "      <td>0393045218</td>\n",
              "      <td>The Mummies of Urumchi</td>\n",
              "      <td>E. J. W. Barber</td>\n",
              "      <td>1999</td>\n",
              "      <td>W. W. Norton &amp;amp; Company</td>\n",
              "      <td>http://images.amazon.com/images/P/0393045218.0...</td>\n",
              "      <td>http://images.amazon.com/images/P/0393045218.0...</td>\n",
              "      <td>http://images.amazon.com/images/P/0393045218.0...</td>\n",
              "    </tr>\n",
              "  </tbody>\n",
              "</table>\n",
              "</div>\n",
              "      <button class=\"colab-df-convert\" onclick=\"convertToInteractive('df-f94e4988-d46d-4a46-9abf-cff8022f7e91')\"\n",
              "              title=\"Convert this dataframe to an interactive table.\"\n",
              "              style=\"display:none;\">\n",
              "        \n",
              "  <svg xmlns=\"http://www.w3.org/2000/svg\" height=\"24px\"viewBox=\"0 0 24 24\"\n",
              "       width=\"24px\">\n",
              "    <path d=\"M0 0h24v24H0V0z\" fill=\"none\"/>\n",
              "    <path d=\"M18.56 5.44l.94 2.06.94-2.06 2.06-.94-2.06-.94-.94-2.06-.94 2.06-2.06.94zm-11 1L8.5 8.5l.94-2.06 2.06-.94-2.06-.94L8.5 2.5l-.94 2.06-2.06.94zm10 10l.94 2.06.94-2.06 2.06-.94-2.06-.94-.94-2.06-.94 2.06-2.06.94z\"/><path d=\"M17.41 7.96l-1.37-1.37c-.4-.4-.92-.59-1.43-.59-.52 0-1.04.2-1.43.59L10.3 9.45l-7.72 7.72c-.78.78-.78 2.05 0 2.83L4 21.41c.39.39.9.59 1.41.59.51 0 1.02-.2 1.41-.59l7.78-7.78 2.81-2.81c.8-.78.8-2.07 0-2.86zM5.41 20L4 18.59l7.72-7.72 1.47 1.35L5.41 20z\"/>\n",
              "  </svg>\n",
              "      </button>\n",
              "      \n",
              "  <style>\n",
              "    .colab-df-container {\n",
              "      display:flex;\n",
              "      flex-wrap:wrap;\n",
              "      gap: 12px;\n",
              "    }\n",
              "\n",
              "    .colab-df-convert {\n",
              "      background-color: #E8F0FE;\n",
              "      border: none;\n",
              "      border-radius: 50%;\n",
              "      cursor: pointer;\n",
              "      display: none;\n",
              "      fill: #1967D2;\n",
              "      height: 32px;\n",
              "      padding: 0 0 0 0;\n",
              "      width: 32px;\n",
              "    }\n",
              "\n",
              "    .colab-df-convert:hover {\n",
              "      background-color: #E2EBFA;\n",
              "      box-shadow: 0px 1px 2px rgba(60, 64, 67, 0.3), 0px 1px 3px 1px rgba(60, 64, 67, 0.15);\n",
              "      fill: #174EA6;\n",
              "    }\n",
              "\n",
              "    [theme=dark] .colab-df-convert {\n",
              "      background-color: #3B4455;\n",
              "      fill: #D2E3FC;\n",
              "    }\n",
              "\n",
              "    [theme=dark] .colab-df-convert:hover {\n",
              "      background-color: #434B5C;\n",
              "      box-shadow: 0px 1px 3px 1px rgba(0, 0, 0, 0.15);\n",
              "      filter: drop-shadow(0px 1px 2px rgba(0, 0, 0, 0.3));\n",
              "      fill: #FFFFFF;\n",
              "    }\n",
              "  </style>\n",
              "\n",
              "      <script>\n",
              "        const buttonEl =\n",
              "          document.querySelector('#df-f94e4988-d46d-4a46-9abf-cff8022f7e91 button.colab-df-convert');\n",
              "        buttonEl.style.display =\n",
              "          google.colab.kernel.accessAllowed ? 'block' : 'none';\n",
              "\n",
              "        async function convertToInteractive(key) {\n",
              "          const element = document.querySelector('#df-f94e4988-d46d-4a46-9abf-cff8022f7e91');\n",
              "          const dataTable =\n",
              "            await google.colab.kernel.invokeFunction('convertToInteractive',\n",
              "                                                     [key], {});\n",
              "          if (!dataTable) return;\n",
              "\n",
              "          const docLinkHtml = 'Like what you see? Visit the ' +\n",
              "            '<a target=\"_blank\" href=https://colab.research.google.com/notebooks/data_table.ipynb>data table notebook</a>'\n",
              "            + ' to learn more about interactive tables.';\n",
              "          element.innerHTML = '';\n",
              "          dataTable['output_type'] = 'display_data';\n",
              "          await google.colab.output.renderOutput(dataTable, element);\n",
              "          const docLink = document.createElement('div');\n",
              "          docLink.innerHTML = docLinkHtml;\n",
              "          element.appendChild(docLink);\n",
              "        }\n",
              "      </script>\n",
              "    </div>\n",
              "  </div>\n",
              "  "
            ],
            "text/plain": [
              "         ISBN                                         Book-Title  \\\n",
              "0  0195153448                                Classical Mythology   \n",
              "1  0002005018                                       Clara Callan   \n",
              "2  0060973129                               Decision in Normandy   \n",
              "3  0374157065  Flu: The Story of the Great Influenza Pandemic...   \n",
              "4  0393045218                             The Mummies of Urumchi   \n",
              "\n",
              "            Book-Author Year-Of-Publication                   Publisher  \\\n",
              "0    Mark P. O. Morford                2002     Oxford University Press   \n",
              "1  Richard Bruce Wright                2001       HarperFlamingo Canada   \n",
              "2          Carlo D'Este                1991             HarperPerennial   \n",
              "3      Gina Bari Kolata                1999        Farrar Straus Giroux   \n",
              "4       E. J. W. Barber                1999  W. W. Norton &amp; Company   \n",
              "\n",
              "                                         Image-URL-S  \\\n",
              "0  http://images.amazon.com/images/P/0195153448.0...   \n",
              "1  http://images.amazon.com/images/P/0002005018.0...   \n",
              "2  http://images.amazon.com/images/P/0060973129.0...   \n",
              "3  http://images.amazon.com/images/P/0374157065.0...   \n",
              "4  http://images.amazon.com/images/P/0393045218.0...   \n",
              "\n",
              "                                         Image-URL-M  \\\n",
              "0  http://images.amazon.com/images/P/0195153448.0...   \n",
              "1  http://images.amazon.com/images/P/0002005018.0...   \n",
              "2  http://images.amazon.com/images/P/0060973129.0...   \n",
              "3  http://images.amazon.com/images/P/0374157065.0...   \n",
              "4  http://images.amazon.com/images/P/0393045218.0...   \n",
              "\n",
              "                                         Image-URL-L  \n",
              "0  http://images.amazon.com/images/P/0195153448.0...  \n",
              "1  http://images.amazon.com/images/P/0002005018.0...  \n",
              "2  http://images.amazon.com/images/P/0060973129.0...  \n",
              "3  http://images.amazon.com/images/P/0374157065.0...  \n",
              "4  http://images.amazon.com/images/P/0393045218.0...  "
            ]
          },
          "metadata": {},
          "execution_count": 4
        }
      ],
      "source": [
        "#first look\n",
        "books_df.head()"
      ]
    },
    {
      "cell_type": "code",
      "execution_count": 5,
      "metadata": {
        "colab": {
          "base_uri": "https://localhost:8080/"
        },
        "id": "sr1gkUBrzhEQ",
        "outputId": "6556da93-08bb-47d3-f1ba-1ccf00afb074"
      },
      "outputs": [
        {
          "output_type": "stream",
          "name": "stdout",
          "text": [
            "<class 'pandas.core.frame.DataFrame'>\n",
            "RangeIndex: 271360 entries, 0 to 271359\n",
            "Data columns (total 8 columns):\n",
            " #   Column               Non-Null Count   Dtype \n",
            "---  ------               --------------   ----- \n",
            " 0   ISBN                 271360 non-null  object\n",
            " 1   Book-Title           271360 non-null  object\n",
            " 2   Book-Author          271359 non-null  object\n",
            " 3   Year-Of-Publication  271360 non-null  object\n",
            " 4   Publisher            271358 non-null  object\n",
            " 5   Image-URL-S          271360 non-null  object\n",
            " 6   Image-URL-M          271360 non-null  object\n",
            " 7   Image-URL-L          271357 non-null  object\n",
            "dtypes: object(8)\n",
            "memory usage: 16.6+ MB\n"
          ]
        }
      ],
      "source": [
        "#Checking basic information\n",
        "books_df.info()"
      ]
    },
    {
      "cell_type": "markdown",
      "source": [
        "####The last three columns contains no information that helps in the analysis process, hence we consider only the first 5 columns for further process."
      ],
      "metadata": {
        "id": "ncD0L4jh1hH-"
      }
    },
    {
      "cell_type": "code",
      "execution_count": 6,
      "metadata": {
        "id": "SIGaKzfxst4d"
      },
      "outputs": [],
      "source": [
        "#Taking the required subset\n",
        "books_df=books_df[[\"ISBN\",\"Book-Title\",\"Book-Author\",\t\"Year-Of-Publication\", \"Publisher\"]]"
      ]
    },
    {
      "cell_type": "code",
      "execution_count": 7,
      "metadata": {
        "colab": {
          "base_uri": "https://localhost:8080/"
        },
        "id": "cxqY9KMEuwDY",
        "outputId": "24b23109-5674-4689-982b-fdd92a2e60ef"
      },
      "outputs": [
        {
          "output_type": "execute_result",
          "data": {
            "text/plain": [
              "ISBN                   0\n",
              "Book-Title             0\n",
              "Book-Author            1\n",
              "Year-Of-Publication    0\n",
              "Publisher              2\n",
              "dtype: int64"
            ]
          },
          "metadata": {},
          "execution_count": 7
        }
      ],
      "source": [
        "# Checking for null values\n",
        "books_df.isnull().sum() "
      ]
    },
    {
      "cell_type": "code",
      "execution_count": 8,
      "metadata": {
        "colab": {
          "base_uri": "https://localhost:8080/",
          "height": 143
        },
        "id": "BTsbbln00TX2",
        "outputId": "60015e5e-26b2-4330-ed49-a9dc8fa9af45"
      },
      "outputs": [
        {
          "output_type": "execute_result",
          "data": {
            "text/html": [
              "\n",
              "  <div id=\"df-55197ddc-f167-49ed-97c3-ddd86f487f9a\">\n",
              "    <div class=\"colab-df-container\">\n",
              "      <div>\n",
              "<style scoped>\n",
              "    .dataframe tbody tr th:only-of-type {\n",
              "        vertical-align: middle;\n",
              "    }\n",
              "\n",
              "    .dataframe tbody tr th {\n",
              "        vertical-align: top;\n",
              "    }\n",
              "\n",
              "    .dataframe thead th {\n",
              "        text-align: right;\n",
              "    }\n",
              "</style>\n",
              "<table border=\"1\" class=\"dataframe\">\n",
              "  <thead>\n",
              "    <tr style=\"text-align: right;\">\n",
              "      <th></th>\n",
              "      <th>ISBN</th>\n",
              "      <th>Book-Title</th>\n",
              "      <th>Book-Author</th>\n",
              "      <th>Year-Of-Publication</th>\n",
              "      <th>Publisher</th>\n",
              "    </tr>\n",
              "  </thead>\n",
              "  <tbody>\n",
              "    <tr>\n",
              "      <th>128890</th>\n",
              "      <td>193169656X</td>\n",
              "      <td>Tyrant Moon</td>\n",
              "      <td>Elaine Corvidae</td>\n",
              "      <td>2002</td>\n",
              "      <td>NaN</td>\n",
              "    </tr>\n",
              "    <tr>\n",
              "      <th>129037</th>\n",
              "      <td>1931696993</td>\n",
              "      <td>Finders Keepers</td>\n",
              "      <td>Linnea Sinclair</td>\n",
              "      <td>2001</td>\n",
              "      <td>NaN</td>\n",
              "    </tr>\n",
              "    <tr>\n",
              "      <th>187689</th>\n",
              "      <td>9627982032</td>\n",
              "      <td>The Credit Suisse Guide to Managing Your Perso...</td>\n",
              "      <td>NaN</td>\n",
              "      <td>1995</td>\n",
              "      <td>Edinburgh Financial Publishing</td>\n",
              "    </tr>\n",
              "  </tbody>\n",
              "</table>\n",
              "</div>\n",
              "      <button class=\"colab-df-convert\" onclick=\"convertToInteractive('df-55197ddc-f167-49ed-97c3-ddd86f487f9a')\"\n",
              "              title=\"Convert this dataframe to an interactive table.\"\n",
              "              style=\"display:none;\">\n",
              "        \n",
              "  <svg xmlns=\"http://www.w3.org/2000/svg\" height=\"24px\"viewBox=\"0 0 24 24\"\n",
              "       width=\"24px\">\n",
              "    <path d=\"M0 0h24v24H0V0z\" fill=\"none\"/>\n",
              "    <path d=\"M18.56 5.44l.94 2.06.94-2.06 2.06-.94-2.06-.94-.94-2.06-.94 2.06-2.06.94zm-11 1L8.5 8.5l.94-2.06 2.06-.94-2.06-.94L8.5 2.5l-.94 2.06-2.06.94zm10 10l.94 2.06.94-2.06 2.06-.94-2.06-.94-.94-2.06-.94 2.06-2.06.94z\"/><path d=\"M17.41 7.96l-1.37-1.37c-.4-.4-.92-.59-1.43-.59-.52 0-1.04.2-1.43.59L10.3 9.45l-7.72 7.72c-.78.78-.78 2.05 0 2.83L4 21.41c.39.39.9.59 1.41.59.51 0 1.02-.2 1.41-.59l7.78-7.78 2.81-2.81c.8-.78.8-2.07 0-2.86zM5.41 20L4 18.59l7.72-7.72 1.47 1.35L5.41 20z\"/>\n",
              "  </svg>\n",
              "      </button>\n",
              "      \n",
              "  <style>\n",
              "    .colab-df-container {\n",
              "      display:flex;\n",
              "      flex-wrap:wrap;\n",
              "      gap: 12px;\n",
              "    }\n",
              "\n",
              "    .colab-df-convert {\n",
              "      background-color: #E8F0FE;\n",
              "      border: none;\n",
              "      border-radius: 50%;\n",
              "      cursor: pointer;\n",
              "      display: none;\n",
              "      fill: #1967D2;\n",
              "      height: 32px;\n",
              "      padding: 0 0 0 0;\n",
              "      width: 32px;\n",
              "    }\n",
              "\n",
              "    .colab-df-convert:hover {\n",
              "      background-color: #E2EBFA;\n",
              "      box-shadow: 0px 1px 2px rgba(60, 64, 67, 0.3), 0px 1px 3px 1px rgba(60, 64, 67, 0.15);\n",
              "      fill: #174EA6;\n",
              "    }\n",
              "\n",
              "    [theme=dark] .colab-df-convert {\n",
              "      background-color: #3B4455;\n",
              "      fill: #D2E3FC;\n",
              "    }\n",
              "\n",
              "    [theme=dark] .colab-df-convert:hover {\n",
              "      background-color: #434B5C;\n",
              "      box-shadow: 0px 1px 3px 1px rgba(0, 0, 0, 0.15);\n",
              "      filter: drop-shadow(0px 1px 2px rgba(0, 0, 0, 0.3));\n",
              "      fill: #FFFFFF;\n",
              "    }\n",
              "  </style>\n",
              "\n",
              "      <script>\n",
              "        const buttonEl =\n",
              "          document.querySelector('#df-55197ddc-f167-49ed-97c3-ddd86f487f9a button.colab-df-convert');\n",
              "        buttonEl.style.display =\n",
              "          google.colab.kernel.accessAllowed ? 'block' : 'none';\n",
              "\n",
              "        async function convertToInteractive(key) {\n",
              "          const element = document.querySelector('#df-55197ddc-f167-49ed-97c3-ddd86f487f9a');\n",
              "          const dataTable =\n",
              "            await google.colab.kernel.invokeFunction('convertToInteractive',\n",
              "                                                     [key], {});\n",
              "          if (!dataTable) return;\n",
              "\n",
              "          const docLinkHtml = 'Like what you see? Visit the ' +\n",
              "            '<a target=\"_blank\" href=https://colab.research.google.com/notebooks/data_table.ipynb>data table notebook</a>'\n",
              "            + ' to learn more about interactive tables.';\n",
              "          element.innerHTML = '';\n",
              "          dataTable['output_type'] = 'display_data';\n",
              "          await google.colab.output.renderOutput(dataTable, element);\n",
              "          const docLink = document.createElement('div');\n",
              "          docLink.innerHTML = docLinkHtml;\n",
              "          element.appendChild(docLink);\n",
              "        }\n",
              "      </script>\n",
              "    </div>\n",
              "  </div>\n",
              "  "
            ],
            "text/plain": [
              "              ISBN                                         Book-Title  \\\n",
              "128890  193169656X                                        Tyrant Moon   \n",
              "129037  1931696993                                    Finders Keepers   \n",
              "187689  9627982032  The Credit Suisse Guide to Managing Your Perso...   \n",
              "\n",
              "            Book-Author Year-Of-Publication                       Publisher  \n",
              "128890  Elaine Corvidae                2002                             NaN  \n",
              "129037  Linnea Sinclair                2001                             NaN  \n",
              "187689              NaN                1995  Edinburgh Financial Publishing  "
            ]
          },
          "metadata": {},
          "execution_count": 8
        }
      ],
      "source": [
        "#obtaining the rows that contain null values\n",
        "books_df[books_df.isnull().any(axis=1)]"
      ]
    },
    {
      "cell_type": "markdown",
      "source": [
        "####We can see that the column Book-Author contains one null value and the column Publisher contains two null values. Therefore we replace them by 'Unknown'."
      ],
      "metadata": {
        "id": "hzHi97En1ziF"
      }
    },
    {
      "cell_type": "code",
      "execution_count": 9,
      "metadata": {
        "id": "eQR6x3fqtgbx"
      },
      "outputs": [],
      "source": [
        "#Replacing null values by 'Unknown'\n",
        "books_df.fillna(\"Unknown\",inplace=True)"
      ]
    },
    {
      "cell_type": "code",
      "execution_count": 10,
      "metadata": {
        "colab": {
          "base_uri": "https://localhost:8080/"
        },
        "id": "M7s-jwfOwi5k",
        "outputId": "3cb3ef99-b5aa-4507-fa39-6a1b414a624b"
      },
      "outputs": [
        {
          "output_type": "execute_result",
          "data": {
            "text/plain": [
              "ISBN                   object\n",
              "Book-Title             object\n",
              "Book-Author            object\n",
              "Year-Of-Publication    object\n",
              "Publisher              object\n",
              "dtype: object"
            ]
          },
          "metadata": {},
          "execution_count": 10
        }
      ],
      "source": [
        "#Checking the datatype \n",
        "books_df.dtypes"
      ]
    },
    {
      "cell_type": "code",
      "execution_count": 11,
      "metadata": {
        "colab": {
          "base_uri": "https://localhost:8080/"
        },
        "id": "JkcOAplxvX_v",
        "outputId": "c1c2d266-5cce-480d-a36e-5a852a25fd86"
      },
      "outputs": [
        {
          "output_type": "execute_result",
          "data": {
            "text/plain": [
              "array([2002, 2001, 1991, 1999, 2000, 1993, 1996, 1988, 2004, 1998, 1994,\n",
              "       2003, 1997, 1983, 1979, 1995, 1982, 1985, 1992, 1986, 1978, 1980,\n",
              "       1952, 1987, 1990, 1981, 1989, 1984, 0, 1968, 1961, 1958, 1974,\n",
              "       1976, 1971, 1977, 1975, 1965, 1941, 1970, 1962, 1973, 1972, 1960,\n",
              "       1966, 1920, 1956, 1959, 1953, 1951, 1942, 1963, 1964, 1969, 1954,\n",
              "       1950, 1967, 2005, 1957, 1940, 1937, 1955, 1946, 1936, 1930, 2011,\n",
              "       1925, 1948, 1943, 1947, 1945, 1923, 2020, 1939, 1926, 1938, 2030,\n",
              "       1911, 1904, 1949, 1932, 1928, 1929, 1927, 1931, 1914, 2050, 1934,\n",
              "       1910, 1933, 1902, 1924, 1921, 1900, 2038, 2026, 1944, 1917, 1901,\n",
              "       2010, 1908, 1906, 1935, 1806, 2021, '2000', '1995', '1999', '2004',\n",
              "       '2003', '1990', '1994', '1986', '1989', '2002', '1981', '1993',\n",
              "       '1983', '1982', '1976', '1991', '1977', '1998', '1992', '1996',\n",
              "       '0', '1997', '2001', '1974', '1968', '1987', '1984', '1988',\n",
              "       '1963', '1956', '1970', '1985', '1978', '1973', '1980', '1979',\n",
              "       '1975', '1969', '1961', '1965', '1939', '1958', '1950', '1953',\n",
              "       '1966', '1971', '1959', '1972', '1955', '1957', '1945', '1960',\n",
              "       '1967', '1932', '1924', '1964', '2012', '1911', '1927', '1948',\n",
              "       '1962', '2006', '1952', '1940', '1951', '1931', '1954', '2005',\n",
              "       '1930', '1941', '1944', 'DK Publishing Inc', '1943', '1938',\n",
              "       '1900', '1942', '1923', '1920', '1933', 'Gallimard', '1909',\n",
              "       '1946', '2008', '1378', '2030', '1936', '1947', '2011', '2020',\n",
              "       '1919', '1949', '1922', '1897', '2024', '1376', '1926', '2037'],\n",
              "      dtype=object)"
            ]
          },
          "metadata": {},
          "execution_count": 11
        }
      ],
      "source": [
        "#Obatining the unique years \n",
        "books_df[\"Year-Of-Publication\"].unique()"
      ]
    },
    {
      "cell_type": "markdown",
      "source": [
        "####While checking the unique years we can see that two years are mistakenly replaced by some text. Let's try to fix this issue."
      ],
      "metadata": {
        "id": "6Cd8fvzk2RJW"
      }
    },
    {
      "cell_type": "code",
      "execution_count": 12,
      "metadata": {
        "id": "BFH1zwxpwY2R"
      },
      "outputs": [],
      "source": [
        "pd.set_option('display.max_colwidth', -1)"
      ]
    },
    {
      "cell_type": "code",
      "execution_count": 13,
      "metadata": {
        "colab": {
          "base_uri": "https://localhost:8080/",
          "height": 81
        },
        "id": "3m5ww_gvv66C",
        "outputId": "8db359d9-5ce5-45e8-ab0f-1f53b3a0212d"
      },
      "outputs": [
        {
          "output_type": "execute_result",
          "data": {
            "text/html": [
              "\n",
              "  <div id=\"df-a0386ada-2a92-4abf-a799-ab7f44e3a8bb\">\n",
              "    <div class=\"colab-df-container\">\n",
              "      <div>\n",
              "<style scoped>\n",
              "    .dataframe tbody tr th:only-of-type {\n",
              "        vertical-align: middle;\n",
              "    }\n",
              "\n",
              "    .dataframe tbody tr th {\n",
              "        vertical-align: top;\n",
              "    }\n",
              "\n",
              "    .dataframe thead th {\n",
              "        text-align: right;\n",
              "    }\n",
              "</style>\n",
              "<table border=\"1\" class=\"dataframe\">\n",
              "  <thead>\n",
              "    <tr style=\"text-align: right;\">\n",
              "      <th></th>\n",
              "      <th>ISBN</th>\n",
              "      <th>Book-Title</th>\n",
              "      <th>Book-Author</th>\n",
              "      <th>Year-Of-Publication</th>\n",
              "      <th>Publisher</th>\n",
              "    </tr>\n",
              "  </thead>\n",
              "  <tbody>\n",
              "    <tr>\n",
              "      <th>220731</th>\n",
              "      <td>2070426769</td>\n",
              "      <td>Peuple du ciel, suivi de 'Les Bergers\\\";Jean-Marie Gustave Le ClÃ?Â©zio\"</td>\n",
              "      <td>2003</td>\n",
              "      <td>Gallimard</td>\n",
              "      <td>http://images.amazon.com/images/P/2070426769.01.THUMBZZZ.jpg</td>\n",
              "    </tr>\n",
              "  </tbody>\n",
              "</table>\n",
              "</div>\n",
              "      <button class=\"colab-df-convert\" onclick=\"convertToInteractive('df-a0386ada-2a92-4abf-a799-ab7f44e3a8bb')\"\n",
              "              title=\"Convert this dataframe to an interactive table.\"\n",
              "              style=\"display:none;\">\n",
              "        \n",
              "  <svg xmlns=\"http://www.w3.org/2000/svg\" height=\"24px\"viewBox=\"0 0 24 24\"\n",
              "       width=\"24px\">\n",
              "    <path d=\"M0 0h24v24H0V0z\" fill=\"none\"/>\n",
              "    <path d=\"M18.56 5.44l.94 2.06.94-2.06 2.06-.94-2.06-.94-.94-2.06-.94 2.06-2.06.94zm-11 1L8.5 8.5l.94-2.06 2.06-.94-2.06-.94L8.5 2.5l-.94 2.06-2.06.94zm10 10l.94 2.06.94-2.06 2.06-.94-2.06-.94-.94-2.06-.94 2.06-2.06.94z\"/><path d=\"M17.41 7.96l-1.37-1.37c-.4-.4-.92-.59-1.43-.59-.52 0-1.04.2-1.43.59L10.3 9.45l-7.72 7.72c-.78.78-.78 2.05 0 2.83L4 21.41c.39.39.9.59 1.41.59.51 0 1.02-.2 1.41-.59l7.78-7.78 2.81-2.81c.8-.78.8-2.07 0-2.86zM5.41 20L4 18.59l7.72-7.72 1.47 1.35L5.41 20z\"/>\n",
              "  </svg>\n",
              "      </button>\n",
              "      \n",
              "  <style>\n",
              "    .colab-df-container {\n",
              "      display:flex;\n",
              "      flex-wrap:wrap;\n",
              "      gap: 12px;\n",
              "    }\n",
              "\n",
              "    .colab-df-convert {\n",
              "      background-color: #E8F0FE;\n",
              "      border: none;\n",
              "      border-radius: 50%;\n",
              "      cursor: pointer;\n",
              "      display: none;\n",
              "      fill: #1967D2;\n",
              "      height: 32px;\n",
              "      padding: 0 0 0 0;\n",
              "      width: 32px;\n",
              "    }\n",
              "\n",
              "    .colab-df-convert:hover {\n",
              "      background-color: #E2EBFA;\n",
              "      box-shadow: 0px 1px 2px rgba(60, 64, 67, 0.3), 0px 1px 3px 1px rgba(60, 64, 67, 0.15);\n",
              "      fill: #174EA6;\n",
              "    }\n",
              "\n",
              "    [theme=dark] .colab-df-convert {\n",
              "      background-color: #3B4455;\n",
              "      fill: #D2E3FC;\n",
              "    }\n",
              "\n",
              "    [theme=dark] .colab-df-convert:hover {\n",
              "      background-color: #434B5C;\n",
              "      box-shadow: 0px 1px 3px 1px rgba(0, 0, 0, 0.15);\n",
              "      filter: drop-shadow(0px 1px 2px rgba(0, 0, 0, 0.3));\n",
              "      fill: #FFFFFF;\n",
              "    }\n",
              "  </style>\n",
              "\n",
              "      <script>\n",
              "        const buttonEl =\n",
              "          document.querySelector('#df-a0386ada-2a92-4abf-a799-ab7f44e3a8bb button.colab-df-convert');\n",
              "        buttonEl.style.display =\n",
              "          google.colab.kernel.accessAllowed ? 'block' : 'none';\n",
              "\n",
              "        async function convertToInteractive(key) {\n",
              "          const element = document.querySelector('#df-a0386ada-2a92-4abf-a799-ab7f44e3a8bb');\n",
              "          const dataTable =\n",
              "            await google.colab.kernel.invokeFunction('convertToInteractive',\n",
              "                                                     [key], {});\n",
              "          if (!dataTable) return;\n",
              "\n",
              "          const docLinkHtml = 'Like what you see? Visit the ' +\n",
              "            '<a target=\"_blank\" href=https://colab.research.google.com/notebooks/data_table.ipynb>data table notebook</a>'\n",
              "            + ' to learn more about interactive tables.';\n",
              "          element.innerHTML = '';\n",
              "          dataTable['output_type'] = 'display_data';\n",
              "          await google.colab.output.renderOutput(dataTable, element);\n",
              "          const docLink = document.createElement('div');\n",
              "          docLink.innerHTML = docLinkHtml;\n",
              "          element.appendChild(docLink);\n",
              "        }\n",
              "      </script>\n",
              "    </div>\n",
              "  </div>\n",
              "  "
            ],
            "text/plain": [
              "              ISBN  \\\n",
              "220731  2070426769   \n",
              "\n",
              "                                                                      Book-Title  \\\n",
              "220731  Peuple du ciel, suivi de 'Les Bergers\\\";Jean-Marie Gustave Le ClÃ?Â©zio\"   \n",
              "\n",
              "       Book-Author Year-Of-Publication  \\\n",
              "220731  2003        Gallimard            \n",
              "\n",
              "                                                           Publisher  \n",
              "220731  http://images.amazon.com/images/P/2070426769.01.THUMBZZZ.jpg  "
            ]
          },
          "metadata": {},
          "execution_count": 13
        }
      ],
      "source": [
        "books_df[books_df[\"Year-Of-Publication\"]=='Gallimard']"
      ]
    },
    {
      "cell_type": "code",
      "execution_count": 14,
      "metadata": {
        "colab": {
          "base_uri": "https://localhost:8080/",
          "height": 207
        },
        "id": "lRf3oivLvtH-",
        "outputId": "7d4dc2e8-1392-4514-f91b-6b485af5d5ca"
      },
      "outputs": [
        {
          "output_type": "execute_result",
          "data": {
            "text/html": [
              "\n",
              "  <div id=\"df-6c286381-e216-418c-9be4-e55241a982bb\">\n",
              "    <div class=\"colab-df-container\">\n",
              "      <div>\n",
              "<style scoped>\n",
              "    .dataframe tbody tr th:only-of-type {\n",
              "        vertical-align: middle;\n",
              "    }\n",
              "\n",
              "    .dataframe tbody tr th {\n",
              "        vertical-align: top;\n",
              "    }\n",
              "\n",
              "    .dataframe thead th {\n",
              "        text-align: right;\n",
              "    }\n",
              "</style>\n",
              "<table border=\"1\" class=\"dataframe\">\n",
              "  <thead>\n",
              "    <tr style=\"text-align: right;\">\n",
              "      <th></th>\n",
              "      <th>ISBN</th>\n",
              "      <th>Book-Title</th>\n",
              "      <th>Book-Author</th>\n",
              "      <th>Year-Of-Publication</th>\n",
              "      <th>Publisher</th>\n",
              "    </tr>\n",
              "  </thead>\n",
              "  <tbody>\n",
              "    <tr>\n",
              "      <th>209538</th>\n",
              "      <td>078946697X</td>\n",
              "      <td>DK Readers: Creating the X-Men, How It All Began (Level 4: Proficient Readers)\\\";Michael Teitelbaum\"</td>\n",
              "      <td>2000</td>\n",
              "      <td>DK Publishing Inc</td>\n",
              "      <td>http://images.amazon.com/images/P/078946697X.01.THUMBZZZ.jpg</td>\n",
              "    </tr>\n",
              "    <tr>\n",
              "      <th>221678</th>\n",
              "      <td>0789466953</td>\n",
              "      <td>DK Readers: Creating the X-Men, How Comic Books Come to Life (Level 4: Proficient Readers)\\\";James Buckley\"</td>\n",
              "      <td>2000</td>\n",
              "      <td>DK Publishing Inc</td>\n",
              "      <td>http://images.amazon.com/images/P/0789466953.01.THUMBZZZ.jpg</td>\n",
              "    </tr>\n",
              "  </tbody>\n",
              "</table>\n",
              "</div>\n",
              "      <button class=\"colab-df-convert\" onclick=\"convertToInteractive('df-6c286381-e216-418c-9be4-e55241a982bb')\"\n",
              "              title=\"Convert this dataframe to an interactive table.\"\n",
              "              style=\"display:none;\">\n",
              "        \n",
              "  <svg xmlns=\"http://www.w3.org/2000/svg\" height=\"24px\"viewBox=\"0 0 24 24\"\n",
              "       width=\"24px\">\n",
              "    <path d=\"M0 0h24v24H0V0z\" fill=\"none\"/>\n",
              "    <path d=\"M18.56 5.44l.94 2.06.94-2.06 2.06-.94-2.06-.94-.94-2.06-.94 2.06-2.06.94zm-11 1L8.5 8.5l.94-2.06 2.06-.94-2.06-.94L8.5 2.5l-.94 2.06-2.06.94zm10 10l.94 2.06.94-2.06 2.06-.94-2.06-.94-.94-2.06-.94 2.06-2.06.94z\"/><path d=\"M17.41 7.96l-1.37-1.37c-.4-.4-.92-.59-1.43-.59-.52 0-1.04.2-1.43.59L10.3 9.45l-7.72 7.72c-.78.78-.78 2.05 0 2.83L4 21.41c.39.39.9.59 1.41.59.51 0 1.02-.2 1.41-.59l7.78-7.78 2.81-2.81c.8-.78.8-2.07 0-2.86zM5.41 20L4 18.59l7.72-7.72 1.47 1.35L5.41 20z\"/>\n",
              "  </svg>\n",
              "      </button>\n",
              "      \n",
              "  <style>\n",
              "    .colab-df-container {\n",
              "      display:flex;\n",
              "      flex-wrap:wrap;\n",
              "      gap: 12px;\n",
              "    }\n",
              "\n",
              "    .colab-df-convert {\n",
              "      background-color: #E8F0FE;\n",
              "      border: none;\n",
              "      border-radius: 50%;\n",
              "      cursor: pointer;\n",
              "      display: none;\n",
              "      fill: #1967D2;\n",
              "      height: 32px;\n",
              "      padding: 0 0 0 0;\n",
              "      width: 32px;\n",
              "    }\n",
              "\n",
              "    .colab-df-convert:hover {\n",
              "      background-color: #E2EBFA;\n",
              "      box-shadow: 0px 1px 2px rgba(60, 64, 67, 0.3), 0px 1px 3px 1px rgba(60, 64, 67, 0.15);\n",
              "      fill: #174EA6;\n",
              "    }\n",
              "\n",
              "    [theme=dark] .colab-df-convert {\n",
              "      background-color: #3B4455;\n",
              "      fill: #D2E3FC;\n",
              "    }\n",
              "\n",
              "    [theme=dark] .colab-df-convert:hover {\n",
              "      background-color: #434B5C;\n",
              "      box-shadow: 0px 1px 3px 1px rgba(0, 0, 0, 0.15);\n",
              "      filter: drop-shadow(0px 1px 2px rgba(0, 0, 0, 0.3));\n",
              "      fill: #FFFFFF;\n",
              "    }\n",
              "  </style>\n",
              "\n",
              "      <script>\n",
              "        const buttonEl =\n",
              "          document.querySelector('#df-6c286381-e216-418c-9be4-e55241a982bb button.colab-df-convert');\n",
              "        buttonEl.style.display =\n",
              "          google.colab.kernel.accessAllowed ? 'block' : 'none';\n",
              "\n",
              "        async function convertToInteractive(key) {\n",
              "          const element = document.querySelector('#df-6c286381-e216-418c-9be4-e55241a982bb');\n",
              "          const dataTable =\n",
              "            await google.colab.kernel.invokeFunction('convertToInteractive',\n",
              "                                                     [key], {});\n",
              "          if (!dataTable) return;\n",
              "\n",
              "          const docLinkHtml = 'Like what you see? Visit the ' +\n",
              "            '<a target=\"_blank\" href=https://colab.research.google.com/notebooks/data_table.ipynb>data table notebook</a>'\n",
              "            + ' to learn more about interactive tables.';\n",
              "          element.innerHTML = '';\n",
              "          dataTable['output_type'] = 'display_data';\n",
              "          await google.colab.output.renderOutput(dataTable, element);\n",
              "          const docLink = document.createElement('div');\n",
              "          docLink.innerHTML = docLinkHtml;\n",
              "          element.appendChild(docLink);\n",
              "        }\n",
              "      </script>\n",
              "    </div>\n",
              "  </div>\n",
              "  "
            ],
            "text/plain": [
              "              ISBN  \\\n",
              "209538  078946697X   \n",
              "221678  0789466953   \n",
              "\n",
              "                                                                                                         Book-Title  \\\n",
              "209538  DK Readers: Creating the X-Men, How It All Began (Level 4: Proficient Readers)\\\";Michael Teitelbaum\"          \n",
              "221678  DK Readers: Creating the X-Men, How Comic Books Come to Life (Level 4: Proficient Readers)\\\";James Buckley\"   \n",
              "\n",
              "       Book-Author Year-Of-Publication  \\\n",
              "209538  2000        DK Publishing Inc    \n",
              "221678  2000        DK Publishing Inc    \n",
              "\n",
              "                                                           Publisher  \n",
              "209538  http://images.amazon.com/images/P/078946697X.01.THUMBZZZ.jpg  \n",
              "221678  http://images.amazon.com/images/P/0789466953.01.THUMBZZZ.jpg  "
            ]
          },
          "metadata": {},
          "execution_count": 14
        }
      ],
      "source": [
        "books_df[books_df[\"Year-Of-Publication\"]=='DK Publishing Inc']"
      ]
    },
    {
      "cell_type": "markdown",
      "source": [
        "####We can see that for these three rows, the values have been interchanged mistakenly. So we will correct this mistake."
      ],
      "metadata": {
        "id": "m_VeM-QU240j"
      }
    },
    {
      "cell_type": "code",
      "execution_count": 15,
      "metadata": {
        "id": "vT-F_7a4y2vF"
      },
      "outputs": [],
      "source": [
        "#Interchanging the values\n",
        "books_df.at[209538 ,'Book-Title'] = 'DK Readers: Creating the X-Men, How It All Began (Level 4: Proficient Readers)'\n",
        "books_df.at[209538 ,'Book-Author'] = 'Michael Teitelbaum'\n",
        "books_df.at[209538 ,'Publisher'] = 'DK Publishing Inc'\n",
        "books_df.at[209538 ,'Year-Of-Publication'] = '2000'\n",
        "\n",
        "books_df.at[221678 ,'Book-Title'] = 'DK Readers: Creating the X-Men, How Comic Books Come to Life (Level 4: Proficient Readers)'\n",
        "books_df.at[221678 ,'Book-Author'] = 'James Buckley'\n",
        "books_df.at[221678 ,'Publisher'] = 'DK Publishing Inc'\n",
        "books_df.at[221678 ,'Year-Of-Publication'] = '2000'\n",
        "\n",
        "books_df.at[220731 ,'Book-Title'] = 'Peuple du ciel - Suivi de Les bergers '\n",
        "books_df.at[220731 ,'Book-Author'] = 'Jean-Marie Gustave Le ClÃ?Â©zio'\n",
        "books_df.at[220731 ,'Publisher'] = 'Gallimard'\n",
        "books_df.at[220731 ,'Year-Of-Publication'] = '2003'"
      ]
    },
    {
      "cell_type": "code",
      "execution_count": 16,
      "metadata": {
        "id": "j3WiyNijx93W",
        "colab": {
          "base_uri": "https://localhost:8080/"
        },
        "outputId": "c51fbb65-fc3f-46c6-85ee-36487933d814"
      },
      "outputs": [
        {
          "output_type": "stream",
          "name": "stdout",
          "text": [
            "<class 'pandas.core.frame.DataFrame'>\n",
            "RangeIndex: 271360 entries, 0 to 271359\n",
            "Data columns (total 5 columns):\n",
            " #   Column               Non-Null Count   Dtype \n",
            "---  ------               --------------   ----- \n",
            " 0   ISBN                 271360 non-null  object\n",
            " 1   Book-Title           271360 non-null  object\n",
            " 2   Book-Author          271360 non-null  object\n",
            " 3   Year-Of-Publication  271360 non-null  int64 \n",
            " 4   Publisher            271360 non-null  object\n",
            "dtypes: int64(1), object(4)\n",
            "memory usage: 10.4+ MB\n"
          ]
        }
      ],
      "source": [
        "#Converting year into int \n",
        "books_df['Year-Of-Publication'] = books_df['Year-Of-Publication'].astype(int)\n",
        "#Checking info after converting Year-Of-Publication into integer\n",
        "books_df.info()"
      ]
    },
    {
      "cell_type": "code",
      "execution_count": 17,
      "metadata": {
        "colab": {
          "base_uri": "https://localhost:8080/"
        },
        "id": "2DtR3mwC0in3",
        "outputId": "9c37ba9e-afe4-464b-f3ce-9654b1403d8b"
      },
      "outputs": [
        {
          "output_type": "stream",
          "name": "stdout",
          "text": [
            "[0, 1376, 1378, 1806, 1897, 1900, 1901, 1902, 1904, 1906, 1908, 1909, 1910, 1911, 1914, 1917, 1919, 1920, 1921, 1922, 1923, 1924, 1925, 1926, 1927, 1928, 1929, 1930, 1931, 1932, 1933, 1934, 1935, 1936, 1937, 1938, 1939, 1940, 1941, 1942, 1943, 1944, 1945, 1946, 1947, 1948, 1949, 1950, 1951, 1952, 1953, 1954, 1955, 1956, 1957, 1958, 1959, 1960, 1961, 1962, 1963, 1964, 1965, 1966, 1967, 1968, 1969, 1970, 1971, 1972, 1973, 1974, 1975, 1976, 1977, 1978, 1979, 1980, 1981, 1982, 1983, 1984, 1985, 1986, 1987, 1988, 1989, 1990, 1991, 1992, 1993, 1994, 1995, 1996, 1997, 1998, 1999, 2000, 2001, 2002, 2003, 2004, 2005, 2006, 2008, 2010, 2011, 2012, 2020, 2021, 2024, 2026, 2030, 2037, 2038, 2050]\n"
          ]
        }
      ],
      "source": [
        "#Getting the years in ascending order\n",
        "print(sorted(list(books_df['Year-Of-Publication'].unique())))"
      ]
    },
    {
      "cell_type": "markdown",
      "source": [
        "####In the column Year of Publication there are invalid values such as 0 and greater than the present year. We will replace such values by mode."
      ],
      "metadata": {
        "id": "vkaGoIVq3dF-"
      }
    },
    {
      "cell_type": "code",
      "execution_count": 18,
      "metadata": {
        "colab": {
          "base_uri": "https://localhost:8080/"
        },
        "id": "79K6L1XP1Fs9",
        "outputId": "995f74bb-4c44-460d-ba4b-7815de8cdf9a"
      },
      "outputs": [
        {
          "output_type": "stream",
          "name": "stdout",
          "text": [
            "The mode of year of publication is: 2002\n",
            "[1376, 1378, 1806, 1897, 1900, 1901, 1902, 1904, 1906, 1908, 1909, 1910, 1911, 1914, 1917, 1919, 1920, 1921, 1922, 1923, 1924, 1925, 1926, 1927, 1928, 1929, 1930, 1931, 1932, 1933, 1934, 1935, 1936, 1937, 1938, 1939, 1940, 1941, 1942, 1943, 1944, 1945, 1946, 1947, 1948, 1949, 1950, 1951, 1952, 1953, 1954, 1955, 1956, 1957, 1958, 1959, 1960, 1961, 1962, 1963, 1964, 1965, 1966, 1967, 1968, 1969, 1970, 1971, 1972, 1973, 1974, 1975, 1976, 1977, 1978, 1979, 1980, 1981, 1982, 1983, 1984, 1985, 1986, 1987, 1988, 1989, 1990, 1991, 1992, 1993, 1994, 1995, 1996, 1997, 1998, 1999, 2000, 2001, 2002, 2003, 2004, 2005, 2006, 2008, 2010, 2011, 2012, 2020, 2021]\n"
          ]
        }
      ],
      "source": [
        "#Imputing invalid values by mode\n",
        "print(\"The mode of year of publication is:\",books_df['Year-Of-Publication'].mode()[0])\n",
        "books_df[books_df['Year-Of-Publication'] > 2021] = books_df['Year-Of-Publication'].mode()[0]\n",
        "books_df[books_df['Year-Of-Publication'] == 0] = books_df['Year-Of-Publication'].mode()[0]\n",
        "#Checking for unique years after replacement\n",
        "print(sorted(list(books_df['Year-Of-Publication'].unique())))"
      ]
    },
    {
      "cell_type": "code",
      "execution_count": 19,
      "metadata": {
        "id": "9YjyvVwQRIac",
        "colab": {
          "base_uri": "https://localhost:8080/"
        },
        "outputId": "853d4adb-f256-4f10-892a-b3ef4b730fc0"
      },
      "outputs": [
        {
          "output_type": "stream",
          "name": "stdout",
          "text": [
            "Number of duplicates is: 4936\n"
          ]
        }
      ],
      "source": [
        "# Uppercasing all alphabets in ISBN\n",
        "books_df['ISBN'] = books_df['ISBN'].str.upper()\n",
        "\n",
        "#Checking for duplicates\n",
        "print(\"Number of duplicates is:\",len(books_df[books_df.duplicated()]))\n",
        "# Drop duplicate rows\n",
        "books_df.drop_duplicates(keep='last', inplace=True) \n",
        "books_df.reset_index(drop = True, inplace = True)"
      ]
    },
    {
      "cell_type": "code",
      "execution_count": 20,
      "metadata": {
        "colab": {
          "base_uri": "https://localhost:8080/"
        },
        "id": "w8rnu8yyR0NN",
        "outputId": "b4bac178-6097-4691-c38c-268da6a742cb"
      },
      "outputs": [
        {
          "output_type": "stream",
          "name": "stdout",
          "text": [
            "Shape of books_df is: (266424, 5)\n"
          ]
        }
      ],
      "source": [
        "#Checking for the shape\n",
        "print(\"Shape of books_df is:\",books_df.shape)"
      ]
    },
    {
      "cell_type": "markdown",
      "metadata": {
        "id": "8WzVY4POtG8v"
      },
      "source": [
        "##**Users**"
      ]
    },
    {
      "cell_type": "code",
      "execution_count": 21,
      "metadata": {
        "colab": {
          "base_uri": "https://localhost:8080/",
          "height": 206
        },
        "id": "I7s4oSBMzHON",
        "outputId": "3299b3b3-0cab-406e-faae-c84db77220a2"
      },
      "outputs": [
        {
          "output_type": "execute_result",
          "data": {
            "text/html": [
              "\n",
              "  <div id=\"df-6fb62655-d097-4a8e-b453-c37ec7fa3562\">\n",
              "    <div class=\"colab-df-container\">\n",
              "      <div>\n",
              "<style scoped>\n",
              "    .dataframe tbody tr th:only-of-type {\n",
              "        vertical-align: middle;\n",
              "    }\n",
              "\n",
              "    .dataframe tbody tr th {\n",
              "        vertical-align: top;\n",
              "    }\n",
              "\n",
              "    .dataframe thead th {\n",
              "        text-align: right;\n",
              "    }\n",
              "</style>\n",
              "<table border=\"1\" class=\"dataframe\">\n",
              "  <thead>\n",
              "    <tr style=\"text-align: right;\">\n",
              "      <th></th>\n",
              "      <th>User-ID</th>\n",
              "      <th>Location</th>\n",
              "      <th>Age</th>\n",
              "    </tr>\n",
              "  </thead>\n",
              "  <tbody>\n",
              "    <tr>\n",
              "      <th>0</th>\n",
              "      <td>1</td>\n",
              "      <td>nyc, new york, usa</td>\n",
              "      <td>NaN</td>\n",
              "    </tr>\n",
              "    <tr>\n",
              "      <th>1</th>\n",
              "      <td>2</td>\n",
              "      <td>stockton, california, usa</td>\n",
              "      <td>18.0</td>\n",
              "    </tr>\n",
              "    <tr>\n",
              "      <th>2</th>\n",
              "      <td>3</td>\n",
              "      <td>moscow, yukon territory, russia</td>\n",
              "      <td>NaN</td>\n",
              "    </tr>\n",
              "    <tr>\n",
              "      <th>3</th>\n",
              "      <td>4</td>\n",
              "      <td>porto, v.n.gaia, portugal</td>\n",
              "      <td>17.0</td>\n",
              "    </tr>\n",
              "    <tr>\n",
              "      <th>4</th>\n",
              "      <td>5</td>\n",
              "      <td>farnborough, hants, united kingdom</td>\n",
              "      <td>NaN</td>\n",
              "    </tr>\n",
              "  </tbody>\n",
              "</table>\n",
              "</div>\n",
              "      <button class=\"colab-df-convert\" onclick=\"convertToInteractive('df-6fb62655-d097-4a8e-b453-c37ec7fa3562')\"\n",
              "              title=\"Convert this dataframe to an interactive table.\"\n",
              "              style=\"display:none;\">\n",
              "        \n",
              "  <svg xmlns=\"http://www.w3.org/2000/svg\" height=\"24px\"viewBox=\"0 0 24 24\"\n",
              "       width=\"24px\">\n",
              "    <path d=\"M0 0h24v24H0V0z\" fill=\"none\"/>\n",
              "    <path d=\"M18.56 5.44l.94 2.06.94-2.06 2.06-.94-2.06-.94-.94-2.06-.94 2.06-2.06.94zm-11 1L8.5 8.5l.94-2.06 2.06-.94-2.06-.94L8.5 2.5l-.94 2.06-2.06.94zm10 10l.94 2.06.94-2.06 2.06-.94-2.06-.94-.94-2.06-.94 2.06-2.06.94z\"/><path d=\"M17.41 7.96l-1.37-1.37c-.4-.4-.92-.59-1.43-.59-.52 0-1.04.2-1.43.59L10.3 9.45l-7.72 7.72c-.78.78-.78 2.05 0 2.83L4 21.41c.39.39.9.59 1.41.59.51 0 1.02-.2 1.41-.59l7.78-7.78 2.81-2.81c.8-.78.8-2.07 0-2.86zM5.41 20L4 18.59l7.72-7.72 1.47 1.35L5.41 20z\"/>\n",
              "  </svg>\n",
              "      </button>\n",
              "      \n",
              "  <style>\n",
              "    .colab-df-container {\n",
              "      display:flex;\n",
              "      flex-wrap:wrap;\n",
              "      gap: 12px;\n",
              "    }\n",
              "\n",
              "    .colab-df-convert {\n",
              "      background-color: #E8F0FE;\n",
              "      border: none;\n",
              "      border-radius: 50%;\n",
              "      cursor: pointer;\n",
              "      display: none;\n",
              "      fill: #1967D2;\n",
              "      height: 32px;\n",
              "      padding: 0 0 0 0;\n",
              "      width: 32px;\n",
              "    }\n",
              "\n",
              "    .colab-df-convert:hover {\n",
              "      background-color: #E2EBFA;\n",
              "      box-shadow: 0px 1px 2px rgba(60, 64, 67, 0.3), 0px 1px 3px 1px rgba(60, 64, 67, 0.15);\n",
              "      fill: #174EA6;\n",
              "    }\n",
              "\n",
              "    [theme=dark] .colab-df-convert {\n",
              "      background-color: #3B4455;\n",
              "      fill: #D2E3FC;\n",
              "    }\n",
              "\n",
              "    [theme=dark] .colab-df-convert:hover {\n",
              "      background-color: #434B5C;\n",
              "      box-shadow: 0px 1px 3px 1px rgba(0, 0, 0, 0.15);\n",
              "      filter: drop-shadow(0px 1px 2px rgba(0, 0, 0, 0.3));\n",
              "      fill: #FFFFFF;\n",
              "    }\n",
              "  </style>\n",
              "\n",
              "      <script>\n",
              "        const buttonEl =\n",
              "          document.querySelector('#df-6fb62655-d097-4a8e-b453-c37ec7fa3562 button.colab-df-convert');\n",
              "        buttonEl.style.display =\n",
              "          google.colab.kernel.accessAllowed ? 'block' : 'none';\n",
              "\n",
              "        async function convertToInteractive(key) {\n",
              "          const element = document.querySelector('#df-6fb62655-d097-4a8e-b453-c37ec7fa3562');\n",
              "          const dataTable =\n",
              "            await google.colab.kernel.invokeFunction('convertToInteractive',\n",
              "                                                     [key], {});\n",
              "          if (!dataTable) return;\n",
              "\n",
              "          const docLinkHtml = 'Like what you see? Visit the ' +\n",
              "            '<a target=\"_blank\" href=https://colab.research.google.com/notebooks/data_table.ipynb>data table notebook</a>'\n",
              "            + ' to learn more about interactive tables.';\n",
              "          element.innerHTML = '';\n",
              "          dataTable['output_type'] = 'display_data';\n",
              "          await google.colab.output.renderOutput(dataTable, element);\n",
              "          const docLink = document.createElement('div');\n",
              "          docLink.innerHTML = docLinkHtml;\n",
              "          element.appendChild(docLink);\n",
              "        }\n",
              "      </script>\n",
              "    </div>\n",
              "  </div>\n",
              "  "
            ],
            "text/plain": [
              "   User-ID                            Location   Age\n",
              "0  1        nyc, new york, usa                 NaN  \n",
              "1  2        stockton, california, usa           18.0\n",
              "2  3        moscow, yukon territory, russia    NaN  \n",
              "3  4        porto, v.n.gaia, portugal           17.0\n",
              "4  5        farnborough, hants, united kingdom NaN  "
            ]
          },
          "metadata": {},
          "execution_count": 21
        }
      ],
      "source": [
        "#First look\n",
        "users_df.head()"
      ]
    },
    {
      "cell_type": "code",
      "execution_count": 22,
      "metadata": {
        "colab": {
          "base_uri": "https://localhost:8080/"
        },
        "id": "adWUd5a106i8",
        "outputId": "3bd847ab-7ea7-40de-dc9c-8e7fb14cb6ad"
      },
      "outputs": [
        {
          "output_type": "stream",
          "name": "stdout",
          "text": [
            "<class 'pandas.core.frame.DataFrame'>\n",
            "RangeIndex: 278858 entries, 0 to 278857\n",
            "Data columns (total 3 columns):\n",
            " #   Column    Non-Null Count   Dtype  \n",
            "---  ------    --------------   -----  \n",
            " 0   User-ID   278858 non-null  int64  \n",
            " 1   Location  278858 non-null  object \n",
            " 2   Age       168096 non-null  float64\n",
            "dtypes: float64(1), int64(1), object(1)\n",
            "memory usage: 6.4+ MB\n"
          ]
        }
      ],
      "source": [
        "#Checking bacis info\n",
        "users_df.info()"
      ]
    },
    {
      "cell_type": "code",
      "source": [
        "#Checking for null values\n",
        "users_df.isnull().sum()"
      ],
      "metadata": {
        "colab": {
          "base_uri": "https://localhost:8080/"
        },
        "id": "fQ5uNabx4k3y",
        "outputId": "616bd299-1a85-4471-c6fe-4335b49cef8d"
      },
      "execution_count": 23,
      "outputs": [
        {
          "output_type": "execute_result",
          "data": {
            "text/plain": [
              "User-ID     0     \n",
              "Location    0     \n",
              "Age         110762\n",
              "dtype: int64"
            ]
          },
          "metadata": {},
          "execution_count": 23
        }
      ]
    },
    {
      "cell_type": "code",
      "source": [
        "plt.subplot(1, 2, 1)\n",
        "sns.distplot(users_df[\"Age\"])\n",
        "plt.subplot(1, 2, 2)\n",
        "sns.boxplot(users_df[\"Age\"])"
      ],
      "metadata": {
        "colab": {
          "base_uri": "https://localhost:8080/",
          "height": 297
        },
        "id": "vK_TlvuuyE2h",
        "outputId": "df3ccd20-4e4a-413f-88b6-da8907d50c65"
      },
      "execution_count": 24,
      "outputs": [
        {
          "output_type": "execute_result",
          "data": {
            "text/plain": [
              "<matplotlib.axes._subplots.AxesSubplot at 0x7f2a96475f90>"
            ]
          },
          "metadata": {},
          "execution_count": 24
        },
        {
          "output_type": "display_data",
          "data": {
            "image/png": "[encoded data removed]",
            "text/plain": [
              "<Figure size 432x288 with 2 Axes>"
            ]
          },
          "metadata": {
            "needs_background": "light"
          }
        }
      ]
    },
    {
      "cell_type": "code",
      "execution_count": 25,
      "metadata": {
        "colab": {
          "base_uri": "https://localhost:8080/"
        },
        "id": "ULRWYnaJjna6",
        "outputId": "d275fecc-f620-4d9f-944b-9465d02ed160"
      },
      "outputs": [
        {
          "output_type": "stream",
          "name": "stdout",
          "text": [
            "[nan, 0.0, 1.0, 2.0, 3.0, 4.0, 5.0, 6.0, 7.0, 8.0, 9.0, 10.0, 11.0, 12.0, 13.0, 14.0, 15.0, 16.0, 17.0, 18.0, 19.0, 20.0, 21.0, 22.0, 23.0, 24.0, 25.0, 26.0, 27.0, 28.0, 29.0, 30.0, 31.0, 32.0, 33.0, 34.0, 35.0, 36.0, 37.0, 38.0, 39.0, 40.0, 41.0, 42.0, 43.0, 44.0, 45.0, 46.0, 47.0, 48.0, 49.0, 50.0, 51.0, 52.0, 53.0, 54.0, 55.0, 56.0, 57.0, 58.0, 59.0, 60.0, 61.0, 62.0, 63.0, 64.0, 65.0, 66.0, 67.0, 68.0, 69.0, 70.0, 71.0, 72.0, 73.0, 74.0, 75.0, 76.0, 77.0, 78.0, 79.0, 80.0, 81.0, 82.0, 83.0, 84.0, 85.0, 86.0, 87.0, 88.0, 89.0, 90.0, 91.0, 92.0, 93.0, 94.0, 95.0, 96.0, 97.0, 98.0, 99.0, 100.0, 101.0, 102.0, 103.0, 104.0, 105.0, 106.0, 107.0, 108.0, 109.0, 110.0, 111.0, 113.0, 114.0, 115.0, 116.0, 118.0, 119.0, 123.0, 124.0, 127.0, 128.0, 132.0, 133.0, 136.0, 137.0, 138.0, 140.0, 141.0, 143.0, 146.0, 147.0, 148.0, 151.0, 152.0, 156.0, 157.0, 159.0, 162.0, 168.0, 172.0, 175.0, 183.0, 186.0, 189.0, 199.0, 200.0, 201.0, 204.0, 207.0, 208.0, 209.0, 210.0, 212.0, 219.0, 220.0, 223.0, 226.0, 228.0, 229.0, 230.0, 231.0, 237.0, 239.0, 244.0]\n"
          ]
        }
      ],
      "source": [
        "# checking for unique values\n",
        "print(sorted(list(users_df['Age'].unique())))"
      ]
    },
    {
      "cell_type": "markdown",
      "source": [
        "####There are so many invalid entries in this column. So we will replace those with median. Here we will fix the lower age limit as 10 and upper age limit as 90."
      ],
      "metadata": {
        "id": "yeM-2b0G46e-"
      }
    },
    {
      "cell_type": "code",
      "execution_count": 26,
      "metadata": {
        "colab": {
          "base_uri": "https://localhost:8080/"
        },
        "id": "NFCSzWDWj8Aq",
        "outputId": "d95f9677-f519-42e2-c4c5-9073978373e4"
      },
      "outputs": [
        {
          "output_type": "stream",
          "name": "stdout",
          "text": [
            "[10, 11, 12, 13, 14, 15, 16, 17, 18, 19, 20, 21, 22, 23, 24, 25, 26, 27, 28, 29, 30, 31, 32, 33, 34, 35, 36, 37, 38, 39, 40, 41, 42, 43, 44, 45, 46, 47, 48, 49, 50, 51, 52, 53, 54, 55, 56, 57, 58, 59, 60, 61, 62, 63, 64, 65, 66, 67, 68, 69, 70, 71, 72, 73, 74, 75, 76, 77, 78, 79, 80, 81, 82, 83, 84, 85, 86, 87, 88, 89, 90]\n"
          ]
        }
      ],
      "source": [
        "# Imputing invalid entries with nan \n",
        "users_df.loc[(users_df.Age > 90) | (users_df.Age < 10), 'Age'] = np.nan\n",
        "# Filling nan with median \n",
        "users_df.Age = users_df.Age.fillna(users_df.Age.median())\n",
        "#Converting Datatype to integer\n",
        "users_df.Age = users_df.Age.astype(np.int32) \n",
        "#Checking unique age after replacement\n",
        "print(sorted(users_df.Age.unique()))"
      ]
    },
    {
      "cell_type": "code",
      "source": [
        "#Examining location\n",
        "users_df[\"Location\"]"
      ],
      "metadata": {
        "colab": {
          "base_uri": "https://localhost:8080/"
        },
        "id": "ug8RS_kMc12o",
        "outputId": "f301a3a0-8921-447f-9f03-d303993158b0"
      },
      "execution_count": 27,
      "outputs": [
        {
          "output_type": "execute_result",
          "data": {
            "text/plain": [
              "0         nyc, new york, usa                \n",
              "1         stockton, california, usa         \n",
              "2         moscow, yukon territory, russia   \n",
              "3         porto, v.n.gaia, portugal         \n",
              "4         farnborough, hants, united kingdom\n",
              "                         ...                \n",
              "278853    portland, oregon, usa             \n",
              "278854    tacoma, washington, united kingdom\n",
              "278855    brampton, ontario, canada         \n",
              "278856    knoxville, tennessee, usa         \n",
              "278857    dublin, n/a, ireland              \n",
              "Name: Location, Length: 278858, dtype: object"
            ]
          },
          "metadata": {},
          "execution_count": 27
        }
      ]
    },
    {
      "cell_type": "markdown",
      "source": [
        "####Since the location is given in city,state,country format, we will now extract these from location."
      ],
      "metadata": {
        "id": "ULEvNZ6NefOf"
      }
    },
    {
      "cell_type": "code",
      "execution_count": 28,
      "metadata": {
        "id": "UtWGZxkv-1xg"
      },
      "outputs": [],
      "source": [
        "#Creating a list for each location \n",
        "sep_list = users_df.Location.str.split(', ')\n",
        "#Creating empty lists to store city, state and country  \n",
        "city = []\n",
        "state = []\n",
        "country = []\n",
        "\n",
        "for i in range(0,len(sep_list)):\n",
        "     #removing invalid entries \n",
        "    if sep_list[i][0] == ' ' or sep_list[i][0] == '' or sep_list[i][0]=='n/a' or sep_list[i][0] == ',': \n",
        "        city.append('other')\n",
        "    else:\n",
        "        city.append(sep_list[i][0].lower())\n",
        "    \n",
        "    #if the sep_list contains only city\n",
        "    if(len(sep_list[i])<2):\n",
        "        state.append('other')\n",
        "        country.append('other')\n",
        "    else:\n",
        "        #removing invalid entries\n",
        "        if sep_list[i][1] == ' ' or sep_list[i][1] == '' or sep_list[i][1]=='n/a' or sep_list[i][1] == ',':    \n",
        "            state.append('other')      \n",
        "        else:\n",
        "            state.append(sep_list[i][1].lower())\n",
        "        \n",
        "        #if the sep_list contains only city and country\n",
        "        if(len(sep_list[i])<3):\n",
        "            country.append('other')\n",
        "        else:\n",
        "            #removing invalid entries\n",
        "            if sep_list[i][2] == ''or sep_list[i][1] == ',' or sep_list[i][2] == ' ' or sep_list[i][2] == 'n/a':\n",
        "                country.append('other')\n",
        "            else:\n",
        "                country.append(sep_list[i][2].lower())\n",
        "\n",
        "#Removing location column       \n",
        "users_df = users_df.drop('Location',axis=1)\n",
        "temp = []\n",
        "\n",
        "#handling cases in which entries are in the form city/stat\n",
        "for ent in city:\n",
        "    c = ent.split('/')            \n",
        "    temp.append(c[0])\n",
        "\n",
        "#Creating a dataframes for city, state and country\n",
        "df_city = pd.DataFrame(temp,columns=['City'])\n",
        "df_state = pd.DataFrame(state,columns=['State'])\n",
        "df_country = pd.DataFrame(country,columns=['Country'])\n",
        "\n",
        "#Concatinating these dataframes with users_df\n",
        "users_df = pd.concat([users_df, df_city], axis=1)\n",
        "users_df = pd.concat([users_df, df_state], axis=1)\n",
        "users_df = pd.concat([users_df, df_country], axis=1)\n"
      ]
    },
    {
      "cell_type": "code",
      "execution_count": 29,
      "metadata": {
        "id": "YLqsPWVPTkZP",
        "colab": {
          "base_uri": "https://localhost:8080/"
        },
        "outputId": "32be5299-545b-41bf-885c-89c80ddb1c6a"
      },
      "outputs": [
        {
          "output_type": "stream",
          "name": "stdout",
          "text": [
            "Number of duplicates is: 0\n"
          ]
        }
      ],
      "source": [
        "#Checking for duplicates\n",
        "print(\"Number of duplicates is:\",len(users_df[users_df.duplicated()]))"
      ]
    },
    {
      "cell_type": "code",
      "execution_count": 30,
      "metadata": {
        "colab": {
          "base_uri": "https://localhost:8080/",
          "height": 206
        },
        "id": "6u8QoKBLBJfB",
        "outputId": "ee3dc3a5-43ac-4cdb-db22-1a9bf238ea33"
      },
      "outputs": [
        {
          "output_type": "execute_result",
          "data": {
            "text/html": [
              "\n",
              "  <div id=\"df-cae3230a-c645-43de-852e-7bf0e5d8e084\">\n",
              "    <div class=\"colab-df-container\">\n",
              "      <div>\n",
              "<style scoped>\n",
              "    .dataframe tbody tr th:only-of-type {\n",
              "        vertical-align: middle;\n",
              "    }\n",
              "\n",
              "    .dataframe tbody tr th {\n",
              "        vertical-align: top;\n",
              "    }\n",
              "\n",
              "    .dataframe thead th {\n",
              "        text-align: right;\n",
              "    }\n",
              "</style>\n",
              "<table border=\"1\" class=\"dataframe\">\n",
              "  <thead>\n",
              "    <tr style=\"text-align: right;\">\n",
              "      <th></th>\n",
              "      <th>User-ID</th>\n",
              "      <th>Age</th>\n",
              "      <th>City</th>\n",
              "      <th>State</th>\n",
              "      <th>Country</th>\n",
              "    </tr>\n",
              "  </thead>\n",
              "  <tbody>\n",
              "    <tr>\n",
              "      <th>0</th>\n",
              "      <td>1</td>\n",
              "      <td>32</td>\n",
              "      <td>nyc</td>\n",
              "      <td>new york</td>\n",
              "      <td>usa</td>\n",
              "    </tr>\n",
              "    <tr>\n",
              "      <th>1</th>\n",
              "      <td>2</td>\n",
              "      <td>18</td>\n",
              "      <td>stockton</td>\n",
              "      <td>california</td>\n",
              "      <td>usa</td>\n",
              "    </tr>\n",
              "    <tr>\n",
              "      <th>2</th>\n",
              "      <td>3</td>\n",
              "      <td>32</td>\n",
              "      <td>moscow</td>\n",
              "      <td>yukon territory</td>\n",
              "      <td>russia</td>\n",
              "    </tr>\n",
              "    <tr>\n",
              "      <th>3</th>\n",
              "      <td>4</td>\n",
              "      <td>17</td>\n",
              "      <td>porto</td>\n",
              "      <td>v.n.gaia</td>\n",
              "      <td>portugal</td>\n",
              "    </tr>\n",
              "    <tr>\n",
              "      <th>4</th>\n",
              "      <td>5</td>\n",
              "      <td>32</td>\n",
              "      <td>farnborough</td>\n",
              "      <td>hants</td>\n",
              "      <td>united kingdom</td>\n",
              "    </tr>\n",
              "  </tbody>\n",
              "</table>\n",
              "</div>\n",
              "      <button class=\"colab-df-convert\" onclick=\"convertToInteractive('df-cae3230a-c645-43de-852e-7bf0e5d8e084')\"\n",
              "              title=\"Convert this dataframe to an interactive table.\"\n",
              "              style=\"display:none;\">\n",
              "        \n",
              "  <svg xmlns=\"http://www.w3.org/2000/svg\" height=\"24px\"viewBox=\"0 0 24 24\"\n",
              "       width=\"24px\">\n",
              "    <path d=\"M0 0h24v24H0V0z\" fill=\"none\"/>\n",
              "    <path d=\"M18.56 5.44l.94 2.06.94-2.06 2.06-.94-2.06-.94-.94-2.06-.94 2.06-2.06.94zm-11 1L8.5 8.5l.94-2.06 2.06-.94-2.06-.94L8.5 2.5l-.94 2.06-2.06.94zm10 10l.94 2.06.94-2.06 2.06-.94-2.06-.94-.94-2.06-.94 2.06-2.06.94z\"/><path d=\"M17.41 7.96l-1.37-1.37c-.4-.4-.92-.59-1.43-.59-.52 0-1.04.2-1.43.59L10.3 9.45l-7.72 7.72c-.78.78-.78 2.05 0 2.83L4 21.41c.39.39.9.59 1.41.59.51 0 1.02-.2 1.41-.59l7.78-7.78 2.81-2.81c.8-.78.8-2.07 0-2.86zM5.41 20L4 18.59l7.72-7.72 1.47 1.35L5.41 20z\"/>\n",
              "  </svg>\n",
              "      </button>\n",
              "      \n",
              "  <style>\n",
              "    .colab-df-container {\n",
              "      display:flex;\n",
              "      flex-wrap:wrap;\n",
              "      gap: 12px;\n",
              "    }\n",
              "\n",
              "    .colab-df-convert {\n",
              "      background-color: #E8F0FE;\n",
              "      border: none;\n",
              "      border-radius: 50%;\n",
              "      cursor: pointer;\n",
              "      display: none;\n",
              "      fill: #1967D2;\n",
              "      height: 32px;\n",
              "      padding: 0 0 0 0;\n",
              "      width: 32px;\n",
              "    }\n",
              "\n",
              "    .colab-df-convert:hover {\n",
              "      background-color: #E2EBFA;\n",
              "      box-shadow: 0px 1px 2px rgba(60, 64, 67, 0.3), 0px 1px 3px 1px rgba(60, 64, 67, 0.15);\n",
              "      fill: #174EA6;\n",
              "    }\n",
              "\n",
              "    [theme=dark] .colab-df-convert {\n",
              "      background-color: #3B4455;\n",
              "      fill: #D2E3FC;\n",
              "    }\n",
              "\n",
              "    [theme=dark] .colab-df-convert:hover {\n",
              "      background-color: #434B5C;\n",
              "      box-shadow: 0px 1px 3px 1px rgba(0, 0, 0, 0.15);\n",
              "      filter: drop-shadow(0px 1px 2px rgba(0, 0, 0, 0.3));\n",
              "      fill: #FFFFFF;\n",
              "    }\n",
              "  </style>\n",
              "\n",
              "      <script>\n",
              "        const buttonEl =\n",
              "          document.querySelector('#df-cae3230a-c645-43de-852e-7bf0e5d8e084 button.colab-df-convert');\n",
              "        buttonEl.style.display =\n",
              "          google.colab.kernel.accessAllowed ? 'block' : 'none';\n",
              "\n",
              "        async function convertToInteractive(key) {\n",
              "          const element = document.querySelector('#df-cae3230a-c645-43de-852e-7bf0e5d8e084');\n",
              "          const dataTable =\n",
              "            await google.colab.kernel.invokeFunction('convertToInteractive',\n",
              "                                                     [key], {});\n",
              "          if (!dataTable) return;\n",
              "\n",
              "          const docLinkHtml = 'Like what you see? Visit the ' +\n",
              "            '<a target=\"_blank\" href=https://colab.research.google.com/notebooks/data_table.ipynb>data table notebook</a>'\n",
              "            + ' to learn more about interactive tables.';\n",
              "          element.innerHTML = '';\n",
              "          dataTable['output_type'] = 'display_data';\n",
              "          await google.colab.output.renderOutput(dataTable, element);\n",
              "          const docLink = document.createElement('div');\n",
              "          docLink.innerHTML = docLinkHtml;\n",
              "          element.appendChild(docLink);\n",
              "        }\n",
              "      </script>\n",
              "    </div>\n",
              "  </div>\n",
              "  "
            ],
            "text/plain": [
              "   User-ID  Age         City            State         Country\n",
              "0  1        32   nyc          new york         usa           \n",
              "1  2        18   stockton     california       usa           \n",
              "2  3        32   moscow       yukon territory  russia        \n",
              "3  4        17   porto        v.n.gaia         portugal      \n",
              "4  5        32   farnborough  hants            united kingdom"
            ]
          },
          "metadata": {},
          "execution_count": 30
        }
      ],
      "source": [
        "#New users_df \n",
        "users_df.head()"
      ]
    },
    {
      "cell_type": "code",
      "execution_count": 31,
      "metadata": {
        "colab": {
          "base_uri": "https://localhost:8080/"
        },
        "id": "EoyAt0IkTtsu",
        "outputId": "f465f7d2-d20c-4b60-9489-7c60170533d4"
      },
      "outputs": [
        {
          "output_type": "stream",
          "name": "stdout",
          "text": [
            "Shape of users_df is: (278858, 5)\n"
          ]
        }
      ],
      "source": [
        "#Checking shape\n",
        "print(\"Shape of users_df is:\",users_df.shape)"
      ]
    },
    {
      "cell_type": "markdown",
      "metadata": {
        "id": "KDtgtT-z2mMb"
      },
      "source": [
        "#Ratings"
      ]
    },
    {
      "cell_type": "code",
      "execution_count": 32,
      "metadata": {
        "colab": {
          "base_uri": "https://localhost:8080/",
          "height": 206
        },
        "id": "JTSRcYrAzKVB",
        "outputId": "d7c4721a-e273-4a65-b421-b3c15c660c69"
      },
      "outputs": [
        {
          "output_type": "execute_result",
          "data": {
            "text/html": [
              "\n",
              "  <div id=\"df-a172ca7e-bd3c-4a2d-accf-8ddcdf76a016\">\n",
              "    <div class=\"colab-df-container\">\n",
              "      <div>\n",
              "<style scoped>\n",
              "    .dataframe tbody tr th:only-of-type {\n",
              "        vertical-align: middle;\n",
              "    }\n",
              "\n",
              "    .dataframe tbody tr th {\n",
              "        vertical-align: top;\n",
              "    }\n",
              "\n",
              "    .dataframe thead th {\n",
              "        text-align: right;\n",
              "    }\n",
              "</style>\n",
              "<table border=\"1\" class=\"dataframe\">\n",
              "  <thead>\n",
              "    <tr style=\"text-align: right;\">\n",
              "      <th></th>\n",
              "      <th>User-ID</th>\n",
              "      <th>ISBN</th>\n",
              "      <th>Book-Rating</th>\n",
              "    </tr>\n",
              "  </thead>\n",
              "  <tbody>\n",
              "    <tr>\n",
              "      <th>0</th>\n",
              "      <td>276725</td>\n",
              "      <td>034545104X</td>\n",
              "      <td>0</td>\n",
              "    </tr>\n",
              "    <tr>\n",
              "      <th>1</th>\n",
              "      <td>276726</td>\n",
              "      <td>0155061224</td>\n",
              "      <td>5</td>\n",
              "    </tr>\n",
              "    <tr>\n",
              "      <th>2</th>\n",
              "      <td>276727</td>\n",
              "      <td>0446520802</td>\n",
              "      <td>0</td>\n",
              "    </tr>\n",
              "    <tr>\n",
              "      <th>3</th>\n",
              "      <td>276729</td>\n",
              "      <td>052165615X</td>\n",
              "      <td>3</td>\n",
              "    </tr>\n",
              "    <tr>\n",
              "      <th>4</th>\n",
              "      <td>276729</td>\n",
              "      <td>0521795028</td>\n",
              "      <td>6</td>\n",
              "    </tr>\n",
              "  </tbody>\n",
              "</table>\n",
              "</div>\n",
              "      <button class=\"colab-df-convert\" onclick=\"convertToInteractive('df-a172ca7e-bd3c-4a2d-accf-8ddcdf76a016')\"\n",
              "              title=\"Convert this dataframe to an interactive table.\"\n",
              "              style=\"display:none;\">\n",
              "        \n",
              "  <svg xmlns=\"http://www.w3.org/2000/svg\" height=\"24px\"viewBox=\"0 0 24 24\"\n",
              "       width=\"24px\">\n",
              "    <path d=\"M0 0h24v24H0V0z\" fill=\"none\"/>\n",
              "    <path d=\"M18.56 5.44l.94 2.06.94-2.06 2.06-.94-2.06-.94-.94-2.06-.94 2.06-2.06.94zm-11 1L8.5 8.5l.94-2.06 2.06-.94-2.06-.94L8.5 2.5l-.94 2.06-2.06.94zm10 10l.94 2.06.94-2.06 2.06-.94-2.06-.94-.94-2.06-.94 2.06-2.06.94z\"/><path d=\"M17.41 7.96l-1.37-1.37c-.4-.4-.92-.59-1.43-.59-.52 0-1.04.2-1.43.59L10.3 9.45l-7.72 7.72c-.78.78-.78 2.05 0 2.83L4 21.41c.39.39.9.59 1.41.59.51 0 1.02-.2 1.41-.59l7.78-7.78 2.81-2.81c.8-.78.8-2.07 0-2.86zM5.41 20L4 18.59l7.72-7.72 1.47 1.35L5.41 20z\"/>\n",
              "  </svg>\n",
              "      </button>\n",
              "      \n",
              "  <style>\n",
              "    .colab-df-container {\n",
              "      display:flex;\n",
              "      flex-wrap:wrap;\n",
              "      gap: 12px;\n",
              "    }\n",
              "\n",
              "    .colab-df-convert {\n",
              "      background-color: #E8F0FE;\n",
              "      border: none;\n",
              "      border-radius: 50%;\n",
              "      cursor: pointer;\n",
              "      display: none;\n",
              "      fill: #1967D2;\n",
              "      height: 32px;\n",
              "      padding: 0 0 0 0;\n",
              "      width: 32px;\n",
              "    }\n",
              "\n",
              "    .colab-df-convert:hover {\n",
              "      background-color: #E2EBFA;\n",
              "      box-shadow: 0px 1px 2px rgba(60, 64, 67, 0.3), 0px 1px 3px 1px rgba(60, 64, 67, 0.15);\n",
              "      fill: #174EA6;\n",
              "    }\n",
              "\n",
              "    [theme=dark] .colab-df-convert {\n",
              "      background-color: #3B4455;\n",
              "      fill: #D2E3FC;\n",
              "    }\n",
              "\n",
              "    [theme=dark] .colab-df-convert:hover {\n",
              "      background-color: #434B5C;\n",
              "      box-shadow: 0px 1px 3px 1px rgba(0, 0, 0, 0.15);\n",
              "      filter: drop-shadow(0px 1px 2px rgba(0, 0, 0, 0.3));\n",
              "      fill: #FFFFFF;\n",
              "    }\n",
              "  </style>\n",
              "\n",
              "      <script>\n",
              "        const buttonEl =\n",
              "          document.querySelector('#df-a172ca7e-bd3c-4a2d-accf-8ddcdf76a016 button.colab-df-convert');\n",
              "        buttonEl.style.display =\n",
              "          google.colab.kernel.accessAllowed ? 'block' : 'none';\n",
              "\n",
              "        async function convertToInteractive(key) {\n",
              "          const element = document.querySelector('#df-a172ca7e-bd3c-4a2d-accf-8ddcdf76a016');\n",
              "          const dataTable =\n",
              "            await google.colab.kernel.invokeFunction('convertToInteractive',\n",
              "                                                     [key], {});\n",
              "          if (!dataTable) return;\n",
              "\n",
              "          const docLinkHtml = 'Like what you see? Visit the ' +\n",
              "            '<a target=\"_blank\" href=https://colab.research.google.com/notebooks/data_table.ipynb>data table notebook</a>'\n",
              "            + ' to learn more about interactive tables.';\n",
              "          element.innerHTML = '';\n",
              "          dataTable['output_type'] = 'display_data';\n",
              "          await google.colab.output.renderOutput(dataTable, element);\n",
              "          const docLink = document.createElement('div');\n",
              "          docLink.innerHTML = docLinkHtml;\n",
              "          element.appendChild(docLink);\n",
              "        }\n",
              "      </script>\n",
              "    </div>\n",
              "  </div>\n",
              "  "
            ],
            "text/plain": [
              "   User-ID        ISBN  Book-Rating\n",
              "0  276725   034545104X  0          \n",
              "1  276726   0155061224  5          \n",
              "2  276727   0446520802  0          \n",
              "3  276729   052165615X  3          \n",
              "4  276729   0521795028  6          "
            ]
          },
          "metadata": {},
          "execution_count": 32
        }
      ],
      "source": [
        "#First look\n",
        "ratings_df.head()"
      ]
    },
    {
      "cell_type": "code",
      "execution_count": 33,
      "metadata": {
        "colab": {
          "base_uri": "https://localhost:8080/"
        },
        "id": "PJJuNEjjzOVv",
        "outputId": "fb5a09c3-b279-4504-8f88-39e06e534143"
      },
      "outputs": [
        {
          "output_type": "stream",
          "name": "stdout",
          "text": [
            "<class 'pandas.core.frame.DataFrame'>\n",
            "RangeIndex: 1149780 entries, 0 to 1149779\n",
            "Data columns (total 3 columns):\n",
            " #   Column       Non-Null Count    Dtype \n",
            "---  ------       --------------    ----- \n",
            " 0   User-ID      1149780 non-null  int64 \n",
            " 1   ISBN         1149780 non-null  object\n",
            " 2   Book-Rating  1149780 non-null  int64 \n",
            "dtypes: int64(2), object(1)\n",
            "memory usage: 26.3+ MB\n"
          ]
        }
      ],
      "source": [
        "#Basic info\n",
        "ratings_df.info()"
      ]
    },
    {
      "cell_type": "markdown",
      "source": [
        "###Since there are chances of presence of extra characters in ISBN in ratings dataset, we will remove these extra characters."
      ],
      "metadata": {
        "id": "NlsXw_X5iR04"
      }
    },
    {
      "cell_type": "code",
      "execution_count": 34,
      "metadata": {
        "id": "a8NJSey7RtLk"
      },
      "outputs": [],
      "source": [
        "#Storing ISBN\n",
        "bookISBN = books_df['ISBN'].tolist()\n",
        "#Storing any character other than any combination of letters and digits case insensitive\n",
        "reg = \"[^A-Za-z0-9]\" \n",
        "\n",
        "for index, row_Value in ratings_df.iterrows():\n",
        "  #Searching for special characters in ratings_df.ISBN\n",
        "    z = re.search(reg, row_Value['ISBN'])    \n",
        "    \n",
        "    if z:\n",
        "      #Deleting special characters \n",
        "        f = re.sub(reg,\"\",row_Value['ISBN'])\n",
        "        \n",
        "        #Checking if the cleaned book id is in books_df or not\n",
        "        if f in bookISBN:\n",
        "          #If True we will replace the value with cleaned bookid.If false we will kepp it as itself.Because later while taking inner join it wont affect.\n",
        "            ratings_df.at[index , 'ISBN'] = f\n",
        "\n",
        "# Uppercasing all alphabets in ISBN\n",
        "ratings_df['ISBN'] = ratings_df['ISBN'].str.upper()\n",
        "# Drop duplicate rows"
      ]
    },
    {
      "cell_type": "code",
      "execution_count": 35,
      "metadata": {
        "colab": {
          "base_uri": "https://localhost:8080/"
        },
        "id": "sIY062JGU7Gn",
        "outputId": "eb460260-faf3-4a5d-e5b3-a70e43af8611"
      },
      "outputs": [
        {
          "output_type": "stream",
          "name": "stdout",
          "text": [
            "Number of duplicates is: 4\n"
          ]
        }
      ],
      "source": [
        "#Checking for duplicates\n",
        "print(\"Number of duplicates is:\",len(ratings_df[ratings_df.duplicated()]))\n",
        "#Dropping duplicates\n",
        "ratings_df.drop_duplicates(keep='last', inplace=True)\n",
        "#Removing original index\n",
        "ratings_df.reset_index(drop = True, inplace = True)"
      ]
    },
    {
      "cell_type": "code",
      "execution_count": 36,
      "metadata": {
        "id": "dXX3M0K4VUv-",
        "colab": {
          "base_uri": "https://localhost:8080/"
        },
        "outputId": "1914eaad-8d47-4fd1-a791-a690700fd9db"
      },
      "outputs": [
        {
          "output_type": "stream",
          "name": "stdout",
          "text": [
            "Shape of ratings_df is: (1149776, 3)\n"
          ]
        }
      ],
      "source": [
        "#Checking shape\n",
        "print(\"Shape of ratings_df is:\",ratings_df.shape)"
      ]
    },
    {
      "cell_type": "markdown",
      "metadata": {
        "id": "vgHmSuKCWK-B"
      },
      "source": [
        "#Merging"
      ]
    },
    {
      "cell_type": "markdown",
      "source": [
        "###Now we will combine these three pre-processed dataframes."
      ],
      "metadata": {
        "id": "nZHozel-jcRV"
      }
    },
    {
      "cell_type": "code",
      "execution_count": 37,
      "metadata": {
        "id": "cYqFCvUIQyrO",
        "colab": {
          "base_uri": "https://localhost:8080/"
        },
        "outputId": "671d14f8-46e8-43ec-ba08-72dcdd1385c7"
      },
      "outputs": [
        {
          "output_type": "stream",
          "name": "stdout",
          "text": [
            "<class 'pandas.core.frame.DataFrame'>\n",
            "Int64Index: 1017530 entries, 0 to 1017529\n",
            "Data columns (total 11 columns):\n",
            " #   Column               Non-Null Count    Dtype \n",
            "---  ------               --------------    ----- \n",
            " 0   ISBN                 1017530 non-null  object\n",
            " 1   Book-Title           1017530 non-null  object\n",
            " 2   Book-Author          1017530 non-null  object\n",
            " 3   Year-Of-Publication  1017530 non-null  int64 \n",
            " 4   Publisher            1017530 non-null  object\n",
            " 5   User-ID              1017530 non-null  int64 \n",
            " 6   Book-Rating          1017530 non-null  int64 \n",
            " 7   Age                  1017530 non-null  int32 \n",
            " 8   City                 1017530 non-null  object\n",
            " 9   State                1017530 non-null  object\n",
            " 10  Country              1017530 non-null  object\n",
            "dtypes: int32(1), int64(3), object(7)\n",
            "memory usage: 89.3+ MB\n"
          ]
        }
      ],
      "source": [
        "#Merging\n",
        "combined_df = pd.merge(books_df, ratings_df, on='ISBN', how='inner')\n",
        "combined_df = pd.merge(combined_df, users_df, on='User-ID', how='inner')\n",
        "\n",
        "#Basic info\n",
        "combined_df.info()"
      ]
    },
    {
      "cell_type": "code",
      "execution_count": 38,
      "metadata": {
        "id": "Jf2Iv4NFHQSj",
        "colab": {
          "base_uri": "https://localhost:8080/",
          "height": 336
        },
        "outputId": "10820493-70de-46b2-a2d9-f8a78427c213"
      },
      "outputs": [
        {
          "output_type": "execute_result",
          "data": {
            "text/html": [
              "\n",
              "  <div id=\"df-e43e9aa4-4d54-4515-889b-8353a0e62178\">\n",
              "    <div class=\"colab-df-container\">\n",
              "      <div>\n",
              "<style scoped>\n",
              "    .dataframe tbody tr th:only-of-type {\n",
              "        vertical-align: middle;\n",
              "    }\n",
              "\n",
              "    .dataframe tbody tr th {\n",
              "        vertical-align: top;\n",
              "    }\n",
              "\n",
              "    .dataframe thead th {\n",
              "        text-align: right;\n",
              "    }\n",
              "</style>\n",
              "<table border=\"1\" class=\"dataframe\">\n",
              "  <thead>\n",
              "    <tr style=\"text-align: right;\">\n",
              "      <th></th>\n",
              "      <th>ISBN</th>\n",
              "      <th>Book-Title</th>\n",
              "      <th>Book-Author</th>\n",
              "      <th>Year-Of-Publication</th>\n",
              "      <th>Publisher</th>\n",
              "      <th>User-ID</th>\n",
              "      <th>Book-Rating</th>\n",
              "      <th>Age</th>\n",
              "      <th>City</th>\n",
              "      <th>State</th>\n",
              "      <th>Country</th>\n",
              "    </tr>\n",
              "  </thead>\n",
              "  <tbody>\n",
              "    <tr>\n",
              "      <th>0</th>\n",
              "      <td>0195153448</td>\n",
              "      <td>Classical Mythology</td>\n",
              "      <td>Mark P. O. Morford</td>\n",
              "      <td>2002</td>\n",
              "      <td>Oxford University Press</td>\n",
              "      <td>2</td>\n",
              "      <td>0</td>\n",
              "      <td>18</td>\n",
              "      <td>stockton</td>\n",
              "      <td>california</td>\n",
              "      <td>usa</td>\n",
              "    </tr>\n",
              "    <tr>\n",
              "      <th>1</th>\n",
              "      <td>0002005018</td>\n",
              "      <td>Clara Callan</td>\n",
              "      <td>Richard Bruce Wright</td>\n",
              "      <td>2001</td>\n",
              "      <td>HarperFlamingo Canada</td>\n",
              "      <td>8</td>\n",
              "      <td>5</td>\n",
              "      <td>32</td>\n",
              "      <td>timmins</td>\n",
              "      <td>ontario</td>\n",
              "      <td>canada</td>\n",
              "    </tr>\n",
              "    <tr>\n",
              "      <th>2</th>\n",
              "      <td>0060973129</td>\n",
              "      <td>Decision in Normandy</td>\n",
              "      <td>Carlo D'Este</td>\n",
              "      <td>1991</td>\n",
              "      <td>HarperPerennial</td>\n",
              "      <td>8</td>\n",
              "      <td>0</td>\n",
              "      <td>32</td>\n",
              "      <td>timmins</td>\n",
              "      <td>ontario</td>\n",
              "      <td>canada</td>\n",
              "    </tr>\n",
              "    <tr>\n",
              "      <th>3</th>\n",
              "      <td>0374157065</td>\n",
              "      <td>Flu: The Story of the Great Influenza Pandemic of 1918 and the Search for the Virus That Caused It</td>\n",
              "      <td>Gina Bari Kolata</td>\n",
              "      <td>1999</td>\n",
              "      <td>Farrar Straus Giroux</td>\n",
              "      <td>8</td>\n",
              "      <td>0</td>\n",
              "      <td>32</td>\n",
              "      <td>timmins</td>\n",
              "      <td>ontario</td>\n",
              "      <td>canada</td>\n",
              "    </tr>\n",
              "    <tr>\n",
              "      <th>4</th>\n",
              "      <td>0393045218</td>\n",
              "      <td>The Mummies of Urumchi</td>\n",
              "      <td>E. J. W. Barber</td>\n",
              "      <td>1999</td>\n",
              "      <td>W. W. Norton &amp;amp; Company</td>\n",
              "      <td>8</td>\n",
              "      <td>0</td>\n",
              "      <td>32</td>\n",
              "      <td>timmins</td>\n",
              "      <td>ontario</td>\n",
              "      <td>canada</td>\n",
              "    </tr>\n",
              "  </tbody>\n",
              "</table>\n",
              "</div>\n",
              "      <button class=\"colab-df-convert\" onclick=\"convertToInteractive('df-e43e9aa4-4d54-4515-889b-8353a0e62178')\"\n",
              "              title=\"Convert this dataframe to an interactive table.\"\n",
              "              style=\"display:none;\">\n",
              "        \n",
              "  <svg xmlns=\"http://www.w3.org/2000/svg\" height=\"24px\"viewBox=\"0 0 24 24\"\n",
              "       width=\"24px\">\n",
              "    <path d=\"M0 0h24v24H0V0z\" fill=\"none\"/>\n",
              "    <path d=\"M18.56 5.44l.94 2.06.94-2.06 2.06-.94-2.06-.94-.94-2.06-.94 2.06-2.06.94zm-11 1L8.5 8.5l.94-2.06 2.06-.94-2.06-.94L8.5 2.5l-.94 2.06-2.06.94zm10 10l.94 2.06.94-2.06 2.06-.94-2.06-.94-.94-2.06-.94 2.06-2.06.94z\"/><path d=\"M17.41 7.96l-1.37-1.37c-.4-.4-.92-.59-1.43-.59-.52 0-1.04.2-1.43.59L10.3 9.45l-7.72 7.72c-.78.78-.78 2.05 0 2.83L4 21.41c.39.39.9.59 1.41.59.51 0 1.02-.2 1.41-.59l7.78-7.78 2.81-2.81c.8-.78.8-2.07 0-2.86zM5.41 20L4 18.59l7.72-7.72 1.47 1.35L5.41 20z\"/>\n",
              "  </svg>\n",
              "      </button>\n",
              "      \n",
              "  <style>\n",
              "    .colab-df-container {\n",
              "      display:flex;\n",
              "      flex-wrap:wrap;\n",
              "      gap: 12px;\n",
              "    }\n",
              "\n",
              "    .colab-df-convert {\n",
              "      background-color: #E8F0FE;\n",
              "      border: none;\n",
              "      border-radius: 50%;\n",
              "      cursor: pointer;\n",
              "      display: none;\n",
              "      fill: #1967D2;\n",
              "      height: 32px;\n",
              "      padding: 0 0 0 0;\n",
              "      width: 32px;\n",
              "    }\n",
              "\n",
              "    .colab-df-convert:hover {\n",
              "      background-color: #E2EBFA;\n",
              "      box-shadow: 0px 1px 2px rgba(60, 64, 67, 0.3), 0px 1px 3px 1px rgba(60, 64, 67, 0.15);\n",
              "      fill: #174EA6;\n",
              "    }\n",
              "\n",
              "    [theme=dark] .colab-df-convert {\n",
              "      background-color: #3B4455;\n",
              "      fill: #D2E3FC;\n",
              "    }\n",
              "\n",
              "    [theme=dark] .colab-df-convert:hover {\n",
              "      background-color: #434B5C;\n",
              "      box-shadow: 0px 1px 3px 1px rgba(0, 0, 0, 0.15);\n",
              "      filter: drop-shadow(0px 1px 2px rgba(0, 0, 0, 0.3));\n",
              "      fill: #FFFFFF;\n",
              "    }\n",
              "  </style>\n",
              "\n",
              "      <script>\n",
              "        const buttonEl =\n",
              "          document.querySelector('#df-e43e9aa4-4d54-4515-889b-8353a0e62178 button.colab-df-convert');\n",
              "        buttonEl.style.display =\n",
              "          google.colab.kernel.accessAllowed ? 'block' : 'none';\n",
              "\n",
              "        async function convertToInteractive(key) {\n",
              "          const element = document.querySelector('#df-e43e9aa4-4d54-4515-889b-8353a0e62178');\n",
              "          const dataTable =\n",
              "            await google.colab.kernel.invokeFunction('convertToInteractive',\n",
              "                                                     [key], {});\n",
              "          if (!dataTable) return;\n",
              "\n",
              "          const docLinkHtml = 'Like what you see? Visit the ' +\n",
              "            '<a target=\"_blank\" href=https://colab.research.google.com/notebooks/data_table.ipynb>data table notebook</a>'\n",
              "            + ' to learn more about interactive tables.';\n",
              "          element.innerHTML = '';\n",
              "          dataTable['output_type'] = 'display_data';\n",
              "          await google.colab.output.renderOutput(dataTable, element);\n",
              "          const docLink = document.createElement('div');\n",
              "          docLink.innerHTML = docLinkHtml;\n",
              "          element.appendChild(docLink);\n",
              "        }\n",
              "      </script>\n",
              "    </div>\n",
              "  </div>\n",
              "  "
            ],
            "text/plain": [
              "         ISBN  \\\n",
              "0  0195153448   \n",
              "1  0002005018   \n",
              "2  0060973129   \n",
              "3  0374157065   \n",
              "4  0393045218   \n",
              "\n",
              "                                                                                           Book-Title  \\\n",
              "0  Classical Mythology                                                                                  \n",
              "1  Clara Callan                                                                                         \n",
              "2  Decision in Normandy                                                                                 \n",
              "3  Flu: The Story of the Great Influenza Pandemic of 1918 and the Search for the Virus That Caused It   \n",
              "4  The Mummies of Urumchi                                                                               \n",
              "\n",
              "            Book-Author  Year-Of-Publication                   Publisher  \\\n",
              "0  Mark P. O. Morford    2002                 Oxford University Press      \n",
              "1  Richard Bruce Wright  2001                 HarperFlamingo Canada        \n",
              "2  Carlo D'Este          1991                 HarperPerennial              \n",
              "3  Gina Bari Kolata      1999                 Farrar Straus Giroux         \n",
              "4  E. J. W. Barber       1999                 W. W. Norton &amp; Company   \n",
              "\n",
              "   User-ID  Book-Rating  Age      City       State Country  \n",
              "0  2        0            18   stockton  california  usa     \n",
              "1  8        5            32   timmins   ontario     canada  \n",
              "2  8        0            32   timmins   ontario     canada  \n",
              "3  8        0            32   timmins   ontario     canada  \n",
              "4  8        0            32   timmins   ontario     canada  "
            ]
          },
          "metadata": {},
          "execution_count": 38
        }
      ],
      "source": [
        "#First look\n",
        "combined_df.head()"
      ]
    },
    {
      "cell_type": "code",
      "source": [
        "#Checking shape of the combined dataframe \n",
        "print(\"Shape of combined_df is:\",combined_df.shape)"
      ],
      "metadata": {
        "colab": {
          "base_uri": "https://localhost:8080/"
        },
        "id": "MI1EYuiakenl",
        "outputId": "4815ae5f-d675-4a03-9bf8-b02397e72735"
      },
      "execution_count": 39,
      "outputs": [
        {
          "output_type": "stream",
          "name": "stdout",
          "text": [
            "Shape of combined_df is: (1017530, 11)\n"
          ]
        }
      ]
    },
    {
      "cell_type": "markdown",
      "metadata": {
        "id": "kXDHNJgESVRC"
      },
      "source": [
        "#**EDA**"
      ]
    },
    {
      "cell_type": "code",
      "execution_count": 40,
      "metadata": {
        "id": "CpMgeFT6GWF6"
      },
      "outputs": [],
      "source": [
        "#Creating a copy \n",
        "df=combined_df.copy()"
      ]
    },
    {
      "cell_type": "code",
      "execution_count": 41,
      "metadata": {
        "id": "j6_SBItzZHet",
        "colab": {
          "base_uri": "https://localhost:8080/"
        },
        "outputId": "2f3f3b31-4d40-42eb-f005-21fefbd3c138"
      },
      "outputs": [
        {
          "output_type": "execute_result",
          "data": {
            "text/plain": [
              "array([ 0,  5,  6,  7,  9, 10,  8,  3,  1,  4,  2])"
            ]
          },
          "metadata": {},
          "execution_count": 41
        }
      ],
      "source": [
        "#Unique values of book-ratings\n",
        "df[\"Book-Rating\"].unique()"
      ]
    },
    {
      "cell_type": "markdown",
      "source": [
        "####Since our dataset contains rating value of 0 and usually ratings are given on a scale of 1-10, we will remove 0 ratings."
      ],
      "metadata": {
        "id": "GzS4oAMjk1ia"
      }
    },
    {
      "cell_type": "code",
      "execution_count": 42,
      "metadata": {
        "id": "hxIHdQJWE_Ac"
      },
      "outputs": [],
      "source": [
        "#Removing 0 ratings\n",
        "df=df[~(combined_df[\"Book-Rating\"]==0)]"
      ]
    },
    {
      "cell_type": "code",
      "source": [
        "df[\"Book-Rating\"].value_counts()"
      ],
      "metadata": {
        "colab": {
          "base_uri": "https://localhost:8080/"
        },
        "id": "oa3oAfS5lJEu",
        "outputId": "02808dcd-9a9c-454f-f623-e6647405ecb4"
      },
      "execution_count": 43,
      "outputs": [
        {
          "output_type": "execute_result",
          "data": {
            "text/plain": [
              "8     90426\n",
              "10    70277\n",
              "7     65357\n",
              "9     59924\n",
              "5     44750\n",
              "6     31194\n",
              "4     7497 \n",
              "3     5037 \n",
              "2     2334 \n",
              "1     1461 \n",
              "Name: Book-Rating, dtype: int64"
            ]
          },
          "metadata": {},
          "execution_count": 43
        }
      ]
    },
    {
      "cell_type": "code",
      "execution_count": 44,
      "metadata": {
        "id": "xHoY2Nr4lAOm",
        "colab": {
          "base_uri": "https://localhost:8080/"
        },
        "outputId": "1ca08cf4-3d84-42cf-eb73-aa57e0b4f7ee"
      },
      "outputs": [
        {
          "output_type": "stream",
          "name": "stdout",
          "text": [
            "The shape of dataset after removing 0 ratings is (378257, 11)\n"
          ]
        }
      ],
      "source": [
        "#Checking shape\n",
        "print(\"The shape of dataset after removing 0 ratings is\",df.shape)"
      ]
    },
    {
      "cell_type": "markdown",
      "source": [
        "##Now let's try to get some insights regarding the data."
      ],
      "metadata": {
        "id": "gbrOFtpcmOX6"
      }
    },
    {
      "cell_type": "markdown",
      "metadata": {
        "id": "Sii9YWKNH5Hq"
      },
      "source": [
        "###**1.Most Rated Books**"
      ]
    },
    {
      "cell_type": "code",
      "execution_count": 45,
      "metadata": {
        "id": "VNP2SJbmSFSH",
        "colab": {
          "base_uri": "https://localhost:8080/",
          "height": 457
        },
        "outputId": "aac7a8a7-84e9-4363-f005-00087fce32b5"
      },
      "outputs": [
        {
          "output_type": "display_data",
          "data": {
            "image/png": "[encoded data removed]",
            "text/plain": [
              "<Figure size 720x504 with 1 Axes>"
            ]
          },
          "metadata": {
            "needs_background": "light"
          }
        }
      ],
      "source": [
        "# Most Read Books\n",
        "most_read = df['Book-Title'].value_counts().reset_index()\n",
        "most_read.columns = ['Book-Title','count']\n",
        "#plotting\n",
        "plt.figure(figsize = (10,7))\n",
        "plt.title(\"Most Rated Books\")\n",
        "sns.barplot(x = 'count', y = 'Book-Title', data = most_read.head(20))\n",
        "plt.show()"
      ]
    },
    {
      "cell_type": "markdown",
      "source": [
        "###Findings\n",
        "\n",
        "*   'The Lovely Bones:A Novel' is the book with the highest number of ratings.\n",
        "\n",
        "*   It is followed by 'Wild Animus' and 'The Da Vinci Code'"
      ],
      "metadata": {
        "id": "fUB7FzDko8oZ"
      }
    },
    {
      "cell_type": "markdown",
      "metadata": {
        "id": "uZxdJ0g-ICfD"
      },
      "source": [
        "###**2. Top Book-Authors**"
      ]
    },
    {
      "cell_type": "code",
      "execution_count": 46,
      "metadata": {
        "id": "i6zAk2BVZ8UE",
        "colab": {
          "base_uri": "https://localhost:8080/",
          "height": 474
        },
        "outputId": "a4b0c0b8-eae5-40a2-bf7d-ce70fbe1fa49"
      },
      "outputs": [
        {
          "output_type": "display_data",
          "data": {
            "image/png": "[encoded data removed]",
            "text/plain": [
              "<Figure size 720x504 with 1 Axes>"
            ]
          },
          "metadata": {
            "needs_background": "light"
          }
        }
      ],
      "source": [
        "# Top 15 book authors by number of interactions\n",
        "plt.figure(figsize=(10,7))\n",
        "sns.countplot(y=\"Book-Author\",order=df['Book-Author'].value_counts().index[0:15],data=df).tick_params(axis='x', rotation=90)\n",
        "plt.title(\" Top 15 Book Authors\")\n",
        "plt.show()"
      ]
    },
    {
      "cell_type": "markdown",
      "source": [
        "###Findings\n",
        "*  Analyzing the given data, one can conclude that Stephan King's books received the most number of ratings. \n"
      ],
      "metadata": {
        "id": "NEz3glW0qQuO"
      }
    },
    {
      "cell_type": "markdown",
      "metadata": {
        "id": "dUgHvsAvITYp"
      },
      "source": [
        "###**Authors with the highest number of books**"
      ]
    },
    {
      "cell_type": "code",
      "execution_count": 47,
      "metadata": {
        "colab": {
          "base_uri": "https://localhost:8080/",
          "height": 206
        },
        "id": "lpMu3VAqZSsC",
        "outputId": "4db07ea8-a901-47e9-c834-8e5b0d5929a4"
      },
      "outputs": [
        {
          "output_type": "execute_result",
          "data": {
            "text/html": [
              "\n",
              "  <div id=\"df-21c87c38-05a7-4a84-b5a2-b2988c108680\">\n",
              "    <div class=\"colab-df-container\">\n",
              "      <div>\n",
              "<style scoped>\n",
              "    .dataframe tbody tr th:only-of-type {\n",
              "        vertical-align: middle;\n",
              "    }\n",
              "\n",
              "    .dataframe tbody tr th {\n",
              "        vertical-align: top;\n",
              "    }\n",
              "\n",
              "    .dataframe thead th {\n",
              "        text-align: right;\n",
              "    }\n",
              "</style>\n",
              "<table border=\"1\" class=\"dataframe\">\n",
              "  <thead>\n",
              "    <tr style=\"text-align: right;\">\n",
              "      <th></th>\n",
              "      <th>Book-Author</th>\n",
              "      <th>Book Count</th>\n",
              "    </tr>\n",
              "  </thead>\n",
              "  <tbody>\n",
              "    <tr>\n",
              "      <th>0</th>\n",
              "      <td>William Shakespeare</td>\n",
              "      <td>343</td>\n",
              "    </tr>\n",
              "    <tr>\n",
              "      <th>1</th>\n",
              "      <td>Agatha Christie</td>\n",
              "      <td>308</td>\n",
              "    </tr>\n",
              "    <tr>\n",
              "      <th>2</th>\n",
              "      <td>Stephen King</td>\n",
              "      <td>283</td>\n",
              "    </tr>\n",
              "    <tr>\n",
              "      <th>3</th>\n",
              "      <td>Barbara Cartland</td>\n",
              "      <td>279</td>\n",
              "    </tr>\n",
              "    <tr>\n",
              "      <th>4</th>\n",
              "      <td>Nora Roberts</td>\n",
              "      <td>211</td>\n",
              "    </tr>\n",
              "  </tbody>\n",
              "</table>\n",
              "</div>\n",
              "      <button class=\"colab-df-convert\" onclick=\"convertToInteractive('df-21c87c38-05a7-4a84-b5a2-b2988c108680')\"\n",
              "              title=\"Convert this dataframe to an interactive table.\"\n",
              "              style=\"display:none;\">\n",
              "        \n",
              "  <svg xmlns=\"http://www.w3.org/2000/svg\" height=\"24px\"viewBox=\"0 0 24 24\"\n",
              "       width=\"24px\">\n",
              "    <path d=\"M0 0h24v24H0V0z\" fill=\"none\"/>\n",
              "    <path d=\"M18.56 5.44l.94 2.06.94-2.06 2.06-.94-2.06-.94-.94-2.06-.94 2.06-2.06.94zm-11 1L8.5 8.5l.94-2.06 2.06-.94-2.06-.94L8.5 2.5l-.94 2.06-2.06.94zm10 10l.94 2.06.94-2.06 2.06-.94-2.06-.94-.94-2.06-.94 2.06-2.06.94z\"/><path d=\"M17.41 7.96l-1.37-1.37c-.4-.4-.92-.59-1.43-.59-.52 0-1.04.2-1.43.59L10.3 9.45l-7.72 7.72c-.78.78-.78 2.05 0 2.83L4 21.41c.39.39.9.59 1.41.59.51 0 1.02-.2 1.41-.59l7.78-7.78 2.81-2.81c.8-.78.8-2.07 0-2.86zM5.41 20L4 18.59l7.72-7.72 1.47 1.35L5.41 20z\"/>\n",
              "  </svg>\n",
              "      </button>\n",
              "      \n",
              "  <style>\n",
              "    .colab-df-container {\n",
              "      display:flex;\n",
              "      flex-wrap:wrap;\n",
              "      gap: 12px;\n",
              "    }\n",
              "\n",
              "    .colab-df-convert {\n",
              "      background-color: #E8F0FE;\n",
              "      border: none;\n",
              "      border-radius: 50%;\n",
              "      cursor: pointer;\n",
              "      display: none;\n",
              "      fill: #1967D2;\n",
              "      height: 32px;\n",
              "      padding: 0 0 0 0;\n",
              "      width: 32px;\n",
              "    }\n",
              "\n",
              "    .colab-df-convert:hover {\n",
              "      background-color: #E2EBFA;\n",
              "      box-shadow: 0px 1px 2px rgba(60, 64, 67, 0.3), 0px 1px 3px 1px rgba(60, 64, 67, 0.15);\n",
              "      fill: #174EA6;\n",
              "    }\n",
              "\n",
              "    [theme=dark] .colab-df-convert {\n",
              "      background-color: #3B4455;\n",
              "      fill: #D2E3FC;\n",
              "    }\n",
              "\n",
              "    [theme=dark] .colab-df-convert:hover {\n",
              "      background-color: #434B5C;\n",
              "      box-shadow: 0px 1px 3px 1px rgba(0, 0, 0, 0.15);\n",
              "      filter: drop-shadow(0px 1px 2px rgba(0, 0, 0, 0.3));\n",
              "      fill: #FFFFFF;\n",
              "    }\n",
              "  </style>\n",
              "\n",
              "      <script>\n",
              "        const buttonEl =\n",
              "          document.querySelector('#df-21c87c38-05a7-4a84-b5a2-b2988c108680 button.colab-df-convert');\n",
              "        buttonEl.style.display =\n",
              "          google.colab.kernel.accessAllowed ? 'block' : 'none';\n",
              "\n",
              "        async function convertToInteractive(key) {\n",
              "          const element = document.querySelector('#df-21c87c38-05a7-4a84-b5a2-b2988c108680');\n",
              "          const dataTable =\n",
              "            await google.colab.kernel.invokeFunction('convertToInteractive',\n",
              "                                                     [key], {});\n",
              "          if (!dataTable) return;\n",
              "\n",
              "          const docLinkHtml = 'Like what you see? Visit the ' +\n",
              "            '<a target=\"_blank\" href=https://colab.research.google.com/notebooks/data_table.ipynb>data table notebook</a>'\n",
              "            + ' to learn more about interactive tables.';\n",
              "          element.innerHTML = '';\n",
              "          dataTable['output_type'] = 'display_data';\n",
              "          await google.colab.output.renderOutput(dataTable, element);\n",
              "          const docLink = document.createElement('div');\n",
              "          docLink.innerHTML = docLinkHtml;\n",
              "          element.appendChild(docLink);\n",
              "        }\n",
              "      </script>\n",
              "    </div>\n",
              "  </div>\n",
              "  "
            ],
            "text/plain": [
              "           Book-Author  Book Count\n",
              "0  William Shakespeare  343       \n",
              "1  Agatha Christie      308       \n",
              "2  Stephen King         283       \n",
              "3  Barbara Cartland     279       \n",
              "4  Nora Roberts         211       "
            ]
          },
          "metadata": {},
          "execution_count": 47
        }
      ],
      "source": [
        "#finding authors with the highest number of books\n",
        "most_books = df.groupby('Book-Author').agg({'Book-Title':\"nunique\"}).sort_values(by='Book-Title',ascending=False)\n",
        "most_books.reset_index(inplace=True)\n",
        "most_books.rename(columns={\"Book-Title\":\"Book Count\"},inplace=True)\n",
        "most_books=most_books[:15]\n",
        "most_books.head()"
      ]
    },
    {
      "cell_type": "code",
      "execution_count": 48,
      "metadata": {
        "colab": {
          "base_uri": "https://localhost:8080/",
          "height": 457
        },
        "id": "urw4vVxNYfUa",
        "outputId": "220d0f1c-1175-4e22-c860-8b9c723ff55a"
      },
      "outputs": [
        {
          "output_type": "display_data",
          "data": {
            "image/png": "[encoded data removed]",
            "text/plain": [
              "<Figure size 720x504 with 1 Axes>"
            ]
          },
          "metadata": {
            "needs_background": "light"
          }
        }
      ],
      "source": [
        "#plotting top 15 authors and number of books \n",
        "plt.figure(figsize=(10,7))\n",
        "ax = sns.barplot(most_books['Book Count'], most_books[\"Book-Author\"], palette='inferno')\n",
        "ax.set_title(\"Top 10 authors with heighest nmber of books\")\n",
        "ax.set_xlabel(\"Total number of books\")\n",
        "totals = []\n",
        "# find the values and append to list\n",
        "for i in ax.patches:\n",
        "    totals.append(i.get_width())\n",
        "\n",
        "# set individual bar lables using above list\n",
        "total = sum(totals)\n",
        "\n",
        "# set individual bar lables using above list\n",
        "for i in ax.patches:\n",
        "    # get_width pulls left or right; get_y pushes up or down\n",
        "    ax.text(i.get_width()+.60, i.get_y()+.60,str(round(i.get_width())), fontsize=15,color='black')\n",
        "plt.show()"
      ]
    },
    {
      "cell_type": "markdown",
      "source": [
        "###Findings:\n",
        "\n",
        "\n",
        "*  In the given dataset, the author with the highest number of books is William Shakespare, followed by Agatha Christie.\n",
        "\n"
      ],
      "metadata": {
        "id": "PvbgnTCRdP53"
      }
    },
    {
      "cell_type": "markdown",
      "metadata": {
        "id": "k6IyaJ-kJWdQ"
      },
      "source": [
        "###**3. Top 15 Book-Publishers**"
      ]
    },
    {
      "cell_type": "code",
      "execution_count": 49,
      "metadata": {
        "colab": {
          "base_uri": "https://localhost:8080/",
          "height": 592
        },
        "id": "8ftuITZbdut5",
        "outputId": "3a9181c2-3ed4-446c-8ba5-59d9771ea17a"
      },
      "outputs": [
        {
          "output_type": "execute_result",
          "data": {
            "text/plain": [
              "Text(0.5, 1.0, ' Top 10 Book Publisher')"
            ]
          },
          "metadata": {},
          "execution_count": 49
        },
        {
          "output_type": "display_data",
          "data": {
            "image/png": "[encoded data removed]",
            "text/plain": [
              "<Figure size 720x504 with 1 Axes>"
            ]
          },
          "metadata": {
            "needs_background": "light"
          }
        }
      ],
      "source": [
        "#plotting top 15 book publishers\n",
        "plt.figure(figsize=(10,7))\n",
        "sns.countplot(x=\"Publisher\",order=df['Publisher'].value_counts().index[0:15],data=df).tick_params(axis='x', rotation=90)\n",
        "plt.title(\" Top 10 Book Publisher\")"
      ]
    },
    {
      "cell_type": "markdown",
      "source": [
        "###Findings:\n",
        "\n",
        "\n",
        "\n",
        "\n",
        "*   Top publishers on the basis of the number of ratings received for their books are 'Ballantine Books' and 'Pocket'.\n"
      ],
      "metadata": {
        "id": "xb_KbPsmdxn9"
      }
    },
    {
      "cell_type": "markdown",
      "source": [
        "###**4. Number of ratings from each city**"
      ],
      "metadata": {
        "id": "XH66HQlyd0eo"
      }
    },
    {
      "cell_type": "code",
      "execution_count": 50,
      "metadata": {
        "colab": {
          "base_uri": "https://localhost:8080/",
          "height": 476
        },
        "id": "yta0VvqHnluQ",
        "outputId": "a7b627db-d12b-4a06-92b0-e1818628f4af"
      },
      "outputs": [
        {
          "output_type": "execute_result",
          "data": {
            "text/plain": [
              "Text(0.5, 1.0, 'No of readers from each city (Top 10)')"
            ]
          },
          "metadata": {},
          "execution_count": 50
        },
        {
          "output_type": "display_data",
          "data": {
            "image/png": "[encoded data removed]",
            "text/plain": [
              "<Figure size 720x504 with 1 Axes>"
            ]
          },
          "metadata": {
            "needs_background": "light"
          }
        }
      ],
      "source": [
        "#plotting top 10 cities on the basis of number of ratings \n",
        "plt.figure(figsize=(10,7))\n",
        "sns.countplot(x=\"City\",order=df['City'].value_counts().index[0:10],data=df)\n",
        "plt.title(\"No of readers from each city (Top 10)\")"
      ]
    },
    {
      "cell_type": "markdown",
      "source": [
        "###**5. Number of ratings from each State**"
      ],
      "metadata": {
        "id": "cwSTjWNleCq7"
      }
    },
    {
      "cell_type": "code",
      "execution_count": 51,
      "metadata": {
        "colab": {
          "base_uri": "https://localhost:8080/",
          "height": 640
        },
        "id": "KN6-erU3n6nE",
        "outputId": "a11fd054-9c05-4e34-a42d-88738dbffd40"
      },
      "outputs": [
        {
          "output_type": "execute_result",
          "data": {
            "text/plain": [
              "Text(0.5, 1.0, 'No of readers from each State (Top 10)')"
            ]
          },
          "metadata": {},
          "execution_count": 51
        },
        {
          "output_type": "display_data",
          "data": {
            "image/png": "[encoded data removed]",
            "text/plain": [
              "<Figure size 720x720 with 1 Axes>"
            ]
          },
          "metadata": {
            "needs_background": "light"
          }
        }
      ],
      "source": [
        "#plotting top 10 states on the basis of number of ratings\n",
        "plt.figure(figsize=(10,10))\n",
        "sns.countplot(x=\"State\",order=df['State'].value_counts().index[0:10],data=df)\n",
        "plt.title(\"No of readers from each State (Top 10)\")"
      ]
    },
    {
      "cell_type": "markdown",
      "source": [
        "###Findings:\n",
        "\n",
        "\n",
        "\n",
        "\n",
        "* California is the state from which the highest number of ratings are given."
      ],
      "metadata": {
        "id": "MkTkJXc3eGG9"
      }
    },
    {
      "cell_type": "markdown",
      "source": [
        "###**6. Number of ratings from each Country**"
      ],
      "metadata": {
        "id": "2rwClk6ieJ61"
      }
    },
    {
      "cell_type": "code",
      "execution_count": 52,
      "metadata": {
        "colab": {
          "base_uri": "https://localhost:8080/",
          "height": 356
        },
        "id": "xyvnlK0Jy_0Q",
        "outputId": "f51a85af-5881-4c59-dc68-5f621539316c"
      },
      "outputs": [
        {
          "output_type": "display_data",
          "data": {
            "image/png": "[encoded data removed]",
            "text/plain": [
              "<Figure size 720x432 with 1 Axes>"
            ]
          },
          "metadata": {}
        }
      ],
      "source": [
        "# Top Countries \n",
        "Auther= df.Country.value_counts().index\n",
        "values = df.Country.value_counts().values\n",
        "# Pie Chart Top 5\n",
        "plt.figure(figsize = (10,6))\n",
        "#Ploting pie chart by labeling the wedges with their numeric value\n",
        "plt.pie(values[:5], labels=Auther[:5],autopct=\"%1.2f%%\")\n",
        "plt.show()"
      ]
    },
    {
      "cell_type": "markdown",
      "source": [
        "###It can be observed that 77.16% of the ratings is from the Country USA. Now let's check the ratings from each state in USA"
      ],
      "metadata": {
        "id": "edp7CYV_ePzx"
      }
    },
    {
      "cell_type": "code",
      "execution_count": 53,
      "metadata": {
        "id": "vKM01-aHiMxi"
      },
      "outputs": [],
      "source": [
        "#creating dataframe with details of USA\n",
        "df_=df[df['Country']=='usa']"
      ]
    },
    {
      "cell_type": "code",
      "execution_count": 54,
      "metadata": {
        "colab": {
          "base_uri": "https://localhost:8080/",
          "height": 476
        },
        "id": "hOrlTt6jiF6X",
        "outputId": "bec074fe-5a70-4f50-8823-3e085e0738f4"
      },
      "outputs": [
        {
          "output_type": "execute_result",
          "data": {
            "text/plain": [
              "Text(0.5, 1.0, 'No of readers from each Country (Top 10)')"
            ]
          },
          "metadata": {},
          "execution_count": 54
        },
        {
          "output_type": "display_data",
          "data": {
            "image/png": "[encoded data removed]",
            "text/plain": [
              "<Figure size 720x504 with 1 Axes>"
            ]
          },
          "metadata": {
            "needs_background": "light"
          }
        }
      ],
      "source": [
        "#plotting number of ratings from each state in USA\n",
        "plt.figure(figsize=(10,7))\n",
        "sns.countplot(x=\"Country\",order=df_['State'].value_counts().index[0:10],data=df)\n",
        "plt.title(\"No of readers from each Country (Top 10)\")"
      ]
    },
    {
      "cell_type": "markdown",
      "source": [
        "###Findings:\n",
        "\n",
        "\n",
        "\n",
        "\n",
        "* We have already seen that California is the state from which the highest number of ratings are given. Since California is a state in USA, it is obvious that California is the top state in USA on the basis of number of ratings given.\n"
      ],
      "metadata": {
        "id": "pCAfksPoesgc"
      }
    },
    {
      "cell_type": "markdown",
      "source": [
        "###**6. Age distribution**"
      ],
      "metadata": {
        "id": "fm8EEC1FevWn"
      }
    },
    {
      "cell_type": "code",
      "execution_count": 55,
      "metadata": {
        "colab": {
          "base_uri": "https://localhost:8080/",
          "height": 457
        },
        "id": "kAeH2TwNkXxz",
        "outputId": "94baa121-33a5-4037-d7f0-35d988a5c2aa"
      },
      "outputs": [
        {
          "output_type": "display_data",
          "data": {
            "image/png": "[encoded data removed]",
            "text/plain": [
              "<Figure size 720x504 with 1 Axes>"
            ]
          },
          "metadata": {
            "needs_background": "light"
          }
        }
      ],
      "source": [
        "#plotting age distribution\n",
        "plt.figure(figsize=(10,7))\n",
        "df.Age.hist(bins=[10*i for i in range(1, 10)])     \n",
        "plt.title('Age Distribution')\n",
        "plt.xlabel('Age')\n",
        "plt.ylabel('Count')\n",
        "plt.show()"
      ]
    },
    {
      "cell_type": "markdown",
      "source": [
        "###It can be observed that most of the ratings are given by people of age between 30-40 years. Now let us find out the most rated books by people of different age groups- Teenage, Youth, Middle-age and elderly."
      ],
      "metadata": {
        "id": "42GZMa5Pe04L"
      }
    },
    {
      "cell_type": "code",
      "execution_count": 56,
      "metadata": {
        "id": "5rhgl2OujeL5"
      },
      "outputs": [],
      "source": [
        "#creating a subset with required columns\n",
        "df2=df[['Book-Title','Book-Author','Age']]"
      ]
    },
    {
      "cell_type": "code",
      "execution_count": 57,
      "metadata": {
        "id": "15Uwv-dojtjH"
      },
      "outputs": [],
      "source": [
        "#defining the category\n",
        "category=pd.cut(df2['Age'],bins=[10,20,40,60,80],labels=['Teenage','Youth','Middle Age','Elderly'])"
      ]
    },
    {
      "cell_type": "code",
      "execution_count": 58,
      "metadata": {
        "id": "bXoHzquulcoE"
      },
      "outputs": [],
      "source": [
        "#creating a new column of age group\n",
        "df2.insert(3,'Age Group',category)"
      ]
    },
    {
      "cell_type": "code",
      "execution_count": 59,
      "metadata": {
        "colab": {
          "base_uri": "https://localhost:8080/",
          "height": 423
        },
        "id": "VufftX_ylGAo",
        "outputId": "85652cfe-8bfb-4677-c59f-ef87f5caf7d4"
      },
      "outputs": [
        {
          "output_type": "execute_result",
          "data": {
            "text/html": [
              "\n",
              "  <div id=\"df-fcb7d98f-7d19-4870-8d14-c77caaf9e90a\">\n",
              "    <div class=\"colab-df-container\">\n",
              "      <div>\n",
              "<style scoped>\n",
              "    .dataframe tbody tr th:only-of-type {\n",
              "        vertical-align: middle;\n",
              "    }\n",
              "\n",
              "    .dataframe tbody tr th {\n",
              "        vertical-align: top;\n",
              "    }\n",
              "\n",
              "    .dataframe thead th {\n",
              "        text-align: right;\n",
              "    }\n",
              "</style>\n",
              "<table border=\"1\" class=\"dataframe\">\n",
              "  <thead>\n",
              "    <tr style=\"text-align: right;\">\n",
              "      <th></th>\n",
              "      <th>Book-Title</th>\n",
              "      <th>Book-Author</th>\n",
              "      <th>Age</th>\n",
              "      <th>Age Group</th>\n",
              "    </tr>\n",
              "  </thead>\n",
              "  <tbody>\n",
              "    <tr>\n",
              "      <th>1</th>\n",
              "      <td>Clara Callan</td>\n",
              "      <td>Richard Bruce Wright</td>\n",
              "      <td>32</td>\n",
              "      <td>Youth</td>\n",
              "    </tr>\n",
              "    <tr>\n",
              "      <th>9</th>\n",
              "      <td>Where You'll Find Me: And Other Stories</td>\n",
              "      <td>Ann Beattie</td>\n",
              "      <td>32</td>\n",
              "      <td>Youth</td>\n",
              "    </tr>\n",
              "    <tr>\n",
              "      <th>12</th>\n",
              "      <td>The Middle Stories</td>\n",
              "      <td>Sheila Heti</td>\n",
              "      <td>32</td>\n",
              "      <td>Youth</td>\n",
              "    </tr>\n",
              "    <tr>\n",
              "      <th>13</th>\n",
              "      <td>Jane Doe</td>\n",
              "      <td>R. J. Kaiser</td>\n",
              "      <td>32</td>\n",
              "      <td>Youth</td>\n",
              "    </tr>\n",
              "    <tr>\n",
              "      <th>15</th>\n",
              "      <td>The Witchfinder (Amos Walker Mystery Series)</td>\n",
              "      <td>Loren D. Estleman</td>\n",
              "      <td>32</td>\n",
              "      <td>Youth</td>\n",
              "    </tr>\n",
              "    <tr>\n",
              "      <th>...</th>\n",
              "      <td>...</td>\n",
              "      <td>...</td>\n",
              "      <td>...</td>\n",
              "      <td>...</td>\n",
              "    </tr>\n",
              "    <tr>\n",
              "      <th>1017523</th>\n",
              "      <td>Sobre La Utilidad y Los Perjuicios de La Historia</td>\n",
              "      <td>Friedrich Wilhelm Nietzsche</td>\n",
              "      <td>20</td>\n",
              "      <td>Teenage</td>\n",
              "    </tr>\n",
              "    <tr>\n",
              "      <th>1017525</th>\n",
              "      <td>Anthem</td>\n",
              "      <td>Ayn Rand</td>\n",
              "      <td>19</td>\n",
              "      <td>Teenage</td>\n",
              "    </tr>\n",
              "    <tr>\n",
              "      <th>1017526</th>\n",
              "      <td>A Student of Weather</td>\n",
              "      <td>Elizabeth Hay</td>\n",
              "      <td>39</td>\n",
              "      <td>Youth</td>\n",
              "    </tr>\n",
              "    <tr>\n",
              "      <th>1017527</th>\n",
              "      <td>Rimas y leyendas (ClÃ¡sicos Fraile ; 3)</td>\n",
              "      <td>Gustavo Adolfo BÃ©cquer</td>\n",
              "      <td>22</td>\n",
              "      <td>Youth</td>\n",
              "    </tr>\n",
              "    <tr>\n",
              "      <th>1017528</th>\n",
              "      <td>Anglo-American Cataloguing Rules</td>\n",
              "      <td>Michael Gorman</td>\n",
              "      <td>27</td>\n",
              "      <td>Youth</td>\n",
              "    </tr>\n",
              "  </tbody>\n",
              "</table>\n",
              "<p>378257 rows × 4 columns</p>\n",
              "</div>\n",
              "      <button class=\"colab-df-convert\" onclick=\"convertToInteractive('df-fcb7d98f-7d19-4870-8d14-c77caaf9e90a')\"\n",
              "              title=\"Convert this dataframe to an interactive table.\"\n",
              "              style=\"display:none;\">\n",
              "        \n",
              "  <svg xmlns=\"http://www.w3.org/2000/svg\" height=\"24px\"viewBox=\"0 0 24 24\"\n",
              "       width=\"24px\">\n",
              "    <path d=\"M0 0h24v24H0V0z\" fill=\"none\"/>\n",
              "    <path d=\"M18.56 5.44l.94 2.06.94-2.06 2.06-.94-2.06-.94-.94-2.06-.94 2.06-2.06.94zm-11 1L8.5 8.5l.94-2.06 2.06-.94-2.06-.94L8.5 2.5l-.94 2.06-2.06.94zm10 10l.94 2.06.94-2.06 2.06-.94-2.06-.94-.94-2.06-.94 2.06-2.06.94z\"/><path d=\"M17.41 7.96l-1.37-1.37c-.4-.4-.92-.59-1.43-.59-.52 0-1.04.2-1.43.59L10.3 9.45l-7.72 7.72c-.78.78-.78 2.05 0 2.83L4 21.41c.39.39.9.59 1.41.59.51 0 1.02-.2 1.41-.59l7.78-7.78 2.81-2.81c.8-.78.8-2.07 0-2.86zM5.41 20L4 18.59l7.72-7.72 1.47 1.35L5.41 20z\"/>\n",
              "  </svg>\n",
              "      </button>\n",
              "      \n",
              "  <style>\n",
              "    .colab-df-container {\n",
              "      display:flex;\n",
              "      flex-wrap:wrap;\n",
              "      gap: 12px;\n",
              "    }\n",
              "\n",
              "    .colab-df-convert {\n",
              "      background-color: #E8F0FE;\n",
              "      border: none;\n",
              "      border-radius: 50%;\n",
              "      cursor: pointer;\n",
              "      display: none;\n",
              "      fill: #1967D2;\n",
              "      height: 32px;\n",
              "      padding: 0 0 0 0;\n",
              "      width: 32px;\n",
              "    }\n",
              "\n",
              "    .colab-df-convert:hover {\n",
              "      background-color: #E2EBFA;\n",
              "      box-shadow: 0px 1px 2px rgba(60, 64, 67, 0.3), 0px 1px 3px 1px rgba(60, 64, 67, 0.15);\n",
              "      fill: #174EA6;\n",
              "    }\n",
              "\n",
              "    [theme=dark] .colab-df-convert {\n",
              "      background-color: #3B4455;\n",
              "      fill: #D2E3FC;\n",
              "    }\n",
              "\n",
              "    [theme=dark] .colab-df-convert:hover {\n",
              "      background-color: #434B5C;\n",
              "      box-shadow: 0px 1px 3px 1px rgba(0, 0, 0, 0.15);\n",
              "      filter: drop-shadow(0px 1px 2px rgba(0, 0, 0, 0.3));\n",
              "      fill: #FFFFFF;\n",
              "    }\n",
              "  </style>\n",
              "\n",
              "      <script>\n",
              "        const buttonEl =\n",
              "          document.querySelector('#df-fcb7d98f-7d19-4870-8d14-c77caaf9e90a button.colab-df-convert');\n",
              "        buttonEl.style.display =\n",
              "          google.colab.kernel.accessAllowed ? 'block' : 'none';\n",
              "\n",
              "        async function convertToInteractive(key) {\n",
              "          const element = document.querySelector('#df-fcb7d98f-7d19-4870-8d14-c77caaf9e90a');\n",
              "          const dataTable =\n",
              "            await google.colab.kernel.invokeFunction('convertToInteractive',\n",
              "                                                     [key], {});\n",
              "          if (!dataTable) return;\n",
              "\n",
              "          const docLinkHtml = 'Like what you see? Visit the ' +\n",
              "            '<a target=\"_blank\" href=https://colab.research.google.com/notebooks/data_table.ipynb>data table notebook</a>'\n",
              "            + ' to learn more about interactive tables.';\n",
              "          element.innerHTML = '';\n",
              "          dataTable['output_type'] = 'display_data';\n",
              "          await google.colab.output.renderOutput(dataTable, element);\n",
              "          const docLink = document.createElement('div');\n",
              "          docLink.innerHTML = docLinkHtml;\n",
              "          element.appendChild(docLink);\n",
              "        }\n",
              "      </script>\n",
              "    </div>\n",
              "  </div>\n",
              "  "
            ],
            "text/plain": [
              "                                                Book-Title  \\\n",
              "1        Clara Callan                                        \n",
              "9        Where You'll Find Me: And Other Stories             \n",
              "12       The Middle Stories                                  \n",
              "13       Jane Doe                                            \n",
              "15       The Witchfinder (Amos Walker Mystery Series)        \n",
              "...                                               ...        \n",
              "1017523  Sobre La Utilidad y Los Perjuicios de La Historia   \n",
              "1017525  Anthem                                              \n",
              "1017526  A Student of Weather                                \n",
              "1017527  Rimas y leyendas (ClÃ¡sicos Fraile ; 3)             \n",
              "1017528  Anglo-American Cataloguing Rules                    \n",
              "\n",
              "                         Book-Author  Age Age Group  \n",
              "1        Richard Bruce Wright         32   Youth     \n",
              "9        Ann Beattie                  32   Youth     \n",
              "12       Sheila Heti                  32   Youth     \n",
              "13       R. J. Kaiser                 32   Youth     \n",
              "15       Loren D. Estleman            32   Youth     \n",
              "...                    ...            ..     ...     \n",
              "1017523  Friedrich Wilhelm Nietzsche  20   Teenage   \n",
              "1017525  Ayn Rand                     19   Teenage   \n",
              "1017526  Elizabeth Hay                39   Youth     \n",
              "1017527  Gustavo Adolfo BÃ©cquer      22   Youth     \n",
              "1017528  Michael Gorman               27   Youth     \n",
              "\n",
              "[378257 rows x 4 columns]"
            ]
          },
          "metadata": {},
          "execution_count": 59
        }
      ],
      "source": [
        "#checking\n",
        "df2"
      ]
    },
    {
      "cell_type": "code",
      "execution_count": 60,
      "metadata": {
        "id": "a-IiBLOYp2o2"
      },
      "outputs": [],
      "source": [
        "#creating separate dataframes with details of each group\n",
        "Youth_df=df2[df2['Age Group']=='Youth']\n",
        "Teenage_df=df2[df2['Age Group']=='Teenage']\n",
        "Middle_age_df=df2[df2['Age Group']=='Middle Age']\n",
        "Elderly_df=df2[df2['Age Group']=='Elderly']"
      ]
    },
    {
      "cell_type": "code",
      "execution_count": 61,
      "metadata": {
        "id": "CXx0N1QYrdff"
      },
      "outputs": [],
      "source": [
        "#creating function to plot most rated books by each age group\n",
        "def books_by_age_group(category_df,title):\n",
        "  plt.figure(figsize=(10,7))\n",
        "  sns.countplot(x=\"Book-Title\",order=category_df['Book-Title'].value_counts().index[0:10],data=category_df).tick_params(axis='x', rotation=90)\n",
        "  plt.title(title)"
      ]
    },
    {
      "cell_type": "code",
      "execution_count": 62,
      "metadata": {
        "colab": {
          "base_uri": "https://localhost:8080/",
          "height": 696
        },
        "id": "JWnIk6-MtlRr",
        "outputId": "c1744311-ef7b-4c2e-e82f-407c784addab"
      },
      "outputs": [
        {
          "output_type": "display_data",
          "data": {
            "image/png": "[encoded data removed]",
            "text/plain": [
              "<Figure size 720x504 with 1 Axes>"
            ]
          },
          "metadata": {
            "needs_background": "light"
          }
        }
      ],
      "source": [
        "#most rated books by youth\n",
        "books_by_age_group(Youth_df,'Most rated books by youth')"
      ]
    },
    {
      "cell_type": "code",
      "execution_count": 63,
      "metadata": {
        "colab": {
          "base_uri": "https://localhost:8080/",
          "height": 768
        },
        "id": "5LA_gSdEzJ7h",
        "outputId": "0c04d192-dfa1-4f9b-dd0a-404ed8ad2e0d"
      },
      "outputs": [
        {
          "output_type": "display_data",
          "data": {
            "image/png": "[encoded data removed]",
            "text/plain": [
              "<Figure size 720x504 with 1 Axes>"
            ]
          },
          "metadata": {
            "needs_background": "light"
          }
        }
      ],
      "source": [
        "#most rated books by Teenage\n",
        "books_by_age_group(Teenage_df,'Most rated books by Teenage')"
      ]
    },
    {
      "cell_type": "code",
      "execution_count": 64,
      "metadata": {
        "colab": {
          "base_uri": "https://localhost:8080/",
          "height": 627
        },
        "id": "3-nXtt4zzKcj",
        "outputId": "112a1bb3-e5f0-4ff4-d6ad-f6dc646073fc"
      },
      "outputs": [
        {
          "output_type": "display_data",
          "data": {
            "image/png": "[encoded data removed]",
            "text/plain": [
              "<Figure size 720x504 with 1 Axes>"
            ]
          },
          "metadata": {
            "needs_background": "light"
          }
        }
      ],
      "source": [
        "#most rated books by Middle-aged\n",
        "books_by_age_group(Middle_age_df,'Most rated books by Middle-Age')"
      ]
    },
    {
      "cell_type": "code",
      "source": [
        "#most rated books by Elderly\n",
        "books_by_age_group(Elderly_df,'Most rated books by Elderly')"
      ],
      "metadata": {
        "id": "kucK5w3bfV7L",
        "colab": {
          "base_uri": "https://localhost:8080/",
          "height": 610
        },
        "outputId": "3696d072-0458-4cdd-d80f-eab4bdf7bd86"
      },
      "execution_count": 65,
      "outputs": [
        {
          "output_type": "display_data",
          "data": {
            "image/png": "[encoded data removed]",
            "text/plain": [
              "<Figure size 720x504 with 1 Axes>"
            ]
          },
          "metadata": {
            "needs_background": "light"
          }
        }
      ]
    },
    {
      "cell_type": "markdown",
      "source": [
        "###Findings:\n",
        "\n",
        "\n",
        "\n",
        "\n",
        "* 'Wild animus' is one of the most rated books irrespective of the gender."
      ],
      "metadata": {
        "id": "QCIn25vSWb-y"
      }
    },
    {
      "cell_type": "markdown",
      "source": [
        "#**Recommendation System**"
      ],
      "metadata": {
        "id": "lv4L0s2hIjdF"
      }
    },
    {
      "cell_type": "markdown",
      "source": [
        "###Now let's build recommendation systems to recommend books to users based on their past preference."
      ],
      "metadata": {
        "id": "yx00VjF7Iqq7"
      }
    },
    {
      "cell_type": "markdown",
      "source": [
        "##**Popularity Based Recommendation System**"
      ],
      "metadata": {
        "id": "aCUnCsTFIniX"
      }
    },
    {
      "cell_type": "markdown",
      "source": [
        "###It is a type of recommendation system which works on the principle of popularity and or anything which is in trend."
      ],
      "metadata": {
        "id": "Qh33v2OmIuQ7"
      }
    },
    {
      "cell_type": "code",
      "execution_count": 66,
      "metadata": {
        "colab": {
          "base_uri": "https://localhost:8080/",
          "height": 381
        },
        "id": "0XQwx5Am_7X-",
        "outputId": "c363d8f8-7d1e-4130-c5b7-3f26e4da96e1"
      },
      "outputs": [
        {
          "output_type": "stream",
          "name": "stdout",
          "text": [
            "The Top 10 Books Recommendation : \n"
          ]
        },
        {
          "output_type": "execute_result",
          "data": {
            "text/html": [
              "\n",
              "  <div id=\"df-063d9c2f-f6ae-4339-8e33-2667c22fb987\">\n",
              "    <div class=\"colab-df-container\">\n",
              "      <div>\n",
              "<style scoped>\n",
              "    .dataframe tbody tr th:only-of-type {\n",
              "        vertical-align: middle;\n",
              "    }\n",
              "\n",
              "    .dataframe tbody tr th {\n",
              "        vertical-align: top;\n",
              "    }\n",
              "\n",
              "    .dataframe thead th {\n",
              "        text-align: right;\n",
              "    }\n",
              "</style>\n",
              "<table border=\"1\" class=\"dataframe\">\n",
              "  <thead>\n",
              "    <tr style=\"text-align: right;\">\n",
              "      <th></th>\n",
              "      <th>Book-Title</th>\n",
              "      <th>Number Of Ratings</th>\n",
              "    </tr>\n",
              "  </thead>\n",
              "  <tbody>\n",
              "    <tr>\n",
              "      <th>0</th>\n",
              "      <td>The Lovely Bones: A Novel</td>\n",
              "      <td>707</td>\n",
              "    </tr>\n",
              "    <tr>\n",
              "      <th>1</th>\n",
              "      <td>Wild Animus</td>\n",
              "      <td>581</td>\n",
              "    </tr>\n",
              "    <tr>\n",
              "      <th>2</th>\n",
              "      <td>The Da Vinci Code</td>\n",
              "      <td>495</td>\n",
              "    </tr>\n",
              "    <tr>\n",
              "      <th>3</th>\n",
              "      <td>The Secret Life of Bees</td>\n",
              "      <td>413</td>\n",
              "    </tr>\n",
              "    <tr>\n",
              "      <th>4</th>\n",
              "      <td>The Nanny Diaries: A Novel</td>\n",
              "      <td>393</td>\n",
              "    </tr>\n",
              "    <tr>\n",
              "      <th>5</th>\n",
              "      <td>The Red Tent (Bestselling Backlist)</td>\n",
              "      <td>383</td>\n",
              "    </tr>\n",
              "    <tr>\n",
              "      <th>6</th>\n",
              "      <td>Bridget Jones's Diary</td>\n",
              "      <td>380</td>\n",
              "    </tr>\n",
              "    <tr>\n",
              "      <th>7</th>\n",
              "      <td>A Painted House</td>\n",
              "      <td>366</td>\n",
              "    </tr>\n",
              "    <tr>\n",
              "      <th>8</th>\n",
              "      <td>Life of Pi</td>\n",
              "      <td>337</td>\n",
              "    </tr>\n",
              "    <tr>\n",
              "      <th>9</th>\n",
              "      <td>Harry Potter and the Chamber of Secrets (Book 2)</td>\n",
              "      <td>326</td>\n",
              "    </tr>\n",
              "  </tbody>\n",
              "</table>\n",
              "</div>\n",
              "      <button class=\"colab-df-convert\" onclick=\"convertToInteractive('df-063d9c2f-f6ae-4339-8e33-2667c22fb987')\"\n",
              "              title=\"Convert this dataframe to an interactive table.\"\n",
              "              style=\"display:none;\">\n",
              "        \n",
              "  <svg xmlns=\"http://www.w3.org/2000/svg\" height=\"24px\"viewBox=\"0 0 24 24\"\n",
              "       width=\"24px\">\n",
              "    <path d=\"M0 0h24v24H0V0z\" fill=\"none\"/>\n",
              "    <path d=\"M18.56 5.44l.94 2.06.94-2.06 2.06-.94-2.06-.94-.94-2.06-.94 2.06-2.06.94zm-11 1L8.5 8.5l.94-2.06 2.06-.94-2.06-.94L8.5 2.5l-.94 2.06-2.06.94zm10 10l.94 2.06.94-2.06 2.06-.94-2.06-.94-.94-2.06-.94 2.06-2.06.94z\"/><path d=\"M17.41 7.96l-1.37-1.37c-.4-.4-.92-.59-1.43-.59-.52 0-1.04.2-1.43.59L10.3 9.45l-7.72 7.72c-.78.78-.78 2.05 0 2.83L4 21.41c.39.39.9.59 1.41.59.51 0 1.02-.2 1.41-.59l7.78-7.78 2.81-2.81c.8-.78.8-2.07 0-2.86zM5.41 20L4 18.59l7.72-7.72 1.47 1.35L5.41 20z\"/>\n",
              "  </svg>\n",
              "      </button>\n",
              "      \n",
              "  <style>\n",
              "    .colab-df-container {\n",
              "      display:flex;\n",
              "      flex-wrap:wrap;\n",
              "      gap: 12px;\n",
              "    }\n",
              "\n",
              "    .colab-df-convert {\n",
              "      background-color: #E8F0FE;\n",
              "      border: none;\n",
              "      border-radius: 50%;\n",
              "      cursor: pointer;\n",
              "      display: none;\n",
              "      fill: #1967D2;\n",
              "      height: 32px;\n",
              "      padding: 0 0 0 0;\n",
              "      width: 32px;\n",
              "    }\n",
              "\n",
              "    .colab-df-convert:hover {\n",
              "      background-color: #E2EBFA;\n",
              "      box-shadow: 0px 1px 2px rgba(60, 64, 67, 0.3), 0px 1px 3px 1px rgba(60, 64, 67, 0.15);\n",
              "      fill: #174EA6;\n",
              "    }\n",
              "\n",
              "    [theme=dark] .colab-df-convert {\n",
              "      background-color: #3B4455;\n",
              "      fill: #D2E3FC;\n",
              "    }\n",
              "\n",
              "    [theme=dark] .colab-df-convert:hover {\n",
              "      background-color: #434B5C;\n",
              "      box-shadow: 0px 1px 3px 1px rgba(0, 0, 0, 0.15);\n",
              "      filter: drop-shadow(0px 1px 2px rgba(0, 0, 0, 0.3));\n",
              "      fill: #FFFFFF;\n",
              "    }\n",
              "  </style>\n",
              "\n",
              "      <script>\n",
              "        const buttonEl =\n",
              "          document.querySelector('#df-063d9c2f-f6ae-4339-8e33-2667c22fb987 button.colab-df-convert');\n",
              "        buttonEl.style.display =\n",
              "          google.colab.kernel.accessAllowed ? 'block' : 'none';\n",
              "\n",
              "        async function convertToInteractive(key) {\n",
              "          const element = document.querySelector('#df-063d9c2f-f6ae-4339-8e33-2667c22fb987');\n",
              "          const dataTable =\n",
              "            await google.colab.kernel.invokeFunction('convertToInteractive',\n",
              "                                                     [key], {});\n",
              "          if (!dataTable) return;\n",
              "\n",
              "          const docLinkHtml = 'Like what you see? Visit the ' +\n",
              "            '<a target=\"_blank\" href=https://colab.research.google.com/notebooks/data_table.ipynb>data table notebook</a>'\n",
              "            + ' to learn more about interactive tables.';\n",
              "          element.innerHTML = '';\n",
              "          dataTable['output_type'] = 'display_data';\n",
              "          await google.colab.output.renderOutput(dataTable, element);\n",
              "          const docLink = document.createElement('div');\n",
              "          docLink.innerHTML = docLinkHtml;\n",
              "          element.appendChild(docLink);\n",
              "        }\n",
              "      </script>\n",
              "    </div>\n",
              "  </div>\n",
              "  "
            ],
            "text/plain": [
              "                                         Book-Title  Number Of Ratings\n",
              "0  The Lovely Bones: A Novel                         707              \n",
              "1  Wild Animus                                       581              \n",
              "2  The Da Vinci Code                                 495              \n",
              "3  The Secret Life of Bees                           413              \n",
              "4  The Nanny Diaries: A Novel                        393              \n",
              "5  The Red Tent (Bestselling Backlist)               383              \n",
              "6  Bridget Jones's Diary                             380              \n",
              "7  A Painted House                                   366              \n",
              "8  Life of Pi                                        337              \n",
              "9  Harry Potter and the Chamber of Secrets (Book 2)  326              "
            ]
          },
          "metadata": {},
          "execution_count": 66
        }
      ],
      "source": [
        "# Top book based on rating\n",
        "Top_Books= pd.DataFrame(df.groupby('Book-Title')['Book-Rating'].count()\n",
        "                         .sort_values(ascending=False).head(10))\n",
        "\n",
        "print('The Top 10 Books Recommendation : ')\n",
        "#renaming columns\n",
        "Top_Books.rename(columns={\"Book-Rating\":\"Number Of Ratings\"},inplace=True)\n",
        "Top_Books.reset_index(inplace=True)\n",
        "Top_Books.head(10)"
      ]
    },
    {
      "cell_type": "markdown",
      "source": [
        "###These are the popular books based on the number of ratings received."
      ],
      "metadata": {
        "id": "KBRZdYB4I12p"
      }
    },
    {
      "cell_type": "markdown",
      "source": [
        "##**Simple Recommendation System**"
      ],
      "metadata": {
        "id": "FO6KrrmJI8Ah"
      }
    },
    {
      "cell_type": "markdown",
      "source": [
        "###This method is based on the concept of weighted rating."
      ],
      "metadata": {
        "id": "3BJ2n8QlI5fh"
      }
    },
    {
      "cell_type": "code",
      "execution_count": 67,
      "metadata": {
        "colab": {
          "base_uri": "https://localhost:8080/",
          "height": 442
        },
        "id": "tDyXw6bSdSmA",
        "outputId": "d4120875-a058-4694-9bac-d2aec28be07d"
      },
      "outputs": [
        {
          "output_type": "stream",
          "name": "stdout",
          "text": [
            "# of users: 147013\n"
          ]
        },
        {
          "output_type": "execute_result",
          "data": {
            "text/html": [
              "\n",
              "  <div id=\"df-37fc4b8e-77a8-4097-b860-5fd316283201\">\n",
              "    <div class=\"colab-df-container\">\n",
              "      <div>\n",
              "<style scoped>\n",
              "    .dataframe tbody tr th:only-of-type {\n",
              "        vertical-align: middle;\n",
              "    }\n",
              "\n",
              "    .dataframe tbody tr th {\n",
              "        vertical-align: top;\n",
              "    }\n",
              "\n",
              "    .dataframe thead th {\n",
              "        text-align: right;\n",
              "    }\n",
              "</style>\n",
              "<table border=\"1\" class=\"dataframe\">\n",
              "  <thead>\n",
              "    <tr style=\"text-align: right;\">\n",
              "      <th></th>\n",
              "      <th>ISBN</th>\n",
              "      <th>Book-Title</th>\n",
              "      <th>Book-Author</th>\n",
              "      <th>Average Rating</th>\n",
              "      <th>Number of Votes</th>\n",
              "    </tr>\n",
              "  </thead>\n",
              "  <tbody>\n",
              "    <tr>\n",
              "      <th>21565</th>\n",
              "      <td>0316666343</td>\n",
              "      <td>The Lovely Bones: A Novel</td>\n",
              "      <td>Alice Sebold</td>\n",
              "      <td>8.185290</td>\n",
              "      <td>707</td>\n",
              "    </tr>\n",
              "    <tr>\n",
              "      <th>115998</th>\n",
              "      <td>0971880107</td>\n",
              "      <td>Wild Animus</td>\n",
              "      <td>Rich Shapero</td>\n",
              "      <td>4.390706</td>\n",
              "      <td>581</td>\n",
              "    </tr>\n",
              "    <tr>\n",
              "      <th>38210</th>\n",
              "      <td>0385504209</td>\n",
              "      <td>The Da Vinci Code</td>\n",
              "      <td>Dan Brown</td>\n",
              "      <td>8.426230</td>\n",
              "      <td>488</td>\n",
              "    </tr>\n",
              "    <tr>\n",
              "      <th>17692</th>\n",
              "      <td>0312195516</td>\n",
              "      <td>The Red Tent (Bestselling Backlist)</td>\n",
              "      <td>Anita Diamant</td>\n",
              "      <td>8.182768</td>\n",
              "      <td>383</td>\n",
              "    </tr>\n",
              "    <tr>\n",
              "      <th>4042</th>\n",
              "      <td>0060928336</td>\n",
              "      <td>Divine Secrets of the Ya-Ya Sisterhood: A Novel</td>\n",
              "      <td>Rebecca Wells</td>\n",
              "      <td>7.887500</td>\n",
              "      <td>320</td>\n",
              "    </tr>\n",
              "    <tr>\n",
              "      <th>...</th>\n",
              "      <td>...</td>\n",
              "      <td>...</td>\n",
              "      <td>...</td>\n",
              "      <td>...</td>\n",
              "      <td>...</td>\n",
              "    </tr>\n",
              "    <tr>\n",
              "      <th>61929</th>\n",
              "      <td>0552993360</td>\n",
              "      <td>To Be Young: Some Chapters of Autobiography</td>\n",
              "      <td>Mary Lutyens</td>\n",
              "      <td>3.000000</td>\n",
              "      <td>1</td>\n",
              "    </tr>\n",
              "    <tr>\n",
              "      <th>61928</th>\n",
              "      <td>0552993255</td>\n",
              "      <td>Quiet War of Rebecca Sheldon</td>\n",
              "      <td>Kathleen Rowntree</td>\n",
              "      <td>7.000000</td>\n",
              "      <td>1</td>\n",
              "    </tr>\n",
              "    <tr>\n",
              "      <th>61927</th>\n",
              "      <td>0552991872</td>\n",
              "      <td>The Right True End</td>\n",
              "      <td>Stan Barstow</td>\n",
              "      <td>9.000000</td>\n",
              "      <td>1</td>\n",
              "    </tr>\n",
              "    <tr>\n",
              "      <th>61926</th>\n",
              "      <td>0552990566</td>\n",
              "      <td>Brother of the More Famous Jack</td>\n",
              "      <td>Barbara Trapido</td>\n",
              "      <td>7.000000</td>\n",
              "      <td>1</td>\n",
              "    </tr>\n",
              "    <tr>\n",
              "      <th>147012</th>\n",
              "      <td>B000234N3A</td>\n",
              "      <td>Fraud</td>\n",
              "      <td>David Rakoff</td>\n",
              "      <td>9.000000</td>\n",
              "      <td>1</td>\n",
              "    </tr>\n",
              "  </tbody>\n",
              "</table>\n",
              "<p>147013 rows × 5 columns</p>\n",
              "</div>\n",
              "      <button class=\"colab-df-convert\" onclick=\"convertToInteractive('df-37fc4b8e-77a8-4097-b860-5fd316283201')\"\n",
              "              title=\"Convert this dataframe to an interactive table.\"\n",
              "              style=\"display:none;\">\n",
              "        \n",
              "  <svg xmlns=\"http://www.w3.org/2000/svg\" height=\"24px\"viewBox=\"0 0 24 24\"\n",
              "       width=\"24px\">\n",
              "    <path d=\"M0 0h24v24H0V0z\" fill=\"none\"/>\n",
              "    <path d=\"M18.56 5.44l.94 2.06.94-2.06 2.06-.94-2.06-.94-.94-2.06-.94 2.06-2.06.94zm-11 1L8.5 8.5l.94-2.06 2.06-.94-2.06-.94L8.5 2.5l-.94 2.06-2.06.94zm10 10l.94 2.06.94-2.06 2.06-.94-2.06-.94-.94-2.06-.94 2.06-2.06.94z\"/><path d=\"M17.41 7.96l-1.37-1.37c-.4-.4-.92-.59-1.43-.59-.52 0-1.04.2-1.43.59L10.3 9.45l-7.72 7.72c-.78.78-.78 2.05 0 2.83L4 21.41c.39.39.9.59 1.41.59.51 0 1.02-.2 1.41-.59l7.78-7.78 2.81-2.81c.8-.78.8-2.07 0-2.86zM5.41 20L4 18.59l7.72-7.72 1.47 1.35L5.41 20z\"/>\n",
              "  </svg>\n",
              "      </button>\n",
              "      \n",
              "  <style>\n",
              "    .colab-df-container {\n",
              "      display:flex;\n",
              "      flex-wrap:wrap;\n",
              "      gap: 12px;\n",
              "    }\n",
              "\n",
              "    .colab-df-convert {\n",
              "      background-color: #E8F0FE;\n",
              "      border: none;\n",
              "      border-radius: 50%;\n",
              "      cursor: pointer;\n",
              "      display: none;\n",
              "      fill: #1967D2;\n",
              "      height: 32px;\n",
              "      padding: 0 0 0 0;\n",
              "      width: 32px;\n",
              "    }\n",
              "\n",
              "    .colab-df-convert:hover {\n",
              "      background-color: #E2EBFA;\n",
              "      box-shadow: 0px 1px 2px rgba(60, 64, 67, 0.3), 0px 1px 3px 1px rgba(60, 64, 67, 0.15);\n",
              "      fill: #174EA6;\n",
              "    }\n",
              "\n",
              "    [theme=dark] .colab-df-convert {\n",
              "      background-color: #3B4455;\n",
              "      fill: #D2E3FC;\n",
              "    }\n",
              "\n",
              "    [theme=dark] .colab-df-convert:hover {\n",
              "      background-color: #434B5C;\n",
              "      box-shadow: 0px 1px 3px 1px rgba(0, 0, 0, 0.15);\n",
              "      filter: drop-shadow(0px 1px 2px rgba(0, 0, 0, 0.3));\n",
              "      fill: #FFFFFF;\n",
              "    }\n",
              "  </style>\n",
              "\n",
              "      <script>\n",
              "        const buttonEl =\n",
              "          document.querySelector('#df-37fc4b8e-77a8-4097-b860-5fd316283201 button.colab-df-convert');\n",
              "        buttonEl.style.display =\n",
              "          google.colab.kernel.accessAllowed ? 'block' : 'none';\n",
              "\n",
              "        async function convertToInteractive(key) {\n",
              "          const element = document.querySelector('#df-37fc4b8e-77a8-4097-b860-5fd316283201');\n",
              "          const dataTable =\n",
              "            await google.colab.kernel.invokeFunction('convertToInteractive',\n",
              "                                                     [key], {});\n",
              "          if (!dataTable) return;\n",
              "\n",
              "          const docLinkHtml = 'Like what you see? Visit the ' +\n",
              "            '<a target=\"_blank\" href=https://colab.research.google.com/notebooks/data_table.ipynb>data table notebook</a>'\n",
              "            + ' to learn more about interactive tables.';\n",
              "          element.innerHTML = '';\n",
              "          dataTable['output_type'] = 'display_data';\n",
              "          await google.colab.output.renderOutput(dataTable, element);\n",
              "          const docLink = document.createElement('div');\n",
              "          docLink.innerHTML = docLinkHtml;\n",
              "          element.appendChild(docLink);\n",
              "        }\n",
              "      </script>\n",
              "    </div>\n",
              "  </div>\n",
              "  "
            ],
            "text/plain": [
              "              ISBN                                       Book-Title  \\\n",
              "21565   0316666343  The Lovely Bones: A Novel                         \n",
              "115998  0971880107  Wild Animus                                       \n",
              "38210   0385504209  The Da Vinci Code                                 \n",
              "17692   0312195516  The Red Tent (Bestselling Backlist)               \n",
              "4042    0060928336  Divine Secrets of the Ya-Ya Sisterhood: A Novel   \n",
              "...            ...                                              ...   \n",
              "61929   0552993360  To Be Young: Some Chapters of Autobiography       \n",
              "61928   0552993255  Quiet War of Rebecca Sheldon                      \n",
              "61927   0552991872  The Right True End                                \n",
              "61926   0552990566  Brother of the More Famous Jack                   \n",
              "147012  B000234N3A  Fraud                                             \n",
              "\n",
              "              Book-Author  Average Rating  Number of Votes  \n",
              "21565   Alice Sebold       8.185290        707              \n",
              "115998  Rich Shapero       4.390706        581              \n",
              "38210   Dan Brown          8.426230        488              \n",
              "17692   Anita Diamant      8.182768        383              \n",
              "4042    Rebecca Wells      7.887500        320              \n",
              "...               ...           ...        ...              \n",
              "61929   Mary Lutyens       3.000000        1                \n",
              "61928   Kathleen Rowntree  7.000000        1                \n",
              "61927   Stan Barstow       9.000000        1                \n",
              "61926   Barbara Trapido    7.000000        1                \n",
              "147012  David Rakoff       9.000000        1                \n",
              "\n",
              "[147013 rows x 5 columns]"
            ]
          },
          "metadata": {},
          "execution_count": 67
        }
      ],
      "source": [
        "#creating dataframe with required columns\n",
        "df1=df[[\"ISBN\",'Book-Author','Book-Title','Book-Rating']]\n",
        "#creating dataframe with vote average and number of ratings \n",
        "votes_df= df1.groupby([\"ISBN\",'Book-Title','Book-Author']).agg({'Book-Rating':\"mean\",'Book-Title':\"count\"})\n",
        "#lenghth of votes_df\n",
        "print('# of users: %d' % len(votes_df))\n",
        "#renaming columns\n",
        "votes_df.rename(columns={\"Book-Rating\":\"Average Rating\", \"Book-Title\":\"Number of Votes\"},inplace=True)\n",
        "votes_df.reset_index(inplace=True)\n",
        "#sorting values in descending order\n",
        "votes_df.sort_values(by=\"Number of Votes\",ascending=False)"
      ]
    },
    {
      "cell_type": "code",
      "execution_count": 68,
      "metadata": {
        "colab": {
          "base_uri": "https://localhost:8080/"
        },
        "id": "WvERrEAXwXYL",
        "outputId": "62ce445c-5a59-4a3d-b31a-89ecda9ced1b"
      },
      "outputs": [
        {
          "output_type": "stream",
          "name": "stdout",
          "text": [
            "C: 7.528032305000495\n",
            "m: 4.0\n"
          ]
        },
        {
          "output_type": "execute_result",
          "data": {
            "text/plain": [
              "(18395, 5)"
            ]
          },
          "metadata": {},
          "execution_count": 68
        }
      ],
      "source": [
        "# Calculate mean of vote average column\n",
        "C = votes_df['Average Rating'].mean()\n",
        "print(\"C:\",C)\n",
        "# Calculate the minimum number of votes required to be in the chart, m\n",
        "m = votes_df['Number of Votes'].quantile(0.90)\n",
        "print(\"m:\",m)\n",
        "# Filter out all qualified books into a new DataFrame\n",
        "weighted_rating_df = votes_df.copy().loc[votes_df['Number of Votes'] >= m]\n",
        "weighted_rating_df.shape"
      ]
    },
    {
      "cell_type": "code",
      "execution_count": 69,
      "metadata": {
        "id": "0Clj54dqxSG3"
      },
      "outputs": [],
      "source": [
        "# Function that computes the weighted rating of each book\n",
        "def weighted_rating(votes_df, m=m, C=C):\n",
        "    v = votes_df['Number of Votes']\n",
        "    R = votes_df['Average Rating']\n",
        "    #Calculation of weighted average\n",
        "    return (v/(v+m) * R) + (m/(m+v) * C)\n",
        "\n",
        "# Define a new feature 'score' and calculate its value with weighted_rating()\n",
        "weighted_rating_df['score'] = weighted_rating_df.apply(weighted_rating, axis=1)"
      ]
    },
    {
      "cell_type": "code",
      "execution_count": 70,
      "metadata": {
        "colab": {
          "base_uri": "https://localhost:8080/",
          "height": 363
        },
        "id": "moxCVpX5xrau",
        "outputId": "5a8fa873-9d5a-4d8c-fc16-38ba4d6d6404"
      },
      "outputs": [
        {
          "output_type": "execute_result",
          "data": {
            "text/html": [
              "\n",
              "  <div id=\"df-4d7f73cd-bc6e-43e3-8574-131675db046d\">\n",
              "    <div class=\"colab-df-container\">\n",
              "      <div>\n",
              "<style scoped>\n",
              "    .dataframe tbody tr th:only-of-type {\n",
              "        vertical-align: middle;\n",
              "    }\n",
              "\n",
              "    .dataframe tbody tr th {\n",
              "        vertical-align: top;\n",
              "    }\n",
              "\n",
              "    .dataframe thead th {\n",
              "        text-align: right;\n",
              "    }\n",
              "</style>\n",
              "<table border=\"1\" class=\"dataframe\">\n",
              "  <thead>\n",
              "    <tr style=\"text-align: right;\">\n",
              "      <th></th>\n",
              "      <th>ISBN</th>\n",
              "      <th>Book-Title</th>\n",
              "      <th>Book-Author</th>\n",
              "      <th>Average Rating</th>\n",
              "      <th>Number of Votes</th>\n",
              "      <th>score</th>\n",
              "    </tr>\n",
              "  </thead>\n",
              "  <tbody>\n",
              "    <tr>\n",
              "      <th>45823</th>\n",
              "      <td>0439425220</td>\n",
              "      <td>Harry Potter and the Chamber of Secrets Postcard Book</td>\n",
              "      <td>J. K. Rowling</td>\n",
              "      <td>9.869565</td>\n",
              "      <td>23</td>\n",
              "      <td>9.522671</td>\n",
              "    </tr>\n",
              "    <tr>\n",
              "      <th>70304</th>\n",
              "      <td>0618002235</td>\n",
              "      <td>The Two Towers (The Lord of the Rings, Part 2)</td>\n",
              "      <td>J. R. R. Tolkien</td>\n",
              "      <td>9.720000</td>\n",
              "      <td>25</td>\n",
              "      <td>9.417660</td>\n",
              "    </tr>\n",
              "    <tr>\n",
              "      <th>2638</th>\n",
              "      <td>0060256656</td>\n",
              "      <td>The Giving Tree</td>\n",
              "      <td>Shel Silverstein</td>\n",
              "      <td>9.750000</td>\n",
              "      <td>20</td>\n",
              "      <td>9.379672</td>\n",
              "    </tr>\n",
              "    <tr>\n",
              "      <th>102335</th>\n",
              "      <td>0836213319</td>\n",
              "      <td>Dilbert: A Book of Postcards</td>\n",
              "      <td>Scott Adams</td>\n",
              "      <td>9.923077</td>\n",
              "      <td>13</td>\n",
              "      <td>9.359537</td>\n",
              "    </tr>\n",
              "    <tr>\n",
              "      <th>131090</th>\n",
              "      <td>1888054557</td>\n",
              "      <td>Postmarked Yesteryear: 30 Rare Holiday Postcards</td>\n",
              "      <td>Pamela E. Apkarian-Russell</td>\n",
              "      <td>10.000000</td>\n",
              "      <td>11</td>\n",
              "      <td>9.340809</td>\n",
              "    </tr>\n",
              "    <tr>\n",
              "      <th>23973</th>\n",
              "      <td>0345339738</td>\n",
              "      <td>The Return of the King (The Lord of the Rings, Part 3)</td>\n",
              "      <td>J.R.R. TOLKIEN</td>\n",
              "      <td>9.402597</td>\n",
              "      <td>77</td>\n",
              "      <td>9.310026</td>\n",
              "    </tr>\n",
              "    <tr>\n",
              "      <th>102428</th>\n",
              "      <td>0836220889</td>\n",
              "      <td>Calvin and Hobbes</td>\n",
              "      <td>Bill Watterson</td>\n",
              "      <td>9.583333</td>\n",
              "      <td>24</td>\n",
              "      <td>9.289719</td>\n",
              "    </tr>\n",
              "    <tr>\n",
              "      <th>40331</th>\n",
              "      <td>0394800389</td>\n",
              "      <td>Fox in Socks (I Can Read It All by Myself Beginner Books)</td>\n",
              "      <td>Dr. Seuss</td>\n",
              "      <td>9.785714</td>\n",
              "      <td>14</td>\n",
              "      <td>9.284007</td>\n",
              "    </tr>\n",
              "    <tr>\n",
              "      <th>102382</th>\n",
              "      <td>0836218221</td>\n",
              "      <td>The Authoritative Calvin and Hobbes (Calvin and Hobbes)</td>\n",
              "      <td>Bill Watterson</td>\n",
              "      <td>9.600000</td>\n",
              "      <td>20</td>\n",
              "      <td>9.254672</td>\n",
              "    </tr>\n",
              "    <tr>\n",
              "      <th>86316</th>\n",
              "      <td>0743454529</td>\n",
              "      <td>My Sister's Keeper : A Novel (Picoult, Jodi)</td>\n",
              "      <td>Jodi Picoult</td>\n",
              "      <td>9.545455</td>\n",
              "      <td>22</td>\n",
              "      <td>9.235082</td>\n",
              "    </tr>\n",
              "  </tbody>\n",
              "</table>\n",
              "</div>\n",
              "      <button class=\"colab-df-convert\" onclick=\"convertToInteractive('df-4d7f73cd-bc6e-43e3-8574-131675db046d')\"\n",
              "              title=\"Convert this dataframe to an interactive table.\"\n",
              "              style=\"display:none;\">\n",
              "        \n",
              "  <svg xmlns=\"http://www.w3.org/2000/svg\" height=\"24px\"viewBox=\"0 0 24 24\"\n",
              "       width=\"24px\">\n",
              "    <path d=\"M0 0h24v24H0V0z\" fill=\"none\"/>\n",
              "    <path d=\"M18.56 5.44l.94 2.06.94-2.06 2.06-.94-2.06-.94-.94-2.06-.94 2.06-2.06.94zm-11 1L8.5 8.5l.94-2.06 2.06-.94-2.06-.94L8.5 2.5l-.94 2.06-2.06.94zm10 10l.94 2.06.94-2.06 2.06-.94-2.06-.94-.94-2.06-.94 2.06-2.06.94z\"/><path d=\"M17.41 7.96l-1.37-1.37c-.4-.4-.92-.59-1.43-.59-.52 0-1.04.2-1.43.59L10.3 9.45l-7.72 7.72c-.78.78-.78 2.05 0 2.83L4 21.41c.39.39.9.59 1.41.59.51 0 1.02-.2 1.41-.59l7.78-7.78 2.81-2.81c.8-.78.8-2.07 0-2.86zM5.41 20L4 18.59l7.72-7.72 1.47 1.35L5.41 20z\"/>\n",
              "  </svg>\n",
              "      </button>\n",
              "      \n",
              "  <style>\n",
              "    .colab-df-container {\n",
              "      display:flex;\n",
              "      flex-wrap:wrap;\n",
              "      gap: 12px;\n",
              "    }\n",
              "\n",
              "    .colab-df-convert {\n",
              "      background-color: #E8F0FE;\n",
              "      border: none;\n",
              "      border-radius: 50%;\n",
              "      cursor: pointer;\n",
              "      display: none;\n",
              "      fill: #1967D2;\n",
              "      height: 32px;\n",
              "      padding: 0 0 0 0;\n",
              "      width: 32px;\n",
              "    }\n",
              "\n",
              "    .colab-df-convert:hover {\n",
              "      background-color: #E2EBFA;\n",
              "      box-shadow: 0px 1px 2px rgba(60, 64, 67, 0.3), 0px 1px 3px 1px rgba(60, 64, 67, 0.15);\n",
              "      fill: #174EA6;\n",
              "    }\n",
              "\n",
              "    [theme=dark] .colab-df-convert {\n",
              "      background-color: #3B4455;\n",
              "      fill: #D2E3FC;\n",
              "    }\n",
              "\n",
              "    [theme=dark] .colab-df-convert:hover {\n",
              "      background-color: #434B5C;\n",
              "      box-shadow: 0px 1px 3px 1px rgba(0, 0, 0, 0.15);\n",
              "      filter: drop-shadow(0px 1px 2px rgba(0, 0, 0, 0.3));\n",
              "      fill: #FFFFFF;\n",
              "    }\n",
              "  </style>\n",
              "\n",
              "      <script>\n",
              "        const buttonEl =\n",
              "          document.querySelector('#df-4d7f73cd-bc6e-43e3-8574-131675db046d button.colab-df-convert');\n",
              "        buttonEl.style.display =\n",
              "          google.colab.kernel.accessAllowed ? 'block' : 'none';\n",
              "\n",
              "        async function convertToInteractive(key) {\n",
              "          const element = document.querySelector('#df-4d7f73cd-bc6e-43e3-8574-131675db046d');\n",
              "          const dataTable =\n",
              "            await google.colab.kernel.invokeFunction('convertToInteractive',\n",
              "                                                     [key], {});\n",
              "          if (!dataTable) return;\n",
              "\n",
              "          const docLinkHtml = 'Like what you see? Visit the ' +\n",
              "            '<a target=\"_blank\" href=https://colab.research.google.com/notebooks/data_table.ipynb>data table notebook</a>'\n",
              "            + ' to learn more about interactive tables.';\n",
              "          element.innerHTML = '';\n",
              "          dataTable['output_type'] = 'display_data';\n",
              "          await google.colab.output.renderOutput(dataTable, element);\n",
              "          const docLink = document.createElement('div');\n",
              "          docLink.innerHTML = docLinkHtml;\n",
              "          element.appendChild(docLink);\n",
              "        }\n",
              "      </script>\n",
              "    </div>\n",
              "  </div>\n",
              "  "
            ],
            "text/plain": [
              "              ISBN                                                 Book-Title  \\\n",
              "45823   0439425220  Harry Potter and the Chamber of Secrets Postcard Book       \n",
              "70304   0618002235  The Two Towers (The Lord of the Rings, Part 2)              \n",
              "2638    0060256656  The Giving Tree                                             \n",
              "102335  0836213319  Dilbert: A Book of Postcards                                \n",
              "131090  1888054557  Postmarked Yesteryear: 30 Rare Holiday Postcards            \n",
              "23973   0345339738  The Return of the King (The Lord of the Rings, Part 3)      \n",
              "102428  0836220889  Calvin and Hobbes                                           \n",
              "40331   0394800389  Fox in Socks (I Can Read It All by Myself Beginner Books)   \n",
              "102382  0836218221  The Authoritative Calvin and Hobbes (Calvin and Hobbes)     \n",
              "86316   0743454529  My Sister's Keeper : A Novel (Picoult, Jodi)                \n",
              "\n",
              "                       Book-Author  Average Rating  Number of Votes     score  \n",
              "45823   J. K. Rowling               9.869565        23               9.522671  \n",
              "70304   J. R. R. Tolkien            9.720000        25               9.417660  \n",
              "2638    Shel Silverstein            9.750000        20               9.379672  \n",
              "102335  Scott Adams                 9.923077        13               9.359537  \n",
              "131090  Pamela E. Apkarian-Russell  10.000000       11               9.340809  \n",
              "23973   J.R.R. TOLKIEN              9.402597        77               9.310026  \n",
              "102428  Bill Watterson              9.583333        24               9.289719  \n",
              "40331   Dr. Seuss                   9.785714        14               9.284007  \n",
              "102382  Bill Watterson              9.600000        20               9.254672  \n",
              "86316   Jodi Picoult                9.545455        22               9.235082  "
            ]
          },
          "metadata": {},
          "execution_count": 70
        }
      ],
      "source": [
        "##Sort books based on score calculated above\n",
        "weighted_rating_df.sort_values('score', ascending=False,inplace=True)\n",
        "\n",
        "#Print the top 15 books\n",
        "weighted_rating_df[[\"ISBN\",'Book-Title',\"Book-Author\", 'Average Rating', 'Number of Votes', 'score']].head(10)"
      ]
    },
    {
      "cell_type": "markdown",
      "source": [
        "##**Now let's create variables to store book name and number of books to recommend. This input shall be used in the coming models**"
      ],
      "metadata": {
        "id": "F0fnyMvEXLQv"
      }
    },
    {
      "cell_type": "code",
      "source": [
        "#get book name and number of books to recommend\n",
        "#\"Harry Potter and the Chamber of Secrets (Book 2)\"\n",
        "book_name = input(\"Enter a book name: \")\n",
        "number = int(input(\"Enter number of books to recommend: \"))"
      ],
      "metadata": {
        "colab": {
          "base_uri": "https://localhost:8080/"
        },
        "id": "xTrjo_2bKUlD",
        "outputId": "b79076a8-1804-49aa-c501-6c5b90776238"
      },
      "execution_count": 71,
      "outputs": [
        {
          "name": "stdout",
          "output_type": "stream",
          "text": [
            "Enter a book name: Harry Potter and the Chamber of Secrets (Book 2)\n",
            "Enter number of books to recommend: 10\n"
          ]
        }
      ]
    },
    {
      "cell_type": "markdown",
      "metadata": {
        "id": "lWGGL9ubmvq2"
      },
      "source": [
        "##**Author Based Recommendation System**"
      ]
    },
    {
      "cell_type": "code",
      "execution_count": 72,
      "metadata": {
        "id": "5bcPjNTOmvEm"
      },
      "outputs": [],
      "source": [
        "def author_based_recommendation(bookName,n):\n",
        "  #Getting author name for the user input book\n",
        "  author=weighted_rating_df.loc[weighted_rating_df['Book-Title'] == bookName].reset_index(drop = True).iloc[0]['Book-Author']\n",
        "\n",
        "  print(\"The author of\",bookName,\"is\",author)\n",
        "  print(\"Top books by the same author are:\\n\")\n",
        "  \n",
        "  #Storing books written by the same author\n",
        "  books_by_same_author_df = weighted_rating_df[weighted_rating_df['Book-Author'] == author]\n",
        "  #Sorting books based on their average rating\n",
        "  books_by_same_author_df = books_by_same_author_df.sort_values(by=['Average Rating'])\n",
        "  recommended_books=[]\n",
        "  w=0\n",
        "  for i in books_by_same_author_df[\"Book-Title\"]:\n",
        "        #Avoiding recommending the same user input book aswell as repetation of recomendation and limitting number of recommendation\n",
        "        #Stops when the number of recommendation  reaches total number of books written by the author\n",
        "        if (i!= bookName) and (i not in recommended_books) and (len(recommended_books) < n) and (w<=len(books_by_same_author_df[\"Book-Title\"])):\n",
        "            recommended_books.append(i)\n",
        "            w+=1\n",
        "  \n",
        "  for book in recommended_books:\n",
        "    print(book)\n",
        "  return recommended_books\n"
      ]
    },
    {
      "cell_type": "code",
      "source": [
        "#Storing recommended books with printing\n",
        "author_based = author_based_recommendation(book_name,number)"
      ],
      "metadata": {
        "colab": {
          "base_uri": "https://localhost:8080/"
        },
        "id": "_QcBTjGD0BFz",
        "outputId": "3188dac1-22d1-4f14-e007-52fed5e2c69a"
      },
      "execution_count": 73,
      "outputs": [
        {
          "output_type": "stream",
          "name": "stdout",
          "text": [
            "The author of Harry Potter and the Chamber of Secrets (Book 2) is J. K. Rowling\n",
            "Top books by the same author are:\n",
            "\n",
            "Harry Potter et le prisonnier d'Azkaban\n",
            "Fantastic Beasts and Where to Find Them\n",
            "Quidditch Through the Ages\n",
            "Harry Potter y la cÃ¡mara secreta\n",
            "Harry Potter y el cÃ¡liz de fuego\n",
            "Harry Potter y la piedra filosofal\n",
            "Harry Potter Y El Prisionero De Azkaban\n",
            "Harry Potter and the Sorcerer's Stone (Harry Potter (Paperback))\n",
            "Harry Potter and the Goblet of Fire (Book 4)\n",
            "Harry Potter and the Sorcerer's Stone (Book 1)\n"
          ]
        }
      ]
    },
    {
      "cell_type": "markdown",
      "metadata": {
        "id": "CPUxrMuz8ySQ"
      },
      "source": [
        "##**Collaborative Recommendation - Memory Based**\n",
        "\n"
      ]
    },
    {
      "cell_type": "markdown",
      "source": [
        "###We will create recommendation system using KNN algorithm."
      ],
      "metadata": {
        "id": "ApsuHNbldPJ-"
      }
    },
    {
      "cell_type": "code",
      "execution_count": 74,
      "metadata": {
        "colab": {
          "base_uri": "https://localhost:8080/"
        },
        "id": "EJcF408eyBai",
        "outputId": "24ee8ed5-7790-44ee-a47e-4e5fbb7cf856"
      },
      "outputs": [
        {
          "output_type": "execute_result",
          "data": {
            "text/plain": [
              "(378257, 11)"
            ]
          },
          "metadata": {},
          "execution_count": 74
        }
      ],
      "source": [
        "#Checking shape\n",
        "df.shape"
      ]
    },
    {
      "cell_type": "code",
      "execution_count": 75,
      "metadata": {
        "id": "OE-1OJY03DqF",
        "colab": {
          "base_uri": "https://localhost:8080/"
        },
        "outputId": "7a75769a-cabc-4a80-b2e1-62ad51318f8a"
      },
      "outputs": [
        {
          "output_type": "stream",
          "name": "stdout",
          "text": [
            "Shape of final_dataset: (100549, 11)\n"
          ]
        }
      ],
      "source": [
        "# Filtering Users with atleast 100 interactions\n",
        "criteria=df['User-ID'].value_counts()>100\n",
        "#Storing index filtered users\n",
        "criteria=criteria[criteria].index\n",
        "#Subset of df with filtered users\n",
        "final_dataset=df[df['User-ID'].isin(criteria)]\n",
        "print(\"Shape of final_dataset:\",final_dataset.shape)"
      ]
    },
    {
      "cell_type": "code",
      "execution_count": 76,
      "metadata": {
        "id": "6oMtcfu-41Aq",
        "colab": {
          "base_uri": "https://localhost:8080/",
          "height": 224
        },
        "outputId": "41d57a09-b248-401a-8a80-1eddb7cf0322"
      },
      "outputs": [
        {
          "output_type": "stream",
          "name": "stdout",
          "text": [
            "Shape of final_dataset: (100549, 11)\n"
          ]
        },
        {
          "output_type": "execute_result",
          "data": {
            "text/html": [
              "\n",
              "  <div id=\"df-bd0f8900-3811-4415-9d45-79ae90c79ea6\">\n",
              "    <div class=\"colab-df-container\">\n",
              "      <div>\n",
              "<style scoped>\n",
              "    .dataframe tbody tr th:only-of-type {\n",
              "        vertical-align: middle;\n",
              "    }\n",
              "\n",
              "    .dataframe tbody tr th {\n",
              "        vertical-align: top;\n",
              "    }\n",
              "\n",
              "    .dataframe thead th {\n",
              "        text-align: right;\n",
              "    }\n",
              "</style>\n",
              "<table border=\"1\" class=\"dataframe\">\n",
              "  <thead>\n",
              "    <tr style=\"text-align: right;\">\n",
              "      <th></th>\n",
              "      <th>ISBN</th>\n",
              "      <th>Book-Title</th>\n",
              "      <th>Book-Author</th>\n",
              "      <th>Year-Of-Publication</th>\n",
              "      <th>Publisher</th>\n",
              "      <th>User-ID</th>\n",
              "      <th>Book-Rating</th>\n",
              "      <th>Age</th>\n",
              "      <th>City</th>\n",
              "      <th>State</th>\n",
              "      <th>Country</th>\n",
              "      <th>Number-of-Ratings</th>\n",
              "    </tr>\n",
              "  </thead>\n",
              "  <tbody>\n",
              "    <tr>\n",
              "      <th>1</th>\n",
              "      <td>0399135782</td>\n",
              "      <td>The Kitchen God's Wife</td>\n",
              "      <td>Amy Tan</td>\n",
              "      <td>1991</td>\n",
              "      <td>Putnam Pub Group</td>\n",
              "      <td>11676</td>\n",
              "      <td>9</td>\n",
              "      <td>32</td>\n",
              "      <td>other</td>\n",
              "      <td>other</td>\n",
              "      <td>other</td>\n",
              "      <td>18</td>\n",
              "    </tr>\n",
              "    <tr>\n",
              "      <th>2</th>\n",
              "      <td>080410753X</td>\n",
              "      <td>The Kitchen God's Wife</td>\n",
              "      <td>Amy Tan</td>\n",
              "      <td>1992</td>\n",
              "      <td>Ivy Books</td>\n",
              "      <td>11676</td>\n",
              "      <td>8</td>\n",
              "      <td>32</td>\n",
              "      <td>other</td>\n",
              "      <td>other</td>\n",
              "      <td>other</td>\n",
              "      <td>18</td>\n",
              "    </tr>\n",
              "    <tr>\n",
              "      <th>3</th>\n",
              "      <td>080410753X</td>\n",
              "      <td>The Kitchen God's Wife</td>\n",
              "      <td>Amy Tan</td>\n",
              "      <td>1992</td>\n",
              "      <td>Ivy Books</td>\n",
              "      <td>110912</td>\n",
              "      <td>9</td>\n",
              "      <td>36</td>\n",
              "      <td>milpitas</td>\n",
              "      <td>california</td>\n",
              "      <td>usa</td>\n",
              "      <td>18</td>\n",
              "    </tr>\n",
              "    <tr>\n",
              "      <th>4</th>\n",
              "      <td>0399135782</td>\n",
              "      <td>The Kitchen God's Wife</td>\n",
              "      <td>Amy Tan</td>\n",
              "      <td>1991</td>\n",
              "      <td>Putnam Pub Group</td>\n",
              "      <td>46398</td>\n",
              "      <td>9</td>\n",
              "      <td>37</td>\n",
              "      <td>san antonio</td>\n",
              "      <td>texas</td>\n",
              "      <td>usa</td>\n",
              "      <td>18</td>\n",
              "    </tr>\n",
              "    <tr>\n",
              "      <th>5</th>\n",
              "      <td>0399135782</td>\n",
              "      <td>The Kitchen God's Wife</td>\n",
              "      <td>Amy Tan</td>\n",
              "      <td>1991</td>\n",
              "      <td>Putnam Pub Group</td>\n",
              "      <td>230522</td>\n",
              "      <td>7</td>\n",
              "      <td>52</td>\n",
              "      <td>colorado springs</td>\n",
              "      <td>colorado</td>\n",
              "      <td>usa</td>\n",
              "      <td>18</td>\n",
              "    </tr>\n",
              "  </tbody>\n",
              "</table>\n",
              "</div>\n",
              "      <button class=\"colab-df-convert\" onclick=\"convertToInteractive('df-bd0f8900-3811-4415-9d45-79ae90c79ea6')\"\n",
              "              title=\"Convert this dataframe to an interactive table.\"\n",
              "              style=\"display:none;\">\n",
              "        \n",
              "  <svg xmlns=\"http://www.w3.org/2000/svg\" height=\"24px\"viewBox=\"0 0 24 24\"\n",
              "       width=\"24px\">\n",
              "    <path d=\"M0 0h24v24H0V0z\" fill=\"none\"/>\n",
              "    <path d=\"M18.56 5.44l.94 2.06.94-2.06 2.06-.94-2.06-.94-.94-2.06-.94 2.06-2.06.94zm-11 1L8.5 8.5l.94-2.06 2.06-.94-2.06-.94L8.5 2.5l-.94 2.06-2.06.94zm10 10l.94 2.06.94-2.06 2.06-.94-2.06-.94-.94-2.06-.94 2.06-2.06.94z\"/><path d=\"M17.41 7.96l-1.37-1.37c-.4-.4-.92-.59-1.43-.59-.52 0-1.04.2-1.43.59L10.3 9.45l-7.72 7.72c-.78.78-.78 2.05 0 2.83L4 21.41c.39.39.9.59 1.41.59.51 0 1.02-.2 1.41-.59l7.78-7.78 2.81-2.81c.8-.78.8-2.07 0-2.86zM5.41 20L4 18.59l7.72-7.72 1.47 1.35L5.41 20z\"/>\n",
              "  </svg>\n",
              "      </button>\n",
              "      \n",
              "  <style>\n",
              "    .colab-df-container {\n",
              "      display:flex;\n",
              "      flex-wrap:wrap;\n",
              "      gap: 12px;\n",
              "    }\n",
              "\n",
              "    .colab-df-convert {\n",
              "      background-color: #E8F0FE;\n",
              "      border: none;\n",
              "      border-radius: 50%;\n",
              "      cursor: pointer;\n",
              "      display: none;\n",
              "      fill: #1967D2;\n",
              "      height: 32px;\n",
              "      padding: 0 0 0 0;\n",
              "      width: 32px;\n",
              "    }\n",
              "\n",
              "    .colab-df-convert:hover {\n",
              "      background-color: #E2EBFA;\n",
              "      box-shadow: 0px 1px 2px rgba(60, 64, 67, 0.3), 0px 1px 3px 1px rgba(60, 64, 67, 0.15);\n",
              "      fill: #174EA6;\n",
              "    }\n",
              "\n",
              "    [theme=dark] .colab-df-convert {\n",
              "      background-color: #3B4455;\n",
              "      fill: #D2E3FC;\n",
              "    }\n",
              "\n",
              "    [theme=dark] .colab-df-convert:hover {\n",
              "      background-color: #434B5C;\n",
              "      box-shadow: 0px 1px 3px 1px rgba(0, 0, 0, 0.15);\n",
              "      filter: drop-shadow(0px 1px 2px rgba(0, 0, 0, 0.3));\n",
              "      fill: #FFFFFF;\n",
              "    }\n",
              "  </style>\n",
              "\n",
              "      <script>\n",
              "        const buttonEl =\n",
              "          document.querySelector('#df-bd0f8900-3811-4415-9d45-79ae90c79ea6 button.colab-df-convert');\n",
              "        buttonEl.style.display =\n",
              "          google.colab.kernel.accessAllowed ? 'block' : 'none';\n",
              "\n",
              "        async function convertToInteractive(key) {\n",
              "          const element = document.querySelector('#df-bd0f8900-3811-4415-9d45-79ae90c79ea6');\n",
              "          const dataTable =\n",
              "            await google.colab.kernel.invokeFunction('convertToInteractive',\n",
              "                                                     [key], {});\n",
              "          if (!dataTable) return;\n",
              "\n",
              "          const docLinkHtml = 'Like what you see? Visit the ' +\n",
              "            '<a target=\"_blank\" href=https://colab.research.google.com/notebooks/data_table.ipynb>data table notebook</a>'\n",
              "            + ' to learn more about interactive tables.';\n",
              "          element.innerHTML = '';\n",
              "          dataTable['output_type'] = 'display_data';\n",
              "          await google.colab.output.renderOutput(dataTable, element);\n",
              "          const docLink = document.createElement('div');\n",
              "          docLink.innerHTML = docLinkHtml;\n",
              "          element.appendChild(docLink);\n",
              "        }\n",
              "      </script>\n",
              "    </div>\n",
              "  </div>\n",
              "  "
            ],
            "text/plain": [
              "         ISBN              Book-Title Book-Author  Year-Of-Publication  \\\n",
              "1  0399135782  The Kitchen God's Wife  Amy Tan     1991                  \n",
              "2  080410753X  The Kitchen God's Wife  Amy Tan     1992                  \n",
              "3  080410753X  The Kitchen God's Wife  Amy Tan     1992                  \n",
              "4  0399135782  The Kitchen God's Wife  Amy Tan     1991                  \n",
              "5  0399135782  The Kitchen God's Wife  Amy Tan     1991                  \n",
              "\n",
              "          Publisher  User-ID  Book-Rating  Age              City       State  \\\n",
              "1  Putnam Pub Group  11676    9            32   other             other        \n",
              "2  Ivy Books         11676    8            32   other             other        \n",
              "3  Ivy Books         110912   9            36   milpitas          california   \n",
              "4  Putnam Pub Group  46398    9            37   san antonio       texas        \n",
              "5  Putnam Pub Group  230522   7            52   colorado springs  colorado     \n",
              "\n",
              "  Country  Number-of-Ratings  \n",
              "1  other   18                 \n",
              "2  other   18                 \n",
              "3  usa     18                 \n",
              "4  usa     18                 \n",
              "5  usa     18                 "
            ]
          },
          "metadata": {},
          "execution_count": 76
        }
      ],
      "source": [
        "#Obtaining number of ratings for each books\n",
        "number_rating=final_dataset.groupby('Book-Title')['Book-Rating'].count().reset_index()\n",
        "number_rating.rename(columns={\"Book-Rating\":\"Number-of-Ratings\"},inplace=True)\n",
        "#Merging with final dataset\n",
        "final_rating = final_dataset.merge(number_rating, on=\"Book-Title\")\n",
        "\n",
        "## Filtering books with atleast 5 ratings\n",
        "final_rating=final_rating[final_rating['Number-of-Ratings']>=5]\n",
        "print(\"Shape of final_dataset:\",final_dataset.shape)\n",
        "final_rating.head()"
      ]
    },
    {
      "cell_type": "code",
      "execution_count": 77,
      "metadata": {
        "colab": {
          "base_uri": "https://localhost:8080/",
          "height": 516
        },
        "id": "TWRUedR57u6f",
        "outputId": "66938005-378c-4383-924f-d6e3736fa9ee"
      },
      "outputs": [
        {
          "output_type": "execute_result",
          "data": {
            "text/html": [
              "\n",
              "  <div id=\"df-ab209fb7-eded-4f81-9140-04ebcbc3acc6\">\n",
              "    <div class=\"colab-df-container\">\n",
              "      <div>\n",
              "<style scoped>\n",
              "    .dataframe tbody tr th:only-of-type {\n",
              "        vertical-align: middle;\n",
              "    }\n",
              "\n",
              "    .dataframe tbody tr th {\n",
              "        vertical-align: top;\n",
              "    }\n",
              "\n",
              "    .dataframe thead th {\n",
              "        text-align: right;\n",
              "    }\n",
              "</style>\n",
              "<table border=\"1\" class=\"dataframe\">\n",
              "  <thead>\n",
              "    <tr style=\"text-align: right;\">\n",
              "      <th>User-ID</th>\n",
              "      <th>2033</th>\n",
              "      <th>2110</th>\n",
              "      <th>2276</th>\n",
              "      <th>4017</th>\n",
              "      <th>4385</th>\n",
              "      <th>5582</th>\n",
              "      <th>6242</th>\n",
              "      <th>6251</th>\n",
              "      <th>6543</th>\n",
              "      <th>6575</th>\n",
              "      <th>...</th>\n",
              "      <th>269566</th>\n",
              "      <th>270713</th>\n",
              "      <th>271448</th>\n",
              "      <th>271705</th>\n",
              "      <th>273113</th>\n",
              "      <th>274061</th>\n",
              "      <th>274301</th>\n",
              "      <th>275970</th>\n",
              "      <th>277427</th>\n",
              "      <th>278418</th>\n",
              "    </tr>\n",
              "    <tr>\n",
              "      <th>Book-Title</th>\n",
              "      <th></th>\n",
              "      <th></th>\n",
              "      <th></th>\n",
              "      <th></th>\n",
              "      <th></th>\n",
              "      <th></th>\n",
              "      <th></th>\n",
              "      <th></th>\n",
              "      <th></th>\n",
              "      <th></th>\n",
              "      <th></th>\n",
              "      <th></th>\n",
              "      <th></th>\n",
              "      <th></th>\n",
              "      <th></th>\n",
              "      <th></th>\n",
              "      <th></th>\n",
              "      <th></th>\n",
              "      <th></th>\n",
              "      <th></th>\n",
              "      <th></th>\n",
              "    </tr>\n",
              "  </thead>\n",
              "  <tbody>\n",
              "    <tr>\n",
              "      <th>'Salem's Lot</th>\n",
              "      <td>0.0</td>\n",
              "      <td>0.0</td>\n",
              "      <td>0.0</td>\n",
              "      <td>0.0</td>\n",
              "      <td>0.0</td>\n",
              "      <td>0.0</td>\n",
              "      <td>0.0</td>\n",
              "      <td>0.0</td>\n",
              "      <td>0.0</td>\n",
              "      <td>0.0</td>\n",
              "      <td>...</td>\n",
              "      <td>0.0</td>\n",
              "      <td>0.0</td>\n",
              "      <td>0.0</td>\n",
              "      <td>0.0</td>\n",
              "      <td>0.0</td>\n",
              "      <td>0.0</td>\n",
              "      <td>0.0</td>\n",
              "      <td>0.0</td>\n",
              "      <td>0.0</td>\n",
              "      <td>0.0</td>\n",
              "    </tr>\n",
              "    <tr>\n",
              "      <th>10 Lb. Penalty</th>\n",
              "      <td>0.0</td>\n",
              "      <td>0.0</td>\n",
              "      <td>0.0</td>\n",
              "      <td>0.0</td>\n",
              "      <td>0.0</td>\n",
              "      <td>0.0</td>\n",
              "      <td>0.0</td>\n",
              "      <td>0.0</td>\n",
              "      <td>0.0</td>\n",
              "      <td>0.0</td>\n",
              "      <td>...</td>\n",
              "      <td>0.0</td>\n",
              "      <td>0.0</td>\n",
              "      <td>0.0</td>\n",
              "      <td>0.0</td>\n",
              "      <td>0.0</td>\n",
              "      <td>0.0</td>\n",
              "      <td>0.0</td>\n",
              "      <td>0.0</td>\n",
              "      <td>0.0</td>\n",
              "      <td>0.0</td>\n",
              "    </tr>\n",
              "    <tr>\n",
              "      <th>101 Dalmatians</th>\n",
              "      <td>0.0</td>\n",
              "      <td>0.0</td>\n",
              "      <td>0.0</td>\n",
              "      <td>0.0</td>\n",
              "      <td>0.0</td>\n",
              "      <td>0.0</td>\n",
              "      <td>0.0</td>\n",
              "      <td>0.0</td>\n",
              "      <td>0.0</td>\n",
              "      <td>0.0</td>\n",
              "      <td>...</td>\n",
              "      <td>0.0</td>\n",
              "      <td>0.0</td>\n",
              "      <td>0.0</td>\n",
              "      <td>0.0</td>\n",
              "      <td>0.0</td>\n",
              "      <td>0.0</td>\n",
              "      <td>0.0</td>\n",
              "      <td>0.0</td>\n",
              "      <td>0.0</td>\n",
              "      <td>0.0</td>\n",
              "    </tr>\n",
              "    <tr>\n",
              "      <th>16 Lighthouse Road</th>\n",
              "      <td>0.0</td>\n",
              "      <td>0.0</td>\n",
              "      <td>0.0</td>\n",
              "      <td>0.0</td>\n",
              "      <td>0.0</td>\n",
              "      <td>0.0</td>\n",
              "      <td>0.0</td>\n",
              "      <td>0.0</td>\n",
              "      <td>0.0</td>\n",
              "      <td>0.0</td>\n",
              "      <td>...</td>\n",
              "      <td>0.0</td>\n",
              "      <td>0.0</td>\n",
              "      <td>0.0</td>\n",
              "      <td>0.0</td>\n",
              "      <td>0.0</td>\n",
              "      <td>0.0</td>\n",
              "      <td>0.0</td>\n",
              "      <td>0.0</td>\n",
              "      <td>0.0</td>\n",
              "      <td>0.0</td>\n",
              "    </tr>\n",
              "    <tr>\n",
              "      <th>1984</th>\n",
              "      <td>0.0</td>\n",
              "      <td>0.0</td>\n",
              "      <td>0.0</td>\n",
              "      <td>0.0</td>\n",
              "      <td>0.0</td>\n",
              "      <td>0.0</td>\n",
              "      <td>0.0</td>\n",
              "      <td>0.0</td>\n",
              "      <td>0.0</td>\n",
              "      <td>0.0</td>\n",
              "      <td>...</td>\n",
              "      <td>0.0</td>\n",
              "      <td>0.0</td>\n",
              "      <td>0.0</td>\n",
              "      <td>10.0</td>\n",
              "      <td>0.0</td>\n",
              "      <td>0.0</td>\n",
              "      <td>0.0</td>\n",
              "      <td>0.0</td>\n",
              "      <td>0.0</td>\n",
              "      <td>0.0</td>\n",
              "    </tr>\n",
              "    <tr>\n",
              "      <th>...</th>\n",
              "      <td>...</td>\n",
              "      <td>...</td>\n",
              "      <td>...</td>\n",
              "      <td>...</td>\n",
              "      <td>...</td>\n",
              "      <td>...</td>\n",
              "      <td>...</td>\n",
              "      <td>...</td>\n",
              "      <td>...</td>\n",
              "      <td>...</td>\n",
              "      <td>...</td>\n",
              "      <td>...</td>\n",
              "      <td>...</td>\n",
              "      <td>...</td>\n",
              "      <td>...</td>\n",
              "      <td>...</td>\n",
              "      <td>...</td>\n",
              "      <td>...</td>\n",
              "      <td>...</td>\n",
              "      <td>...</td>\n",
              "      <td>...</td>\n",
              "    </tr>\n",
              "    <tr>\n",
              "      <th>Zen and the Art of Motorcycle Maintenance: An Inquiry into Values</th>\n",
              "      <td>0.0</td>\n",
              "      <td>0.0</td>\n",
              "      <td>0.0</td>\n",
              "      <td>0.0</td>\n",
              "      <td>0.0</td>\n",
              "      <td>0.0</td>\n",
              "      <td>0.0</td>\n",
              "      <td>0.0</td>\n",
              "      <td>0.0</td>\n",
              "      <td>0.0</td>\n",
              "      <td>...</td>\n",
              "      <td>0.0</td>\n",
              "      <td>0.0</td>\n",
              "      <td>0.0</td>\n",
              "      <td>0.0</td>\n",
              "      <td>0.0</td>\n",
              "      <td>0.0</td>\n",
              "      <td>0.0</td>\n",
              "      <td>0.0</td>\n",
              "      <td>0.0</td>\n",
              "      <td>0.0</td>\n",
              "    </tr>\n",
              "    <tr>\n",
              "      <th>Zombies of the Gene Pool</th>\n",
              "      <td>0.0</td>\n",
              "      <td>0.0</td>\n",
              "      <td>10.0</td>\n",
              "      <td>0.0</td>\n",
              "      <td>0.0</td>\n",
              "      <td>0.0</td>\n",
              "      <td>0.0</td>\n",
              "      <td>0.0</td>\n",
              "      <td>0.0</td>\n",
              "      <td>0.0</td>\n",
              "      <td>...</td>\n",
              "      <td>0.0</td>\n",
              "      <td>0.0</td>\n",
              "      <td>0.0</td>\n",
              "      <td>0.0</td>\n",
              "      <td>0.0</td>\n",
              "      <td>0.0</td>\n",
              "      <td>0.0</td>\n",
              "      <td>0.0</td>\n",
              "      <td>0.0</td>\n",
              "      <td>0.0</td>\n",
              "    </tr>\n",
              "    <tr>\n",
              "      <th>Zoya</th>\n",
              "      <td>0.0</td>\n",
              "      <td>0.0</td>\n",
              "      <td>0.0</td>\n",
              "      <td>0.0</td>\n",
              "      <td>0.0</td>\n",
              "      <td>0.0</td>\n",
              "      <td>0.0</td>\n",
              "      <td>0.0</td>\n",
              "      <td>0.0</td>\n",
              "      <td>0.0</td>\n",
              "      <td>...</td>\n",
              "      <td>0.0</td>\n",
              "      <td>0.0</td>\n",
              "      <td>0.0</td>\n",
              "      <td>0.0</td>\n",
              "      <td>0.0</td>\n",
              "      <td>0.0</td>\n",
              "      <td>0.0</td>\n",
              "      <td>0.0</td>\n",
              "      <td>0.0</td>\n",
              "      <td>0.0</td>\n",
              "    </tr>\n",
              "    <tr>\n",
              "      <th>\\O\\\" Is for Outlaw\"</th>\n",
              "      <td>0.0</td>\n",
              "      <td>0.0</td>\n",
              "      <td>0.0</td>\n",
              "      <td>0.0</td>\n",
              "      <td>0.0</td>\n",
              "      <td>0.0</td>\n",
              "      <td>0.0</td>\n",
              "      <td>0.0</td>\n",
              "      <td>0.0</td>\n",
              "      <td>0.0</td>\n",
              "      <td>...</td>\n",
              "      <td>0.0</td>\n",
              "      <td>0.0</td>\n",
              "      <td>0.0</td>\n",
              "      <td>0.0</td>\n",
              "      <td>0.0</td>\n",
              "      <td>0.0</td>\n",
              "      <td>8.0</td>\n",
              "      <td>0.0</td>\n",
              "      <td>0.0</td>\n",
              "      <td>0.0</td>\n",
              "    </tr>\n",
              "    <tr>\n",
              "      <th>stardust</th>\n",
              "      <td>0.0</td>\n",
              "      <td>0.0</td>\n",
              "      <td>0.0</td>\n",
              "      <td>0.0</td>\n",
              "      <td>0.0</td>\n",
              "      <td>0.0</td>\n",
              "      <td>0.0</td>\n",
              "      <td>0.0</td>\n",
              "      <td>0.0</td>\n",
              "      <td>0.0</td>\n",
              "      <td>...</td>\n",
              "      <td>0.0</td>\n",
              "      <td>0.0</td>\n",
              "      <td>0.0</td>\n",
              "      <td>0.0</td>\n",
              "      <td>0.0</td>\n",
              "      <td>0.0</td>\n",
              "      <td>0.0</td>\n",
              "      <td>0.0</td>\n",
              "      <td>0.0</td>\n",
              "      <td>0.0</td>\n",
              "    </tr>\n",
              "  </tbody>\n",
              "</table>\n",
              "<p>2833 rows × 428 columns</p>\n",
              "</div>\n",
              "      <button class=\"colab-df-convert\" onclick=\"convertToInteractive('df-ab209fb7-eded-4f81-9140-04ebcbc3acc6')\"\n",
              "              title=\"Convert this dataframe to an interactive table.\"\n",
              "              style=\"display:none;\">\n",
              "        \n",
              "  <svg xmlns=\"http://www.w3.org/2000/svg\" height=\"24px\"viewBox=\"0 0 24 24\"\n",
              "       width=\"24px\">\n",
              "    <path d=\"M0 0h24v24H0V0z\" fill=\"none\"/>\n",
              "    <path d=\"M18.56 5.44l.94 2.06.94-2.06 2.06-.94-2.06-.94-.94-2.06-.94 2.06-2.06.94zm-11 1L8.5 8.5l.94-2.06 2.06-.94-2.06-.94L8.5 2.5l-.94 2.06-2.06.94zm10 10l.94 2.06.94-2.06 2.06-.94-2.06-.94-.94-2.06-.94 2.06-2.06.94z\"/><path d=\"M17.41 7.96l-1.37-1.37c-.4-.4-.92-.59-1.43-.59-.52 0-1.04.2-1.43.59L10.3 9.45l-7.72 7.72c-.78.78-.78 2.05 0 2.83L4 21.41c.39.39.9.59 1.41.59.51 0 1.02-.2 1.41-.59l7.78-7.78 2.81-2.81c.8-.78.8-2.07 0-2.86zM5.41 20L4 18.59l7.72-7.72 1.47 1.35L5.41 20z\"/>\n",
              "  </svg>\n",
              "      </button>\n",
              "      \n",
              "  <style>\n",
              "    .colab-df-container {\n",
              "      display:flex;\n",
              "      flex-wrap:wrap;\n",
              "      gap: 12px;\n",
              "    }\n",
              "\n",
              "    .colab-df-convert {\n",
              "      background-color: #E8F0FE;\n",
              "      border: none;\n",
              "      border-radius: 50%;\n",
              "      cursor: pointer;\n",
              "      display: none;\n",
              "      fill: #1967D2;\n",
              "      height: 32px;\n",
              "      padding: 0 0 0 0;\n",
              "      width: 32px;\n",
              "    }\n",
              "\n",
              "    .colab-df-convert:hover {\n",
              "      background-color: #E2EBFA;\n",
              "      box-shadow: 0px 1px 2px rgba(60, 64, 67, 0.3), 0px 1px 3px 1px rgba(60, 64, 67, 0.15);\n",
              "      fill: #174EA6;\n",
              "    }\n",
              "\n",
              "    [theme=dark] .colab-df-convert {\n",
              "      background-color: #3B4455;\n",
              "      fill: #D2E3FC;\n",
              "    }\n",
              "\n",
              "    [theme=dark] .colab-df-convert:hover {\n",
              "      background-color: #434B5C;\n",
              "      box-shadow: 0px 1px 3px 1px rgba(0, 0, 0, 0.15);\n",
              "      filter: drop-shadow(0px 1px 2px rgba(0, 0, 0, 0.3));\n",
              "      fill: #FFFFFF;\n",
              "    }\n",
              "  </style>\n",
              "\n",
              "      <script>\n",
              "        const buttonEl =\n",
              "          document.querySelector('#df-ab209fb7-eded-4f81-9140-04ebcbc3acc6 button.colab-df-convert');\n",
              "        buttonEl.style.display =\n",
              "          google.colab.kernel.accessAllowed ? 'block' : 'none';\n",
              "\n",
              "        async function convertToInteractive(key) {\n",
              "          const element = document.querySelector('#df-ab209fb7-eded-4f81-9140-04ebcbc3acc6');\n",
              "          const dataTable =\n",
              "            await google.colab.kernel.invokeFunction('convertToInteractive',\n",
              "                                                     [key], {});\n",
              "          if (!dataTable) return;\n",
              "\n",
              "          const docLinkHtml = 'Like what you see? Visit the ' +\n",
              "            '<a target=\"_blank\" href=https://colab.research.google.com/notebooks/data_table.ipynb>data table notebook</a>'\n",
              "            + ' to learn more about interactive tables.';\n",
              "          element.innerHTML = '';\n",
              "          dataTable['output_type'] = 'display_data';\n",
              "          await google.colab.output.renderOutput(dataTable, element);\n",
              "          const docLink = document.createElement('div');\n",
              "          docLink.innerHTML = docLinkHtml;\n",
              "          element.appendChild(docLink);\n",
              "        }\n",
              "      </script>\n",
              "    </div>\n",
              "  </div>\n",
              "  "
            ],
            "text/plain": [
              "User-ID                                                            2033  2110  \\\n",
              "Book-Title                                                                      \n",
              "'Salem's Lot                                                       0.0   0.0    \n",
              "10 Lb. Penalty                                                     0.0   0.0    \n",
              "101 Dalmatians                                                     0.0   0.0    \n",
              "16 Lighthouse Road                                                 0.0   0.0    \n",
              "1984                                                               0.0   0.0    \n",
              "...                                                                ...   ...    \n",
              "Zen and the Art of Motorcycle Maintenance: An Inquiry into Values  0.0   0.0    \n",
              "Zombies of the Gene Pool                                           0.0   0.0    \n",
              "Zoya                                                               0.0   0.0    \n",
              "\\O\\\" Is for Outlaw\"                                                0.0   0.0    \n",
              "stardust                                                           0.0   0.0    \n",
              "\n",
              "User-ID                                                            2276  4017  \\\n",
              "Book-Title                                                                      \n",
              "'Salem's Lot                                                       0.0   0.0    \n",
              "10 Lb. Penalty                                                     0.0   0.0    \n",
              "101 Dalmatians                                                     0.0   0.0    \n",
              "16 Lighthouse Road                                                 0.0   0.0    \n",
              "1984                                                               0.0   0.0    \n",
              "...                                                                ...   ...    \n",
              "Zen and the Art of Motorcycle Maintenance: An Inquiry into Values  0.0   0.0    \n",
              "Zombies of the Gene Pool                                           10.0  0.0    \n",
              "Zoya                                                               0.0   0.0    \n",
              "\\O\\\" Is for Outlaw\"                                                0.0   0.0    \n",
              "stardust                                                           0.0   0.0    \n",
              "\n",
              "User-ID                                                            4385  5582  \\\n",
              "Book-Title                                                                      \n",
              "'Salem's Lot                                                       0.0   0.0    \n",
              "10 Lb. Penalty                                                     0.0   0.0    \n",
              "101 Dalmatians                                                     0.0   0.0    \n",
              "16 Lighthouse Road                                                 0.0   0.0    \n",
              "1984                                                               0.0   0.0    \n",
              "...                                                                ...   ...    \n",
              "Zen and the Art of Motorcycle Maintenance: An Inquiry into Values  0.0   0.0    \n",
              "Zombies of the Gene Pool                                           0.0   0.0    \n",
              "Zoya                                                               0.0   0.0    \n",
              "\\O\\\" Is for Outlaw\"                                                0.0   0.0    \n",
              "stardust                                                           0.0   0.0    \n",
              "\n",
              "User-ID                                                            6242  6251  \\\n",
              "Book-Title                                                                      \n",
              "'Salem's Lot                                                       0.0   0.0    \n",
              "10 Lb. Penalty                                                     0.0   0.0    \n",
              "101 Dalmatians                                                     0.0   0.0    \n",
              "16 Lighthouse Road                                                 0.0   0.0    \n",
              "1984                                                               0.0   0.0    \n",
              "...                                                                ...   ...    \n",
              "Zen and the Art of Motorcycle Maintenance: An Inquiry into Values  0.0   0.0    \n",
              "Zombies of the Gene Pool                                           0.0   0.0    \n",
              "Zoya                                                               0.0   0.0    \n",
              "\\O\\\" Is for Outlaw\"                                                0.0   0.0    \n",
              "stardust                                                           0.0   0.0    \n",
              "\n",
              "User-ID                                                            6543  6575  \\\n",
              "Book-Title                                                                      \n",
              "'Salem's Lot                                                       0.0   0.0    \n",
              "10 Lb. Penalty                                                     0.0   0.0    \n",
              "101 Dalmatians                                                     0.0   0.0    \n",
              "16 Lighthouse Road                                                 0.0   0.0    \n",
              "1984                                                               0.0   0.0    \n",
              "...                                                                ...   ...    \n",
              "Zen and the Art of Motorcycle Maintenance: An Inquiry into Values  0.0   0.0    \n",
              "Zombies of the Gene Pool                                           0.0   0.0    \n",
              "Zoya                                                               0.0   0.0    \n",
              "\\O\\\" Is for Outlaw\"                                                0.0   0.0    \n",
              "stardust                                                           0.0   0.0    \n",
              "\n",
              "User-ID                                                            ...  \\\n",
              "Book-Title                                                         ...   \n",
              "'Salem's Lot                                                       ...   \n",
              "10 Lb. Penalty                                                     ...   \n",
              "101 Dalmatians                                                     ...   \n",
              "16 Lighthouse Road                                                 ...   \n",
              "1984                                                               ...   \n",
              "...                                                                ...   \n",
              "Zen and the Art of Motorcycle Maintenance: An Inquiry into Values  ...   \n",
              "Zombies of the Gene Pool                                           ...   \n",
              "Zoya                                                               ...   \n",
              "\\O\\\" Is for Outlaw\"                                                ...   \n",
              "stardust                                                           ...   \n",
              "\n",
              "User-ID                                                            269566  \\\n",
              "Book-Title                                                                  \n",
              "'Salem's Lot                                                       0.0      \n",
              "10 Lb. Penalty                                                     0.0      \n",
              "101 Dalmatians                                                     0.0      \n",
              "16 Lighthouse Road                                                 0.0      \n",
              "1984                                                               0.0      \n",
              "...                                                                ...      \n",
              "Zen and the Art of Motorcycle Maintenance: An Inquiry into Values  0.0      \n",
              "Zombies of the Gene Pool                                           0.0      \n",
              "Zoya                                                               0.0      \n",
              "\\O\\\" Is for Outlaw\"                                                0.0      \n",
              "stardust                                                           0.0      \n",
              "\n",
              "User-ID                                                            270713  \\\n",
              "Book-Title                                                                  \n",
              "'Salem's Lot                                                       0.0      \n",
              "10 Lb. Penalty                                                     0.0      \n",
              "101 Dalmatians                                                     0.0      \n",
              "16 Lighthouse Road                                                 0.0      \n",
              "1984                                                               0.0      \n",
              "...                                                                ...      \n",
              "Zen and the Art of Motorcycle Maintenance: An Inquiry into Values  0.0      \n",
              "Zombies of the Gene Pool                                           0.0      \n",
              "Zoya                                                               0.0      \n",
              "\\O\\\" Is for Outlaw\"                                                0.0      \n",
              "stardust                                                           0.0      \n",
              "\n",
              "User-ID                                                            271448  \\\n",
              "Book-Title                                                                  \n",
              "'Salem's Lot                                                       0.0      \n",
              "10 Lb. Penalty                                                     0.0      \n",
              "101 Dalmatians                                                     0.0      \n",
              "16 Lighthouse Road                                                 0.0      \n",
              "1984                                                               0.0      \n",
              "...                                                                ...      \n",
              "Zen and the Art of Motorcycle Maintenance: An Inquiry into Values  0.0      \n",
              "Zombies of the Gene Pool                                           0.0      \n",
              "Zoya                                                               0.0      \n",
              "\\O\\\" Is for Outlaw\"                                                0.0      \n",
              "stardust                                                           0.0      \n",
              "\n",
              "User-ID                                                            271705  \\\n",
              "Book-Title                                                                  \n",
              "'Salem's Lot                                                       0.0      \n",
              "10 Lb. Penalty                                                     0.0      \n",
              "101 Dalmatians                                                     0.0      \n",
              "16 Lighthouse Road                                                 0.0      \n",
              "1984                                                               10.0     \n",
              "...                                                                ...      \n",
              "Zen and the Art of Motorcycle Maintenance: An Inquiry into Values  0.0      \n",
              "Zombies of the Gene Pool                                           0.0      \n",
              "Zoya                                                               0.0      \n",
              "\\O\\\" Is for Outlaw\"                                                0.0      \n",
              "stardust                                                           0.0      \n",
              "\n",
              "User-ID                                                            273113  \\\n",
              "Book-Title                                                                  \n",
              "'Salem's Lot                                                       0.0      \n",
              "10 Lb. Penalty                                                     0.0      \n",
              "101 Dalmatians                                                     0.0      \n",
              "16 Lighthouse Road                                                 0.0      \n",
              "1984                                                               0.0      \n",
              "...                                                                ...      \n",
              "Zen and the Art of Motorcycle Maintenance: An Inquiry into Values  0.0      \n",
              "Zombies of the Gene Pool                                           0.0      \n",
              "Zoya                                                               0.0      \n",
              "\\O\\\" Is for Outlaw\"                                                0.0      \n",
              "stardust                                                           0.0      \n",
              "\n",
              "User-ID                                                            274061  \\\n",
              "Book-Title                                                                  \n",
              "'Salem's Lot                                                       0.0      \n",
              "10 Lb. Penalty                                                     0.0      \n",
              "101 Dalmatians                                                     0.0      \n",
              "16 Lighthouse Road                                                 0.0      \n",
              "1984                                                               0.0      \n",
              "...                                                                ...      \n",
              "Zen and the Art of Motorcycle Maintenance: An Inquiry into Values  0.0      \n",
              "Zombies of the Gene Pool                                           0.0      \n",
              "Zoya                                                               0.0      \n",
              "\\O\\\" Is for Outlaw\"                                                0.0      \n",
              "stardust                                                           0.0      \n",
              "\n",
              "User-ID                                                            274301  \\\n",
              "Book-Title                                                                  \n",
              "'Salem's Lot                                                       0.0      \n",
              "10 Lb. Penalty                                                     0.0      \n",
              "101 Dalmatians                                                     0.0      \n",
              "16 Lighthouse Road                                                 0.0      \n",
              "1984                                                               0.0      \n",
              "...                                                                ...      \n",
              "Zen and the Art of Motorcycle Maintenance: An Inquiry into Values  0.0      \n",
              "Zombies of the Gene Pool                                           0.0      \n",
              "Zoya                                                               0.0      \n",
              "\\O\\\" Is for Outlaw\"                                                8.0      \n",
              "stardust                                                           0.0      \n",
              "\n",
              "User-ID                                                            275970  \\\n",
              "Book-Title                                                                  \n",
              "'Salem's Lot                                                       0.0      \n",
              "10 Lb. Penalty                                                     0.0      \n",
              "101 Dalmatians                                                     0.0      \n",
              "16 Lighthouse Road                                                 0.0      \n",
              "1984                                                               0.0      \n",
              "...                                                                ...      \n",
              "Zen and the Art of Motorcycle Maintenance: An Inquiry into Values  0.0      \n",
              "Zombies of the Gene Pool                                           0.0      \n",
              "Zoya                                                               0.0      \n",
              "\\O\\\" Is for Outlaw\"                                                0.0      \n",
              "stardust                                                           0.0      \n",
              "\n",
              "User-ID                                                            277427  \\\n",
              "Book-Title                                                                  \n",
              "'Salem's Lot                                                       0.0      \n",
              "10 Lb. Penalty                                                     0.0      \n",
              "101 Dalmatians                                                     0.0      \n",
              "16 Lighthouse Road                                                 0.0      \n",
              "1984                                                               0.0      \n",
              "...                                                                ...      \n",
              "Zen and the Art of Motorcycle Maintenance: An Inquiry into Values  0.0      \n",
              "Zombies of the Gene Pool                                           0.0      \n",
              "Zoya                                                               0.0      \n",
              "\\O\\\" Is for Outlaw\"                                                0.0      \n",
              "stardust                                                           0.0      \n",
              "\n",
              "User-ID                                                            278418  \n",
              "Book-Title                                                                 \n",
              "'Salem's Lot                                                       0.0     \n",
              "10 Lb. Penalty                                                     0.0     \n",
              "101 Dalmatians                                                     0.0     \n",
              "16 Lighthouse Road                                                 0.0     \n",
              "1984                                                               0.0     \n",
              "...                                                                ...     \n",
              "Zen and the Art of Motorcycle Maintenance: An Inquiry into Values  0.0     \n",
              "Zombies of the Gene Pool                                           0.0     \n",
              "Zoya                                                               0.0     \n",
              "\\O\\\" Is for Outlaw\"                                                0.0     \n",
              "stardust                                                           0.0     \n",
              "\n",
              "[2833 rows x 428 columns]"
            ]
          },
          "metadata": {},
          "execution_count": 77
        }
      ],
      "source": [
        "#Creating pivot table\n",
        "Book_pivot = final_rating.pivot_table(columns='User-ID',index='Book-Title',values='Book-Rating')\n",
        "#Filling null values with zero\n",
        "Book_pivot.fillna(0, inplace= True)\n",
        "Book_pivot"
      ]
    },
    {
      "cell_type": "code",
      "execution_count": 78,
      "metadata": {
        "colab": {
          "base_uri": "https://localhost:8080/"
        },
        "id": "-XjXASTk8d4T",
        "outputId": "f1f8e721-f444-4533-bf05-ac8bc3d0a851"
      },
      "outputs": [
        {
          "output_type": "execute_result",
          "data": {
            "text/plain": [
              "scipy.sparse.csr.csr_matrix"
            ]
          },
          "metadata": {},
          "execution_count": 78
        }
      ],
      "source": [
        "# Converting to sparse matrix\n",
        "from scipy.sparse import csr_matrix\n",
        "book_sparse = csr_matrix(Book_pivot)\n",
        "type(book_sparse)"
      ]
    },
    {
      "cell_type": "code",
      "execution_count": 79,
      "metadata": {
        "colab": {
          "base_uri": "https://localhost:8080/"
        },
        "id": "8uF9Z4YzSif0",
        "outputId": "5d0e433a-8760-444b-eff8-67577973d3e9"
      },
      "outputs": [
        {
          "output_type": "execute_result",
          "data": {
            "text/plain": [
              "NearestNeighbors(algorithm='brute')"
            ]
          },
          "metadata": {},
          "execution_count": 79
        }
      ],
      "source": [
        "# Importing the model library\n",
        "from sklearn.neighbors import NearestNeighbors\n",
        "#Creating an instance of KNN\n",
        "KNN_model = NearestNeighbors(algorithm='brute')\n",
        "#Fitting model\n",
        "KNN_model.fit(book_sparse)"
      ]
    },
    {
      "cell_type": "code",
      "execution_count": 80,
      "metadata": {
        "id": "wru26EVZqX9j"
      },
      "outputs": [],
      "source": [
        "# define fuction for for output\n",
        "def knn_recommendation(bookName,n):\n",
        "\n",
        "  ''' Take input as book name & Returns n book suggestion based on distance'''\n",
        "\n",
        "  print(\"KNN Model Based Recommendations:\\n\")\n",
        "\n",
        "  #Getting bookID\n",
        "  book_id= np.where(Book_pivot.index==bookName)[0][0]\n",
        "  #Storing distances and suggestions\n",
        "  distances, suggestions=KNN_model.kneighbors(Book_pivot.iloc[book_id, :].values.reshape(1,-1),n_neighbors=n+1)\n",
        "  #Flatten the array\n",
        "  suggestions=suggestions.flatten().tolist()\n",
        "  #Empty list to store recommended items\n",
        "  sim_items=[]\n",
        "  for i in range(len(suggestions)):\n",
        "    #If book is same as ser input\n",
        "    if i==0:\n",
        "      print(\"Recommended books for the book\",bookName,\"are:\\n\")\n",
        "    else:\n",
        "      print(Book_pivot.index[suggestions[i]])\n",
        "      #Append recommended books \n",
        "      sim_items.append(Book_pivot.index[suggestions[i]])\n",
        "  return sim_items"
      ]
    },
    {
      "cell_type": "code",
      "execution_count": 81,
      "metadata": {
        "colab": {
          "base_uri": "https://localhost:8080/"
        },
        "id": "tMlQKAhnsmxO",
        "outputId": "76894e75-6a06-47bd-e151-90d2492a6ff5"
      },
      "outputs": [
        {
          "output_type": "stream",
          "name": "stdout",
          "text": [
            "KNN Model Based Recommendations:\n",
            "\n",
            "Recommended books for the book Harry Potter and the Chamber of Secrets (Book 2) are:\n",
            "\n",
            "Harry Potter and the Prisoner of Azkaban (Book 3)\n",
            "Harry Potter and the Goblet of Fire (Book 4)\n",
            "Harry Potter and the Sorcerer's Stone (Harry Potter (Paperback))\n",
            "Harry Potter and the Sorcerer's Stone (Book 1)\n",
            "Dragons of Autumn Twilight (Dragonlance Chronicles, Vol 1)\n",
            "The Shelters of Stone (Earth's Children Series, No 5)\n",
            "Farmer Boy (Little House)\n",
            "The Eye of the World (The Wheel of Time, Book 1)\n",
            "The Secret of the Indian (Indian in the Cupboard)\n",
            "The First Four Years (Little House)\n"
          ]
        }
      ],
      "source": [
        "# Lets try our model\n",
        "knn_rec=knn_recommendation(book_name,number)"
      ]
    },
    {
      "cell_type": "markdown",
      "metadata": {
        "id": "O1Y2SBxXQ8zI"
      },
      "source": [
        "###Now we will implement the same algorithm using the metric cosine.\n"
      ]
    },
    {
      "cell_type": "code",
      "source": [
        "#Creating an instance of KNN\n",
        "cosine_model = NearestNeighbors(metric = 'cosine', algorithm = 'brute')\n",
        "#Fitting model\n",
        "cosine_model.fit(book_sparse)"
      ],
      "metadata": {
        "colab": {
          "base_uri": "https://localhost:8080/"
        },
        "id": "bXwRqPy1k-cp",
        "outputId": "fd0dad9b-0440-4418-d7ce-d5398155a390"
      },
      "execution_count": 82,
      "outputs": [
        {
          "output_type": "execute_result",
          "data": {
            "text/plain": [
              "NearestNeighbors(algorithm='brute', metric='cosine')"
            ]
          },
          "metadata": {},
          "execution_count": 82
        }
      ]
    },
    {
      "cell_type": "code",
      "execution_count": 83,
      "metadata": {
        "id": "svn0mBKERH2S"
      },
      "outputs": [],
      "source": [
        "# define fuction for for output\n",
        "def cosine_similairty_recommendation(bookName,number):\n",
        "\n",
        "  print(\"Cosine Similarity  Based Recommendations:\\n\")\n",
        "  print(\"Recommended books for the book\",bookName,\"are:\\n\")\n",
        "  #Store distances and indices of n neighbors\n",
        "  distances, indices = cosine_model.kneighbors(Book_pivot.loc[bookName].values.reshape(1, -1), n_neighbors = number+1)\n",
        "  #Empty list to store recommended items\n",
        "  sim_items=[]\n",
        "  for i in range(0, len(distances.flatten())):\n",
        "      #Avoiding recommending user input book\n",
        "      if i > 0:\n",
        "        print(Book_pivot.index[indices.flatten()[i]]) \n",
        "        #Append recommended items \n",
        "        sim_items.append(Book_pivot.index[indices.flatten()[i]])\n",
        "  return sim_items"
      ]
    },
    {
      "cell_type": "code",
      "execution_count": 84,
      "metadata": {
        "colab": {
          "base_uri": "https://localhost:8080/"
        },
        "id": "z9Bac_aJPj99",
        "outputId": "9ed202fc-0e9e-4782-f935-cfd63a2d4b55"
      },
      "outputs": [
        {
          "output_type": "stream",
          "name": "stdout",
          "text": [
            "Cosine Similarity  Based Recommendations:\n",
            "\n",
            "Recommended books for the book Harry Potter and the Chamber of Secrets (Book 2) are:\n",
            "\n",
            "Harry Potter and the Prisoner of Azkaban (Book 3)\n",
            "Harry Potter and the Goblet of Fire (Book 4)\n",
            "Harry Potter and the Sorcerer's Stone (Harry Potter (Paperback))\n",
            "Harry Potter and the Sorcerer's Stone (Book 1)\n",
            "Harry Potter and the Order of the Phoenix (Book 5)\n",
            "The Fellowship of the Ring (The Lord of the Rings, Part 1)\n",
            "Charlotte's Web (Trophy Newbery)\n",
            "Dragons of Autumn Twilight (Dragonlance Chronicles, Vol 1)\n",
            "Farmer Boy (Little House)\n",
            "The Eye of the World (The Wheel of Time, Book 1)\n"
          ]
        }
      ],
      "source": [
        "#calling function\n",
        "cosine_sim_rec=cosine_similairty_recommendation(book_name,number)"
      ]
    },
    {
      "cell_type": "markdown",
      "metadata": {
        "id": "jGYXwGaOT0xA"
      },
      "source": [
        "Great our model work pretty much good after comparing with another distance based model."
      ]
    }
  ]
}