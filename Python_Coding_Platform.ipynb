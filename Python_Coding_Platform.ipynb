{
  "nbformat": 4,
  "nbformat_minor": 0,
  "metadata": {
    "colab": {
      "provenance": [],
      "collapsed_sections": [],
      "authorship_tag": "ABX9TyMnrpGMFnTcCdqoFd1qHEbg",
      "include_colab_link": true
    },
    "kernelspec": {
      "name": "python3",
      "display_name": "Python 3"
    },
    "language_info": {
      "name": "python"
    }
  },
  "cells": [
    {
      "cell_type": "markdown",
      "metadata": {
        "id": "view-in-github",
        "colab_type": "text"
      },
      "source": [
        "<a href=\"https://colab.research.google.com/github/nivyathiruvoth/Book-Recommendation-System/blob/main/Python_Coding_Platform.ipynb\" target=\"_parent\"><img src=\"https://colab.research.google.com/assets/colab-badge.svg\" alt=\"Open In Colab\"/></a>"
      ]
    },
    {
      "cell_type": "markdown",
      "source": [
        "#1.check wether a number is perfect or not. Perfect number means it is equal to its divisors sum(except te number)."
      ],
      "metadata": {
        "id": "Dt_9BsXou8E-"
      }
    },
    {
      "cell_type": "code",
      "execution_count": null,
      "metadata": {
        "id": "CZ1Rxv0xpDCP",
        "colab": {
          "base_uri": "https://localhost:8080/"
        },
        "outputId": "ad3b70e0-fb34-4c48-fa46-8c76ff7ab74b"
      },
      "outputs": [
        {
          "output_type": "stream",
          "name": "stdout",
          "text": [
            "5\n",
            "5 is not a perfect number\n"
          ]
        }
      ],
      "source": [
        "def perfect_number(num):\n",
        "  '''This function takes an inpt integer and check if it is a perfect number or not'''\n",
        "  try:\n",
        "    n=int(num)\n",
        "    divisors=[]\n",
        "    for i in range(1,n):\n",
        "        if n%i==0:\n",
        "            divisors.append(i)\n",
        "    if n==sum(divisors):\n",
        "        print('{} is a perfect number'.format(n))\n",
        "    else:\n",
        "        print(\"{} is not a perfect number\".format(n))\n",
        "  except:\n",
        "    print(\"Wrong input type\")\n",
        "    print(\"Please give integer input\")\n",
        "    perfect_number(input())\n",
        "    \n",
        "perfect_number(input())"
      ]
    },
    {
      "cell_type": "code",
      "source": [
        "perfect_number(6)\n",
        "perfect_number(28)\n",
        "perfect_number(88)\n",
        "perfect_number(1256488)"
      ],
      "metadata": {
        "colab": {
          "base_uri": "https://localhost:8080/"
        },
        "id": "y7byV9PHpD37",
        "outputId": "c09d9467-99f7-4cab-b9bf-79e182fd89ef"
      },
      "execution_count": null,
      "outputs": [
        {
          "output_type": "stream",
          "name": "stdout",
          "text": [
            "6 is a perfect number\n",
            "28 is a perfect number\n",
            "88 is not a perfect number\n",
            "1256488 is not a perfect number\n"
          ]
        }
      ]
    },
    {
      "cell_type": "markdown",
      "source": [
        "#2.Print the reverse number"
      ],
      "metadata": {
        "id": "vrbZDJgevOfH"
      }
    },
    {
      "cell_type": "code",
      "source": [
        "num=input()\n",
        "\n",
        "def reverse_int(num):\n",
        "  '''This function takes integer as input and returns its reverse number'''\n",
        "  try:\n",
        "    reverse_num= int(num[::-1])\n",
        "    return reverse_num\n",
        "  except:\n",
        "    print(\"Wrong input type\")\n",
        "  finally:\n",
        "    print(\"Finished\")\n",
        "reverse_int(num)"
      ],
      "metadata": {
        "colab": {
          "base_uri": "https://localhost:8080/"
        },
        "id": "4lRYYex_qgjb",
        "outputId": "48f0ce64-de10-4468-cd2b-09ce3fb7293a"
      },
      "execution_count": null,
      "outputs": [
        {
          "output_type": "stream",
          "name": "stdout",
          "text": [
            "456\n",
            "Finished\n"
          ]
        },
        {
          "output_type": "execute_result",
          "data": {
            "text/plain": [
              "654"
            ]
          },
          "metadata": {},
          "execution_count": 3
        }
      ]
    },
    {
      "cell_type": "code",
      "source": [
        "def reverse_int(num):\n",
        "  '''This function takes integer as input and returns its reverse number'''\n",
        "  try:\n",
        "    reverse_num= int(num[::-1])\n",
        "    return reverse_num\n",
        "  except:\n",
        "    print(\"Wrong input type\")\n",
        "\n",
        "reverse_int(num)"
      ],
      "metadata": {
        "colab": {
          "base_uri": "https://localhost:8080/"
        },
        "id": "yTbFLoaQyx-e",
        "outputId": "37283bf2-18bb-4352-f703-22460cf34e0c"
      },
      "execution_count": null,
      "outputs": [
        {
          "output_type": "execute_result",
          "data": {
            "text/plain": [
              "654"
            ]
          },
          "metadata": {},
          "execution_count": 4
        }
      ]
    },
    {
      "cell_type": "markdown",
      "source": [
        "#3.Check whether a number is palindrom or not"
      ],
      "metadata": {
        "id": "zd1lDyJtvR7H"
      }
    },
    {
      "cell_type": "code",
      "source": [
        "num = 5665\n",
        "def check_palindrom(num):\n",
        "  '''This function takes integer as input and check if it is a palindrom or not'''\n",
        "  try:\n",
        "    if num==int(str(num)[::-1]):\n",
        "        print(\"True\")\n",
        "    else:\n",
        "        print(\"False\")\n",
        "  except:\n",
        "    print('wrong input')\n",
        "    print(\"Please give integer input\")\n",
        "    check_palindrom(input())\n",
        "\n",
        "check_palindrom(num)"
      ],
      "metadata": {
        "colab": {
          "base_uri": "https://localhost:8080/"
        },
        "id": "3SWoWZDxrIlA",
        "outputId": "285fe5bd-f85e-4e0e-f6f7-c48de36e42af"
      },
      "execution_count": null,
      "outputs": [
        {
          "output_type": "stream",
          "name": "stdout",
          "text": [
            "True\n"
          ]
        }
      ]
    },
    {
      "cell_type": "code",
      "source": [
        "check_palindrom('abc')"
      ],
      "metadata": {
        "colab": {
          "base_uri": "https://localhost:8080/"
        },
        "id": "xWzvQbMeyCLF",
        "outputId": "93e25150-0f4e-40f0-aee6-432dc6ffdcfc"
      },
      "execution_count": null,
      "outputs": [
        {
          "output_type": "stream",
          "name": "stdout",
          "text": [
            "wrong input\n",
            "Please give integer input\n",
            "898\n",
            "False\n"
          ]
        }
      ]
    },
    {
      "cell_type": "markdown",
      "source": [
        "#4.Write a program to input an integer N and print the sum of all its even digits and sum of all its odd digits separately."
      ],
      "metadata": {
        "id": "iWbp2VAvu6io"
      }
    },
    {
      "cell_type": "code",
      "source": [
        "num=123456789\n",
        "def odd_even_sum(num):\n",
        "  '''This function take integer value as input and return sum of its odd and even integers separatly'''\n",
        "  try:\n",
        "    odd_sum=0\n",
        "    even_sum=0\n",
        "    for i in str(num):\n",
        "        if int(i)%2==0:\n",
        "            even_sum+=int(i)\n",
        "        else:\n",
        "            odd_sum+=int(i)\n",
        "    print(\"even sum:\",even_sum,\"odd_sum:\",odd_sum)\n",
        "  except:\n",
        "    print(\"Wrong input type, please enter an integer\")\n",
        "    odd_even_sum(int(input()))\n",
        "\n",
        "odd_even_sum('abc')"
      ],
      "metadata": {
        "id": "zrLgxuhms3hO",
        "colab": {
          "base_uri": "https://localhost:8080/"
        },
        "outputId": "94dcac54-5802-492f-f311-7327209dc2a7"
      },
      "execution_count": null,
      "outputs": [
        {
          "output_type": "stream",
          "name": "stdout",
          "text": [
            "Wrong input type, please enter an integer\n",
            "12\n",
            "even sum: 2 odd_sum: 1\n"
          ]
        }
      ]
    },
    {
      "cell_type": "markdown",
      "source": [
        "#5.Remove given character from string"
      ],
      "metadata": {
        "id": "_r44F5ujc_iP"
      }
    },
    {
      "cell_type": "code",
      "source": [
        "string = 'AlmaBetter'\n",
        "ch = \"t\"\n",
        "def string_remover(string,ch):\n",
        "    string =string.lower().replace(ch,' ')\n",
        "    return string \n",
        "\n",
        "string_remover(string,ch)"
      ],
      "metadata": {
        "id": "-rS-frpnaF0n",
        "colab": {
          "base_uri": "https://localhost:8080/",
          "height": 35
        },
        "outputId": "c23ba175-b2ec-425b-cb01-6317f1cf0d48"
      },
      "execution_count": null,
      "outputs": [
        {
          "output_type": "execute_result",
          "data": {
            "text/plain": [
              "'almabe  er'"
            ],
            "application/vnd.google.colaboratory.intrinsic+json": {
              "type": "string"
            }
          },
          "metadata": {},
          "execution_count": 11
        }
      ]
    },
    {
      "cell_type": "markdown",
      "source": [
        "#6.Write a python program to find the last position of a given substring."
      ],
      "metadata": {
        "id": "mmP0K-Omf7c3"
      }
    },
    {
      "cell_type": "code",
      "source": [
        "str1 =\"Emma is a data scientist who knows Python. Emma works at google.\"\n",
        "substr=\"Emma\"\n",
        "\n",
        "def last_str_finder(string ,substr):\n",
        "    last_pos=string.rfind(substr)\n",
        "    return last_pos\n",
        "\n",
        "print('Last occurrence of {} starts at index {}'.format(substr,last_str_finder(str1,substr)))"
      ],
      "metadata": {
        "colab": {
          "base_uri": "https://localhost:8080/"
        },
        "id": "5dQQzFbOdCa2",
        "outputId": "40c1a650-004f-40db-ab16-5f0c43e8405d"
      },
      "execution_count": null,
      "outputs": [
        {
          "output_type": "stream",
          "name": "stdout",
          "text": [
            "Last occurrence of Emma starts at index 43\n"
          ]
        }
      ]
    },
    {
      "cell_type": "code",
      "source": [
        "str1.rfind(substr)"
      ],
      "metadata": {
        "colab": {
          "base_uri": "https://localhost:8080/"
        },
        "id": "jcz_-c6dgB9d",
        "outputId": "571be9d4-8994-4a51-89e1-4378b550c2ec"
      },
      "execution_count": null,
      "outputs": [
        {
          "output_type": "execute_result",
          "data": {
            "text/plain": [
              "43"
            ]
          },
          "metadata": {},
          "execution_count": 13
        }
      ]
    },
    {
      "cell_type": "markdown",
      "source": [
        "#7.Write a Python program to change the position of every nth value with the (n+1)th in a list."
      ],
      "metadata": {
        "id": "Me3chAPKqRi0"
      }
    },
    {
      "cell_type": "code",
      "source": [
        "lst=eval('[1, 0, 3, 2, 5, 4]')\n",
        "\n",
        "def pos_changer(lst):\n",
        "  i=0\n",
        "  while i<len(lst):\n",
        "    x=lst[i]\n",
        "    lst[i]=lst[i+1]\n",
        "    lst[i+1]=x\n",
        "    i+=2\n",
        "  print(lst)\n",
        "\n",
        "pos_changer(lst)"
      ],
      "metadata": {
        "colab": {
          "base_uri": "https://localhost:8080/"
        },
        "id": "obM1YkiLgtcN",
        "outputId": "656385c3-a11b-4d93-f0c8-a364f386a19e"
      },
      "execution_count": null,
      "outputs": [
        {
          "output_type": "stream",
          "name": "stdout",
          "text": [
            "[0, 1, 2, 3, 4, 5]\n"
          ]
        }
      ]
    },
    {
      "cell_type": "code",
      "source": [
        "lst=eval('[1, 0, 3, 2, 5, 4]')\n",
        "lst"
      ],
      "metadata": {
        "colab": {
          "base_uri": "https://localhost:8080/"
        },
        "id": "W4FhcxdWl5u-",
        "outputId": "c8425c59-3a4e-4b87-a12c-a59008356a3d"
      },
      "execution_count": null,
      "outputs": [
        {
          "output_type": "execute_result",
          "data": {
            "text/plain": [
              "[1, 0, 3, 2, 5, 4]"
            ]
          },
          "metadata": {},
          "execution_count": 15
        }
      ]
    },
    {
      "cell_type": "markdown",
      "source": [
        "#8.Common ones out"
      ],
      "metadata": {
        "id": "gxU4e44FXFmR"
      }
    },
    {
      "cell_type": "code",
      "source": [
        "#color1 = eval(input())\n",
        "#color2 = eval(input())"
      ],
      "metadata": {
        "id": "xQVJzGrLXDiU"
      },
      "execution_count": null,
      "outputs": []
    },
    {
      "cell_type": "code",
      "source": [
        "color1=[\"Red\", \"Green\", \"Orange\", \"White\"]\n",
        "color2=[\"Black\", \"Green\", \"White\", \"Pink\"]\n",
        "\n",
        "def common_out(lst1,lst2):\n",
        "  common=[]\n",
        "  for i in color1:\n",
        "    if i in color2:\n",
        "      common.append(i)\n",
        "  print(common)\n",
        "\n",
        "common_out(color1,color2)"
      ],
      "metadata": {
        "id": "GvYSW8alu3AN",
        "colab": {
          "base_uri": "https://localhost:8080/"
        },
        "outputId": "796c9b43-d222-4809-8371-891f1769e01c"
      },
      "execution_count": null,
      "outputs": [
        {
          "output_type": "stream",
          "name": "stdout",
          "text": [
            "['Green', 'White']\n"
          ]
        }
      ]
    },
    {
      "cell_type": "markdown",
      "source": [
        "#9.Difference between two lists"
      ],
      "metadata": {
        "id": "dMWMOKFtYUX-"
      }
    },
    {
      "cell_type": "code",
      "source": [
        "#L1 = eval(input())\n",
        "#L2 = eval(input())"
      ],
      "metadata": {
        "id": "e1qYFE4xYhLB"
      },
      "execution_count": null,
      "outputs": []
    },
    {
      "cell_type": "code",
      "source": [
        "L1=[\"red\", \"orange\", \"green\", \"blue\", \"white\"]\n",
        "\n",
        "L2=[\"black\", \"yellow\", \"green\", \"blue\"]\n",
        "\n",
        "def list_difference(lst1,lst2):\n",
        "  difference=[]\n",
        "  for i in L1:\n",
        "      if i not in L2:\n",
        "          difference.append(i)\n",
        "  for i in L2:\n",
        "      if i not in L1:\n",
        "          difference.append(i)\n",
        "  print(difference)\n",
        "\n",
        "list_difference(L1,L2)"
      ],
      "metadata": {
        "colab": {
          "base_uri": "https://localhost:8080/"
        },
        "id": "iQJIrlh-XHG9",
        "outputId": "9c83f9b2-6dc9-4f1d-be1a-7b70cfd4ad41"
      },
      "execution_count": null,
      "outputs": [
        {
          "output_type": "stream",
          "name": "stdout",
          "text": [
            "['red', 'orange', 'white', 'black', 'yellow']\n"
          ]
        }
      ]
    },
    {
      "cell_type": "code",
      "source": [
        "L1=[\"red\", \"orange\", \"green\", \"blue\", \"white\"]\n",
        "\n",
        "L2=[\"black\", \"yellow\", \"green\", \"blue\"]\n",
        "\n",
        "def list_difference(lst1,lst2):\n",
        "  L1_L2=[]\n",
        "  for i in L1:\n",
        "      if i not in L2:\n",
        "          L1_L2.append(i)\n",
        "\n",
        "  L2_L1=[]\n",
        "  for i in L2:\n",
        "      if i not in L1:\n",
        "          L2_L1.append(i)\n",
        "  \n",
        "  print(sorted(L1_L2))\n",
        "  print(L2_L1)\n",
        "\n",
        "list_difference(L1,L2)\n",
        "list_difference(L1,L2)\n"
      ],
      "metadata": {
        "colab": {
          "base_uri": "https://localhost:8080/"
        },
        "id": "Cru8jM3sYYiq",
        "outputId": "28d34e7b-dfd9-4c44-a562-15034b1665b4"
      },
      "execution_count": null,
      "outputs": [
        {
          "output_type": "stream",
          "name": "stdout",
          "text": [
            "['orange', 'red', 'white']\n",
            "['black', 'yellow']\n",
            "['orange', 'red', 'white']\n",
            "['black', 'yellow']\n"
          ]
        }
      ]
    },
    {
      "cell_type": "markdown",
      "source": [
        "#10.Find Tuple with smallest index"
      ],
      "metadata": {
        "id": "h6tri2JbeEsN"
      }
    },
    {
      "cell_type": "code",
      "source": [
        "x= [(4, 1), (1, 2), (6, 0)]\n",
        "index=0\n",
        "for i,j in enumerate(x):\n",
        "    if i==0:\n",
        "        index=j[1]\n",
        "        elem=j[0]\n",
        "    else:\n",
        "        if j[1]<index:\n",
        "          index=j[1]\n",
        "          elem=j[0]\n",
        "\n",
        "print((elem,index))"
      ],
      "metadata": {
        "colab": {
          "base_uri": "https://localhost:8080/"
        },
        "id": "ZUx_BJF0ZUP1",
        "outputId": "44a095f7-bb69-40f2-c738-5d5183860fd0"
      },
      "execution_count": null,
      "outputs": [
        {
          "output_type": "stream",
          "name": "stdout",
          "text": [
            "(6, 0)\n"
          ]
        }
      ]
    },
    {
      "cell_type": "markdown",
      "source": [
        "#11.string patter 1"
      ],
      "metadata": {
        "id": "7Ot3G6uovYyx"
      }
    },
    {
      "cell_type": "code",
      "source": [
        "n=5\n",
        "\n",
        "import string\n",
        "\n",
        "alphabets= list(string.ascii_uppercase)\n",
        "for i in range(0,n):\n",
        "  print(alphabets[i]*(i+1))"
      ],
      "metadata": {
        "colab": {
          "base_uri": "https://localhost:8080/"
        },
        "id": "pSFTyY0DwjFP",
        "outputId": "d53aaed1-cf33-46a4-e465-9d1b9a15b0a3"
      },
      "execution_count": null,
      "outputs": [
        {
          "output_type": "stream",
          "name": "stdout",
          "text": [
            "A\n",
            "BB\n",
            "CCC\n",
            "DDDD\n",
            "EEEEE\n"
          ]
        }
      ]
    },
    {
      "cell_type": "code",
      "source": [
        "n=5\n",
        "import string\n",
        "alphabets=string.ascii_uppercase\n",
        "\n",
        "for i in range(1,n+1):\n",
        "    print(alphabets[i-1]*i)\n"
      ],
      "metadata": {
        "colab": {
          "base_uri": "https://localhost:8080/"
        },
        "id": "kMIKoyMbaeUW",
        "outputId": "e9279998-e93e-48b7-d2e5-6863d52bfb57"
      },
      "execution_count": null,
      "outputs": [
        {
          "output_type": "stream",
          "name": "stdout",
          "text": [
            "A\n",
            "BB\n",
            "CCC\n",
            "DDDD\n",
            "EEEEE\n"
          ]
        }
      ]
    },
    {
      "cell_type": "markdown",
      "source": [
        "##12.String pattern 2"
      ],
      "metadata": {
        "id": "snXGgp-VcqRE"
      }
    },
    {
      "cell_type": "code",
      "source": [
        "n=5\n",
        "import string\n",
        "alphabets=string.ascii_uppercase\n",
        "for i in range(n):\n",
        "    x=alphabets[i:]\n",
        "    print(x[:i+1])\n"
      ],
      "metadata": {
        "colab": {
          "base_uri": "https://localhost:8080/"
        },
        "id": "mcUtoNPMb1WL",
        "outputId": "aa3b62d1-dbc0-4882-d5ec-1caddc92cb5f"
      },
      "execution_count": 2,
      "outputs": [
        {
          "output_type": "stream",
          "name": "stdout",
          "text": [
            "A\n",
            "BC\n",
            "CDE\n",
            "DEFG\n",
            "EFGHI\n"
          ]
        }
      ]
    },
    {
      "cell_type": "markdown",
      "source": [
        "##13.String pattern 3"
      ],
      "metadata": {
        "id": "-vSkHUKzjYkG"
      }
    },
    {
      "cell_type": "code",
      "source": [
        "alphabets= string.ascii_uppercase\n",
        "\n",
        "for i in range(0,n+1): \n",
        "  print(alphabets[:i])\n",
        "  alphabets=alphabets[i:]"
      ],
      "metadata": {
        "colab": {
          "base_uri": "https://localhost:8080/"
        },
        "id": "eth89TXn5WeX",
        "outputId": "1bff1265-85e9-4148-fd31-2ea5f15e1a0b"
      },
      "execution_count": 3,
      "outputs": [
        {
          "output_type": "stream",
          "name": "stdout",
          "text": [
            "\n",
            "A\n",
            "BC\n",
            "DEF\n",
            "GHIJ\n",
            "KLMNO\n"
          ]
        }
      ]
    }
  ]
}