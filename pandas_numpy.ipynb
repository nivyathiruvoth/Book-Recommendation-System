{
  "nbformat": 4,
  "nbformat_minor": 0,
  "metadata": {
    "colab": {
      "provenance": [],
      "collapsed_sections": [],
      "authorship_tag": "ABX9TyNLQohH1d/UA0zEWIUH/apQ",
      "include_colab_link": true
    },
    "kernelspec": {
      "name": "python3",
      "display_name": "Python 3"
    },
    "language_info": {
      "name": "python"
    }
  },
  "cells": [
    {
      "cell_type": "markdown",
      "metadata": {
        "id": "view-in-github",
        "colab_type": "text"
      },
      "source": [
        "<a href=\"https://colab.research.google.com/github/nivyathiruvoth/Book-Recommendation-System/blob/main/pandas_numpy.ipynb\" target=\"_parent\"><img src=\"https://colab.research.google.com/assets/colab-badge.svg\" alt=\"Open In Colab\"/></a>"
      ]
    },
    {
      "cell_type": "markdown",
      "source": [
        "##1 Write a code to output repeated numbers in an array"
      ],
      "metadata": {
        "id": "3aUWlLqIlacG"
      }
    },
    {
      "cell_type": "code",
      "execution_count": null,
      "metadata": {
        "colab": {
          "base_uri": "https://localhost:8080/"
        },
        "id": "zBU6xScbLbOD",
        "outputId": "b2ba1cfb-f8e5-441c-8ea3-3aace9aa5524"
      },
      "outputs": [
        {
          "output_type": "stream",
          "name": "stdout",
          "text": [
            "please enter the size of array: 5\n",
            "please enter the element of array element between 0 to 4 :4\n",
            "please enter the element of array element between 0 to 4 :4\n",
            "please enter the element of array element between 0 to 4 :2\n",
            "please enter the element of array element between 0 to 4 :2\n",
            "please enter the element of array element between 0 to 4 :1\n",
            "4 is repeated 2 times\n",
            "2 is repeated 2 times\n"
          ]
        }
      ],
      "source": [
        "# Write Your Code Here\n",
        "import numpy as np\n",
        "\n",
        "n=int(input(\"please enter the size of array: \" ))\n",
        "\n",
        "def create_array(n):\n",
        "  arr=np.array([],dtype=int)\n",
        "  for i in range(n):\n",
        "    arr=np.append(arr,[int(input(\"please enter the element of array element between 0 to 4 :\"))])\n",
        "  return arr\n",
        "\n",
        "arr=create_array(n)\n",
        "\n",
        "dict={}\n",
        "for i in arr:\n",
        "  if i not in dict.keys():\n",
        "    dict[i]=1\n",
        "  else:\n",
        "    dict[i]=dict[i]+1\n",
        "\n",
        "for i,count in dict.items():\n",
        "  if count>1:\n",
        "    print('{} is repeated {} times'.format(i,count))"
      ]
    },
    {
      "cell_type": "markdown",
      "source": [
        "#2 take a user input string and convet the chaacters into series"
      ],
      "metadata": {
        "id": "av97yf-Ln8DK"
      }
    },
    {
      "cell_type": "code",
      "source": [
        "import pandas as pd\n",
        "inp='dgjbkjnk'\n",
        "list1=list(inp)\n",
        "ser=pd.Series(list1)\n",
        "ser.name='alphabets'\n",
        "print(ser)"
      ],
      "metadata": {
        "colab": {
          "base_uri": "https://localhost:8080/"
        },
        "id": "kDolvck567Gd",
        "outputId": "bba5bf23-4e6e-44e3-8e65-422d67a445ab"
      },
      "execution_count": null,
      "outputs": [
        {
          "output_type": "stream",
          "name": "stdout",
          "text": [
            "0    d\n",
            "1    g\n",
            "2    j\n",
            "3    b\n",
            "4    k\n",
            "5    j\n",
            "6    n\n",
            "7    k\n",
            "Name: alphabets, dtype: object\n"
          ]
        }
      ]
    },
    {
      "cell_type": "markdown",
      "source": [
        "#Or"
      ],
      "metadata": {
        "id": "LKlcvIq3k4nD"
      }
    },
    {
      "cell_type": "code",
      "source": [
        "import pandas as pd\n",
        "inp='dgjbkjnk'\n",
        "list1=list(inp)\n",
        "ser=pd.Series(list1,name='alphabets')\n",
        "print(ser)"
      ],
      "metadata": {
        "id": "E9FhT9QviGqx",
        "outputId": "2b1a5e02-7af1-48d5-eaac-07a903784d1d",
        "colab": {
          "base_uri": "https://localhost:8080/"
        }
      },
      "execution_count": null,
      "outputs": [
        {
          "output_type": "stream",
          "name": "stdout",
          "text": [
            "0    d\n",
            "1    g\n",
            "2    j\n",
            "3    b\n",
            "4    k\n",
            "5    j\n",
            "6    n\n",
            "7    k\n",
            "Name: alphabets, dtype: object\n"
          ]
        }
      ]
    },
    {
      "cell_type": "markdown",
      "source": [
        "#3 create dataframe from dictionary"
      ],
      "metadata": {
        "id": "9Xf3bNPgkSE6"
      }
    },
    {
      "cell_type": "code",
      "source": [
        "import pandas as pd\n",
        "import numpy as np\n",
        "data={'animal':['cat','dog','snake'],\n",
        "      'age':[5,7,0.5],\n",
        "      'visists':[1,3,3],\n",
        "      'priority':['yes','no',np.nan]}\n",
        "labels=['a','b','c']\n",
        "\n",
        "df = pd.DataFrame(data)\n"
      ],
      "metadata": {
        "id": "eaIjfhTL1Ul7"
      },
      "execution_count": null,
      "outputs": []
    },
    {
      "cell_type": "code",
      "source": [
        "index = pd.Index(labels)\n",
        "\n",
        "df = df.set_index(index)\n",
        "#Or \n",
        "df = pd.DataFrame(data,index=labels)\n",
        "\n",
        "df.describe()"
      ],
      "metadata": {
        "colab": {
          "base_uri": "https://localhost:8080/",
          "height": 300
        },
        "id": "q6kUAaHRkgrP",
        "outputId": "bf30e084-b2dc-403d-ad8b-f05ea9f99c11"
      },
      "execution_count": null,
      "outputs": [
        {
          "output_type": "execute_result",
          "data": {
            "text/plain": [
              "            age   visists\n",
              "count  3.000000  3.000000\n",
              "mean   4.166667  2.333333\n",
              "std    3.329164  1.154701\n",
              "min    0.500000  1.000000\n",
              "25%    2.750000  2.000000\n",
              "50%    5.000000  3.000000\n",
              "75%    6.000000  3.000000\n",
              "max    7.000000  3.000000"
            ],
            "text/html": [
              "\n",
              "  <div id=\"df-37e42b6c-e6da-47b6-9d67-4c99753a0140\">\n",
              "    <div class=\"colab-df-container\">\n",
              "      <div>\n",
              "<style scoped>\n",
              "    .dataframe tbody tr th:only-of-type {\n",
              "        vertical-align: middle;\n",
              "    }\n",
              "\n",
              "    .dataframe tbody tr th {\n",
              "        vertical-align: top;\n",
              "    }\n",
              "\n",
              "    .dataframe thead th {\n",
              "        text-align: right;\n",
              "    }\n",
              "</style>\n",
              "<table border=\"1\" class=\"dataframe\">\n",
              "  <thead>\n",
              "    <tr style=\"text-align: right;\">\n",
              "      <th></th>\n",
              "      <th>age</th>\n",
              "      <th>visists</th>\n",
              "    </tr>\n",
              "  </thead>\n",
              "  <tbody>\n",
              "    <tr>\n",
              "      <th>count</th>\n",
              "      <td>3.000000</td>\n",
              "      <td>3.000000</td>\n",
              "    </tr>\n",
              "    <tr>\n",
              "      <th>mean</th>\n",
              "      <td>4.166667</td>\n",
              "      <td>2.333333</td>\n",
              "    </tr>\n",
              "    <tr>\n",
              "      <th>std</th>\n",
              "      <td>3.329164</td>\n",
              "      <td>1.154701</td>\n",
              "    </tr>\n",
              "    <tr>\n",
              "      <th>min</th>\n",
              "      <td>0.500000</td>\n",
              "      <td>1.000000</td>\n",
              "    </tr>\n",
              "    <tr>\n",
              "      <th>25%</th>\n",
              "      <td>2.750000</td>\n",
              "      <td>2.000000</td>\n",
              "    </tr>\n",
              "    <tr>\n",
              "      <th>50%</th>\n",
              "      <td>5.000000</td>\n",
              "      <td>3.000000</td>\n",
              "    </tr>\n",
              "    <tr>\n",
              "      <th>75%</th>\n",
              "      <td>6.000000</td>\n",
              "      <td>3.000000</td>\n",
              "    </tr>\n",
              "    <tr>\n",
              "      <th>max</th>\n",
              "      <td>7.000000</td>\n",
              "      <td>3.000000</td>\n",
              "    </tr>\n",
              "  </tbody>\n",
              "</table>\n",
              "</div>\n",
              "      <button class=\"colab-df-convert\" onclick=\"convertToInteractive('df-37e42b6c-e6da-47b6-9d67-4c99753a0140')\"\n",
              "              title=\"Convert this dataframe to an interactive table.\"\n",
              "              style=\"display:none;\">\n",
              "        \n",
              "  <svg xmlns=\"http://www.w3.org/2000/svg\" height=\"24px\"viewBox=\"0 0 24 24\"\n",
              "       width=\"24px\">\n",
              "    <path d=\"M0 0h24v24H0V0z\" fill=\"none\"/>\n",
              "    <path d=\"M18.56 5.44l.94 2.06.94-2.06 2.06-.94-2.06-.94-.94-2.06-.94 2.06-2.06.94zm-11 1L8.5 8.5l.94-2.06 2.06-.94-2.06-.94L8.5 2.5l-.94 2.06-2.06.94zm10 10l.94 2.06.94-2.06 2.06-.94-2.06-.94-.94-2.06-.94 2.06-2.06.94z\"/><path d=\"M17.41 7.96l-1.37-1.37c-.4-.4-.92-.59-1.43-.59-.52 0-1.04.2-1.43.59L10.3 9.45l-7.72 7.72c-.78.78-.78 2.05 0 2.83L4 21.41c.39.39.9.59 1.41.59.51 0 1.02-.2 1.41-.59l7.78-7.78 2.81-2.81c.8-.78.8-2.07 0-2.86zM5.41 20L4 18.59l7.72-7.72 1.47 1.35L5.41 20z\"/>\n",
              "  </svg>\n",
              "      </button>\n",
              "      \n",
              "  <style>\n",
              "    .colab-df-container {\n",
              "      display:flex;\n",
              "      flex-wrap:wrap;\n",
              "      gap: 12px;\n",
              "    }\n",
              "\n",
              "    .colab-df-convert {\n",
              "      background-color: #E8F0FE;\n",
              "      border: none;\n",
              "      border-radius: 50%;\n",
              "      cursor: pointer;\n",
              "      display: none;\n",
              "      fill: #1967D2;\n",
              "      height: 32px;\n",
              "      padding: 0 0 0 0;\n",
              "      width: 32px;\n",
              "    }\n",
              "\n",
              "    .colab-df-convert:hover {\n",
              "      background-color: #E2EBFA;\n",
              "      box-shadow: 0px 1px 2px rgba(60, 64, 67, 0.3), 0px 1px 3px 1px rgba(60, 64, 67, 0.15);\n",
              "      fill: #174EA6;\n",
              "    }\n",
              "\n",
              "    [theme=dark] .colab-df-convert {\n",
              "      background-color: #3B4455;\n",
              "      fill: #D2E3FC;\n",
              "    }\n",
              "\n",
              "    [theme=dark] .colab-df-convert:hover {\n",
              "      background-color: #434B5C;\n",
              "      box-shadow: 0px 1px 3px 1px rgba(0, 0, 0, 0.15);\n",
              "      filter: drop-shadow(0px 1px 2px rgba(0, 0, 0, 0.3));\n",
              "      fill: #FFFFFF;\n",
              "    }\n",
              "  </style>\n",
              "\n",
              "      <script>\n",
              "        const buttonEl =\n",
              "          document.querySelector('#df-37e42b6c-e6da-47b6-9d67-4c99753a0140 button.colab-df-convert');\n",
              "        buttonEl.style.display =\n",
              "          google.colab.kernel.accessAllowed ? 'block' : 'none';\n",
              "\n",
              "        async function convertToInteractive(key) {\n",
              "          const element = document.querySelector('#df-37e42b6c-e6da-47b6-9d67-4c99753a0140');\n",
              "          const dataTable =\n",
              "            await google.colab.kernel.invokeFunction('convertToInteractive',\n",
              "                                                     [key], {});\n",
              "          if (!dataTable) return;\n",
              "\n",
              "          const docLinkHtml = 'Like what you see? Visit the ' +\n",
              "            '<a target=\"_blank\" href=https://colab.research.google.com/notebooks/data_table.ipynb>data table notebook</a>'\n",
              "            + ' to learn more about interactive tables.';\n",
              "          element.innerHTML = '';\n",
              "          dataTable['output_type'] = 'display_data';\n",
              "          await google.colab.output.renderOutput(dataTable, element);\n",
              "          const docLink = document.createElement('div');\n",
              "          docLink.innerHTML = docLinkHtml;\n",
              "          element.appendChild(docLink);\n",
              "        }\n",
              "      </script>\n",
              "    </div>\n",
              "  </div>\n",
              "  "
            ]
          },
          "metadata": {},
          "execution_count": 3
        }
      ]
    },
    {
      "cell_type": "markdown",
      "source": [
        "![t4n.JPG](data:image/jpeg;base64,/9j/4AAQSkZJRgABAQEAYABgAAD/4RDSRXhpZgAATU0AKgAAAAgABAE7AAIAAAAEbW15AIdpAAQAAAABAAAISpydAAEAAAAIAAAQwuocAAcAAAgMAAAAPgAAAAAc6gAAAAgAAAAAAAAAAAAAAAAAAAAAAAAAAAAAAAAAAAAAAAAAAAAAAAAAAAAAAAAAAAAAAAAAAAAAAAAAAAAAAAAAAAAAAAAAAAAAAAAAAAAAAAAAAAAAAAAAAAAAAAAAAAAAAAAAAAAAAAAAAAAAAAAAAAAAAAAAAAAAAAAAAAAAAAAAAAAAAAAAAAAAAAAAAAAAAAAAAAAAAAAAAAAAAAAAAAAAAAAAAAAAAAAAAAAAAAAAAAAAAAAAAAAAAAAAAAAAAAAAAAAAAAAAAAAAAAAAAAAAAAAAAAAAAAAAAAAAAAAAAAAAAAAAAAAAAAAAAAAAAAAAAAAAAAAAAAAAAAAAAAAAAAAAAAAAAAAAAAAAAAAAAAAAAAAAAAAAAAAAAAAAAAAAAAAAAAAAAAAAAAAAAAAAAAAAAAAAAAAAAAAAAAAAAAAAAAAAAAAAAAAAAAAAAAAAAAAAAAAAAAAAAAAAAAAAAAAAAAAAAAAAAAAAAAAAAAAAAAAAAAAAAAAAAAAAAAAAAAAAAAAAAAAAAAAAAAAAAAAAAAAAAAAAAAAAAAAAAAAAAAAAAAAAAAAAAAAAAAAAAAAAAAAAAAAAAAAAAAAAAAAAAAAAAAAAAAAAAAAAAAAAAAAAAAAAAAAAAAAAAAAAAAAAAAAAAAAAAAAAAAAAAAAAAAAAAAAAAAAAAAAAAAAAAAAAAAAAAAAAAAAAAAAAAAAAAAAAAAAAAAAAAAAAAAAAAAAAAAAAAAAAAAAAAAAAAAAAAAAAAAAAAAAAAAAAAAAAAAAAAAAAAAAAAAAAAAAAAAAAAAAAAAAAAAAAAAAAAAAAAAAAAAAAAAAAAAAAAAAAAAAAAAAAAAAAAAAAAAAAAAAAAAAAAAAAAAAAAAAAAAAAAAAAAAAAAAAAAAAAAAAAAAAAAAAAAAAAAAAAAAAAAAAAAAAAAAAAAAAAAAAAAAAAAAAAAAAAAAAAAAAAAAAAAAAAAAAAAAAAAAAAAAAAAAAAAAAAAAAAAAAAAAAAAAAAAAAAAAAAAAAAAAAAAAAAAAAAAAAAAAAAAAAAAAAAAAAAAAAAAAAAAAAAAAAAAAAAAAAAAAAAAAAAAAAAAAAAAAAAAAAAAAAAAAAAAAAAAAAAAAAAAAAAAAAAAAAAAAAAAAAAAAAAAAAAAAAAAAAAAAAAAAAAAAAAAAAAAAAAAAAAAAAAAAAAAAAAAAAAAAAAAAAAAAAAAAAAAAAAAAAAAAAAAAAAAAAAAAAAAAAAAAAAAAAAAAAAAAAAAAAAAAAAAAAAAAAAAAAAAAAAAAAAAAAAAAAAAAAAAAAAAAAAAAAAAAAAAAAAAAAAAAAAAAAAAAAAAAAAAAAAAAAAAAAAAAAAAAAAAAAAAAAAAAAAAAAAAAAAAAAAAAAAAAAAAAAAAAAAAAAAAAAAAAAAAAAAAAAAAAAAAAAAAAAAAAAAAAAAAAAAAAAAAAAAAAAAAAAAAAAAAAAAAAAAAAAAAAAAAAAAAAAAAAAAAAAAAAAAAAAAAAAAAAAAAAAAAAAAAAAAAAAAAAAAAAAAAAAAAAAAAAAAAAAAAAAAAAAAAAAAAAAAAAAAAAAAAAAAAAAAAAAAAAAAAAAAAAAAAAAAAAAAAAAAAAAAAAAAAAAAAAAAAAAAAAAAAAAAAAAAAAAAAAAAAAAAAAAAAAAAAAAAAAAAAAAAAAAAAAAAAAAAAAAAAAAAAAAAAAAAAAAAAAAAAAAAAAAAAAAAAAAAAAAAAAAAAAAAAAAAAAAAAAAAAAAAAAAAAAAAAAAAAAAAAAAAAAAAAAAAAAAAAAAAAAAAAAAAAAAAAAAAAAAAAAAAAAAAAAAAAAAAAAAAAAAAAAAAAAAAAAAAAAAAAAAAAAAAAAAAAAAAAAAAAAAAAAAAAAAAAAAAAAAAAAAAAAAAAAAAAAAAAAAAAAAAAAAAAAAAAAAAAAAAAAAAAAAAAAAAAAAAAAAAAAAAAAAAAAAAAAAAAAAAAAAAAAAAAAAAAAAAAAAAAAAAAAAAAAAAAAAAAAAAAAAAAAAAAAAAAAAAAAAAAAAAAAAAAAAAAAAAAAAAAAAAAAAAAAAAAAAAAAAAAAAAAAAAAAAAAAAAAAAAAAAAAAAAAAAAAAAAAAAAAAAAAAAAAAAAAAAAAAAAAAAAAAAAAAAAAAAAAAAAAAAAAAAAAAAAAAAAAAAAAAAAAAAAAAAAAAAAAAAAAAAAAAAAAAAAAAAAAAAAAAAAAAAAAAAAAAAAAAAAAAAAAAAAAAAAAAAAAAAAAAAAAAAAAAAAAAAAAAAAAAAAAAAAAAAAAAAAAAAAAAAAAAAAAAAAAAAAAAAAAAAAAAAAAAAAAAAAAAAAAAAAAAAAAAAAAAAAAAAAAAAAAAAAAAAAAAAAAAAAAAAAAAAAAAAAAAAAAAAAAAAAAAAAAAAAAAAAAAAAAAAAAAAAAAAAAAAAAAAAAAAAAAAAAAAAAAAAAAAAAAAAAAAAAAAAAAAAAAAAAAAAAAAAAAAAAAAAAAAAAAAAAAAAAAAAAAAAAAAAAAAAAAAAAAAAAAAAAAAAAAAAAAAAAAAAAAAAAAAAAAAAAAAAAAAAAAAAAAAAAAAAAAAAAAAAAAAAAAAAAAAAAAAAAAAAAAAAAAAAAAAAAAAAAAAAAAAAAAAAAAAAAAAAAAAAAAAAAAAAAAAAAAAAAAAAAAAAAAAAAAAAAAAAAAAAAAAAAAAAAAAAAAAAAAAAAAAAAAAAAAAAAAAAAAAAAAAAAAAAAAAAAAAAAAAFkAMAAgAAABQAABCYkAQAAgAAABQAABCskpEAAgAAAAMwMwAAkpIAAgAAAAMwMwAA6hwABwAACAwAAAiMAAAAABzqAAAACAAAAAAAAAAAAAAAAAAAAAAAAAAAAAAAAAAAAAAAAAAAAAAAAAAAAAAAAAAAAAAAAAAAAAAAAAAAAAAAAAAAAAAAAAAAAAAAAAAAAAAAAAAAAAAAAAAAAAAAAAAAAAAAAAAAAAAAAAAAAAAAAAAAAAAAAAAAAAAAAAAAAAAAAAAAAAAAAAAAAAAAAAAAAAAAAAAAAAAAAAAAAAAAAAAAAAAAAAAAAAAAAAAAAAAAAAAAAAAAAAAAAAAAAAAAAAAAAAAAAAAAAAAAAAAAAAAAAAAAAAAAAAAAAAAAAAAAAAAAAAAAAAAAAAAAAAAAAAAAAAAAAAAAAAAAAAAAAAAAAAAAAAAAAAAAAAAAAAAAAAAAAAAAAAAAAAAAAAAAAAAAAAAAAAAAAAAAAAAAAAAAAAAAAAAAAAAAAAAAAAAAAAAAAAAAAAAAAAAAAAAAAAAAAAAAAAAAAAAAAAAAAAAAAAAAAAAAAAAAAAAAAAAAAAAAAAAAAAAAAAAAAAAAAAAAAAAAAAAAAAAAAAAAAAAAAAAAAAAAAAAAAAAAAAAAAAAAAAAAAAAAAAAAAAAAAAAAAAAAAAAAAAAAAAAAAAAAAAAAAAAAAAAAAAAAAAAAAAAAAAAAAAAAAAAAAAAAAAAAAAAAAAAAAAAAAAAAAAAAAAAAAAAAAAAAAAAAAAAAAAAAAAAAAAAAAAAAAAAAAAAAAAAAAAAAAAAAAAAAAAAAAAAAAAAAAAAAAAAAAAAAAAAAAAAAAAAAAAAAAAAAAAAAAAAAAAAAAAAAAAAAAAAAAAAAAAAAAAAAAAAAAAAAAAAAAAAAAAAAAAAAAAAAAAAAAAAAAAAAAAAAAAAAAAAAAAAAAAAAAAAAAAAAAAAAAAAAAAAAAAAAAAAAAAAAAAAAAAAAAAAAAAAAAAAAAAAAAAAAAAAAAAAAAAAAAAAAAAAAAAAAAAAAAAAAAAAAAAAAAAAAAAAAAAAAAAAAAAAAAAAAAAAAAAAAAAAAAAAAAAAAAAAAAAAAAAAAAAAAAAAAAAAAAAAAAAAAAAAAAAAAAAAAAAAAAAAAAAAAAAAAAAAAAAAAAAAAAAAAAAAAAAAAAAAAAAAAAAAAAAAAAAAAAAAAAAAAAAAAAAAAAAAAAAAAAAAAAAAAAAAAAAAAAAAAAAAAAAAAAAAAAAAAAAAAAAAAAAAAAAAAAAAAAAAAAAAAAAAAAAAAAAAAAAAAAAAAAAAAAAAAAAAAAAAAAAAAAAAAAAAAAAAAAAAAAAAAAAAAAAAAAAAAAAAAAAAAAAAAAAAAAAAAAAAAAAAAAAAAAAAAAAAAAAAAAAAAAAAAAAAAAAAAAAAAAAAAAAAAAAAAAAAAAAAAAAAAAAAAAAAAAAAAAAAAAAAAAAAAAAAAAAAAAAAAAAAAAAAAAAAAAAAAAAAAAAAAAAAAAAAAAAAAAAAAAAAAAAAAAAAAAAAAAAAAAAAAAAAAAAAAAAAAAAAAAAAAAAAAAAAAAAAAAAAAAAAAAAAAAAAAAAAAAAAAAAAAAAAAAAAAAAAAAAAAAAAAAAAAAAAAAAAAAAAAAAAAAAAAAAAAAAAAAAAAAAAAAAAAAAAAAAAAAAAAAAAAAAAAAAAAAAAAAAAAAAAAAAAAAAAAAAAAAAAAAAAAAAAAAAAAAAAAAAAAAAAAAAAAAAAAAAAAAAAAAAAAAAAAAAAAAAAAAAAAAAAAAAAAAAAAAAAAAAAAAAAAAAAAAAAAAAAAAAAAAAAAAAAAAAAAAAAAAAAAAAAAAAAAAAAAAAAAAAAAAAAAAAAAAAAAAAAAAAAAAAAAAAAAAAAAAAAAAAAAAAAAAAAAAAAAAAAAAAAAAAAAAAAAAAAAAAAAAAAAAAAAAAAAAAAAAAAAAAAAAAAAAAAAAAAAAAAAAAAAAAAAAAAAAAAAAAAAAAAAAAAAAAAAAAAAAAAAAAAAAAAAAAAAAAAAAAAAAAAAAAAAAAAAAAAAAAAAAAAAAAAAAAAAAAAAAAAAAAAAAAAAAAAAAAAAAAAAAAAAAAAAAAAAAAAAAAAAAAAAAAAAAAAAAAAAAAAAAAAAAAAAAAAAAAAAAAAAAAAAAAAAAAAAAAAAAAAAAAAAAAAAAAAAAAAAAAAAAAAAAAAAAAAAAAAAAAAAAAAAAAAAAAAAAAAAAAAAAAAAAAAAAAAAAAAAAAAAAAAAAAAAAAAAAAAAAAAAAAAAAAAAAAAAAAAAAAAAAAAAAAAAAAAAAAAAAAAAAAAAAAAAAAAAAAAAAAAAAAAAAAAAAAAAAAAAAAAAAAAAAAAAAAAAAAAAAAAAAAAAAAAAAAAAAAAAAAAAAAAAAAAAAAAAAAAAAAAAAAAAAAAAAAAAAAAAAAAAAAAAAAAAAAAAAAAAAAAAAAAAAAAAAAAAAAAAAAAAAAAAAAAAAAAAAAAAAAAAAAAAAAAAAAAAAAAAAAAAAAAAAAAAAAAAAAAAAAAAAAAAAAAAAAAAAAAAAAAAAAAAAAAAAAAAAAAAAAAAAAAAAAAAAAAAAAAAAAAAAAAAAAAAAAAAAAAAAAAAAAAAAAAAAAAAAAAAAAAAAAAAAAAAAAAAAAAAAAAAAAAAAAAAAAAAAAAAAAAAAAAAAAAAAAAAAAAAAAAAAAAAAAAAAAAAAAAAAAAAAAAAAAAAAAAAAAAAAAAAAAAAAAAAAAAAAAAAAAAAAAAAAAAAAAAAAAAAAAAAAAAAAAAAAAAAAAAAAAAAAAAAAAAAAAAAAAAAAAAAAAAAAAAAAAAAMjAyMjowOToyMyAxMzo1Mjo0NAAyMDIyOjA5OjIzIDEzOjUyOjQ0AAAAbQBtAHkAAAD/4QsWaHR0cDovL25zLmFkb2JlLmNvbS94YXAvMS4wLwA8P3hwYWNrZXQgYmVnaW49J++7vycgaWQ9J1c1TTBNcENlaGlIenJlU3pOVGN6a2M5ZCc/Pg0KPHg6eG1wbWV0YSB4bWxuczp4PSJhZG9iZTpuczptZXRhLyI+PHJkZjpSREYgeG1sbnM6cmRmPSJodHRwOi8vd3d3LnczLm9yZy8xOTk5LzAyLzIyLXJkZi1zeW50YXgtbnMjIj48cmRmOkRlc2NyaXB0aW9uIHJkZjphYm91dD0idXVpZDpmYWY1YmRkNS1iYTNkLTExZGEtYWQzMS1kMzNkNzUxODJmMWIiIHhtbG5zOmRjPSJodHRwOi8vcHVybC5vcmcvZGMvZWxlbWVudHMvMS4xLyIvPjxyZGY6RGVzY3JpcHRpb24gcmRmOmFib3V0PSJ1dWlkOmZhZjViZGQ1LWJhM2QtMTFkYS1hZDMxLWQzM2Q3NTE4MmYxYiIgeG1sbnM6eG1wPSJodHRwOi8vbnMuYWRvYmUuY29tL3hhcC8xLjAvIj48eG1wOkNyZWF0ZURhdGU+MjAyMi0wOS0yM1QxMzo1Mjo0NC4wMjc8L3htcDpDcmVhdGVEYXRlPjwvcmRmOkRlc2NyaXB0aW9uPjxyZGY6RGVzY3JpcHRpb24gcmRmOmFib3V0PSJ1dWlkOmZhZjViZGQ1LWJhM2QtMTFkYS1hZDMxLWQzM2Q3NTE4MmYxYiIgeG1sbnM6ZGM9Imh0dHA6Ly9wdXJsLm9yZy9kYy9lbGVtZW50cy8xLjEvIj48ZGM6Y3JlYXRvcj48cmRmOlNlcSB4bWxuczpyZGY9Imh0dHA6Ly93d3cudzMub3JnLzE5OTkvMDIvMjItcmRmLXN5bnRheC1ucyMiPjxyZGY6bGk+bW15PC9yZGY6bGk+PC9yZGY6U2VxPg0KCQkJPC9kYzpjcmVhdG9yPjwvcmRmOkRlc2NyaXB0aW9uPjwvcmRmOlJERj48L3g6eG1wbWV0YT4NCiAgICAgICAgICAgICAgICAgICAgICAgICAgICAgICAgICAgICAgICAgICAgICAgICAgICAgICAgICAgICAgICAgICAgICAgICAgICAgICAgICAgICAgICAgICAgICAgICAgICAKICAgICAgICAgICAgICAgICAgICAgICAgICAgICAgICAgICAgICAgICAgICAgICAgICAgICAgICAgICAgICAgICAgICAgICAgICAgICAgICAgICAgICAgICAgICAgICAgICAgIAogICAgICAgICAgICAgICAgICAgICAgICAgICAgICAgICAgICAgICAgICAgICAgICAgICAgICAgICAgICAgICAgICAgICAgICAgICAgICAgICAgICAgICAgICAgICAgICAgICAgCiAgICAgICAgICAgICAgICAgICAgICAgICAgICAgICAgICAgICAgICAgICAgICAgICAgICAgICAgICAgICAgICAgICAgICAgICAgICAgICAgICAgICAgICAgICAgICAgICAgICAKICAgICAgICAgICAgICAgICAgICAgICAgICAgICAgICAgICAgICAgICAgICAgICAgICAgICAgICAgICAgICAgICAgICAgICAgICAgICAgICAgICAgICAgICAgICAgICAgICAgIAogICAgICAgICAgICAgICAgICAgICAgICAgICAgICAgICAgICAgICAgICAgICAgICAgICAgICAgICAgICAgICAgICAgICAgICAgICAgICAgICAgICAgICAgICAgICAgICAgICAgCiAgICAgICAgICAgICAgICAgICAgICAgICAgICAgICAgICAgICAgICAgICAgICAgICAgICAgICAgICAgICAgICAgICAgICAgICAgICAgICAgICAgICAgICAgICAgICAgICAgICAKICAgICAgICAgICAgICAgICAgICAgICAgICAgICAgICAgICAgICAgICAgICAgICAgICAgICAgICAgICAgICAgICAgICAgICAgICAgICAgICAgICAgICAgICAgICAgICAgICAgIAogICAgICAgICAgICAgICAgICAgICAgICAgICAgICAgICAgICAgICAgICAgICAgICAgICAgICAgICAgICAgICAgICAgICAgICAgICAgICAgICAgICAgICAgICAgICAgICAgICAgCiAgICAgICAgICAgICAgICAgICAgICAgICAgICAgICAgICAgICAgICAgICAgICAgICAgICAgICAgICAgICAgICAgICAgICAgICAgICAgICAgICAgICAgICAgICAgICAgICAgICAKICAgICAgICAgICAgICAgICAgICAgICAgICAgICAgICAgICAgICAgICAgICAgICAgICAgICAgICAgICAgICAgICAgICAgICAgICAgICAgICAgICAgICAgICAgICAgICAgICAgIAogICAgICAgICAgICAgICAgICAgICAgICAgICAgICAgICAgICAgICAgICAgICAgICAgICAgICAgICAgICAgICAgICAgICAgICAgICAgICAgICAgICAgICAgICAgICAgICAgICAgCiAgICAgICAgICAgICAgICAgICAgICAgICAgICAgICAgICAgICAgICAgICAgICAgICAgICAgICAgICAgICAgICAgICAgICAgICAgICAgICAgICAgICAgICAgICAgICAgICAgICAKICAgICAgICAgICAgICAgICAgICAgICAgICAgICAgICAgICAgICAgICAgICAgICAgICAgICAgICAgICAgICAgICAgICAgICAgICAgICAgICAgICAgICAgICAgICAgICAgICAgIAogICAgICAgICAgICAgICAgICAgICAgICAgICAgICAgICAgICAgICAgICAgICAgICAgICAgICAgICAgICAgICAgICAgICAgICAgICAgICAgICAgICAgICAgICAgICAgICAgICAgCiAgICAgICAgICAgICAgICAgICAgICAgICAgICAgICAgICAgICAgICAgICAgICAgICAgICAgICAgICAgICAgICAgICAgICAgICAgICAgICAgICAgICAgICAgICAgICAgICAgICAKICAgICAgICAgICAgICAgICAgICAgICAgICAgICAgICAgICAgICAgICAgICAgICAgICAgICAgICAgICAgICAgICAgICAgICAgICAgICAgICAgICAgICAgICAgICAgICAgICAgIAogICAgICAgICAgICAgICAgICAgICAgICAgICAgICAgICAgICAgICAgICAgICAgICAgICAgICAgICAgICAgICAgICAgICAgICAgICAgICAgICAgICAgICAgICAgICAgICAgICAgCiAgICAgICAgICAgICAgICAgICAgICAgICAgICAgICAgICAgICAgICAgICAgICAgICAgICAgICAgICAgICAgICAgICAgICAgICAgICAgICAgICAgICAgICAgICAgICAgICAgICAKICAgICAgICAgICAgICAgICAgICAgICAgICAgICAgICAgICAgICAgICAgICAgICAgICAgICAgICAgICAgICAgICAgICAgICAgICAgICAgICAgICAgICAgICAgICAgICAgICAgIAogICAgICAgICAgICAgICAgICAgICAgICAgICAgPD94cGFja2V0IGVuZD0ndyc/Pv/bAEMABwUFBgUEBwYFBggHBwgKEQsKCQkKFQ8QDBEYFRoZGBUYFxseJyEbHSUdFxgiLiIlKCkrLCsaIC8zLyoyJyorKv/bAEMBBwgICgkKFAsLFCocGBwqKioqKioqKioqKioqKioqKioqKioqKioqKioqKioqKioqKioqKioqKioqKioqKioqKv/AABEIAHAD+wMBIgACEQEDEQH/xAAfAAABBQEBAQEBAQAAAAAAAAAAAQIDBAUGBwgJCgv/xAC1EAACAQMDAgQDBQUEBAAAAX0BAgMABBEFEiExQQYTUWEHInEUMoGRoQgjQrHBFVLR8CQzYnKCCQoWFxgZGiUmJygpKjQ1Njc4OTpDREVGR0hJSlNUVVZXWFlaY2RlZmdoaWpzdHV2d3h5eoOEhYaHiImKkpOUlZaXmJmaoqOkpaanqKmqsrO0tba3uLm6wsPExcbHyMnK0tPU1dbX2Nna4eLj5OXm5+jp6vHy8/T19vf4+fr/xAAfAQADAQEBAQEBAQEBAAAAAAAAAQIDBAUGBwgJCgv/xAC1EQACAQIEBAMEBwUEBAABAncAAQIDEQQFITEGEkFRB2FxEyIygQgUQpGhscEJIzNS8BVictEKFiQ04SXxFxgZGiYnKCkqNTY3ODk6Q0RFRkdISUpTVFVWV1hZWmNkZWZnaGlqc3R1dnd4eXqCg4SFhoeIiYqSk5SVlpeYmZqio6Slpqeoqaqys7S1tre4ubrCw8TFxsfIycrS09TV1tfY2dri4+Tl5ufo6ery8/T19vf4+fr/2gAMAwEAAhEDEQA/APpGiivJviV8Ybjwn4tsdB0CC0up2ZPtr3Cswi3kbVG1hhsZPPqKFq1HuD0Tl2PWaKKbIxSJ2HVVJFJuyuG46iuC+EvjnUvHnh2+v9YgtIZbe8aBBaoyqVCqcnczc8mm+B/Hep+JvHnirRL+C0jttGnMVu8KMHYb2X5iWIJwo6AVVteXyuD0TfZ2O/ooopAFFcL4o8b6lonxO8M+HLSC1ez1YN57yIxkXBP3SGAHTuDXdULVcy8/wB6OwUVj+KvE1n4Q8N3Ot6lHPLbW23eluoZzuYKMAkDqfWrWi6rBruh2Wq2iSJBewJPGsoAYKwyAQCRnn1o3AvUUUjMERmPRRk0PTUBaK4nS/iVZeJvAeueIfD1tcRnS45sJfRqN0iR7xwrHK8juDVz4a+KL3xl4Dstb1OK3iubhpAyW6sqDa5UYBJPQetOz1+X4g9Ff5fcdVRRRSAKKKKACiiuS+KOt6h4d+G2q6ro1x9mvbdYzFLsV9uZFU8MCDwT1FJuyuOKcmkjraKxPBeoXWreBtF1DUJfOurqyilmk2hdzFQScAADn0rbqpJxbTJTurhRRRSGFFFFABRRXCfFvxrfeCfCMVzo8cb395crawNIMrGSCS2O5wvH1/CkxpXO7orC8H2niKy8PpH4w1KHUtSLlmmhjCKFIGFwFUcc84rdqmrEp3VwooopDCivN/EPivWrH48eHPDtre+XpV7ZtJcW/lId7fvedxG4fdXoR0r0ijpcHo7f1qFFFFABRRRQAUUVyeveKNQ034jeGdAtIbd7XVluWuHkVi6CNAw2kHA59QaFq7BsmzrKK8k8f/GW48I/ESz0O0trWewjETalLIrF4g7chSGABCkHkHqK9aVg6hlIKkZBHehax5gejsLRRRQAUVm+ItRl0jwvqmpWyo01nZyzxrICVLKhYA4IOMj1qv4O1e61/wXpWrahHFHc3tsk0iQqQgLDPAJJ/Wj+v6+4Nrf1/W5tUUUUAFFFFABRXC+FfG+pa58S/E/h67gtUtNIK+Q8SMJGyf4iWIP4AV3VC1ipdw2bXYKKKKACisXxb4psvBnhufW9UiuJbaBkVkt1VnO5gowGIHU+tXtI1OHWtFstUtVkSC9gSeNZAAwV1DAEAkZwfWhaq4Fyiubu/EWrweP7LQ4fDtxNpk9uZZdWD/u4mGflIxjsO4J3cDik0Lx1pniDxXrHh+zgu0u9IbbO8qKI25x8pDEn8QKFr/XYHpv8A1c6WiqOt6tBoOg3urXiSPBZQPPIsQBYqoyQASBn8RVXwp4ms/GHhq11zTI54ra637EuFCuNrFTkAkdVPegDYoooJwCTwBQAUV4+/xT8Y+I59UvPh/wCHbK70bS3ZJLi8kO+faMnYAy445xzxjucVt23xg06X4Tv4zns3Ro3MDWYfJM+cBQ2OhyDnHA7Ur6X/AK12HbWx6LRXjM3xX8beHU03V/GXhmxt9B1KRVRraQ+dCGGQWyxyduTjA6djXsqsHUMpyCMg+tVZ2JuhaKKKQworhPB3jfUvEPxB8VaFewWqWujyqlu8SMHYFmHzEsQenYCu7oWqUu4bNrsFFFFABRRRQAUVynjTxNqHh/UfDdtpsVvINV1SOzn89WJWMjJK4Iw2B3yPauO0H4yXNz8XdQ8Ja7BZwWi3UtrZ3ESsrF1chQ5LEHcBjgDnHrQvedl/Vrf5g9Ff+tb/AOR65RXnuvePtU0v4zaH4St4LNrDUIBJLI6MZVP7z7pDAfwDqD3r0Khaq4PR2CiiigAooooAKK5P4geKNQ8LafpM2lQ28st9qsFk4uFZgFfdkjaRzwPX6V0WqXU9jpN3dWdo97PDC8kdsjYaZgMhQe2TxSvpcdndItUVi+EtY1DXvDNtqOsaRNo13Lu32cxO5MMQDyARkDOCK2qpqzsSncKKKKQwooooAKK5rQvHWmeIPFeseH7OC7S70hts7yoojbnHykMSfxApvxB8R3/hbwr/AGjpUME1ybqGBUnVmUh3CnhSDnn1oWtvP9Qel/I6eiuY8I+I7/XtV8SW99FbpFpepNZ27RKwLKFBy2Scnntj6V09HRMOtgooooAKKjuJDFbSyLglELDPsK838GfEPXvEOpeGIL+1sI01bT7m8uTDG4KbJCqbcscAjbnOaFq7f11f6MHor/10/wAz0yiiigAoooJwDSbsrgFFeXeE/iRr+vX/AITiu7TT0j1r7c1yYo3BRYCQmzLHGT1zn2xXqNVZpXB6ScewUUUUgCiiigAorlvGfiTUPD934dh02K3k/tTVorKbz1Y7Y2BLFcEYbjjOR7U7wB4jv/FHh+4v9Tit4nS+nt4xArAFEfaCck88Gha/16f5oHp/Xr/kdPRXN3fiLV4PH9locPh24m0ye3MsurB/3cTDPykYx2HcE7uBxXSUdLh1sFFFFABRRXOeEvEWr69Lqi6x4duNFWzuTDA07Z+0Lz8w4HHA5GRzwaAOjooooAKKKKACiignANJuyuAUV5l4I+J+o678OvEHiTWbS1EmkyTBIrVWRXVIwwzuZuST1qf4Tan4y8S6e3iPxPqVrJp1+jfZLGGBVMJD4znGccHgse1VbW3lf79gl7v32+49GooopAYXjTxND4P8H3+tzp5n2aP93H/fkJ2qPYFiOa+ZNY1zw/P4R0qYasL7xDd6uNR1d/IkUpkHC5KgELnoCeSccV9aXFvBdQmG6hjmibqkihlP4GuK8c/C/T/GFrp8Vo9tpJs7oTs0VkreaAMbDgrgfn9KI3Ur+n53/r0CWsbev5HXaVqtnrek2+paXN59pcoJIpNpXcvrhgCPxFWJuYJMf3T/ACrmvEng+41q90SXTNcutEg0u4817azG1Lhcg7CAQB0I5BGCeK6ilJJpoFo0ePfs3Ef8IXq4zyNTbI9P3aVz3hr5te+MjLyvk3PI6dZq7HUvgxJHrV3f+DfFupeGlvnMlzb24LIzE5+XDrjqeucZ4q6ngLTPAfwr8TW2nPLc3Fzp9xJdXc5y8zeU35AZOB7nrSm7pyf8tvwsaQ+JRXWSf43PKPDvw9stV+Bk3iqTU9Qi1LT0nmtMXGIofLYnaq443EEkg9TV/WvFGseMPB/w80O8v5rZNdlaG/uEba0wSURDJ75GTjoTipPhz8NL3xh8MLQx+LtR0/TbqaQXWnIu+OTa5Hy8jbnAzkEE816d4k+FGj674S0vRbOabTX0fH2C7i5eI9yemckAnkHIzkVpLfVaXWn5mMdtN9dTzrUfBll4K+OHgmx0q7vJbOQsyQ3U3mCE8g7fQHrj1qfxla+DNd8WaxHKPF/inUodyuunr5sGmtzgL90KAR33Dg9Tmuo0/wCD97D4v0fxHq3jG91a805iXF1BkSDHCr8/yDk5+9k0+b4PSw+JNSv9B8Xalo9lq0hkvrO3QFnJJJ2yZ+XknsSM9azs+W3r+Oxd1zN+n4bnmThvE/7M82p67NNeXmjXpis5pJCSis0YIP8Ae4YgZ6Vsa3O3w/8A2edIfws01lca88LXU6SEuGaLLFTn5c7AOPeu80L4RW+l/DbVPB1/qz3ttfzGZZ0g8poT8uONzZwUB7elP074TRf8IBP4U8Ta3c61al1a1lMflNaBRhQmWbpz7YOMYq5WfNbrb590KOlr9L/8A8psbS58Oa7ouo+BNB8cQXInQamdRsSIrqMn5idufU9eBweozX0R4g0ez1/w/eaZqcbSWtxHtkVWKkgc9Rz1FcVoXww1rS9Ts5NQ+IGs39jYuHgsxmMHHRXbc29ccYwPwr0YgMCDyD1pT96FvUUbqV/Q+b/hN4f08/C7xlr3lN/aEdrd2aybzjyvJDYx0696p6d4Es779n7/AISqXUdRF/YrLLaoJ8RQ7ZSCFXHGeSTnOa9O0P4OyeHm1y207xNcjSdVt5ohp7wZWJ5F2hyd3zFR7DPrWpYfDb7D8I5vBH9q+Z5scifbfs2MbnLZ2bu2cfeom24treyt6q5el0ul39x5d4x8YaxqPhHwFpFxc6k8Oq2qyagdOXdc3QBC7VGfmJGTg8EkZq94BivdA+KFhB4U0TxXY+G72No72DWbRlRH2sQ4IyByF5PPJHeu8v8A4R6fqfgjRdEudQnjvtFQC01O2Xy5Eb125PGQDjOeBgirXhPwHrGh6yNS13xrqmuyRxmKOCQeVCAepZNzbjx1yKpNKTfm/mjOz5UvJfJlj4p+HP8AhJ/hvqtkib7iOL7Rb8c+YnzAD6gEfjXkc2r/APCzLf4beGN/mjaZ9SHXiLKEn6qj/wDfQr6LIyMHkV534G+EVl4I8YanrsF/9p+1h0t4PI2C2Rn3EZ3HdwAM4HT3qYaS123+a2/ryKlrHTfb5Pf+vM5fxza+DNZ8cXlpqC+LPE1/CgV9O0pfMhsOAAQAFC/meTzXMaTqt/qH7Nvi62v7m4uEsbyOG3+0nLxp5kR2n6Ht2r0zUvhNO/jK917w74r1DQ/7S5voYIw3meu1iRt+uDgk49Kq6f8ABg6f4D8QeGF8QNLFrE6TJO9plodrA4Pz/OSFAz8vrUJPkt5fjctNKon0T/A43Uf+Qh8F/wDrjH/7Rrf8Uf8AJ03hX/rwP8pq6DX/AISQa54T8P6amsTWWo6BGiWuowxc5AUE7N3HKgjDZBHWq+lfCK6sfHel+KdS8W3mrXdkjLKLqDPmkqyjad3yKN3TB5zzzW/Muf0cn95la0X5xS+48rlvovHfi/X7rxdYeLNVjtrhobGDQ4PMjtACQCcnAbAHbnknNdNpsXxF1v4G3+lwRanDqVrfCOP7WrQXE9pgHaC2CTk+vQFea7HV/hHI3iS71rwf4ovvDVxftvu44I/Mjlb1C7lwcknnPJOMVo3XwxttR8Cp4e1XW9UvZo5jcJqMs+ZklOeQf7vJ+U569c81il+7t6f8OaN+/f8Ar+v+HPMfBKaBpfj7R7ewbxD4N1NwFuNP1KFnh1Fu67iwxnnBK4zjHNezePNZufD3gHWNVsf+Pm2tmaIkZ2seAce2c/hXM6f8KruXxHp2r+MPFd34hfSm32UT26wrG2QQWwSWOQD25A+ld9qFhbapp1xYX8QmtrmNopY26MpGCKqd5U7LfUmFlO720PnxPAKSfCE/EJtf1P8A4SXyDei8+0njDfc9enHXr7cVX+JcUPiX4a+DvF+pRk6vfPFZzyhiA6DzM/L0BJGc+9dv/wAKJf7OdIXxpqo8NmTzDpW0eucb92MZ5+515610njP4Z2vijwvpGh6feDSrXSp0liAg83KopUL94evXJqtL+V1p2XX8CdfnZ/PsdH4a8Oab4U0OLStFiaG0jZmVGcuQWOTyeepryOXSB8VPjL4h0jxJfXiaToqBbeygl2KW4G4/jk568jnAxXuIGABXn3ij4WHVvFD+I/DXiC78OatPGI7iW3Tesy4xyuV5wB3xwDjPNR9tN7a/8D7il8Nlp/WpyviODxL8KvhLrEEWvvfrJdJDp8xJMtpExIILHvgDGOhJxWF4o8Dr4A8A6f430DXNQXXA0ElxO8+5bnzMEjHcZPQk5Gc5r03SPhJoen+DtS0G+luNROqv5t7eTN+9kk6hgecYPIznknOc1gwfA1pmtLPX/F+parodi4a30x12KMdAW3HIxxwBxnGKet3rrpr6boNLeWun5MzNVvG1H9oXwHeuoRrnSFlZR2LJMcfrVr4M/wDIx/ET/sKN/wChy12Gp/D9dQ+JmjeLY9QEC6VbG3WyFvkOMOM79wx9/pg9Kw7r4OSL4s1DVtB8Walotrqjl720tVwZCSSdr5G3knHykjJodmrLrzfi7oHun25fwVmeWaB/ybR4u/7Cif8AoUNTeMvDA8NfDrwn4003VtT/ALanFuDNJcZCBoiwVRj5QuAAOmOua9K0/wCDAsPhnq/hFdeLjUrpbgXZtOY8FDt27/m+51yOvStLxT8L/wDhJfh5ovhb+1/s39l+T/pX2bf5vlxlPu7xjOc9Tiq0vfzj9yWpWj3/AL347Hn3ijwuvw6+IvgzUtE1TUZrvVbwRX0t1PvM/wA0YbPHcOePpS2vhS18Y/H/AMY6ZqV3eQ2flB5Y7Wby/O4jADeoGc49QK9O8Z+AP+Ev1jw5ff2l9j/sS5+0bPI8zzvmQ4zuG37nXnrRongD+xviVrXi3+0vO/tSMR/ZPI2+V93nfuOfu+g60o2ur/3vxtYiV+XTfT83f8Dj/gS9zp+qeL/DZupbix0i+EdqJWyUG6RT9M7AcDjOa9U1CLToD/a9/b25ksIpHS5eMF4Ux8+1jyAQOcda5zwb4C/4RLxF4j1X+0vtf9uXIn8ryPL8jDO2M7ju+/1wOlavjHQJ/FHhK+0W11D+zmvEEbXHk+ZhMjcNu5eoyOvelJtxVt7L77FJR532v+B81W3iPw1rug+Or7xJqQg1nWpA9jC0EjlQh3oNyqQMnavJ/hr0O3+IV6/7Msmq6fOU1OyRNOklU/NG29UDA+uxgc+pr0Hw58NvDmg+HLLTJtK0/UJbePbJdT2SF5m6ljnJ5J6ZOOlc3a/DHS/CHh/xeNU1CS68Pakj3D2MVrta2C5YbCGOSBgDgfdFKVlFxW1vy/zVwjdyUut/z/y0POPFnw4sND+CcPiaHU9Qm1G+S3muybjMU/mFTgrjnBIIJPUZrS+IWu3VzeeDPCkn9qtpE2lQXF3baQm64usqRtC55A2dDxyTg4Fcn4mTSR4LttK0Hx5qfiLz50Ww0YQsghBPRwSdxHQAY5PAr3PXfhjb+J/D+hGa8uNJ1vSbaOOC+tG+aNgoBB6ZGR2IPvyaru7acy0+T/IhbrvZ6/NHDfDe2u9O+Ikuk6VofiSDwfqNo6zWuvWZCRybST6rg4x77sHOBXudtbQWdrHbWkMcEEShI4okCqijoABwB7VyXhDwTqvh/UpdQ1zxhqevTvH5Sxzfu4VXIOfLy3zcdc12NNvRDW7Pn3xfa+Ddb1rXZIx4w8UalBvzc2i+Zb6dINxABG0BQR7jA471ma1q9/rP7LdlPqlzJdTR6mIRLK25iqlsZPfA4r0Q/BiW21XU20Txfqel6Vqjs91YQIMsWznEmeBzj7uccZph+Czt8LB4MfxCCq332tLv7D0GPubPM9STnP4Vkk+S3p96epbfvX9fuscR4z8Kr4FHhHxVo+q6lJql3cxJcy3Fxv8AMyob06dRjpitnU9L/wCFmfHrVdA1+8uo9K0W2DwWsEuzc2E+b83Jz14Wu88afDr/AIS/Q9E07+1Psf8AZU0cvmfZ/M83au3GNwxn8aq+LPhZ/bnitPEuga/deHtWMYinmt494mUDHI3LzjA6kcDjitHbm8rv8UrP77mcU7edl+bucp8ItN/sf4v+NdP+1XF2LdURZ7l90jjdxuPc44zXV/GTS/EureClg8KCaRhcBryC2k2SzQ4OVU9+ccd/Q9Kk8C/DL/hCfEeq6qdcuNUbUkUN9qj/AHgYHJZn3fMSc9h+NbHjXwXa+NNLht5ru5sLm1l861u7ZsPE/wBO46cew5FS0+SK6q35lr45Pv8A5HlHw8Ph6w+JFpa6LNr3hS6eHE2hapATHeHBJIYtkHjIJUdOPSuXW9i8eeI9d1DxbYeLtVMNw0VjHodv5kVmATjOTw3A4xzyTnNexaL8MLmHxZaeIvFnie68Q31ghW03W6wJFnPJUE5PPt+NVdU+EMq+IbvV/Bviq+8NSX7F7uGGPzI5GPJIG5ccknnOMnGKb1a+f9f1t0Euvy/r+t+p5prllqmrfs/S3vjOz1BNV0O8ENjLfI8cjRSNGCSG+93GTnpXsnwp0DT9B+HOlf2bE0f2+2ivJ9zlt0rxLuPPToOKdcfDyC++HM/hPU9X1C/Wf5mvrqTzJQ+4ODz2DDp6d+9WvAfhW98HeHhpd/rk2siN/wBxJLF5fkxhQBGBubgY9e9Wn8S72/4P46i7fM4LxREs/wC1F4bhkGUk0uRWGexScVhfC/wXosXxs8SQpbuE0KbdYjzW/dncRzz83HrXqGo+Avt/xU0vxn/aXl/2fbNB9j8jPmZDjO/dx/rOm09Kz1+F8ln8TJfFuj+IbmxjupRJe2CxbluMdV3bhgEjPIPU1ENJRfr+bsVU95O3l/wS38XNFstZ+GWrm/jZ/sNvJdwYcrtlRG2njr1PFeRaZJ/whP7N/wDwkHh7zbbVdcmFtc3SSHKqssoBX+6doIyPXPWvobV9Mt9a0W80y83fZ7yB4JNpwdrDBx781wOgfB6LTvCep+Gta1251fSLvH2eAxeUbMhi25DuYZyQegHHTk1OtpJdbf8ABXzHdaX6f1+D1OD8XeCV+Gvg3TfGXhzW9QXWRLCbmWSfcl1vGTkdxnsSeM5z1r36wuDe6ZbXLqFM8KSFfTIBx+teX23wPaaayt/Efi7UtZ0awcNbabImxVx0DNuORjjgDjgYr1cKFUKoAAGAB2rRvR+unkjOzuvTXzPMviP4rGjxL4M8EWccviHVwUEVsoUWysMGRsdDjpnoBk8AZ6PwZ4I0/wAIeBbXRLtYbsRZmuZJkBRpDyzYPQDoPYVxMHwR12y8Q3utad8QJ7a9vGYyTjTtzkE527jLnHT8hXQT/DvX77wHqPh7VPG9zeT30qsL5rXaY4xjMe0Scg4OeR1qFdR83/VvkW7OS7L+rnK6nLJ8avGtvpelqV8H6HOJLq7A+W7kH8Ke2MgexJ7gV7VtGzbgbcYx7V5JpPwd8U6FpyWGj/Em5s7VCSsUOmAAE8k/63rXq1lDLb2FvBcTm4ljiVHmYYMjAYLY7ZPNVpy2/pk681z5ta5n0PQ/Fvw4sWC3t9rsVtZoT/yylPJ+m1Fz/vVLaXsvitPh/wCCLvDXOl6jNHqEXXC254z/AMA3CvWbn4YWdz8WoPHDXmGijANn5PDyBCoffu7DHGOo60aR8L7TSfipqPjOO83m8Rtln5GPKdgu59+7nOG4wPvUoaW5v65dv68xz1vb+r7/ANeR51oHgyy8a/Frx9Y6reX0NolwC8NpN5YlJZsb+DkDqB61X8JeJ9W8KfCjxzBaXkkzaLeC2spJTuMId/LyM9MY3AdM16x4Y8B/8I5408Q6/wD2j9p/tqQP5HkbPJwScbtx3dfQVT8OfC6z0ez8TWep3g1O18QTtLLF5PleWCWOM7jk/N146VCTVNR/u2+d1+lxt/vObpzX+Vn+p4ZBZXK+HrLXPDmmeOpPFrFJ21I2rPbz5OWAYEsy46E5z34PHUeI9KuPGfx00exvLm60l9Q0SNrryBskUGN2ePnpnocj8K7Ox+DmqadssbP4g63Bocb5Sxi+V1Gc7RIGwB7Bce1dBN8PvN+K1p4z/tQ/6NafZvshgyX+Vhu8zd/tf3e1a6O3a7/JkO+vf/go8n8dgWPjPRfh+w1278OabYKXtNKQSXN0cE5YDAI4HbjnHWug+ER1XSvHmoaXY6Z4itPCs1sZbZNatWQwSgrwD90Zy3APPGeldt43+G1t4u1G01ey1O60XW7NdkN/a8nbzwwyM9T0I6mrPg7wdqXhy5ubvWfFWpa/dXCBD9oOyJADkbY8nB981MLrV+fzuOSWy8vkdJc2FneyQSXlpBcPbSebA0sYYxP/AHlJ6H3FfN1t4L/4TPxj8SIrT5dVsb03NhKpwwkEsny57bsY+uD2r6ZrjfCXw/8A+EW8YeItd/tP7V/bcxl8j7Ps8n52bG7cd33sdB0pW96/k/vLv7lvNfdqeMaD4uk8ZfG7wZeXiNHf21t9lvFZcfvUEuT+IIPsSRXQ+MrXwZrvizWI5R4v8U6lDuV109fNg01ucBfuhQCO+4cHqc12TfCCzj+LEPjWw1D7MFkM0tiLfIeQqVZg+4YznPQ859agm+D0sPiTUr/QfF2paPZatIZL6zt0BZySSdsmfl5J7EjPWlq4+ev3uwtpP5fgeZXOsX+sfsuSNqd1JdPb6ssEckrFmCDBAJPJxk/hxVzx14Q/4RR/COu6Preqpq2qTRw3F3Jcbm+ZVORwMAZI29MYruIfgm0XwyuvB58RbknvxeJdfYuUwANm3zOenXI69K6Dxf8ADv8A4Sqx8PW39qfZP7FnSbd9n3+dtAGMbht6e9V9pvzj91lf9SLO1vKX5ux55feGY/hx8bPCY0DUL911hyl79qn8wzchSWOBnO7PPcVha3qUfjX4m+IYfFVj4n1XT9Mma3s7LQofMWHaxXe4J4J25z3PsMV7P4m8B/8ACR+NvD3iD+0fs39iyF/s/kb/ADskHG7cNvT0NZXiH4UG+8TzeIfCviO98N6jdDF01unmRze5XcvP4kd8ZpLZX8/+B/XQt7u3l/wTM+DsGp3+h32meLdLvpbXTb1ZdKbW7QiVU52kbx95cdR03YBxiu78b/8AJP8AxB/2DLj/ANFNSeEvDk/hnSWtbvWr/WZ5JDLJc3sm47iBwo/hXjpk1f1vTf7Z8P6hpnm+T9ttpLfzNu7ZvUrnGRnGemadT3otLt+gUnyyTff9TxDRtN8S6r+zFYW3hBpPtRuZTPHDJskkh819yqfrjjuMj2MXgQeH9N+IelW+mSeIPB+oOgE+lanCzRX5OcjcWBBPOCVAyBjniu/g+EVn/wAK0s/Cd5qtw8llM08GoWyeS6OWZgduTx82CM8+xpNL+Fl2fFFhrni/xVdeIZ9MObKNrdYEjPqcE7j0PbkDOau69o30v+n9aPQhp8lvX8/613Nr4n/8kt8Rf9eEn8q8KuPBNtH8A7Hxompal/a1qFaD/SP3cK+ds2oMfKO/B619FeJ9E/4STwtqOjfaPs326BofO2b9mR125GfzFcxL8MvN+D6+Bf7WxtUL9u+zekvmf6vf+H3qy11a30/W5orXV9tb/gcJ4p1jVfF178PvC1xqVxZ2ut6fFdahNbtsacsmSuf+AnjplhwcCpI9FHw0+MOi+HtBv7qTRNegdLixuJdwQncNw9DwDnr1GcV2uufCix1zwvoWnvqVxaaloUEcVpqdsuxwVUDO3PQlQcZyD0PXLfCvwsGjeJx4j8Ra9d+I9YjQxwT3CbFhXBHC5bnBPfHJ4zWmnO+13809kQ78unZfJ9zz/wCF/gvRYvjZ4khS3cJoU26xHmt+7O4jnn5uPWvebuytb+ERX1tDcxq6uEmjDgMpyrYPcHkHtXDL8L5LP4mS+LdH8Q3NjHdSiS9sFi3LcY6ru3DAJGeQepr0Cpjfkinugfxya2ZxfxE8FaPr/gXVrd4rWwf5r4XQQIFmVf8AWOQOcgYJPOK8q+FN3c/E/wAeWd94puo5h4bskFtbE8yvnHmkHqQQCT67a9j8e+FLvxn4ZfRbXV/7KincG4kFv5rSIOdg+ZcZOM9emKxB8J7TTfFWh634Xv8A+yX0uBbaaL7P5gvIxxhvmXDEZyeecHtRDSV3/Wj1/Qc9Y2X9arQ85/tn/hVHif4gaPu8mG7tTeaYD03scKF+nmf+Q63PD3w28NR/BHT7jxt5sEMYfVJ3SQoQXAwD3J2BRj1qh8VLLR/H3xa8O6HpMpuNQhkaDU/LQ4ihVgxBOOoG/wDMV6L8R/h9N490Oz0q31ptJtbeTe6Jb+asuBhQRuXpz61Kv7K/XRfJPf8AL7inb2n4/Nr/AIf7zzn4KfD+3u/Ec/jVLWay0pHkj0m2lfc0ikFC7nuMEj3JPYc+3W2jaXZSQPZ6baW728RhhaKBVMUZOSi4HC55wOK4nwx8PPE/h/VLCS58fXN9p1p8v9n/AGERo6BcBchzgDjt2r0OtG1pboZq99TzX46+JdR8OfD5To88ltPfXS2zXEZw0alWY4PYnbjPua4Xxt4PX4RaRpHinwtrF/8A2gbpIrvzptyXeVLEkAdPlxjng+vNe1eLPCuneMvDs+j6ur+RKQyvGcPG46Mp9R/jXC2PwUeS/sW8U+LNQ17T9OYNa2EybEXHQMdzbh26DjjpxUx0fzX3dv67lytb5P7zkvEPh7/hMv2irrS5b+50+3utMRrhrUgO6eWpKZPQE47HpXumjaVBoeh2WlWjO8FlAkEbSEFmVQACcYGeK5uPwB5fxYk8a/2lnfa/Z/sXkdPlAzv3e3TbXY0LSNv63Ytb3fl+SMuTRNKs7MNaaZZwNawyrbmK3VTCGGWC4HygnrjrXzh4U8EWeu/AvWNcvb+/E+mPPJaQJNiGNkRWztxyT0J9AK+oJo/OgkjzjepXOOmRXB+Hfhf/AGB8MdV8If2v9o/tATD7X9m2+X5iBfubznGM9RU6+96aetx9Y+uv3Hk2p+FTefA218e3utapca7AEMMslySsSCXywqjqOBnOc55rU8cNceJNd+FjXV5PBcajaRmW5t22SKX8vcynseTzXpEvwy834Pr4F/tbG1Qv277N6S+Z/q9/4feqK7+Fn2rUPBlz/bGz/hF4o49v2XP2nZt5zv8Akzt/2uta6c/lzJ/KzuRr7Pzs/wBLHF6PoafD79orTdF0G8uzp+q2Ty3EU8u/c22Q8+vMYOTzya0Pgx/x8fED/sJP/OSu11HwF9v+Kml+M/7S8v8As+2aD7H5GfMyHGd+7j/WdNp6VgTfBqSLxNqOoaF4t1LR7HVJDJeWVquC5JJO18/LyTj5SRk1m7uNvJr8br8C3bmuu6f4NMyP2c7K1u/h7cPdW0M72+rvLC0kYYxP5UY3LnocEjI9a9ftLK10+DyLC2htYtxfy4Ywi7ick4Hck5Ncv8NvAQ+Hnh240oaj/aAmumuBL5Hlbcqq7cbmz93r7119aTabuuy/JEJWPH/EX/J1Hhf/ALBr/wDoE9cj4F8B2PjnU/HEOrXt/FBb6g5jgt5tiFy0mHYYO4jHH1Nevaj4C+3/ABU0vxn/AGl5f9n2zQfY/Iz5mQ4zv3cf6zptPSmeCPh9/wAIbea/cf2n9s/tm58/b9n8vyeWOPvHd97rx0rO3u28n97ldGkneV15fgncwP2fNTvdR+HM0V/cPP8AYr6S3iZ2JKoFRgMnsCxrJ+JMVx4x+Mmh+Bru+ntdGktTczxwSbTM3zn6HhABnOMk13Xw48Cf8K+8P3Omf2j/AGh5921z5nkeVtyqrtxub+71z3rlvjBp/hqTWdDu9V1668N6wN4s9TghZ1ULglXxjHLccjqc8VU2nKL9Py/zJSspJef5/wCRz+g+Gbbwl+0pYaVp9zdz2qaY7RC6l8wxKVf5FP8AdByQPc1neF/Dn/CU+EfidpqLun/tFpoPXzEZ2UD64x+NSfDiD+1Pj09/pus3niK2sbJhdarcggO7LtwoPRcnAHsT0r1XwL4D/wCELu9cm/tH7b/a12bnb5Hl+Vyx2/eO773XjpSavHXs/wD0q6JWk7pdV/6TY8el1c/EfQ/hx4TDl2dy2oLnkLDlMn6orn8RT/GGpL4o+Leq6P4hsvEOo6JpKCK303Qod+GAX53GRgcnnr0HSvSfBvwisfB/jnUvEUN99oF15gt7byNgtg7biN247uOOg4qXxV8LV1nxL/wkfh7Xbzw7rLoI5ri2Xesyjj5lyOcADrjgcUN3ak+t2/V/5FWtdLpZL0/4J5jZTa5b/Cfx1pOo2etQ6RbxxvpbaxbtHKqGTBTJ4OAF4HA59aoaz4Mg034JaN42ttU1L+2IVhMbtcfLEhbaEQY+UDjGD617B/wra6l8CavoGo+KdQ1G61XBkvbweYIyCPuR7uBx03Uap8M/7S+E1r4J/tbyvs6xr9t+zZ3bGz9zfxn/AHqUr6tb+7+F7jVuu2v6WOu0O6kvfDunXc5zLPaxSOQOrMgJ/U14f4N8ND4q+J/Euv8AiLVdRhubG8MFitrP5ZtRzgjg4wAAMd85zXuml2X9m6RZ2Pmeb9lgSHftxu2qBnHbpXnl98HGHii+1Xw34q1HQLfU2LX1paD/AFhJydrbht5JPIOMnHHFVOzm2ttbEQuqaT30PNfBmg2Osfs/eKzqKNK2n3k93AQ5XEqQDBOOvU8V6R8CfDGl6Z4Bs9bs4WS+1OIi5cyEhtsjAYB4H4Vc8OfClfDvw+13wsmsG4XVjLi5a22mEOgT7u75sYz1GfatfSvBM2k/DBfCVtrM0Uq27wpqMEfluhZidwXdxjP978RTbtdrsvy1/Qb1a7Xf56HWUVl+GtIn0Hw3Z6Zd6jPqc1sm17u4+/Kck5OSfXA5PArUpPR6AttQooopDCiiigApk8EVzbyQXMSTQyqUkjkUMrqRggg8EEdqfRQBW0/TbHSbNbTS7O3srZSSsNtEsaAnk4VQBVmiigAooooAKKKKACiiigAooooAKKKKACiiigAooooAKKKKACiiigAooooAKKKKACiiigAooooAKKKKACiiigAooooAKKKKACiiigDNtfDmiWWoNfWWjafb3jklriK1RJGz1ywGa0qKKACiiigAooooAKKKKACiiigAooooAKKKKACiiigAooooAKKKKACiiigAooooAKKKKACiiigAooooAKKKKACiiigAooooAKKKKACiiigAooooAKKKKACiiigAooooAKKKKACiiigCnbaRptnfT3tnp9rBdXJzPPFAqySn/aYDJ/GrlFFABRRRQAUUUUAFFFFABRRRQAUUUUAFFFFABRRRQAUUUUAFV77T7LVLVrXU7OC8t2+9FcRLIh/AgirFFAFaw0yx0q1Ftpdlb2UAORFbRLGoP0UAVZoooAKKKKACiiigAooooAKKKKACiiigAornvHXig+DvCF3rCW4uZoykcMJOA8jsFXJ9MnP4V5/p914kg+NjXHiGzsJ9Ui8Mu6Q6dKVjl/e5C5k+6c8ZJI757ULV/f8Agrjtp/Xex7DRXlej/EXxBqPiAaFcP4dkvL6xlntjp9yZxZSoM+XPtc7vqpHQ49ap+BfFHiu2+DsGqSy2eozy3bRx3epXhjW2j8xg0k7yPlgCOAvOMDtR/X42F/X4XPYKK4z4e+NLnxWurW1+dPluNLuRCbrTJC9vcKwyrJkkj3GTU2rePX0rVZ7IeEPFF8IW2/aLOwV4pOM5Vi4yPwoegLU6m4uIbS2kuLqWOCGJS8ksjBVRRySSeAB61nReKfD9w9qkGu6bK16SLVUvIyZyDg7MH5ueOO9UPHEvnfDLXZdjx79LmbZIMMuYzwR2NeX2Xh601jUfBWk+VBCt34QlCv5IYRyOi/vNvGWyxOeCT3pa3t/W0n+g9OVP+t0v1PdKK8u8T+Ndb+H+oW3h6DT7e/W7sooNDkWNhvuFKxskvz9OQ3GOOPena78SdY8K3fiCw1yGwe7tNNgu9NMMTqtw7kRsCC5JAkIGAQcU9N1/VhK/Xy/E9Pory3xf4t+IHhuHTWhTw5PcaiYYLex8mczyTFR5mAHwFDZ5J4GM812ugaDPp2qanqt9PHJd6r5DzxwoVSNo4ghCkkkgkEjp1707bivt95u0Vm6/pdxrGkvZ22qXWllyN9xZ7RLt7hWIO0n1xmvI9B1vUNN/Zh1PU4Lq4a+DTqLkuWkBabZu3dcgHOe1Q5WT8i1G7Xm7f19x7TdXVvY2slzezxW9vEpaSWVwiIPUk8AU2yvrTUrOO7066hu7aQZSaCQOj844YcHmvHhoOn+EvGOk6XpMUn2HXdEuW1C3mlaVJ5EQMJCGJG7P866/4M/8kh0L/rk//oxqu2/l/m1+hnzbf10T/U6291jTNNuLeDUdRtLSa6bZbxzzqjTNkDCgnLHJHA9RVyvNvH9lFqPxV8DWlwiOki34+dAwU+SCGwe4OCPcVT13xHrnw50i20mwfQks9H02PbNql0I5dSZFwywxK+5TwfvZ5OBnrSuuW7/rf/L8TRxd7I9VorxifVtb1n4u6ZqnhKCxS8vvCqXCpqTP5catJuwdnJPIHb19q1bT4o6xrum+H7PQNOsY9f1Z7hJReOxt7fyOHPy/Mc9gD+NOz266/g2v0J0+X+auepUVyOh2Gsa1qmm654mtE03UNLW5tXt4vnjuN5TEqNnIXCcAjPPtXVXMcktrLHBMYJXQqkoUMUJHDYPBx1pPRAiSivMPh3a3WnfFLxpp91ql9qhto7QLPey73+ZWYjgAAZJwAOK5LQ9BtvCutadfePPArRXF5q58vWRqAcxzvKWiBiRsADjnPbpQtWl3B6X8v8rnuGnaxpmrrK2k6jaXwhfZKbadZNjeh2k4PsadqGp2GkWhutVvbaxtwQpmuZVjQE9BliBXB/C6GK38SeOoreNIo01ohURQqr8vYCp/jLGkvguzjlVXR9WtFZWGQwMnIIpX0j52/G3+YfzeV/wud7FLHPCksLrJHIoZHQ5DA8gg9xTq801mfVfAWtWOneGE0+4k8TatM+y7jeNIP3SBVBQ9Bt9ORxgdaW08aeLb7S9atyPD9hrHh+626jNdec1q0JQsHTB3A8dCeg9+C6tf+ul/uuFne39dfzselUV5LY/Erxc/gjT9RvNM0z+09c1FbPSEVZI4ih/5ayAsW28HABBxirtle69441TxB4R8S/2dZyaTJYzedYJI6yHeJT98g4OwD2z/ABVVne39dPyuHS/9b2PTaKK8svrC90749eHTc63f38d7FeTC3mcCGDCkKqIAAMA4yck0lrJL+trg9E2ep1TGsaYdWOljUbQ6iE3mzE6+cF652Zzj3xXivxz8URaxZ6n4fs9VtraHSUjluommUSXk7OoWJFzlgqkuxGeceldDaSWVz8a/DN5p728yXHh6QmeAqwkwdv3h1xjH4Uo+9/Xk3+gS93+vNf5nqckiRRtJK6oiAszMcBQOpJqvp2qafrFr9q0m+tr633FfNtplkTI6jKkjNQ6//wAi3qf/AF6S/wDoBrybRIW8J/CPT/HOkrbC7s9CMIt5ITskZ5kJdirAk/Lj196XNZu+y/4P+X4js3ZLd/8AA/zPaaK8vj8Z+PpfEsOhpp3h4XGoacNQs5DNMUhQEAiTjLHn+EKOepqnZfFPxHrVr4STSNP0tL3XGu4Z1uTJ5aPD0ZSpyF74IJ7ZHWrtrb+v60EtVf8Ara/5HrlFeVWnxQ1x9NslvLPT01BfE6aHe+UHMTKerx5YEH0zn6VqS3d5408a674YuXgtrTQrvT7yGRImZ5MESsrZbHO3AIAx70JXa/rs/wAmD0Tv/WtvzPQaKK8svrC90749eHTc63f38d7FeTC3mcCGDCkKqIAAMA4yck0lrJL+trg9E2ep1STWdMk1Z9KTUbRtRjXe9mJ1MyrgHJTOQMEc47ivHfG3huSLxt4j8S+JfA7a9oypAYrgagsJgiSPEjKgbLHPY46Vs6b/AGdJ8dtEudGiSO0ufCwkiKrgsm/CZPUnaFHPpRHW39dG/wBBvS/9dUv1PVJJEijaSV1REBZmY4CgdSTVfTtU0/WLX7VpN9bX1vuK+bbTLImR1GVJGah1/wD5FvU/+vSX/wBANeaeBPD97p3w7s/E/hhbQ6o2gpDFaSwHZK6yNIWYqykls7fYgHJ6Urq7vsv+D/kFtrdf+B/met0V5Ja/FHxJ4g8K654j8OaZZx2GlW0ZVLuJ2eaYANOAVcYVVJxxknH0rZsfG2u+Ktd1G18Grpf2W0062mSe+jkYGeXD7SUYcCPPAGc45qrMX9fl/mehUV5RoN74n+J1jrml63JpEek29xHFFf6dBLieWOVHYLvflcKVzxyQRmvV6Olw62CivK/Fdje2Hxk8HTy61f3MN/d3B+xu4WCEJH8oVAOT8xyxyTWd8bPFEN/Z3/hW11a2sha2hu77zJlV52xmK3QE5Yk4Y46AD1qOb3b/ANaFcvvW/rex6rc6/o9nfNZXmrWMF2sRmaCW5RZBGASX2k52gAnPTg1Pp+pWOrWa3el3lve2zEhZraVZEJHBwykivINPGnaj44+HMkAtbqOfQp4Z3Ta4k2whSjEdcHcMHpyK6P4FAD4VWgAwBc3GAP8Arq1aWs2vX87EJ3V/T8Vc9FoooqRhRRRQAUUUUAFFFFABRRRQAUUUUAFFFFABRRRQAUUUUAFFFFABRRRQAUUUUAFFFFABRRRQAUUUUAFFFFABRRRQAUUUUAFFFFABRRRQAUUUUAFFFFABRRRQAUUUUAFFFFABRRRQAUUUUAFFFFABRRRQAUUUUAFFFFABRRRQAUUUUAFFFFABRRRQAUUUUAFFFFAGN4s8NWvi7wzdaNeyPFHOAVlj+9G6kMrD6ECuSj+Fd7d6rd3/AIk8Vz6pLd6Q+lyMlmkBVWbO5dpwMehBySeccV6NRSt/X4fkO7PO/Dvwuu9F1/R9SvPES3y6VbS2scC6dHADGy7Rypzkdyc59qqp8HpovC8Oip4mkMdhqAvtMZ7FGFucsSrqTiXJYnJx/SvTqKq7f9ed/wAyUrf15W/I5TwZ4Ln8K6hrN3c6v/aUmqyxyuTarDsZVweFOMHsABj3603Vvhb4M1zVZ9S1XQ47i7uG3SymaQFjjHQMB0FdbRSeo1oc/wCMLFm+Hes2OnwPIx02WGGGJS7N+7IVQOpPavPPDZ1GHxN4BuptA1mOKDRW064L2Lr5EgKrl8/dX5Scntg4r2OihfFf+tmv1B6x5f66f5HBeKvheni/Wr3UtT1Z1l+zJDpYjhx/Z7KwcyA7vnYsB/d4496yvE3ha48UfEjwpb3thdT/ANiJ59/qrQeVb3HAZUXk5Jdclc8AnrXqVFC0tbpr/X9ag9b36nAa98Pdd1Tx6PE+neLUsJYYfItYZNLW4FupHzbSzgZJzzjODitnWm8RWtn4es9NuHubt76FNQvFt1CtCqkysVOQm7GBjkEjBrpqKFokv6/ruD1dwIyCK43Q/h1a6b8Np/B+oXjX1tceaHnSLym+di3Ay2CCeD7V2VFKyd/Md2jzqPwReaClzr2uaxfeJruw02S0sIYbJUeOMjkBVJMjngZ71U+G0HiXTtE8GaYbS6srKK0u5NTS4t9nO/ESncNytkk4GMivUKKpN3/rz/zuTZf18v8AI8+8bR3kXxP8EajBpt9eWttJdRzyWlu0gh8xFRSxHCjJzk9gfSjxJ8Lpdb8Q6rqdj4gfT11e1FteQtZRzkgLtGx25QeoHX1HGPQaKm2lvX8SuZ3v/Wh5wfhdqdtqGm3+jeLG0680/Ro9KWRdPWQOFPLlWY9fTsQDntUy/CmOx0bRY9B1q40/VtHaV4tSaFZfMMv+t3xk4IPpnivQaKptvX+u4v6/Q5RtN1Xwv8P9TW01G/1vWfJmmjuJQHd52Hy7E5CqDjC9BXQ6Wt4mj2a6m4kvRAguHAADSbRuPHHXPSrVFFwOc0nwkNL8aa/r5vfOGsrCpt/K2+T5a7fvZ+bOfQYrBj+GFy+oWSan4pvtR0PT7wXtrp08Kl1kBJXdPnc6gk8EV6DRSWlrdAet79f+GPH/AA+fE0T+J7rRtM1HT7jVPEcJha6s9hEBI8xyHBG3aGGR6jHNdN8Xba7ufBtubCxur+SHUraZobSFpZCqvkkKOeld1RStol2t+Fv8g6t97/jf/M83+IWm6rr+ueCLjRkvrNlunle5W18w2e6MYMikEDngg+4qHUPhDe3/AIZvtOfxXL9u1S9F3qd69kCLnaMLH5YcBVHBxk16dRRZK/8AXb/INdPL/g/5nA3Xw71fVNBis9Y8V+deWNzFc6XeW2mxwfY3QEAbAxDjnocdKqfD/RNZ0r4leL5dbkub0zpabNRltfJS5IQ52ADbgZxgE47816TRVJtO/wDX9aBbS39b3MHwlPrVzZX8+vh0Z9Rn+yRyRqjJbBsRggAdgTk84IpmpeFP7Q8d6N4k+2eX/ZcM0X2fys+b5gxndnjH0Oa6Gil28v8AKwPW/n/nc5Lxp8PNJ8XaDf2aW1lY315tP9oiyR5VIYEnPBJIGOveuaubG5034t2DaXot6LLSNBmhE8NkVheQ/MFQgbST6etepUUrdv60a/Ud+/8AWqf6HN2CazP8M1XXt02sS6a32gKgDGUofl2qMZ5xgDrXMeGfD9x4o+A8Phm9hvdFuDbC0kN5aFWUqwO4ISCVPY5Fel0U2k3K/X/g/wCYldctun/A/wAjmYfB3leL9M1z7dn7BpZ07yPJ/wBZkg7927jp0wfrWBoHwo/sKfw1J/bPn/2DNdS4+y7fP8/t987dv459q9Fop3s7/wBdw6W/ra35HnVx8J/N0zUYYtckgu7jXDrVrdJbA/ZpeylS2HA/D6Vr+EvBN14c8RaxrOo64+rXWrJCJWe2WLa0akZG04wc8DHAHU9a66iktNv66fohvXf+tb/mYPg6fWrrQnuPEQdLmW6naKOSNUeOHzD5akADnbj39aZqXhT+0PHejeJPtnl/2XDNF9n8rPm+YMZ3Z4x9Dmuhoo7Pt/lYXdf13OG8R/DzUNbvtQ+xeLL2w0zVVC39gYVmDjGD5bMcxZHXAPWsGexu9L+LqyaPoupCx0bwy1nBMLVjHI6/MiI+MMcEDHqDXq9FK2ll/WjX4X0Hfv8A1qn+hz1rHq8vw3WPW902ryaYRcBUALSmM5GFGM5OMAVzng3TdT1f4JW2hp9s8PX62xs3kvLNg6f3mVCVJBBIByP0r0Sim0m5ef8Awf8AMSurW6f8D/I4DTPBFp8PYdVvNK+1XmkT2KJNo1vbebJLKq7TIh3clh1XHJ5z2rM8DfDu/wBP+EN3o8VzJoWpau7yyysnmyW6MQAhGRz5Yx1GCxr1Kih63v10BaWt0OO8DeDta8IQRWN14ki1DS7eAxQ2cemJb7GyDvLhiSeuc9Sc1peFJ9auY9Vm10OitqUwsY5IwjJbKQqZAA6kMQTzgit+indt3YrWVkc5r3hP+3PFfh3Wvtvkf2JLNJ5PlbvO8xQuN2Rtxj0NJ4r8D6R4o0jULeSysob29hMYv2tEkkjOMBs8EkfUV0lFTZWsVd3ueS3Oky+HviN4VgsNGv57HQdIuBPc2lgRHKxiPC443sVPy5zlh1zW78GLC9034Z2tvqdlcWVx9onYw3MTRuAZCRlSM9K72iqu+v8AWtybK1l5fgrBRRRSGFFFFABRRRQAUUUUAFFFFABRRRQAUUUUAFFFFABRRRQAUUUUAFFFFABRRRQAUUUUAFFFFABRRRQAUUUUAFFFFABRRRQAUUUUAFFFFABRRRQAUUUUAFFFFABRRRQAUUUUAFFFFABRRRQAUUUUAFFFFABRRRQAUUUUAFFFFABRRRQAUUUUAFFFFABRRRQAUUUUAFFZ2va7YeGtDudW1aXyrS2Xc7AZJ5wAB3JJArzmL4nald+Pp0ttO1aLT4dCa7/sq5sljnaUSABxnkjaR0bHXuKV/wCvlf8AQdn/AF62/U9XorgPhD4g17xR4Zm1fxFcTytcSZgV7SOGJFyRiNlJLr7tggjv1rpJvGnha3untZ/EujxXEbmN4Xv4g6sDgqQWyDntVNNOxKd1c26Kx/FXiWz8IeG7nW9SjnltrbbvW3UM53MFGASB1PrWTpfxK0TUby+trmHUNJlsrY3jLqdqYTJAOsqDklfrg+1IqzOuory1Pibca74+8JWmiw6lYaZqLXBmW+shGLtBHlHRjn5c5PBB6ZHIrX+Jur63p0nhuy8PaodLl1TVFtJZxbxzYVlP8Lgjr9KLOy89PxsLT8Lnd0V59onivVNA8U6l4a8b6jBei00/+04dVSAQ74QcOHRcgEH06irenfFHStVleC20zV47h7NryyintQhv417w/Nz9Dt4ND2v/AF1/yf3B6/1/V0dtRXm3hX4sLe/D6HX/ABNYTQXEt0bWGK0tyftchYhVhUsSTxg5I5Bqv4y+Jjy/DnUtT8MzXWkalYXsVrcx3lsnm2xZwDuRtynI7jND0dv66f5oP+D+F/8AI9RorynSvHMGi6fqWu6j4/fxbY2MKCaztNNhieNndVV8jbnuMZ7n0ropPihpS2NpNHpeszXF9LIlnZJZET3KoATKqsR8mCDkkfSgDtKK4p/itoA0zR76CDUbpNXlkhgjt7bfIkiD5kZM5znjjP5c1Q/4XToC2L3Uul67FHbz/Z77fYEfYWyB++OcDk9ASfajrYD0SiuP1/4m6LoGpyWT22pag9vCs95Jp9r5qWcbch5DkYGOeMnHNF9rsms+MtE0fRb0x2clr/a1zcQ9ZYQwEaA9gzHJ9QuO9C1/r+uzDp/X9dV952FFeT+Lfiz5ltBH4TXUYQNXhtG1JrIG2nG7EiI7AjP4D2NdLrHxS0LRdWubO4g1GaGylSG9v4Lbdb2jv0V2znPI6A4zQtdv62/zB6O39df8js6K4C2+Ity/xS1Pw9d6bJDpdnZ+f9rMQBTAJMjtvx5ZA4IXOSM1f0H4maNr+s22nQ2uo2jX0by2E15beXHeovUxnJJ455A4oWu39b/5MHodhRSMwVSzEAAZJPauM0r4paDq+s21jbwalHBeStDZ6jNalbW7dc5WN88ng9QOlG7sGyudpRXEp8V/D76uLUQakLNrn7IurG0P2Nps42CTPXPGcY98Vl2HxDm0zXPFf/CQST3VlZavb2NnHBFHui8wYH93Iz1JJNJO/wDXml+qB6b/ANbv9GelUVyms/ETSdD1LWLK7t715NIsVvpzEiENGxAAXLDLc98D3rNX4vaO959kTRvEDXEluLi0hGmtuvE9YhnkDrk4HHWi6f8AXr/kw/r8v80d7RXEN8WNB/snR9QhtdTuE1eWSGCGC13ypIn3kZAc5zxxn8uafB8U9Cl8O3GqyQajbvb3gsX0+a2xdfaD92MICRk/Wn/X9feH9f19x2lFYfhvxXZ+JhdpBbXlldWUgjubS+h8uWIkZGQCQQR0IJp954x8M6deSWmoeItJtbmI4khnvokdD1wVLZFAGzRXMfEK+ltvhnrl7p108UqWLyQ3EEhVl4yGVh/MVwGv6v4y8KfDeS/0/Vbl4jZ6f9jubsxTyPNKzGbJYEn7yAbu2Md6O/y/G/8AkH/B/C3+Z7NRXlcnxG1DU9N8G3FhL9iubzWV07V7UxqxRwD5kZ3AleeQRg4IroLr4p6BaazJZPDqD20N2LGbUkts2sU5/wCWbPnOc9wCOetO2tv66f5oV9L/ANdf8mdpRXCap8XNE0m81O3m03WZhpVwILya3s98UOcYcsGwF578+1XtH+I+jaxrkuliDULKRbY3cM19amGO5hHWSMnkr35AqU01f+u4/I62iuI034n6Vr14thpttqVtLexy/wBm3d1a+XBesoOfLYnn15ArpvDw1MeGtO/t851P7NH9rPy/63aN33fl656cU+lwNGiuF8V+Idc8LaD4q1O6b5BJHFoi7UOWeNV6Dk/vCxw3p6UvgHxhc3fgi+uPGFwkeo6HNNBqcu0KAY+d2FAGNuOg5xST0b7f1+Gl/UbW3mdzRXDaR8WNI1jWdL06PStatZNWLm0lu7QRxyoq7t4YtypHTGT6gZqSy+Kmg3+tQ2EEOorb3Nw1rbam9qRaTzDjYkmeTkEDjBx1p6i8ztaK8h0xPE3/AAsrSNO8Q61qUd1qOhTveQR3IEcUoYqGRE+QMBg5A6813HgTXLvWNDuIdVZX1LS7uWwu3UYEjxnh8dtylT+NC1/rs7f16g9H/Xa501FFFABRRRQAUUUUAFFFFABRRRQAUUUUAFFFFABRRRQAUUUUAFFFFABRRRQAUUUUAFFFFABRRRQAUUUUAFFFFABRRRQAUUUUAFFFFABRRRQAUUUUAFFFFABRRRQAUUUUAFFFFABRRRQAUUUUAFFFFABRRRQAUUUUAFFFFABRRRQAUUUUAFFFFABRRRQAUUUUAFFFFABRRRQAUUUUAFFFFABRRRQBy3xI8NXfivwNeaZprIt5ujmhEhwrMjhtpPbOMVy+naR4t1f4iy+INb8PJpUL6DJYqi30c58zfkA4x159RjGTnivUaKVtGvX8Vb8h3/r53OV+GWjX/h74caTpesQfZ7y3jcSxb1faS7EcqSDwR0NYd/8AC/UbzW7i/TxFYxpNcNMIm8OWbsoLZwXK7if9o8nrXo1FU3eXN1JStHlOA+N/Hwf1f6w/+jkrEuPB/iXxxq17e65p0GhxLocmmWoW7E5md+fMyoGF9iM16lfWFnqdm9pqVpBeW0mN8NxGJEbByMqeDyM1OAFUBQAAMADtU2Vmn/Wlir7W6f5p/oeSaVoPjO78UeCJdY8Ow2Nr4djlt5p476OXzB5QQOFHIBwOOTyc476HjCy8X67Y+G9Si8Mqb/S9Y+0y2Ed/FzEuQp8xiBzxxyRmvTKKptvX5/O9ybK1vK3y1/zPNrXw34t1TWNa8W3sVtouszaWbDS7MTicW/O7fI4G0kt6AgVj+FvCfi4eOtD1bXtMvY0t7OeC7uLvWVvCZGTG8LnCKx6KmffGK9hopf1+f+bG9V/Xl/keM6Z4a+IOj/DeDQbGwa3l0/US0v2XUY45NQt2dmYRyf8ALI5I64OPTpVGX4f+LJ/Dfii3bR5Vn1HUbK5t0m1JLlmRCN+ZXYElf9rHtmvdKKabvf0/C3+X5ikr/j+N/wDM474o6Bf+IfhvqOl6Jai4vZ/K2RB1TdtkUnliB0B71S8caZ4tubvRP7CS5udMiRlvrOz1EWMrPgBWMvXaO4U5+td9RS/zuPpY8Z8OeA/E1iPCS3umGM6brV3c3RN0km2Jx8r7t2Wz/wB9eoFW9a8EeIbvwb8QLG30/fc6xqouLFPOjHnR7oznJbC/dPDYPFet0VPKrW/rp/khp2afz/P/ADPFtd+HfiG38Taje2On3uqWWs28KTwWetfYfKZYwjLKOkiHnpnGSMV0WlaUPDPxI0W1lQQwXfh37BCPMLhZYXDlA5Az8rEg4BO08V6PVa+02z1JYVvrdJhBMs8W4cpIpyrA9j/9cVd9df60a/Um2lv66P8AQ8YfwV41tvCtl4Rh0KCey03WEu49SW+jBni80txGcEEbucntxmpvHnhHx94gm8Q2htbnUbe4kV9Oki1cQW8cQYHyzb5Ad+Orcdwa9qopf1+X+RV9b/11f6nm1x4f8VWXxIvNW0exiMOpaKtot286AWU6KSpZDkuNwHTPWsLw74V8ZL438Max4h068A077Qt9dXWsrchi0RAkSPOI1JPRefUDAJ9mpGUOpVgGUjBBHBFCutV5/jf/ADFZWt/W1v0MHw7rH/CaeCkv3tmskv0lRU8zeQm5kDA4HUAN071yfgzS/GuiWek+F7rRdOj0zTXYTaq9wJPPjySPKjGGR+ercCvSIYYreBIbeNIoo1CpGihVUDoAB0FPo0uw3PGI/Avi4eGIvALaZbDSI9QFwdc+1qcwiXzMCLG7f29P51Nq/gLxJdL4wls7KMy3OsWuoWCSToBcrFyRkH5T/vYr2Gil/X5f/IoHq7v+t/8ANnjOr+FfGXiK+8Wald+H0sZNV0SO1trdb6KU+Yrg7S2QAcAnPTpzXUWXhrVofHHhXUJLTFrp+htaXMnmJ+7lIX5cZyeh5GR7131FCSW39fF/8kxNX3/rb/5FHjegeA/Ell/wiX2rTtn9na1d3V1+/jPlxP8Adbhuc+gyatXHgnXng8WiTQrLUItQ1tbuK1up9huIAOTG6ODFJ6FvfivWqKErK39dP/kUVe7v/XX/ADZxXw50nxFpceqf26bqGylmU6fY3t6Lua2UD5gZRkEE4wMnGKp6/wDDTUNZ1661CDX7K2jnfcsMnh60nZOAOZHXc3Tqa9BopvV3EtNDkPiNEbf4Q67CzBzHproWCBQcLjOBwPoKxPEuk3niz4J6VaeHUS+maOzYCOZACEK7vmJA4weM9q9FurW3vrWS2vYIri3lUrJFKgdHHoQeCKbZWNpptnHaadaw2ltGMJDBGEROc8KOBzTT1b80/uuK2y8mvvt/keXeK/hzqsnxU0TxB4fj36fJfRXOpwCRVEckfHmgEjOVJBxzke9ZHinwh8QNauNShu7O61Ef2klxazprCx2/2cOCqLbEgbgOpb8CTjPt9FKPu28tfy/yCS5k79dPz/zPKL7wXr82l/EmKOwzJrkyNp6+dH++AXB/i+X/AIFiruq+CdU1bxbprSQGKw/4RubTbi4EikxSuuMbc5PXqOPevSqKnlVreSX3Jr9Sk2vvv97T/Q8b8F+Ade0/WtGg17SbxotGctHfvr5lt+FIBit8ErngYOOM16Va+IftXjW/0BLX5bG0huHuRJn5pCwCFccHC5znv0raqNLeGKaWWOGNJJiDI6qAXwMDJ74FXcm3Y4P4keGNf8X614f0/S3+xabazte3OoEJJ5cqD90BGxy3Oe2Oa52X4f8AiOx1DxZb6nqiX+meINLL3GrSrHbrBcJnbujU/d29SB9a9ioIDAgjIPBB71FtGu9/x/pfcir6pvy/D+vxPBNJ1a+8SePvAmm3NtYodMtbiJ5LDUUut6eSE807OI1OBgE5yfzueG/hlrumX2m6PqumXd5p+nXwuIr8a8VtQFcsrra4JD89MAEk885r2DTtC0nSJJZNJ0uysXmOZWtrdIy/1KgZ/Gr9ac2t/wCt7k20t02POdSnhf8AaJ0dElRni0WbzFDAlMtkZHbjmr/wyQz23iDV1H+jarrVxcWx/vxDCBh7EqTXS3Xh3Rry6nurnS7R7q4hMEtz5KiV4yMFfMHzYxx1q9b28NpaxW9rEkMMSBI40XCooGAAOwqY6L7/AMXf/Ib1f3fgrElFFFABRRRQAUUUUAFFFFABRRRQAUUUUAFFFFABRRRQAUUUUAFFFFABRRRQAUUUUAFFFFABRRRQAUUUUAFFFFABRRRQAUUUUAFFFFABRRRQAUUUUAFFFFABRRRQAUUUUAFFFFABRRRQAUUUUAFFFFABRRRQAUUUUAFFFFABRRRQAUUUUAFFFFABRRRQAUUUUAFFFFABRRRQAUUUUAFFFFABRRRQB//Z)"
      ],
      "metadata": {
        "id": "uQHp827hdRY9"
      }
    },
    {
      "cell_type": "code",
      "source": [
        "# create dataframe\n",
        "\n",
        "data = [['xyz', 10], ['abc', 15], ['pzq', 14], ['mnu', 15], ['xyz', 14]]\n",
        "df= pd.DataFrame(data, columns = ['Name', 'Age'])"
      ],
      "metadata": {
        "id": "KUEHfbN7yC3i"
      },
      "execution_count": null,
      "outputs": []
    },
    {
      "cell_type": "code",
      "source": [
        "df"
      ],
      "metadata": {
        "colab": {
          "base_uri": "https://localhost:8080/",
          "height": 206
        },
        "id": "9Kh7FlO-LhON",
        "outputId": "22df3e7d-08f7-4fb4-ee31-e40571892b08"
      },
      "execution_count": null,
      "outputs": [
        {
          "output_type": "execute_result",
          "data": {
            "text/plain": [
              "  Name  Age\n",
              "0  xyz   10\n",
              "1  abc   15\n",
              "2  pzq   14\n",
              "3  mnu   15\n",
              "4  xyz   14"
            ],
            "text/html": [
              "\n",
              "  <div id=\"df-733e0596-6bab-4fc6-b660-3cfd0ba1d65f\">\n",
              "    <div class=\"colab-df-container\">\n",
              "      <div>\n",
              "<style scoped>\n",
              "    .dataframe tbody tr th:only-of-type {\n",
              "        vertical-align: middle;\n",
              "    }\n",
              "\n",
              "    .dataframe tbody tr th {\n",
              "        vertical-align: top;\n",
              "    }\n",
              "\n",
              "    .dataframe thead th {\n",
              "        text-align: right;\n",
              "    }\n",
              "</style>\n",
              "<table border=\"1\" class=\"dataframe\">\n",
              "  <thead>\n",
              "    <tr style=\"text-align: right;\">\n",
              "      <th></th>\n",
              "      <th>Name</th>\n",
              "      <th>Age</th>\n",
              "    </tr>\n",
              "  </thead>\n",
              "  <tbody>\n",
              "    <tr>\n",
              "      <th>0</th>\n",
              "      <td>xyz</td>\n",
              "      <td>10</td>\n",
              "    </tr>\n",
              "    <tr>\n",
              "      <th>1</th>\n",
              "      <td>abc</td>\n",
              "      <td>15</td>\n",
              "    </tr>\n",
              "    <tr>\n",
              "      <th>2</th>\n",
              "      <td>pzq</td>\n",
              "      <td>14</td>\n",
              "    </tr>\n",
              "    <tr>\n",
              "      <th>3</th>\n",
              "      <td>mnu</td>\n",
              "      <td>15</td>\n",
              "    </tr>\n",
              "    <tr>\n",
              "      <th>4</th>\n",
              "      <td>xyz</td>\n",
              "      <td>14</td>\n",
              "    </tr>\n",
              "  </tbody>\n",
              "</table>\n",
              "</div>\n",
              "      <button class=\"colab-df-convert\" onclick=\"convertToInteractive('df-733e0596-6bab-4fc6-b660-3cfd0ba1d65f')\"\n",
              "              title=\"Convert this dataframe to an interactive table.\"\n",
              "              style=\"display:none;\">\n",
              "        \n",
              "  <svg xmlns=\"http://www.w3.org/2000/svg\" height=\"24px\"viewBox=\"0 0 24 24\"\n",
              "       width=\"24px\">\n",
              "    <path d=\"M0 0h24v24H0V0z\" fill=\"none\"/>\n",
              "    <path d=\"M18.56 5.44l.94 2.06.94-2.06 2.06-.94-2.06-.94-.94-2.06-.94 2.06-2.06.94zm-11 1L8.5 8.5l.94-2.06 2.06-.94-2.06-.94L8.5 2.5l-.94 2.06-2.06.94zm10 10l.94 2.06.94-2.06 2.06-.94-2.06-.94-.94-2.06-.94 2.06-2.06.94z\"/><path d=\"M17.41 7.96l-1.37-1.37c-.4-.4-.92-.59-1.43-.59-.52 0-1.04.2-1.43.59L10.3 9.45l-7.72 7.72c-.78.78-.78 2.05 0 2.83L4 21.41c.39.39.9.59 1.41.59.51 0 1.02-.2 1.41-.59l7.78-7.78 2.81-2.81c.8-.78.8-2.07 0-2.86zM5.41 20L4 18.59l7.72-7.72 1.47 1.35L5.41 20z\"/>\n",
              "  </svg>\n",
              "      </button>\n",
              "      \n",
              "  <style>\n",
              "    .colab-df-container {\n",
              "      display:flex;\n",
              "      flex-wrap:wrap;\n",
              "      gap: 12px;\n",
              "    }\n",
              "\n",
              "    .colab-df-convert {\n",
              "      background-color: #E8F0FE;\n",
              "      border: none;\n",
              "      border-radius: 50%;\n",
              "      cursor: pointer;\n",
              "      display: none;\n",
              "      fill: #1967D2;\n",
              "      height: 32px;\n",
              "      padding: 0 0 0 0;\n",
              "      width: 32px;\n",
              "    }\n",
              "\n",
              "    .colab-df-convert:hover {\n",
              "      background-color: #E2EBFA;\n",
              "      box-shadow: 0px 1px 2px rgba(60, 64, 67, 0.3), 0px 1px 3px 1px rgba(60, 64, 67, 0.15);\n",
              "      fill: #174EA6;\n",
              "    }\n",
              "\n",
              "    [theme=dark] .colab-df-convert {\n",
              "      background-color: #3B4455;\n",
              "      fill: #D2E3FC;\n",
              "    }\n",
              "\n",
              "    [theme=dark] .colab-df-convert:hover {\n",
              "      background-color: #434B5C;\n",
              "      box-shadow: 0px 1px 3px 1px rgba(0, 0, 0, 0.15);\n",
              "      filter: drop-shadow(0px 1px 2px rgba(0, 0, 0, 0.3));\n",
              "      fill: #FFFFFF;\n",
              "    }\n",
              "  </style>\n",
              "\n",
              "      <script>\n",
              "        const buttonEl =\n",
              "          document.querySelector('#df-733e0596-6bab-4fc6-b660-3cfd0ba1d65f button.colab-df-convert');\n",
              "        buttonEl.style.display =\n",
              "          google.colab.kernel.accessAllowed ? 'block' : 'none';\n",
              "\n",
              "        async function convertToInteractive(key) {\n",
              "          const element = document.querySelector('#df-733e0596-6bab-4fc6-b660-3cfd0ba1d65f');\n",
              "          const dataTable =\n",
              "            await google.colab.kernel.invokeFunction('convertToInteractive',\n",
              "                                                     [key], {});\n",
              "          if (!dataTable) return;\n",
              "\n",
              "          const docLinkHtml = 'Like what you see? Visit the ' +\n",
              "            '<a target=\"_blank\" href=https://colab.research.google.com/notebooks/data_table.ipynb>data table notebook</a>'\n",
              "            + ' to learn more about interactive tables.';\n",
              "          element.innerHTML = '';\n",
              "          dataTable['output_type'] = 'display_data';\n",
              "          await google.colab.output.renderOutput(dataTable, element);\n",
              "          const docLink = document.createElement('div');\n",
              "          docLink.innerHTML = docLinkHtml;\n",
              "          element.appendChild(docLink);\n",
              "        }\n",
              "      </script>\n",
              "    </div>\n",
              "  </div>\n",
              "  "
            ]
          },
          "metadata": {},
          "execution_count": 50
        }
      ]
    },
    {
      "cell_type": "code",
      "metadata": {
        "id": "qn2sQAfdk1Su"
      },
      "source": [
        "# lambda function - Row wise operation\n",
        "def fun(Name, Age):\n",
        "  if Name=='xyz' or Name=='mnu':\n",
        "    Age=Age\n",
        "  else:\n",
        "    Age = 22\n",
        "    \n",
        "  return Age"
      ],
      "execution_count": null,
      "outputs": []
    },
    {
      "cell_type": "code",
      "metadata": {
        "id": "bajSQhDSm-Qr"
      },
      "source": [
        "df['Age'] = df.apply(lambda x: fun(x['Name'], x['Age']),axis=1)"
      ],
      "execution_count": null,
      "outputs": []
    },
    {
      "cell_type": "code",
      "source": [
        "df"
      ],
      "metadata": {
        "colab": {
          "base_uri": "https://localhost:8080/",
          "height": 206
        },
        "id": "ZWv-DlShOtEn",
        "outputId": "d224706a-a4e9-46c7-c7aa-5492c1f78fed"
      },
      "execution_count": null,
      "outputs": [
        {
          "output_type": "execute_result",
          "data": {
            "text/plain": [
              "  Name  Age\n",
              "0  xyz   10\n",
              "1  abc   22\n",
              "2  pzq   22\n",
              "3  mnu   15\n",
              "4  xyz   14"
            ],
            "text/html": [
              "\n",
              "  <div id=\"df-097cc2c1-8348-4c7a-837a-439917f6507d\">\n",
              "    <div class=\"colab-df-container\">\n",
              "      <div>\n",
              "<style scoped>\n",
              "    .dataframe tbody tr th:only-of-type {\n",
              "        vertical-align: middle;\n",
              "    }\n",
              "\n",
              "    .dataframe tbody tr th {\n",
              "        vertical-align: top;\n",
              "    }\n",
              "\n",
              "    .dataframe thead th {\n",
              "        text-align: right;\n",
              "    }\n",
              "</style>\n",
              "<table border=\"1\" class=\"dataframe\">\n",
              "  <thead>\n",
              "    <tr style=\"text-align: right;\">\n",
              "      <th></th>\n",
              "      <th>Name</th>\n",
              "      <th>Age</th>\n",
              "    </tr>\n",
              "  </thead>\n",
              "  <tbody>\n",
              "    <tr>\n",
              "      <th>0</th>\n",
              "      <td>xyz</td>\n",
              "      <td>10</td>\n",
              "    </tr>\n",
              "    <tr>\n",
              "      <th>1</th>\n",
              "      <td>abc</td>\n",
              "      <td>22</td>\n",
              "    </tr>\n",
              "    <tr>\n",
              "      <th>2</th>\n",
              "      <td>pzq</td>\n",
              "      <td>22</td>\n",
              "    </tr>\n",
              "    <tr>\n",
              "      <th>3</th>\n",
              "      <td>mnu</td>\n",
              "      <td>15</td>\n",
              "    </tr>\n",
              "    <tr>\n",
              "      <th>4</th>\n",
              "      <td>xyz</td>\n",
              "      <td>14</td>\n",
              "    </tr>\n",
              "  </tbody>\n",
              "</table>\n",
              "</div>\n",
              "      <button class=\"colab-df-convert\" onclick=\"convertToInteractive('df-097cc2c1-8348-4c7a-837a-439917f6507d')\"\n",
              "              title=\"Convert this dataframe to an interactive table.\"\n",
              "              style=\"display:none;\">\n",
              "        \n",
              "  <svg xmlns=\"http://www.w3.org/2000/svg\" height=\"24px\"viewBox=\"0 0 24 24\"\n",
              "       width=\"24px\">\n",
              "    <path d=\"M0 0h24v24H0V0z\" fill=\"none\"/>\n",
              "    <path d=\"M18.56 5.44l.94 2.06.94-2.06 2.06-.94-2.06-.94-.94-2.06-.94 2.06-2.06.94zm-11 1L8.5 8.5l.94-2.06 2.06-.94-2.06-.94L8.5 2.5l-.94 2.06-2.06.94zm10 10l.94 2.06.94-2.06 2.06-.94-2.06-.94-.94-2.06-.94 2.06-2.06.94z\"/><path d=\"M17.41 7.96l-1.37-1.37c-.4-.4-.92-.59-1.43-.59-.52 0-1.04.2-1.43.59L10.3 9.45l-7.72 7.72c-.78.78-.78 2.05 0 2.83L4 21.41c.39.39.9.59 1.41.59.51 0 1.02-.2 1.41-.59l7.78-7.78 2.81-2.81c.8-.78.8-2.07 0-2.86zM5.41 20L4 18.59l7.72-7.72 1.47 1.35L5.41 20z\"/>\n",
              "  </svg>\n",
              "      </button>\n",
              "      \n",
              "  <style>\n",
              "    .colab-df-container {\n",
              "      display:flex;\n",
              "      flex-wrap:wrap;\n",
              "      gap: 12px;\n",
              "    }\n",
              "\n",
              "    .colab-df-convert {\n",
              "      background-color: #E8F0FE;\n",
              "      border: none;\n",
              "      border-radius: 50%;\n",
              "      cursor: pointer;\n",
              "      display: none;\n",
              "      fill: #1967D2;\n",
              "      height: 32px;\n",
              "      padding: 0 0 0 0;\n",
              "      width: 32px;\n",
              "    }\n",
              "\n",
              "    .colab-df-convert:hover {\n",
              "      background-color: #E2EBFA;\n",
              "      box-shadow: 0px 1px 2px rgba(60, 64, 67, 0.3), 0px 1px 3px 1px rgba(60, 64, 67, 0.15);\n",
              "      fill: #174EA6;\n",
              "    }\n",
              "\n",
              "    [theme=dark] .colab-df-convert {\n",
              "      background-color: #3B4455;\n",
              "      fill: #D2E3FC;\n",
              "    }\n",
              "\n",
              "    [theme=dark] .colab-df-convert:hover {\n",
              "      background-color: #434B5C;\n",
              "      box-shadow: 0px 1px 3px 1px rgba(0, 0, 0, 0.15);\n",
              "      filter: drop-shadow(0px 1px 2px rgba(0, 0, 0, 0.3));\n",
              "      fill: #FFFFFF;\n",
              "    }\n",
              "  </style>\n",
              "\n",
              "      <script>\n",
              "        const buttonEl =\n",
              "          document.querySelector('#df-097cc2c1-8348-4c7a-837a-439917f6507d button.colab-df-convert');\n",
              "        buttonEl.style.display =\n",
              "          google.colab.kernel.accessAllowed ? 'block' : 'none';\n",
              "\n",
              "        async function convertToInteractive(key) {\n",
              "          const element = document.querySelector('#df-097cc2c1-8348-4c7a-837a-439917f6507d');\n",
              "          const dataTable =\n",
              "            await google.colab.kernel.invokeFunction('convertToInteractive',\n",
              "                                                     [key], {});\n",
              "          if (!dataTable) return;\n",
              "\n",
              "          const docLinkHtml = 'Like what you see? Visit the ' +\n",
              "            '<a target=\"_blank\" href=https://colab.research.google.com/notebooks/data_table.ipynb>data table notebook</a>'\n",
              "            + ' to learn more about interactive tables.';\n",
              "          element.innerHTML = '';\n",
              "          dataTable['output_type'] = 'display_data';\n",
              "          await google.colab.output.renderOutput(dataTable, element);\n",
              "          const docLink = document.createElement('div');\n",
              "          docLink.innerHTML = docLinkHtml;\n",
              "          element.appendChild(docLink);\n",
              "        }\n",
              "      </script>\n",
              "    </div>\n",
              "  </div>\n",
              "  "
            ]
          },
          "metadata": {},
          "execution_count": 53
        }
      ]
    },
    {
      "cell_type": "markdown",
      "source": [
        "#5 Create confusion matix"
      ],
      "metadata": {
        "id": "TwJ7gpt0_rzS"
      }
    },
    {
      "cell_type": "code",
      "source": [
        "import pandas as pd\n",
        "import numpy as np"
      ],
      "metadata": {
        "id": "g0RZPm2H_6fY"
      },
      "execution_count": null,
      "outputs": []
    },
    {
      "cell_type": "code",
      "source": [
        "labels=[0,0,0,0,1,1,1,1,2,2,2,2,4,4,3]\n",
        "predictions=[1,2,2,1,1,2,1,0,2,2,0,1,3,3,4]\n",
        "\n",
        "classes=sorted(list(set(labels)))\n",
        "indices=classes\n",
        "\n",
        "matrix=np.zeros((len(classes),len(classes)))\n",
        "\n",
        "df=pd.DataFrame(matrix,columns=classes,index=indices)"
      ],
      "metadata": {
        "id": "4mTFWHn_kwag"
      },
      "execution_count": null,
      "outputs": []
    },
    {
      "cell_type": "code",
      "source": [
        "for i in range(len(labels)):\n",
        "  df.iloc[labels[i],predictions[i]]+=1"
      ],
      "metadata": {
        "id": "dxcnDs6z__WP"
      },
      "execution_count": null,
      "outputs": []
    },
    {
      "cell_type": "code",
      "source": [
        "df"
      ],
      "metadata": {
        "colab": {
          "base_uri": "https://localhost:8080/",
          "height": 206
        },
        "id": "gq3ey5aqAcl6",
        "outputId": "f7b9e781-689b-4e76-ab54-b563c4e600b9"
      },
      "execution_count": null,
      "outputs": [
        {
          "output_type": "execute_result",
          "data": {
            "text/plain": [
              "     0    1    2    3    4\n",
              "0  0.0  2.0  2.0  0.0  0.0\n",
              "1  1.0  2.0  1.0  0.0  0.0\n",
              "2  1.0  1.0  2.0  0.0  0.0\n",
              "3  0.0  0.0  0.0  0.0  1.0\n",
              "4  0.0  0.0  0.0  2.0  0.0"
            ],
            "text/html": [
              "\n",
              "  <div id=\"df-38b31e17-94ed-493e-b138-01659150dc0d\">\n",
              "    <div class=\"colab-df-container\">\n",
              "      <div>\n",
              "<style scoped>\n",
              "    .dataframe tbody tr th:only-of-type {\n",
              "        vertical-align: middle;\n",
              "    }\n",
              "\n",
              "    .dataframe tbody tr th {\n",
              "        vertical-align: top;\n",
              "    }\n",
              "\n",
              "    .dataframe thead th {\n",
              "        text-align: right;\n",
              "    }\n",
              "</style>\n",
              "<table border=\"1\" class=\"dataframe\">\n",
              "  <thead>\n",
              "    <tr style=\"text-align: right;\">\n",
              "      <th></th>\n",
              "      <th>0</th>\n",
              "      <th>1</th>\n",
              "      <th>2</th>\n",
              "      <th>3</th>\n",
              "      <th>4</th>\n",
              "    </tr>\n",
              "  </thead>\n",
              "  <tbody>\n",
              "    <tr>\n",
              "      <th>0</th>\n",
              "      <td>0.0</td>\n",
              "      <td>2.0</td>\n",
              "      <td>2.0</td>\n",
              "      <td>0.0</td>\n",
              "      <td>0.0</td>\n",
              "    </tr>\n",
              "    <tr>\n",
              "      <th>1</th>\n",
              "      <td>1.0</td>\n",
              "      <td>2.0</td>\n",
              "      <td>1.0</td>\n",
              "      <td>0.0</td>\n",
              "      <td>0.0</td>\n",
              "    </tr>\n",
              "    <tr>\n",
              "      <th>2</th>\n",
              "      <td>1.0</td>\n",
              "      <td>1.0</td>\n",
              "      <td>2.0</td>\n",
              "      <td>0.0</td>\n",
              "      <td>0.0</td>\n",
              "    </tr>\n",
              "    <tr>\n",
              "      <th>3</th>\n",
              "      <td>0.0</td>\n",
              "      <td>0.0</td>\n",
              "      <td>0.0</td>\n",
              "      <td>0.0</td>\n",
              "      <td>1.0</td>\n",
              "    </tr>\n",
              "    <tr>\n",
              "      <th>4</th>\n",
              "      <td>0.0</td>\n",
              "      <td>0.0</td>\n",
              "      <td>0.0</td>\n",
              "      <td>2.0</td>\n",
              "      <td>0.0</td>\n",
              "    </tr>\n",
              "  </tbody>\n",
              "</table>\n",
              "</div>\n",
              "      <button class=\"colab-df-convert\" onclick=\"convertToInteractive('df-38b31e17-94ed-493e-b138-01659150dc0d')\"\n",
              "              title=\"Convert this dataframe to an interactive table.\"\n",
              "              style=\"display:none;\">\n",
              "        \n",
              "  <svg xmlns=\"http://www.w3.org/2000/svg\" height=\"24px\"viewBox=\"0 0 24 24\"\n",
              "       width=\"24px\">\n",
              "    <path d=\"M0 0h24v24H0V0z\" fill=\"none\"/>\n",
              "    <path d=\"M18.56 5.44l.94 2.06.94-2.06 2.06-.94-2.06-.94-.94-2.06-.94 2.06-2.06.94zm-11 1L8.5 8.5l.94-2.06 2.06-.94-2.06-.94L8.5 2.5l-.94 2.06-2.06.94zm10 10l.94 2.06.94-2.06 2.06-.94-2.06-.94-.94-2.06-.94 2.06-2.06.94z\"/><path d=\"M17.41 7.96l-1.37-1.37c-.4-.4-.92-.59-1.43-.59-.52 0-1.04.2-1.43.59L10.3 9.45l-7.72 7.72c-.78.78-.78 2.05 0 2.83L4 21.41c.39.39.9.59 1.41.59.51 0 1.02-.2 1.41-.59l7.78-7.78 2.81-2.81c.8-.78.8-2.07 0-2.86zM5.41 20L4 18.59l7.72-7.72 1.47 1.35L5.41 20z\"/>\n",
              "  </svg>\n",
              "      </button>\n",
              "      \n",
              "  <style>\n",
              "    .colab-df-container {\n",
              "      display:flex;\n",
              "      flex-wrap:wrap;\n",
              "      gap: 12px;\n",
              "    }\n",
              "\n",
              "    .colab-df-convert {\n",
              "      background-color: #E8F0FE;\n",
              "      border: none;\n",
              "      border-radius: 50%;\n",
              "      cursor: pointer;\n",
              "      display: none;\n",
              "      fill: #1967D2;\n",
              "      height: 32px;\n",
              "      padding: 0 0 0 0;\n",
              "      width: 32px;\n",
              "    }\n",
              "\n",
              "    .colab-df-convert:hover {\n",
              "      background-color: #E2EBFA;\n",
              "      box-shadow: 0px 1px 2px rgba(60, 64, 67, 0.3), 0px 1px 3px 1px rgba(60, 64, 67, 0.15);\n",
              "      fill: #174EA6;\n",
              "    }\n",
              "\n",
              "    [theme=dark] .colab-df-convert {\n",
              "      background-color: #3B4455;\n",
              "      fill: #D2E3FC;\n",
              "    }\n",
              "\n",
              "    [theme=dark] .colab-df-convert:hover {\n",
              "      background-color: #434B5C;\n",
              "      box-shadow: 0px 1px 3px 1px rgba(0, 0, 0, 0.15);\n",
              "      filter: drop-shadow(0px 1px 2px rgba(0, 0, 0, 0.3));\n",
              "      fill: #FFFFFF;\n",
              "    }\n",
              "  </style>\n",
              "\n",
              "      <script>\n",
              "        const buttonEl =\n",
              "          document.querySelector('#df-38b31e17-94ed-493e-b138-01659150dc0d button.colab-df-convert');\n",
              "        buttonEl.style.display =\n",
              "          google.colab.kernel.accessAllowed ? 'block' : 'none';\n",
              "\n",
              "        async function convertToInteractive(key) {\n",
              "          const element = document.querySelector('#df-38b31e17-94ed-493e-b138-01659150dc0d');\n",
              "          const dataTable =\n",
              "            await google.colab.kernel.invokeFunction('convertToInteractive',\n",
              "                                                     [key], {});\n",
              "          if (!dataTable) return;\n",
              "\n",
              "          const docLinkHtml = 'Like what you see? Visit the ' +\n",
              "            '<a target=\"_blank\" href=https://colab.research.google.com/notebooks/data_table.ipynb>data table notebook</a>'\n",
              "            + ' to learn more about interactive tables.';\n",
              "          element.innerHTML = '';\n",
              "          dataTable['output_type'] = 'display_data';\n",
              "          await google.colab.output.renderOutput(dataTable, element);\n",
              "          const docLink = document.createElement('div');\n",
              "          docLink.innerHTML = docLinkHtml;\n",
              "          element.appendChild(docLink);\n",
              "        }\n",
              "      </script>\n",
              "    </div>\n",
              "  </div>\n",
              "  "
            ]
          },
          "metadata": {},
          "execution_count": 4
        }
      ]
    },
    {
      "cell_type": "markdown",
      "source": [
        "![image.png](data:image/png;base64,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)"
      ],
      "metadata": {
        "id": "ONdlajaudCE_"
      }
    },
    {
      "cell_type": "markdown",
      "source": [
        "![image.png](data:image/png;base64,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)"
      ],
      "metadata": {
        "id": "IkSRn-YUdnG1"
      }
    },
    {
      "cell_type": "markdown",
      "source": [
        "#6 Recall"
      ],
      "metadata": {
        "id": "4CuUSn0DA_SO"
      }
    },
    {
      "cell_type": "code",
      "source": [
        "recall={}\n",
        "\n",
        "for actual in classes:\n",
        "  sum=0\n",
        "  for pred in classes:\n",
        "    sum+=df.iloc[actual,pred]\n",
        "  #Tp/(tp+fn)\n",
        "  recall[actual]=df.iloc[actual,actual]/sum\n",
        "\n",
        "recall"
      ],
      "metadata": {
        "id": "QY6mTUFT629h",
        "colab": {
          "base_uri": "https://localhost:8080/"
        },
        "outputId": "299e2173-ce82-4463-f9ba-d66c3cb4a204"
      },
      "execution_count": null,
      "outputs": [
        {
          "output_type": "execute_result",
          "data": {
            "text/plain": [
              "{0: 0.0, 1: 0.5, 2: 0.5, 3: 0.0, 4: 0.0}"
            ]
          },
          "metadata": {},
          "execution_count": 12
        }
      ]
    },
    {
      "cell_type": "code",
      "source": [
        "pecision={}\n",
        "\n",
        "for actual in classes:\n",
        "  sum=0\n",
        "  for predicted in classes:\n",
        "    sum+=df.iloc[predicted,actual]\n",
        "  #Tp/(tp+fp)\n",
        "  pecision[actual]=df.iloc[actual,actual]/sum\n",
        "pecision"
      ],
      "metadata": {
        "colab": {
          "base_uri": "https://localhost:8080/"
        },
        "id": "TCGQbVIzE_zN",
        "outputId": "b7fe2592-7c3b-44ae-f372-146c73cbd098"
      },
      "execution_count": null,
      "outputs": [
        {
          "output_type": "execute_result",
          "data": {
            "text/plain": [
              "{0: 0.0, 1: 0.4, 2: 0.4, 3: 0.0, 4: 0.0}"
            ]
          },
          "metadata": {},
          "execution_count": 13
        }
      ]
    },
    {
      "cell_type": "markdown",
      "source": [
        "#7 find difference of sequence and then difference of sequence"
      ],
      "metadata": {
        "id": "R3_ZFbGHuiRh"
      }
    },
    {
      "cell_type": "code",
      "source": [
        "import pandas as pd"
      ],
      "metadata": {
        "id": "hcsHTEP0vUby"
      },
      "execution_count": null,
      "outputs": []
    },
    {
      "cell_type": "code",
      "source": [
        "a=[1, 2, 3, 4, 5, 6]\n",
        "a=input().split(',')\n",
        "b=[]\n",
        "for i in a:\n",
        "  b.append(int(i))\n",
        "ser=pd.Series(b)\n",
        "print(ser.diff().tolist())\n",
        "print(ser.diff().diff().tolist())"
      ],
      "metadata": {
        "colab": {
          "base_uri": "https://localhost:8080/"
        },
        "id": "lwDxl5iiujgp",
        "outputId": "3f786b90-7aa2-46e8-c380-38be5821d7a4"
      },
      "execution_count": null,
      "outputs": [
        {
          "output_type": "stream",
          "name": "stdout",
          "text": [
            "1, 2, 3, 4, 5, 6\n",
            "[nan, 1.0, 1.0, 1.0, 1.0, 1.0]\n",
            "[nan, nan, 0.0, 0.0, 0.0, 0.0]\n"
          ]
        }
      ]
    },
    {
      "cell_type": "markdown",
      "source": [
        "#8df"
      ],
      "metadata": {
        "id": "06faZAUTvpzI"
      }
    },
    {
      "cell_type": "code",
      "source": [
        "def joindf(df1,df2):\n",
        "  df1['name']=df1['name'].str.lower()\n",
        "  df=df1.merge(df2,on='name',how='inner')\n",
        "  return df"
      ],
      "metadata": {
        "id": "Z1nHTIVuvpRc"
      },
      "execution_count": null,
      "outputs": []
    },
    {
      "cell_type": "markdown",
      "source": [
        "#9series"
      ],
      "metadata": {
        "id": "HVEwroLxyXx1"
      }
    },
    {
      "cell_type": "code",
      "source": [
        "import pandas as pd"
      ],
      "metadata": {
        "id": "Cwo5_4EPYBnu"
      },
      "execution_count": null,
      "outputs": []
    },
    {
      "cell_type": "code",
      "source": [
        "n=[2,3,4,5,6,6]\n",
        "n=input().split(',')\n",
        "ser=pd.Series(n)\n",
        "result=ser.value_counts()\n",
        "print(result.sort_index())"
      ],
      "metadata": {
        "id": "tXoZ59HkyW4z",
        "colab": {
          "base_uri": "https://localhost:8080/"
        },
        "outputId": "c475a13f-ec91-4ea5-d1f7-a1457dab1608"
      },
      "execution_count": null,
      "outputs": [
        {
          "output_type": "stream",
          "name": "stdout",
          "text": [
            "2,3,4,5,6,6\n",
            "2    1\n",
            "3    1\n",
            "4    1\n",
            "5    1\n",
            "6    2\n",
            "dtype: int64\n"
          ]
        }
      ]
    },
    {
      "cell_type": "markdown",
      "source": [
        "#10\n"
      ],
      "metadata": {
        "id": "fnH49uBBX5tj"
      }
    },
    {
      "cell_type": "code",
      "source": [
        "T=5\n",
        "inp1=234314.144,643.09,2015\n",
        "inp2=228581.528,656.22,2009\n",
        "inp3=281626.336,487.29,2018\n",
        "inp4=401255.608,1504.75,2015\n",
        "inp5=458674.256,1275.46,2009"
      ],
      "metadata": {
        "id": "wdZm8AEyYxt5"
      },
      "execution_count": null,
      "outputs": []
    },
    {
      "cell_type": "code",
      "source": [
        "T=int(input())\n",
        "x=[]\n",
        "for i in range(T):\n",
        "  x.append(input().split(','))\n",
        "\n",
        "\n",
        "df= pd.DataFrame(x,columns=['price','size','year'])\n"
      ],
      "metadata": {
        "colab": {
          "base_uri": "https://localhost:8080/"
        },
        "id": "ORQyj58tYghz",
        "outputId": "0173b00b-0688-4780-f410-c0f41957758a"
      },
      "execution_count": null,
      "outputs": [
        {
          "name": "stdout",
          "output_type": "stream",
          "text": [
            "5\n",
            "228581.528,656.22,2009\n",
            "234314.144,643.09,2015\n",
            "281626.336,487.29,2018\n",
            "401255.608,1504.75,2015\n",
            "458674.256,1275.46,2009\n"
          ]
        }
      ]
    },
    {
      "cell_type": "code",
      "source": [
        "df"
      ],
      "metadata": {
        "colab": {
          "base_uri": "https://localhost:8080/",
          "height": 206
        },
        "id": "nh770WX2Yvkn",
        "outputId": "42669093-8be1-4394-e38e-ab9a341ef8dc"
      },
      "execution_count": null,
      "outputs": [
        {
          "output_type": "execute_result",
          "data": {
            "text/plain": [
              "        price     size  year\n",
              "0  228581.528   656.22  2009\n",
              "1  234314.144   643.09  2015\n",
              "2  281626.336   487.29  2018\n",
              "3  401255.608  1504.75  2015\n",
              "4  458674.256  1275.46  2009"
            ],
            "text/html": [
              "\n",
              "  <div id=\"df-e92a66ec-56de-468a-816d-379dff3e6ef3\">\n",
              "    <div class=\"colab-df-container\">\n",
              "      <div>\n",
              "<style scoped>\n",
              "    .dataframe tbody tr th:only-of-type {\n",
              "        vertical-align: middle;\n",
              "    }\n",
              "\n",
              "    .dataframe tbody tr th {\n",
              "        vertical-align: top;\n",
              "    }\n",
              "\n",
              "    .dataframe thead th {\n",
              "        text-align: right;\n",
              "    }\n",
              "</style>\n",
              "<table border=\"1\" class=\"dataframe\">\n",
              "  <thead>\n",
              "    <tr style=\"text-align: right;\">\n",
              "      <th></th>\n",
              "      <th>price</th>\n",
              "      <th>size</th>\n",
              "      <th>year</th>\n",
              "    </tr>\n",
              "  </thead>\n",
              "  <tbody>\n",
              "    <tr>\n",
              "      <th>0</th>\n",
              "      <td>228581.528</td>\n",
              "      <td>656.22</td>\n",
              "      <td>2009</td>\n",
              "    </tr>\n",
              "    <tr>\n",
              "      <th>1</th>\n",
              "      <td>234314.144</td>\n",
              "      <td>643.09</td>\n",
              "      <td>2015</td>\n",
              "    </tr>\n",
              "    <tr>\n",
              "      <th>2</th>\n",
              "      <td>281626.336</td>\n",
              "      <td>487.29</td>\n",
              "      <td>2018</td>\n",
              "    </tr>\n",
              "    <tr>\n",
              "      <th>3</th>\n",
              "      <td>401255.608</td>\n",
              "      <td>1504.75</td>\n",
              "      <td>2015</td>\n",
              "    </tr>\n",
              "    <tr>\n",
              "      <th>4</th>\n",
              "      <td>458674.256</td>\n",
              "      <td>1275.46</td>\n",
              "      <td>2009</td>\n",
              "    </tr>\n",
              "  </tbody>\n",
              "</table>\n",
              "</div>\n",
              "      <button class=\"colab-df-convert\" onclick=\"convertToInteractive('df-e92a66ec-56de-468a-816d-379dff3e6ef3')\"\n",
              "              title=\"Convert this dataframe to an interactive table.\"\n",
              "              style=\"display:none;\">\n",
              "        \n",
              "  <svg xmlns=\"http://www.w3.org/2000/svg\" height=\"24px\"viewBox=\"0 0 24 24\"\n",
              "       width=\"24px\">\n",
              "    <path d=\"M0 0h24v24H0V0z\" fill=\"none\"/>\n",
              "    <path d=\"M18.56 5.44l.94 2.06.94-2.06 2.06-.94-2.06-.94-.94-2.06-.94 2.06-2.06.94zm-11 1L8.5 8.5l.94-2.06 2.06-.94-2.06-.94L8.5 2.5l-.94 2.06-2.06.94zm10 10l.94 2.06.94-2.06 2.06-.94-2.06-.94-.94-2.06-.94 2.06-2.06.94z\"/><path d=\"M17.41 7.96l-1.37-1.37c-.4-.4-.92-.59-1.43-.59-.52 0-1.04.2-1.43.59L10.3 9.45l-7.72 7.72c-.78.78-.78 2.05 0 2.83L4 21.41c.39.39.9.59 1.41.59.51 0 1.02-.2 1.41-.59l7.78-7.78 2.81-2.81c.8-.78.8-2.07 0-2.86zM5.41 20L4 18.59l7.72-7.72 1.47 1.35L5.41 20z\"/>\n",
              "  </svg>\n",
              "      </button>\n",
              "      \n",
              "  <style>\n",
              "    .colab-df-container {\n",
              "      display:flex;\n",
              "      flex-wrap:wrap;\n",
              "      gap: 12px;\n",
              "    }\n",
              "\n",
              "    .colab-df-convert {\n",
              "      background-color: #E8F0FE;\n",
              "      border: none;\n",
              "      border-radius: 50%;\n",
              "      cursor: pointer;\n",
              "      display: none;\n",
              "      fill: #1967D2;\n",
              "      height: 32px;\n",
              "      padding: 0 0 0 0;\n",
              "      width: 32px;\n",
              "    }\n",
              "\n",
              "    .colab-df-convert:hover {\n",
              "      background-color: #E2EBFA;\n",
              "      box-shadow: 0px 1px 2px rgba(60, 64, 67, 0.3), 0px 1px 3px 1px rgba(60, 64, 67, 0.15);\n",
              "      fill: #174EA6;\n",
              "    }\n",
              "\n",
              "    [theme=dark] .colab-df-convert {\n",
              "      background-color: #3B4455;\n",
              "      fill: #D2E3FC;\n",
              "    }\n",
              "\n",
              "    [theme=dark] .colab-df-convert:hover {\n",
              "      background-color: #434B5C;\n",
              "      box-shadow: 0px 1px 3px 1px rgba(0, 0, 0, 0.15);\n",
              "      filter: drop-shadow(0px 1px 2px rgba(0, 0, 0, 0.3));\n",
              "      fill: #FFFFFF;\n",
              "    }\n",
              "  </style>\n",
              "\n",
              "      <script>\n",
              "        const buttonEl =\n",
              "          document.querySelector('#df-e92a66ec-56de-468a-816d-379dff3e6ef3 button.colab-df-convert');\n",
              "        buttonEl.style.display =\n",
              "          google.colab.kernel.accessAllowed ? 'block' : 'none';\n",
              "\n",
              "        async function convertToInteractive(key) {\n",
              "          const element = document.querySelector('#df-e92a66ec-56de-468a-816d-379dff3e6ef3');\n",
              "          const dataTable =\n",
              "            await google.colab.kernel.invokeFunction('convertToInteractive',\n",
              "                                                     [key], {});\n",
              "          if (!dataTable) return;\n",
              "\n",
              "          const docLinkHtml = 'Like what you see? Visit the ' +\n",
              "            '<a target=\"_blank\" href=https://colab.research.google.com/notebooks/data_table.ipynb>data table notebook</a>'\n",
              "            + ' to learn more about interactive tables.';\n",
              "          element.innerHTML = '';\n",
              "          dataTable['output_type'] = 'display_data';\n",
              "          await google.colab.output.renderOutput(dataTable, element);\n",
              "          const docLink = document.createElement('div');\n",
              "          docLink.innerHTML = docLinkHtml;\n",
              "          element.appendChild(docLink);\n",
              "        }\n",
              "      </script>\n",
              "    </div>\n",
              "  </div>\n",
              "  "
            ]
          },
          "metadata": {},
          "execution_count": 25
        }
      ]
    },
    {
      "cell_type": "code",
      "source": [
        "df.dtypes"
      ],
      "metadata": {
        "colab": {
          "base_uri": "https://localhost:8080/"
        },
        "id": "_saDEPxMZ2jh",
        "outputId": "8f17f3e0-1f5b-4edf-ef1b-8bf1493479c8"
      },
      "execution_count": null,
      "outputs": [
        {
          "output_type": "execute_result",
          "data": {
            "text/plain": [
              "price    float64\n",
              "size     float64\n",
              "year       int64\n",
              "dtype: object"
            ]
          },
          "metadata": {},
          "execution_count": 19
        }
      ]
    },
    {
      "cell_type": "code",
      "source": [
        "df"
      ],
      "metadata": {
        "colab": {
          "base_uri": "https://localhost:8080/",
          "height": 206
        },
        "id": "np-jlDeca-5k",
        "outputId": "4568b85c-b229-4eb4-f31b-34bc03babe73"
      },
      "execution_count": null,
      "outputs": [
        {
          "output_type": "execute_result",
          "data": {
            "text/plain": [
              "        price     size  year\n",
              "0  234314.144   643.09  2015\n",
              "1  228581.528   656.22  2009\n",
              "2  281626.336   487.29  2018\n",
              "3  401255.608  1504.75  2015\n",
              "4    4587.256  1275.46  2009"
            ],
            "text/html": [
              "\n",
              "  <div id=\"df-44c8fcae-84d8-4e4b-b040-16b5cf224d35\">\n",
              "    <div class=\"colab-df-container\">\n",
              "      <div>\n",
              "<style scoped>\n",
              "    .dataframe tbody tr th:only-of-type {\n",
              "        vertical-align: middle;\n",
              "    }\n",
              "\n",
              "    .dataframe tbody tr th {\n",
              "        vertical-align: top;\n",
              "    }\n",
              "\n",
              "    .dataframe thead th {\n",
              "        text-align: right;\n",
              "    }\n",
              "</style>\n",
              "<table border=\"1\" class=\"dataframe\">\n",
              "  <thead>\n",
              "    <tr style=\"text-align: right;\">\n",
              "      <th></th>\n",
              "      <th>price</th>\n",
              "      <th>size</th>\n",
              "      <th>year</th>\n",
              "    </tr>\n",
              "  </thead>\n",
              "  <tbody>\n",
              "    <tr>\n",
              "      <th>0</th>\n",
              "      <td>234314.144</td>\n",
              "      <td>643.09</td>\n",
              "      <td>2015</td>\n",
              "    </tr>\n",
              "    <tr>\n",
              "      <th>1</th>\n",
              "      <td>228581.528</td>\n",
              "      <td>656.22</td>\n",
              "      <td>2009</td>\n",
              "    </tr>\n",
              "    <tr>\n",
              "      <th>2</th>\n",
              "      <td>281626.336</td>\n",
              "      <td>487.29</td>\n",
              "      <td>2018</td>\n",
              "    </tr>\n",
              "    <tr>\n",
              "      <th>3</th>\n",
              "      <td>401255.608</td>\n",
              "      <td>1504.75</td>\n",
              "      <td>2015</td>\n",
              "    </tr>\n",
              "    <tr>\n",
              "      <th>4</th>\n",
              "      <td>4587.256</td>\n",
              "      <td>1275.46</td>\n",
              "      <td>2009</td>\n",
              "    </tr>\n",
              "  </tbody>\n",
              "</table>\n",
              "</div>\n",
              "      <button class=\"colab-df-convert\" onclick=\"convertToInteractive('df-44c8fcae-84d8-4e4b-b040-16b5cf224d35')\"\n",
              "              title=\"Convert this dataframe to an interactive table.\"\n",
              "              style=\"display:none;\">\n",
              "        \n",
              "  <svg xmlns=\"http://www.w3.org/2000/svg\" height=\"24px\"viewBox=\"0 0 24 24\"\n",
              "       width=\"24px\">\n",
              "    <path d=\"M0 0h24v24H0V0z\" fill=\"none\"/>\n",
              "    <path d=\"M18.56 5.44l.94 2.06.94-2.06 2.06-.94-2.06-.94-.94-2.06-.94 2.06-2.06.94zm-11 1L8.5 8.5l.94-2.06 2.06-.94-2.06-.94L8.5 2.5l-.94 2.06-2.06.94zm10 10l.94 2.06.94-2.06 2.06-.94-2.06-.94-.94-2.06-.94 2.06-2.06.94z\"/><path d=\"M17.41 7.96l-1.37-1.37c-.4-.4-.92-.59-1.43-.59-.52 0-1.04.2-1.43.59L10.3 9.45l-7.72 7.72c-.78.78-.78 2.05 0 2.83L4 21.41c.39.39.9.59 1.41.59.51 0 1.02-.2 1.41-.59l7.78-7.78 2.81-2.81c.8-.78.8-2.07 0-2.86zM5.41 20L4 18.59l7.72-7.72 1.47 1.35L5.41 20z\"/>\n",
              "  </svg>\n",
              "      </button>\n",
              "      \n",
              "  <style>\n",
              "    .colab-df-container {\n",
              "      display:flex;\n",
              "      flex-wrap:wrap;\n",
              "      gap: 12px;\n",
              "    }\n",
              "\n",
              "    .colab-df-convert {\n",
              "      background-color: #E8F0FE;\n",
              "      border: none;\n",
              "      border-radius: 50%;\n",
              "      cursor: pointer;\n",
              "      display: none;\n",
              "      fill: #1967D2;\n",
              "      height: 32px;\n",
              "      padding: 0 0 0 0;\n",
              "      width: 32px;\n",
              "    }\n",
              "\n",
              "    .colab-df-convert:hover {\n",
              "      background-color: #E2EBFA;\n",
              "      box-shadow: 0px 1px 2px rgba(60, 64, 67, 0.3), 0px 1px 3px 1px rgba(60, 64, 67, 0.15);\n",
              "      fill: #174EA6;\n",
              "    }\n",
              "\n",
              "    [theme=dark] .colab-df-convert {\n",
              "      background-color: #3B4455;\n",
              "      fill: #D2E3FC;\n",
              "    }\n",
              "\n",
              "    [theme=dark] .colab-df-convert:hover {\n",
              "      background-color: #434B5C;\n",
              "      box-shadow: 0px 1px 3px 1px rgba(0, 0, 0, 0.15);\n",
              "      filter: drop-shadow(0px 1px 2px rgba(0, 0, 0, 0.3));\n",
              "      fill: #FFFFFF;\n",
              "    }\n",
              "  </style>\n",
              "\n",
              "      <script>\n",
              "        const buttonEl =\n",
              "          document.querySelector('#df-44c8fcae-84d8-4e4b-b040-16b5cf224d35 button.colab-df-convert');\n",
              "        buttonEl.style.display =\n",
              "          google.colab.kernel.accessAllowed ? 'block' : 'none';\n",
              "\n",
              "        async function convertToInteractive(key) {\n",
              "          const element = document.querySelector('#df-44c8fcae-84d8-4e4b-b040-16b5cf224d35');\n",
              "          const dataTable =\n",
              "            await google.colab.kernel.invokeFunction('convertToInteractive',\n",
              "                                                     [key], {});\n",
              "          if (!dataTable) return;\n",
              "\n",
              "          const docLinkHtml = 'Like what you see? Visit the ' +\n",
              "            '<a target=\"_blank\" href=https://colab.research.google.com/notebooks/data_table.ipynb>data table notebook</a>'\n",
              "            + ' to learn more about interactive tables.';\n",
              "          element.innerHTML = '';\n",
              "          dataTable['output_type'] = 'display_data';\n",
              "          await google.colab.output.renderOutput(dataTable, element);\n",
              "          const docLink = document.createElement('div');\n",
              "          docLink.innerHTML = docLinkHtml;\n",
              "          element.appendChild(docLink);\n",
              "        }\n",
              "      </script>\n",
              "    </div>\n",
              "  </div>\n",
              "  "
            ]
          },
          "metadata": {},
          "execution_count": 20
        }
      ]
    },
    {
      "cell_type": "code",
      "source": [
        "df['price']=df['price'].astype(float)\n",
        "df['size']=df['size'].astype(float)\n",
        "df['year']=df['year'].astype(int)"
      ],
      "metadata": {
        "id": "fgwgmuUcaiBi"
      },
      "execution_count": null,
      "outputs": []
    },
    {
      "cell_type": "code",
      "source": [
        "\n",
        "from sklearn.linear_model import LinearRegression\n",
        "from sklearn.metrics import r2_score\n",
        "from sklearn.model_selection import train_test_split \n",
        "\n",
        "X=df[['size','year']]\n",
        "y=df['price']\n",
        "\n",
        "reg = LinearRegression()\n",
        "reg.fit(X,y)\n",
        "\n",
        "reg.score(X,y)"
      ],
      "metadata": {
        "colab": {
          "base_uri": "https://localhost:8080/"
        },
        "id": "vUoqIZWZZ4Q3",
        "outputId": "b8a748c1-a656-4663-db8b-ee4acbf96b85"
      },
      "execution_count": null,
      "outputs": [
        {
          "output_type": "execute_result",
          "data": {
            "text/plain": [
              "0.7546982039463682"
            ]
          },
          "metadata": {},
          "execution_count": 28
        }
      ]
    },
    {
      "cell_type": "markdown",
      "source": [
        "#11"
      ],
      "metadata": {
        "id": "iUW-__R6eHxR"
      }
    },
    {
      "cell_type": "code",
      "source": [
        "import string"
      ],
      "metadata": {
        "id": "6mw2HHCFeSP3"
      },
      "execution_count": null,
      "outputs": []
    },
    {
      "cell_type": "code",
      "source": [
        "inp=string.ascii_lowercase\n",
        "pos=[0,4,8,14,20]\n",
        "x=[]\n",
        "for i in inp:\n",
        "  x.append(i)"
      ],
      "metadata": {
        "id": "el_WiOnDacmq"
      },
      "execution_count": null,
      "outputs": []
    },
    {
      "cell_type": "code",
      "source": [
        "x"
      ],
      "metadata": {
        "colab": {
          "base_uri": "https://localhost:8080/"
        },
        "id": "oCW6KeFNfsIs",
        "outputId": "0b3f580d-c03d-419e-f96a-b4aacd830b4c"
      },
      "execution_count": null,
      "outputs": [
        {
          "output_type": "execute_result",
          "data": {
            "text/plain": [
              "['a',\n",
              " 'b',\n",
              " 'c',\n",
              " 'd',\n",
              " 'e',\n",
              " 'f',\n",
              " 'g',\n",
              " 'h',\n",
              " 'i',\n",
              " 'j',\n",
              " 'k',\n",
              " 'l',\n",
              " 'm',\n",
              " 'n',\n",
              " 'o',\n",
              " 'p',\n",
              " 'q',\n",
              " 'r',\n",
              " 's',\n",
              " 't',\n",
              " 'u',\n",
              " 'v',\n",
              " 'w',\n",
              " 'x',\n",
              " 'y',\n",
              " 'z']"
            ]
          },
          "metadata": {},
          "execution_count": 40
        }
      ]
    },
    {
      "cell_type": "code",
      "source": [
        "import pandas as pd\n",
        "list_input=x\n",
        "list_pos=input().split(',')\n",
        "Ser=pd.Series(list_input)\n",
        "Ser.index\n",
        "Ser.iloc[list_pos]"
      ],
      "metadata": {
        "colab": {
          "base_uri": "https://localhost:8080/"
        },
        "id": "cMU7_cqaaBtx",
        "outputId": "86e6c0a8-c71a-41a5-c0f2-b6ddfed67dcd"
      },
      "execution_count": null,
      "outputs": [
        {
          "name": "stdout",
          "output_type": "stream",
          "text": [
            "0,4,8,14,20\n"
          ]
        },
        {
          "output_type": "execute_result",
          "data": {
            "text/plain": [
              "0     a\n",
              "4     e\n",
              "8     i\n",
              "14    o\n",
              "20    u\n",
              "dtype: object"
            ]
          },
          "metadata": {},
          "execution_count": 41
        }
      ]
    },
    {
      "cell_type": "markdown",
      "source": [
        "#12 stemming"
      ],
      "metadata": {
        "id": "Uq9qxkp-uPOF"
      }
    },
    {
      "cell_type": "code",
      "source": [
        "import re\n",
        "\n",
        "text = ['friends', 'friendly', 'keeping', 'friendship']\n",
        "stems = [\n",
        "    # next line finds patterns and remove them from the string.\n",
        "    re.sub(r'less|ship|ing|les|ly|es|s', '', word) \n",
        "    for word in text\n",
        "]\n",
        "\n",
        "print(stems)"
      ],
      "metadata": {
        "colab": {
          "base_uri": "https://localhost:8080/"
        },
        "id": "ZQ7xJSbYjiUD",
        "outputId": "3d1bcb3f-1b5b-4210-d8dc-8585aebc5313"
      },
      "execution_count": null,
      "outputs": [
        {
          "output_type": "stream",
          "name": "stdout",
          "text": [
            "['friend', 'friend', 'keep', 'friend']\n"
          ]
        }
      ]
    },
    {
      "cell_type": "markdown",
      "source": [
        "#13#UPL"
      ],
      "metadata": {
        "id": "cI-HJQVct19e"
      }
    },
    {
      "cell_type": "code",
      "execution_count": 7,
      "metadata": {
        "id": "IlOX-nqhXYmD"
      },
      "outputs": [],
      "source": [
        "import pandas as pd\n",
        "import numpy as np\n",
        "df=pd.DataFrame({'A':[10,np.nan,10],\n",
        "             'B':[10,np.nan,np.nan],\n",
        "              'C':[20,np.nan,30]})"
      ]
    },
    {
      "cell_type": "markdown",
      "source": [
        "#Remove the row if all atleast 2 rows are null"
      ],
      "metadata": {
        "id": "beHJvYnNuM_X"
      }
    },
    {
      "cell_type": "code",
      "source": [
        "df"
      ],
      "metadata": {
        "colab": {
          "base_uri": "https://localhost:8080/",
          "height": 143
        },
        "id": "Lo1PMM3_uncj",
        "outputId": "b4832ac3-51f2-4e9c-bb4f-a1c1c923d05e"
      },
      "execution_count": 8,
      "outputs": [
        {
          "output_type": "execute_result",
          "data": {
            "text/plain": [
              "      A     B     C\n",
              "0  10.0  10.0  20.0\n",
              "1   NaN   NaN   NaN\n",
              "2  10.0   NaN  30.0"
            ],
            "text/html": [
              "\n",
              "  <div id=\"df-ca433fed-9983-4907-83ce-2688144ef708\">\n",
              "    <div class=\"colab-df-container\">\n",
              "      <div>\n",
              "<style scoped>\n",
              "    .dataframe tbody tr th:only-of-type {\n",
              "        vertical-align: middle;\n",
              "    }\n",
              "\n",
              "    .dataframe tbody tr th {\n",
              "        vertical-align: top;\n",
              "    }\n",
              "\n",
              "    .dataframe thead th {\n",
              "        text-align: right;\n",
              "    }\n",
              "</style>\n",
              "<table border=\"1\" class=\"dataframe\">\n",
              "  <thead>\n",
              "    <tr style=\"text-align: right;\">\n",
              "      <th></th>\n",
              "      <th>A</th>\n",
              "      <th>B</th>\n",
              "      <th>C</th>\n",
              "    </tr>\n",
              "  </thead>\n",
              "  <tbody>\n",
              "    <tr>\n",
              "      <th>0</th>\n",
              "      <td>10.0</td>\n",
              "      <td>10.0</td>\n",
              "      <td>20.0</td>\n",
              "    </tr>\n",
              "    <tr>\n",
              "      <th>1</th>\n",
              "      <td>NaN</td>\n",
              "      <td>NaN</td>\n",
              "      <td>NaN</td>\n",
              "    </tr>\n",
              "    <tr>\n",
              "      <th>2</th>\n",
              "      <td>10.0</td>\n",
              "      <td>NaN</td>\n",
              "      <td>30.0</td>\n",
              "    </tr>\n",
              "  </tbody>\n",
              "</table>\n",
              "</div>\n",
              "      <button class=\"colab-df-convert\" onclick=\"convertToInteractive('df-ca433fed-9983-4907-83ce-2688144ef708')\"\n",
              "              title=\"Convert this dataframe to an interactive table.\"\n",
              "              style=\"display:none;\">\n",
              "        \n",
              "  <svg xmlns=\"http://www.w3.org/2000/svg\" height=\"24px\"viewBox=\"0 0 24 24\"\n",
              "       width=\"24px\">\n",
              "    <path d=\"M0 0h24v24H0V0z\" fill=\"none\"/>\n",
              "    <path d=\"M18.56 5.44l.94 2.06.94-2.06 2.06-.94-2.06-.94-.94-2.06-.94 2.06-2.06.94zm-11 1L8.5 8.5l.94-2.06 2.06-.94-2.06-.94L8.5 2.5l-.94 2.06-2.06.94zm10 10l.94 2.06.94-2.06 2.06-.94-2.06-.94-.94-2.06-.94 2.06-2.06.94z\"/><path d=\"M17.41 7.96l-1.37-1.37c-.4-.4-.92-.59-1.43-.59-.52 0-1.04.2-1.43.59L10.3 9.45l-7.72 7.72c-.78.78-.78 2.05 0 2.83L4 21.41c.39.39.9.59 1.41.59.51 0 1.02-.2 1.41-.59l7.78-7.78 2.81-2.81c.8-.78.8-2.07 0-2.86zM5.41 20L4 18.59l7.72-7.72 1.47 1.35L5.41 20z\"/>\n",
              "  </svg>\n",
              "      </button>\n",
              "      \n",
              "  <style>\n",
              "    .colab-df-container {\n",
              "      display:flex;\n",
              "      flex-wrap:wrap;\n",
              "      gap: 12px;\n",
              "    }\n",
              "\n",
              "    .colab-df-convert {\n",
              "      background-color: #E8F0FE;\n",
              "      border: none;\n",
              "      border-radius: 50%;\n",
              "      cursor: pointer;\n",
              "      display: none;\n",
              "      fill: #1967D2;\n",
              "      height: 32px;\n",
              "      padding: 0 0 0 0;\n",
              "      width: 32px;\n",
              "    }\n",
              "\n",
              "    .colab-df-convert:hover {\n",
              "      background-color: #E2EBFA;\n",
              "      box-shadow: 0px 1px 2px rgba(60, 64, 67, 0.3), 0px 1px 3px 1px rgba(60, 64, 67, 0.15);\n",
              "      fill: #174EA6;\n",
              "    }\n",
              "\n",
              "    [theme=dark] .colab-df-convert {\n",
              "      background-color: #3B4455;\n",
              "      fill: #D2E3FC;\n",
              "    }\n",
              "\n",
              "    [theme=dark] .colab-df-convert:hover {\n",
              "      background-color: #434B5C;\n",
              "      box-shadow: 0px 1px 3px 1px rgba(0, 0, 0, 0.15);\n",
              "      filter: drop-shadow(0px 1px 2px rgba(0, 0, 0, 0.3));\n",
              "      fill: #FFFFFF;\n",
              "    }\n",
              "  </style>\n",
              "\n",
              "      <script>\n",
              "        const buttonEl =\n",
              "          document.querySelector('#df-ca433fed-9983-4907-83ce-2688144ef708 button.colab-df-convert');\n",
              "        buttonEl.style.display =\n",
              "          google.colab.kernel.accessAllowed ? 'block' : 'none';\n",
              "\n",
              "        async function convertToInteractive(key) {\n",
              "          const element = document.querySelector('#df-ca433fed-9983-4907-83ce-2688144ef708');\n",
              "          const dataTable =\n",
              "            await google.colab.kernel.invokeFunction('convertToInteractive',\n",
              "                                                     [key], {});\n",
              "          if (!dataTable) return;\n",
              "\n",
              "          const docLinkHtml = 'Like what you see? Visit the ' +\n",
              "            '<a target=\"_blank\" href=https://colab.research.google.com/notebooks/data_table.ipynb>data table notebook</a>'\n",
              "            + ' to learn more about interactive tables.';\n",
              "          element.innerHTML = '';\n",
              "          dataTable['output_type'] = 'display_data';\n",
              "          await google.colab.output.renderOutput(dataTable, element);\n",
              "          const docLink = document.createElement('div');\n",
              "          docLink.innerHTML = docLinkHtml;\n",
              "          element.appendChild(docLink);\n",
              "        }\n",
              "      </script>\n",
              "    </div>\n",
              "  </div>\n",
              "  "
            ]
          },
          "metadata": {},
          "execution_count": 8
        }
      ]
    },
    {
      "cell_type": "code",
      "source": [
        "df.dropna(subset=[\"A\",\"B\",\"C\"],thresh=2,axis=0,inplace=True)"
      ],
      "metadata": {
        "id": "Qsg_CZnnuQLA"
      },
      "execution_count": 4,
      "outputs": []
    },
    {
      "cell_type": "code",
      "source": [
        "df"
      ],
      "metadata": {
        "colab": {
          "base_uri": "https://localhost:8080/",
          "height": 112
        },
        "id": "J3-auEA4unGU",
        "outputId": "844a4401-8b9b-4adc-9beb-a7e387cb89cb"
      },
      "execution_count": 6,
      "outputs": [
        {
          "output_type": "execute_result",
          "data": {
            "text/plain": [
              "      A     B     C\n",
              "0  10.0  10.0  20.0\n",
              "2  10.0   NaN  30.0"
            ],
            "text/html": [
              "\n",
              "  <div id=\"df-d42dc505-9d96-43e0-afe7-7b3568bb2c6a\">\n",
              "    <div class=\"colab-df-container\">\n",
              "      <div>\n",
              "<style scoped>\n",
              "    .dataframe tbody tr th:only-of-type {\n",
              "        vertical-align: middle;\n",
              "    }\n",
              "\n",
              "    .dataframe tbody tr th {\n",
              "        vertical-align: top;\n",
              "    }\n",
              "\n",
              "    .dataframe thead th {\n",
              "        text-align: right;\n",
              "    }\n",
              "</style>\n",
              "<table border=\"1\" class=\"dataframe\">\n",
              "  <thead>\n",
              "    <tr style=\"text-align: right;\">\n",
              "      <th></th>\n",
              "      <th>A</th>\n",
              "      <th>B</th>\n",
              "      <th>C</th>\n",
              "    </tr>\n",
              "  </thead>\n",
              "  <tbody>\n",
              "    <tr>\n",
              "      <th>0</th>\n",
              "      <td>10.0</td>\n",
              "      <td>10.0</td>\n",
              "      <td>20.0</td>\n",
              "    </tr>\n",
              "    <tr>\n",
              "      <th>2</th>\n",
              "      <td>10.0</td>\n",
              "      <td>NaN</td>\n",
              "      <td>30.0</td>\n",
              "    </tr>\n",
              "  </tbody>\n",
              "</table>\n",
              "</div>\n",
              "      <button class=\"colab-df-convert\" onclick=\"convertToInteractive('df-d42dc505-9d96-43e0-afe7-7b3568bb2c6a')\"\n",
              "              title=\"Convert this dataframe to an interactive table.\"\n",
              "              style=\"display:none;\">\n",
              "        \n",
              "  <svg xmlns=\"http://www.w3.org/2000/svg\" height=\"24px\"viewBox=\"0 0 24 24\"\n",
              "       width=\"24px\">\n",
              "    <path d=\"M0 0h24v24H0V0z\" fill=\"none\"/>\n",
              "    <path d=\"M18.56 5.44l.94 2.06.94-2.06 2.06-.94-2.06-.94-.94-2.06-.94 2.06-2.06.94zm-11 1L8.5 8.5l.94-2.06 2.06-.94-2.06-.94L8.5 2.5l-.94 2.06-2.06.94zm10 10l.94 2.06.94-2.06 2.06-.94-2.06-.94-.94-2.06-.94 2.06-2.06.94z\"/><path d=\"M17.41 7.96l-1.37-1.37c-.4-.4-.92-.59-1.43-.59-.52 0-1.04.2-1.43.59L10.3 9.45l-7.72 7.72c-.78.78-.78 2.05 0 2.83L4 21.41c.39.39.9.59 1.41.59.51 0 1.02-.2 1.41-.59l7.78-7.78 2.81-2.81c.8-.78.8-2.07 0-2.86zM5.41 20L4 18.59l7.72-7.72 1.47 1.35L5.41 20z\"/>\n",
              "  </svg>\n",
              "      </button>\n",
              "      \n",
              "  <style>\n",
              "    .colab-df-container {\n",
              "      display:flex;\n",
              "      flex-wrap:wrap;\n",
              "      gap: 12px;\n",
              "    }\n",
              "\n",
              "    .colab-df-convert {\n",
              "      background-color: #E8F0FE;\n",
              "      border: none;\n",
              "      border-radius: 50%;\n",
              "      cursor: pointer;\n",
              "      display: none;\n",
              "      fill: #1967D2;\n",
              "      height: 32px;\n",
              "      padding: 0 0 0 0;\n",
              "      width: 32px;\n",
              "    }\n",
              "\n",
              "    .colab-df-convert:hover {\n",
              "      background-color: #E2EBFA;\n",
              "      box-shadow: 0px 1px 2px rgba(60, 64, 67, 0.3), 0px 1px 3px 1px rgba(60, 64, 67, 0.15);\n",
              "      fill: #174EA6;\n",
              "    }\n",
              "\n",
              "    [theme=dark] .colab-df-convert {\n",
              "      background-color: #3B4455;\n",
              "      fill: #D2E3FC;\n",
              "    }\n",
              "\n",
              "    [theme=dark] .colab-df-convert:hover {\n",
              "      background-color: #434B5C;\n",
              "      box-shadow: 0px 1px 3px 1px rgba(0, 0, 0, 0.15);\n",
              "      filter: drop-shadow(0px 1px 2px rgba(0, 0, 0, 0.3));\n",
              "      fill: #FFFFFF;\n",
              "    }\n",
              "  </style>\n",
              "\n",
              "      <script>\n",
              "        const buttonEl =\n",
              "          document.querySelector('#df-d42dc505-9d96-43e0-afe7-7b3568bb2c6a button.colab-df-convert');\n",
              "        buttonEl.style.display =\n",
              "          google.colab.kernel.accessAllowed ? 'block' : 'none';\n",
              "\n",
              "        async function convertToInteractive(key) {\n",
              "          const element = document.querySelector('#df-d42dc505-9d96-43e0-afe7-7b3568bb2c6a');\n",
              "          const dataTable =\n",
              "            await google.colab.kernel.invokeFunction('convertToInteractive',\n",
              "                                                     [key], {});\n",
              "          if (!dataTable) return;\n",
              "\n",
              "          const docLinkHtml = 'Like what you see? Visit the ' +\n",
              "            '<a target=\"_blank\" href=https://colab.research.google.com/notebooks/data_table.ipynb>data table notebook</a>'\n",
              "            + ' to learn more about interactive tables.';\n",
              "          element.innerHTML = '';\n",
              "          dataTable['output_type'] = 'display_data';\n",
              "          await google.colab.output.renderOutput(dataTable, element);\n",
              "          const docLink = document.createElement('div');\n",
              "          docLink.innerHTML = docLinkHtml;\n",
              "          element.appendChild(docLink);\n",
              "        }\n",
              "      </script>\n",
              "    </div>\n",
              "  </div>\n",
              "  "
            ]
          },
          "metadata": {},
          "execution_count": 6
        }
      ]
    },
    {
      "cell_type": "markdown",
      "source": [
        "#Remove the row if all a,b,c are null"
      ],
      "metadata": {
        "id": "0EQ-qsFVuGhB"
      }
    },
    {
      "cell_type": "code",
      "source": [
        "import pandas as pd\n",
        "import numpy as np\n",
        "df=pd.DataFrame({'A':[10,np.nan,10],\n",
        "             'B':[10,np.nan,np.nan],\n",
        "              'C':[20,np.nan,30]})"
      ],
      "metadata": {
        "id": "WW5yjrM9uuh_"
      },
      "execution_count": 9,
      "outputs": []
    },
    {
      "cell_type": "code",
      "source": [
        "df"
      ],
      "metadata": {
        "colab": {
          "base_uri": "https://localhost:8080/",
          "height": 143
        },
        "id": "cBToVf9kePMy",
        "outputId": "f6f27569-5a15-4bd4-cc7e-31edd14484c1"
      },
      "execution_count": 10,
      "outputs": [
        {
          "output_type": "execute_result",
          "data": {
            "text/plain": [
              "      A     B     C\n",
              "0  10.0  10.0  20.0\n",
              "1   NaN   NaN   NaN\n",
              "2  10.0   NaN  30.0"
            ],
            "text/html": [
              "\n",
              "  <div id=\"df-cbc17dd0-dd55-4268-97e9-f4622cfc4869\">\n",
              "    <div class=\"colab-df-container\">\n",
              "      <div>\n",
              "<style scoped>\n",
              "    .dataframe tbody tr th:only-of-type {\n",
              "        vertical-align: middle;\n",
              "    }\n",
              "\n",
              "    .dataframe tbody tr th {\n",
              "        vertical-align: top;\n",
              "    }\n",
              "\n",
              "    .dataframe thead th {\n",
              "        text-align: right;\n",
              "    }\n",
              "</style>\n",
              "<table border=\"1\" class=\"dataframe\">\n",
              "  <thead>\n",
              "    <tr style=\"text-align: right;\">\n",
              "      <th></th>\n",
              "      <th>A</th>\n",
              "      <th>B</th>\n",
              "      <th>C</th>\n",
              "    </tr>\n",
              "  </thead>\n",
              "  <tbody>\n",
              "    <tr>\n",
              "      <th>0</th>\n",
              "      <td>10.0</td>\n",
              "      <td>10.0</td>\n",
              "      <td>20.0</td>\n",
              "    </tr>\n",
              "    <tr>\n",
              "      <th>1</th>\n",
              "      <td>NaN</td>\n",
              "      <td>NaN</td>\n",
              "      <td>NaN</td>\n",
              "    </tr>\n",
              "    <tr>\n",
              "      <th>2</th>\n",
              "      <td>10.0</td>\n",
              "      <td>NaN</td>\n",
              "      <td>30.0</td>\n",
              "    </tr>\n",
              "  </tbody>\n",
              "</table>\n",
              "</div>\n",
              "      <button class=\"colab-df-convert\" onclick=\"convertToInteractive('df-cbc17dd0-dd55-4268-97e9-f4622cfc4869')\"\n",
              "              title=\"Convert this dataframe to an interactive table.\"\n",
              "              style=\"display:none;\">\n",
              "        \n",
              "  <svg xmlns=\"http://www.w3.org/2000/svg\" height=\"24px\"viewBox=\"0 0 24 24\"\n",
              "       width=\"24px\">\n",
              "    <path d=\"M0 0h24v24H0V0z\" fill=\"none\"/>\n",
              "    <path d=\"M18.56 5.44l.94 2.06.94-2.06 2.06-.94-2.06-.94-.94-2.06-.94 2.06-2.06.94zm-11 1L8.5 8.5l.94-2.06 2.06-.94-2.06-.94L8.5 2.5l-.94 2.06-2.06.94zm10 10l.94 2.06.94-2.06 2.06-.94-2.06-.94-.94-2.06-.94 2.06-2.06.94z\"/><path d=\"M17.41 7.96l-1.37-1.37c-.4-.4-.92-.59-1.43-.59-.52 0-1.04.2-1.43.59L10.3 9.45l-7.72 7.72c-.78.78-.78 2.05 0 2.83L4 21.41c.39.39.9.59 1.41.59.51 0 1.02-.2 1.41-.59l7.78-7.78 2.81-2.81c.8-.78.8-2.07 0-2.86zM5.41 20L4 18.59l7.72-7.72 1.47 1.35L5.41 20z\"/>\n",
              "  </svg>\n",
              "      </button>\n",
              "      \n",
              "  <style>\n",
              "    .colab-df-container {\n",
              "      display:flex;\n",
              "      flex-wrap:wrap;\n",
              "      gap: 12px;\n",
              "    }\n",
              "\n",
              "    .colab-df-convert {\n",
              "      background-color: #E8F0FE;\n",
              "      border: none;\n",
              "      border-radius: 50%;\n",
              "      cursor: pointer;\n",
              "      display: none;\n",
              "      fill: #1967D2;\n",
              "      height: 32px;\n",
              "      padding: 0 0 0 0;\n",
              "      width: 32px;\n",
              "    }\n",
              "\n",
              "    .colab-df-convert:hover {\n",
              "      background-color: #E2EBFA;\n",
              "      box-shadow: 0px 1px 2px rgba(60, 64, 67, 0.3), 0px 1px 3px 1px rgba(60, 64, 67, 0.15);\n",
              "      fill: #174EA6;\n",
              "    }\n",
              "\n",
              "    [theme=dark] .colab-df-convert {\n",
              "      background-color: #3B4455;\n",
              "      fill: #D2E3FC;\n",
              "    }\n",
              "\n",
              "    [theme=dark] .colab-df-convert:hover {\n",
              "      background-color: #434B5C;\n",
              "      box-shadow: 0px 1px 3px 1px rgba(0, 0, 0, 0.15);\n",
              "      filter: drop-shadow(0px 1px 2px rgba(0, 0, 0, 0.3));\n",
              "      fill: #FFFFFF;\n",
              "    }\n",
              "  </style>\n",
              "\n",
              "      <script>\n",
              "        const buttonEl =\n",
              "          document.querySelector('#df-cbc17dd0-dd55-4268-97e9-f4622cfc4869 button.colab-df-convert');\n",
              "        buttonEl.style.display =\n",
              "          google.colab.kernel.accessAllowed ? 'block' : 'none';\n",
              "\n",
              "        async function convertToInteractive(key) {\n",
              "          const element = document.querySelector('#df-cbc17dd0-dd55-4268-97e9-f4622cfc4869');\n",
              "          const dataTable =\n",
              "            await google.colab.kernel.invokeFunction('convertToInteractive',\n",
              "                                                     [key], {});\n",
              "          if (!dataTable) return;\n",
              "\n",
              "          const docLinkHtml = 'Like what you see? Visit the ' +\n",
              "            '<a target=\"_blank\" href=https://colab.research.google.com/notebooks/data_table.ipynb>data table notebook</a>'\n",
              "            + ' to learn more about interactive tables.';\n",
              "          element.innerHTML = '';\n",
              "          dataTable['output_type'] = 'display_data';\n",
              "          await google.colab.output.renderOutput(dataTable, element);\n",
              "          const docLink = document.createElement('div');\n",
              "          docLink.innerHTML = docLinkHtml;\n",
              "          element.appendChild(docLink);\n",
              "        }\n",
              "      </script>\n",
              "    </div>\n",
              "  </div>\n",
              "  "
            ]
          },
          "metadata": {},
          "execution_count": 10
        }
      ]
    },
    {
      "cell_type": "code",
      "source": [
        "df.dropna(how = 'all',inplace=True)"
      ],
      "metadata": {
        "id": "iLRaS05Zdwpd"
      },
      "execution_count": 11,
      "outputs": []
    },
    {
      "cell_type": "code",
      "source": [
        "df.B.fillna(df.B.mean(),inplace=True)"
      ],
      "metadata": {
        "id": "ObYMENQfgG6F"
      },
      "execution_count": 12,
      "outputs": []
    },
    {
      "cell_type": "code",
      "source": [
        "df"
      ],
      "metadata": {
        "colab": {
          "base_uri": "https://localhost:8080/",
          "height": 112
        },
        "id": "LcFiSF94gXMl",
        "outputId": "64545cea-d531-4c57-9225-d5e3a068b33e"
      },
      "execution_count": 13,
      "outputs": [
        {
          "output_type": "execute_result",
          "data": {
            "text/plain": [
              "      A     B     C\n",
              "0  10.0  10.0  20.0\n",
              "2  10.0  10.0  30.0"
            ],
            "text/html": [
              "\n",
              "  <div id=\"df-a6a15d78-7d86-45ea-af4e-2f493eb103f9\">\n",
              "    <div class=\"colab-df-container\">\n",
              "      <div>\n",
              "<style scoped>\n",
              "    .dataframe tbody tr th:only-of-type {\n",
              "        vertical-align: middle;\n",
              "    }\n",
              "\n",
              "    .dataframe tbody tr th {\n",
              "        vertical-align: top;\n",
              "    }\n",
              "\n",
              "    .dataframe thead th {\n",
              "        text-align: right;\n",
              "    }\n",
              "</style>\n",
              "<table border=\"1\" class=\"dataframe\">\n",
              "  <thead>\n",
              "    <tr style=\"text-align: right;\">\n",
              "      <th></th>\n",
              "      <th>A</th>\n",
              "      <th>B</th>\n",
              "      <th>C</th>\n",
              "    </tr>\n",
              "  </thead>\n",
              "  <tbody>\n",
              "    <tr>\n",
              "      <th>0</th>\n",
              "      <td>10.0</td>\n",
              "      <td>10.0</td>\n",
              "      <td>20.0</td>\n",
              "    </tr>\n",
              "    <tr>\n",
              "      <th>2</th>\n",
              "      <td>10.0</td>\n",
              "      <td>10.0</td>\n",
              "      <td>30.0</td>\n",
              "    </tr>\n",
              "  </tbody>\n",
              "</table>\n",
              "</div>\n",
              "      <button class=\"colab-df-convert\" onclick=\"convertToInteractive('df-a6a15d78-7d86-45ea-af4e-2f493eb103f9')\"\n",
              "              title=\"Convert this dataframe to an interactive table.\"\n",
              "              style=\"display:none;\">\n",
              "        \n",
              "  <svg xmlns=\"http://www.w3.org/2000/svg\" height=\"24px\"viewBox=\"0 0 24 24\"\n",
              "       width=\"24px\">\n",
              "    <path d=\"M0 0h24v24H0V0z\" fill=\"none\"/>\n",
              "    <path d=\"M18.56 5.44l.94 2.06.94-2.06 2.06-.94-2.06-.94-.94-2.06-.94 2.06-2.06.94zm-11 1L8.5 8.5l.94-2.06 2.06-.94-2.06-.94L8.5 2.5l-.94 2.06-2.06.94zm10 10l.94 2.06.94-2.06 2.06-.94-2.06-.94-.94-2.06-.94 2.06-2.06.94z\"/><path d=\"M17.41 7.96l-1.37-1.37c-.4-.4-.92-.59-1.43-.59-.52 0-1.04.2-1.43.59L10.3 9.45l-7.72 7.72c-.78.78-.78 2.05 0 2.83L4 21.41c.39.39.9.59 1.41.59.51 0 1.02-.2 1.41-.59l7.78-7.78 2.81-2.81c.8-.78.8-2.07 0-2.86zM5.41 20L4 18.59l7.72-7.72 1.47 1.35L5.41 20z\"/>\n",
              "  </svg>\n",
              "      </button>\n",
              "      \n",
              "  <style>\n",
              "    .colab-df-container {\n",
              "      display:flex;\n",
              "      flex-wrap:wrap;\n",
              "      gap: 12px;\n",
              "    }\n",
              "\n",
              "    .colab-df-convert {\n",
              "      background-color: #E8F0FE;\n",
              "      border: none;\n",
              "      border-radius: 50%;\n",
              "      cursor: pointer;\n",
              "      display: none;\n",
              "      fill: #1967D2;\n",
              "      height: 32px;\n",
              "      padding: 0 0 0 0;\n",
              "      width: 32px;\n",
              "    }\n",
              "\n",
              "    .colab-df-convert:hover {\n",
              "      background-color: #E2EBFA;\n",
              "      box-shadow: 0px 1px 2px rgba(60, 64, 67, 0.3), 0px 1px 3px 1px rgba(60, 64, 67, 0.15);\n",
              "      fill: #174EA6;\n",
              "    }\n",
              "\n",
              "    [theme=dark] .colab-df-convert {\n",
              "      background-color: #3B4455;\n",
              "      fill: #D2E3FC;\n",
              "    }\n",
              "\n",
              "    [theme=dark] .colab-df-convert:hover {\n",
              "      background-color: #434B5C;\n",
              "      box-shadow: 0px 1px 3px 1px rgba(0, 0, 0, 0.15);\n",
              "      filter: drop-shadow(0px 1px 2px rgba(0, 0, 0, 0.3));\n",
              "      fill: #FFFFFF;\n",
              "    }\n",
              "  </style>\n",
              "\n",
              "      <script>\n",
              "        const buttonEl =\n",
              "          document.querySelector('#df-a6a15d78-7d86-45ea-af4e-2f493eb103f9 button.colab-df-convert');\n",
              "        buttonEl.style.display =\n",
              "          google.colab.kernel.accessAllowed ? 'block' : 'none';\n",
              "\n",
              "        async function convertToInteractive(key) {\n",
              "          const element = document.querySelector('#df-a6a15d78-7d86-45ea-af4e-2f493eb103f9');\n",
              "          const dataTable =\n",
              "            await google.colab.kernel.invokeFunction('convertToInteractive',\n",
              "                                                     [key], {});\n",
              "          if (!dataTable) return;\n",
              "\n",
              "          const docLinkHtml = 'Like what you see? Visit the ' +\n",
              "            '<a target=\"_blank\" href=https://colab.research.google.com/notebooks/data_table.ipynb>data table notebook</a>'\n",
              "            + ' to learn more about interactive tables.';\n",
              "          element.innerHTML = '';\n",
              "          dataTable['output_type'] = 'display_data';\n",
              "          await google.colab.output.renderOutput(dataTable, element);\n",
              "          const docLink = document.createElement('div');\n",
              "          docLink.innerHTML = docLinkHtml;\n",
              "          element.appendChild(docLink);\n",
              "        }\n",
              "      </script>\n",
              "    </div>\n",
              "  </div>\n",
              "  "
            ]
          },
          "metadata": {},
          "execution_count": 13
        }
      ]
    },
    {
      "cell_type": "code",
      "source": [],
      "metadata": {
        "id": "5NgfNVfquv8U"
      },
      "execution_count": null,
      "outputs": []
    }
  ]
}